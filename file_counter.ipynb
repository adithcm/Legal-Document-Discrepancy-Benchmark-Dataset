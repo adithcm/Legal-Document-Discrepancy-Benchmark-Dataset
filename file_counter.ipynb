{
 "cells": [
  {
   "cell_type": "markdown",
   "id": "bb9e854d-87ba-4464-bea1-d1e0bd4eb8f2",
   "metadata": {},
   "source": [
    "# File counter for Legal Document Discrepancy Detection Dataset\n",
    "It counts the files for each subfolder of the benchmark dataset.\n"
   ]
  },
  {
   "cell_type": "code",
   "execution_count": 1,
   "id": "d50cc488-510a-49e3-aa35-bd694bdc908c",
   "metadata": {},
   "outputs": [],
   "source": [
    "# Change this\n",
    "folder_path = \"benchmark_dataset_v2\""
   ]
  },
  {
   "cell_type": "code",
   "execution_count": 2,
   "id": "f77d233d-e558-46eb-92d1-e517fcea2b35",
   "metadata": {
    "tags": []
   },
   "outputs": [],
   "source": [
    "import os\n",
    "\n",
    "def get_all_folders(root_folder=\"benchmark_dataset_v1\", skip_folder=\".ipynb_checkpoints\"):\n",
    "    end_folders = []\n",
    "\n",
    "    for dirpath, dirnames, _ in os.walk(root_folder, topdown=True):\n",
    "        # Remove the folders that should be skipped\n",
    "        dirnames[:] = [d for d in dirnames if d != skip_folder]\n",
    "\n",
    "        # For nested-folder system\n",
    "        if not dirpath.__eq__(root_folder):\n",
    "            end_folders.append(os.path.join(dirpath, \"\"))\n",
    "\n",
    "        # For dual-folder system\n",
    "        # If there are no subdirectories left, it's an end folder\n",
    "        # if not dirnames:\n",
    "        #     end_folders.append(os.path.join(dirpath, \"\"))  # Ensure trailing backslash\n",
    "\n",
    "    return end_folders\n",
    "\n",
    "# Example usage:\n",
    "# result = get_all_folders(folder_path)\n",
    "# print(len(result))"
   ]
  },
  {
   "cell_type": "code",
   "execution_count": 64,
   "id": "bf600d4d-ccd1-4739-92c5-a6d932e381dd",
   "metadata": {
    "scrolled": true,
    "tags": []
   },
   "outputs": [
    {
     "name": "stdout",
     "output_type": "stream",
     "text": [
      "Folders count:\n",
      "benchmark_dataset_v2/misaligned_terminalogy_inText/: 512\n",
      "benchmark_dataset_v2/misaligned_terminalogy_inText/modified_files/: 501\n",
      "benchmark_dataset_v2/ambiguity_legal/: 511\n",
      "benchmark_dataset_v2/ambiguity_legal/modified_files/: 501\n",
      "benchmark_dataset_v2/ambiguity_inText/: 511\n",
      "benchmark_dataset_v2/ambiguity_inText/modified_files/: 500\n",
      "benchmark_dataset_v2/omissions_inText/: 512\n",
      "benchmark_dataset_v2/omissions_inText/modified_files/: 501\n",
      "benchmark_dataset_v2/structural_flaws_legal/: 512\n",
      "benchmark_dataset_v2/structural_flaws_legal/modified_files/: 501\n",
      "benchmark_dataset_v2/misaligned_terminalogy_legal/: 512\n",
      "benchmark_dataset_v2/misaligned_terminalogy_legal/modified_files/: 507\n",
      "benchmark_dataset_v2/omissions_legal/: 511\n",
      "benchmark_dataset_v2/omissions_legal/modified_files/: 500\n",
      "benchmark_dataset_v2/structural_flaws_inText/: 512\n",
      "benchmark_dataset_v2/structural_flaws_inText/modified_files/: 501\n",
      "benchmark_dataset_v2/inconsistencies_inText/: 510\n",
      "benchmark_dataset_v2/inconsistencies_inText/modified_files/: 501\n",
      "benchmark_dataset_v2/inconsistencies_legal/: 511\n",
      "benchmark_dataset_v2/inconsistencies_legal/modified_files/: 501\n"
     ]
    }
   ],
   "source": [
    "def count_folder_files(root_folder):\n",
    "    end_folders = get_all_folders(root_folder)\n",
    "\n",
    "    for folder in end_folders:\n",
    "        # print(os.listdir(folder))\n",
    "        files = os.listdir(folder)\n",
    "        print(folder, end=\": \")\n",
    "        print(len(files))\n",
    "        # for file in os.listdir(folder):\n",
    "        #     file_path = os.path.join(folder, file)\n",
    "        #     if os.path.isfile(file_path) and not file.endswith(\".pdf\"):\n",
    "        #         print(f\"Non-PDF File Found: {file_path}\")\n",
    "\n",
    "print(\"Folders count:\")\n",
    "count_folder_files(folder_path)"
   ]
  },
  {
   "cell_type": "code",
   "execution_count": null,
   "id": "f7c5cbce-f22e-4726-a070-badc615ad44e",
   "metadata": {},
   "outputs": [],
   "source": []
  },
  {
   "cell_type": "code",
   "execution_count": null,
   "id": "379051e4-f411-4fc7-92d0-dc8a5770a36d",
   "metadata": {},
   "outputs": [],
   "source": []
  }
 ],
 "metadata": {
  "kernelspec": {
   "display_name": "Python 3 (ipykernel)",
   "language": "python",
   "name": "python3"
  },
  "language_info": {
   "codemirror_mode": {
    "name": "ipython",
    "version": 3
   },
   "file_extension": ".py",
   "mimetype": "text/x-python",
   "name": "python",
   "nbconvert_exporter": "python",
   "pygments_lexer": "ipython3",
   "version": "3.11.5"
  }
 },
 "nbformat": 4,
 "nbformat_minor": 5
}
