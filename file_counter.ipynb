{
 "cells": [
  {
   "cell_type": "markdown",
   "id": "bb9e854d-87ba-4464-bea1-d1e0bd4eb8f2",
   "metadata": {},
   "source": [
    "# File counter for Legal Document Discrepancy Detection Dataset\n",
    "It counts the files for each subfolder of the benchmark dataset.\n"
   ]
  },
  {
   "cell_type": "code",
   "execution_count": 33,
   "id": "f77d233d-e558-46eb-92d1-e517fcea2b35",
   "metadata": {},
   "outputs": [],
   "source": [
    "import os\n",
    "\n",
    "def get_end_folders(root_folder=\"benchmark_dataset_v1\", skip_folder=\".ipynb_checkpoints\"):\n",
    "    end_folders = []\n",
    "\n",
    "    for dirpath, dirnames, _ in os.walk(root_folder, topdown=True):\n",
    "        # Remove the folders that should be skipped\n",
    "        dirnames[:] = [d for d in dirnames if d != skip_folder]\n",
    "\n",
    "        # If there are no subdirectories left, it's an end folder\n",
    "        if not dirnames:\n",
    "            end_folders.append(os.path.join(dirpath, \"\"))  # Ensure trailing backslash\n",
    "\n",
    "    return end_folders\n",
    "\n",
    "# Example usage:\n",
    "folder_path = \"benchmark_dataset_v1\"\n",
    "result = get_end_folders(folder_path)\n",
    "# print(len(result))"
   ]
  },
  {
   "cell_type": "code",
   "execution_count": 34,
   "id": "bf600d4d-ccd1-4739-92c5-a6d932e381dd",
   "metadata": {},
   "outputs": [
    {
     "name": "stdout",
     "output_type": "stream",
     "text": [
      "Folders count:\n",
      "benchmark_dataset_v1\\ambiguity_inText_contradication\\: 148\n",
      "benchmark_dataset_v1\\ambiguity_inText_contradication_json\\: 195\n",
      "benchmark_dataset_v1\\ambiguity_legal_contradication\\: 194\n",
      "benchmark_dataset_v1\\ambiguity_legal_contradication_json\\: 222\n",
      "benchmark_dataset_v1\\misaligned_terminology_legal_contradication\\: 162\n",
      "benchmark_dataset_v1\\misaligned_terminology_legal_contradication_json\\: 188\n",
      "benchmark_dataset_v1\\omission_inText_contradication\\: 135\n",
      "benchmark_dataset_v1\\omission_inText_contradication_json\\: 190\n",
      "benchmark_dataset_v1\\omission_legal_contradication\\: 144\n",
      "benchmark_dataset_v1\\omission_legal_contradication_json\\: 188\n"
     ]
    }
   ],
   "source": [
    "def count_folder_files(root_folder):\n",
    "    end_folders = get_end_folders(root_folder)\n",
    "\n",
    "    for folder in end_folders:\n",
    "        # print(os.listdir(folder))\n",
    "        files = os.listdir(folder)\n",
    "        print(folder, end=\": \")\n",
    "        print(len(files))\n",
    "        # for file in os.listdir(folder):\n",
    "        #     file_path = os.path.join(folder, file)\n",
    "        #     if os.path.isfile(file_path) and not file.endswith(\".pdf\"):\n",
    "        #         print(f\"Non-PDF File Found: {file_path}\")\n",
    "\n",
    "print(\"Folders count:\")\n",
    "count_folder_files(folder_path)"
   ]
  },
  {
   "cell_type": "code",
   "execution_count": null,
   "id": "4988ba55-458f-48b1-a818-6744bbb99d86",
   "metadata": {},
   "outputs": [],
   "source": []
  }
 ],
 "metadata": {
  "kernelspec": {
   "display_name": "Python 3 (ipykernel)",
   "language": "python",
   "name": "python3"
  },
  "language_info": {
   "codemirror_mode": {
    "name": "ipython",
    "version": 3
   },
   "file_extension": ".py",
   "mimetype": "text/x-python",
   "name": "python",
   "nbconvert_exporter": "python",
   "pygments_lexer": "ipython3",
   "version": "3.12.4"
  }
 },
 "nbformat": 4,
 "nbformat_minor": 5
}
