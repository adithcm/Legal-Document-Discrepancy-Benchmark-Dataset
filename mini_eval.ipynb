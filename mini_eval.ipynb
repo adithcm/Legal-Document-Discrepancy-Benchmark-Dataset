{
 "cells": [
  {
   "cell_type": "markdown",
   "metadata": {},
   "source": [
    "# Metrics\n",
    "1) `text match` but `explanation !match` = -1\n",
    "2) `text match` and `explanation match` = +1\n",
    "3) `text !match` and `explanation match` = -1\n",
    "4) `text !match` and `explanation !match` = -1"
   ]
  },
  {
   "cell_type": "code",
   "execution_count": 1,
   "metadata": {},
   "outputs": [],
   "source": [
    "import os\n",
    "import json\n",
    "import tqdm\n",
    "import threading\n",
    "from concurrent.futures import ThreadPoolExecutor\n",
    "import os\n",
    "import contextlib"
   ]
  },
  {
   "cell_type": "code",
   "execution_count": 2,
   "metadata": {},
   "outputs": [
    {
     "name": "stderr",
     "output_type": "stream",
     "text": [
      "c:\\Users\\Noel\\AppData\\Local\\Programs\\Python\\Python310\\lib\\site-packages\\tqdm\\auto.py:21: TqdmWarning: IProgress not found. Please update jupyter and ipywidgets. See https://ipywidgets.readthedocs.io/en/stable/user_install.html\n",
      "  from .autonotebook import tqdm as notebook_tqdm\n"
     ]
    },
    {
     "name": "stdout",
     "output_type": "stream",
     "text": [
      "WARNING:tensorflow:From c:\\Users\\Noel\\AppData\\Local\\Programs\\Python\\Python310\\lib\\site-packages\\tf_keras\\src\\losses.py:2976: The name tf.losses.sparse_softmax_cross_entropy is deprecated. Please use tf.compat.v1.losses.sparse_softmax_cross_entropy instead.\n",
      "\n"
     ]
    }
   ],
   "source": [
    "from modules.prompts import COT, ZERO_SHOT_PROMPT, FEW_SHOT_PROMPT\n",
    "from modules import utils\n",
    "from modules.models import Model, GeminiModel, SelfVerificationModel\n",
    "from modules.dataset import Dataset, MiniEvalDataset\n",
    "from modules import explanation_match as em\n",
    "from modules import evaluate as eval"
   ]
  },
  {
   "cell_type": "code",
   "execution_count": 3,
   "metadata": {},
   "outputs": [],
   "source": [
    "API_KEYS = [\n",
    "]"
   ]
  },
  {
   "cell_type": "markdown",
   "metadata": {},
   "source": [
    "You retrieve elements in each dataset like this:"
   ]
  },
  {
   "cell_type": "code",
   "execution_count": 4,
   "metadata": {},
   "outputs": [
    {
     "data": {
      "text/plain": [
       "[{'file_name': 'ADAMSGOLFINC_03_21_2005-EX-10.17-ENDORSEMENTAGREEMENT.txt',\n",
       "  'perturbation': [{'type': 'Ambiguities - In Text Contradiction',\n",
       "    'original_text': 'A. CONSULTANT\\'S \"ENDORSEMENT\" means the right to use the CONSULTANT\\'S name, fame, nickname, autograph, voice, facsimile, signature, photograph, likeness, and image in connection with the marketing, advertising, promotion and sale of ADAMS GOLF\\'S PRODUCT.',\n",
       "    'changed_text': 'A. CONSULTANT\\'S \"ENDORSEMENT\" means the right to use the CONSULTANT\\'S name solely for marketing materials directly created by ADAMS GOLF. This excludes use of likeness or image for promotional events unless specifically agreed upon in writing.',\n",
       "    'explanation': 'The original definition of \"ENDORSEMENT\" is broad, including name, likeness, and image. The modified definition restricts the endorsement to the use of name only for marketing materials, contradicting the broad definition of endorsement in the original clause. This introduces ambiguity about whether Adams Golf can use Watson\\'s likeness in promotional events without additional written agreements, creating potential legal disputes about the scope of the endorsement rights originally granted. This is contradicting with section 3.',\n",
       "    'location': '2',\n",
       "    'contradicted_location': '3',\n",
       "    'contradicted_text': \"CONSULTANT hereby gives and grants to ADAMS GOLF the exclusive right and license to use CONSULTANT'S ENDORSEMENT in connection with the manufacture, sale, distribution, advertising and promotion of PRODUCT in the CONTRACT TERRITORY.\"},\n",
       "   {'type': 'Ambiguities - In Text Contradiction',\n",
       "    'original_text': '5. EXCLUSIVE USE OF PRODUCT During the term of this Agreement, CONSULTANT shall exclusively play/use the MANDATORY PRODUCT. (It is expressly understood by the parties that CONSULTANT may play [* ****] clubs in the bag other than ADAMS GOLF clubs including, but not limited to, a putter by a manufacturer other than ADAMS GOLF but may not endorse those clubs and/or putter.)',\n",
       "    'changed_text': '5. EXCLUSIVE USE OF PRODUCT During the term of this Agreement, CONSULTANT shall exclusively play/use the MANDATORY PRODUCT, except that CONSULTANT is permitted to use equipment from any manufacturer without restriction, provided he makes a good faith effort to use ADAMS GOLF products whenever possible.',\n",
       "    'explanation': 'The original clause mandates exclusive use of Adams Golf\\'s \"MANDATORY PRODUCTS,\" but allows for limited exceptions with non-endorsement. The modified clause permits unrestricted use of competitor products if a \\'good faith effort\\' is made to use ADAMS GOLF products, potentially undermining the exclusivity intended in the original agreement. This introduces a subjective standard (\"good faith effort\") that creates an in-text contradiction, since there isn\\'t more clarification around it, the original contract clearly stated which were mandatory product.',\n",
       "    'location': '5',\n",
       "    'contradicted_location': '5',\n",
       "    'contradicted_text': 'EXCLUSIVE USE OF PRODUCT During the term of this Agreement, CONSULTANT shall exclusively play/use the MANDATORY PRODUCT, except that CONSULTANT is permitted to use equipment from any manufacturer without restriction, provided he makes a good faith effort to use ADAMS GOLF products whenever possible. (It is expressly understood by the parties that CONSULTANT may play [* ****] clubs in the bag other than ADAMS GOLF clubs including, but not limited to, a putter by a manufacturer other than ADAMS GOLF but may not endorse those clubs and/or putter.)'},\n",
       "   {'type': 'Ambiguities - In Text Contradiction',\n",
       "    'original_text': \"B.During the term of this Agreement, CONSULTANT shall make himself available on not more than [*****] days for television and radio commercials, photo shoots, modeling and promotional appearances compatible with CONSULTANT'S own practice, play and personal time requirements. Said activities shall be directly related to the promotion of ADAMS GOLF PRODUCT. ADAMS GOLF shall reimburse CONSULTANT for reasonable travel expenses for CONSULTANT when making special appearances for ADAMS GOLF pursuant to this paragraph but ADAMS GOLF shall not pay CONSULTANT session fees, residual payments or the like for television appearances. Travel expenses shall include jet fuel or first-class round-trip airfare and lodging, meals and local transportation.\",\n",
       "    'changed_text': 'B. During the term of this Agreement, CONSULTANT may, at his discretion, participate in television and radio commercials, photo shoots, modeling, and promotional appearances. ADAMS GOLF shall reimburse CONSULTANT for reasonable travel expenses for CONSULTANT when making special appearances for ADAMS GOLF pursuant to this paragraph but ADAMS GOLF shall not pay CONSULTANT session fees, residual payments or the like for television appearances. Travel expenses shall include jet fuel or first-class round-trip airfare and lodging, meals and local transportation.',\n",
       "    'explanation': \"The original version states that CONSULTANT 'shall make himself available' for promotional activities, setting a specific expectation. The modified version states that CONSULTANT 'may, at his discretion, participate' in those same activities, this introduces ambiguity by making his participation optional, thereby creating a contradiction. If ADAMS GOLF structures its marketing plans with the assumption that CONSULTANT is required to attend a specific number of events (based on the original wording), and CONSULTANT refuses based on the updated discretionary clause, it leads to a clear conflict.\",\n",
       "    'location': '11',\n",
       "    'contradicted_location': '11',\n",
       "    'contradicted_text': \"PROMOTIONAL APPEARANCES A.During the term of this Agreement, CONSULTANT shall use best efforts to be available for such press interviews, radio or TV appearances arranged for CONSULTANT by ADAMS GOLF which are compatible with CONSULTANT'S own practice, play and personal time requirements. CONSULTANT will be required to be available after a tournament for selected interviews, either the Sunday afternoon or Monday morning following the tournament. In all such interviews and appearances, CONSULTANT will use his best efforts to make reference to the ADAMS GOLF PRODUCT and wear [*****] and display ADAMS GOLF'S brand name. B. During the term of this Agreement, CONSULTANT may, at his discretion, participate in television and radio commercials, photo shoots, modeling, and promotional appearances. ADAMS GOLF shall reimburse CONSULTANT for reasonable travel expenses for CONSULTANT when making special appearances for ADAMS GOLF pursuant to this paragraph but ADAMS GOLF shall not pay CONSULTANT session fees, residual payments or the like for television appearances. Travel expenses shall include jet fuel or first-class round-trip airfare and lodging, meals and local transportation.\"}]}]"
      ]
     },
     "metadata": {},
     "output_type": "display_data"
    },
    {
     "data": {
      "text/plain": [
       "'REDACTED COPY CONFIDENTIAL TREATMENT REQUESTED CONFIDENTIAL PORTIONS OF THIS DOCUMENT HAVE BEEN REDACTED AND HAVE BEEN SEPARATELY FILED WITH THE COMMISSION 1 ENDORSEMENT AGREEMENT This Agreement is entered into on January 13, 2005 between professional golfer, TOM WATSON, (hereinafter referred to as \"CONSULTANT\") and ADAMS GOLF, LTD. (hereinafter referred to as \"ADAMS GOLF\"). WITNESSETH WHEREAS, ADAMS GOLF desires to obtain the right to use the name, likeness and ENDORSEMENT of CONSULTANT in connection with the advertisement and promotion of ADAMS GOLF\\'S PRODUCT; NOW THEREFORE, in consideration of the mutual covenants contained herein and other good and valuable consideration, the receipt and sufficiency of which is hereby acknowledged, the parties agree as follows: CONTRACT PERIOD 1. TERM OF CONTRACT The Term of this Agreement shall be for a period of [* ****] years and [*****] months commencing the 1st day of September 2004 and terminating the [*****] day of [*****]. 2. DEFINITIONS As used in this Agreement, the following terms shall be defined as set forth below: <*$p$*>A. CONSULTANT\\'S \"ENDORSEMENT\" means the right to use the CONSULTANT\\'S name solely for marketing materials directly created by ADAMS GOLF. This excludes use of likeness or image for promotional events unless specifically agreed upon in writing.<*$p$*> B.\"PRODUCT\" shall mean all golf clubs including, but not limited to, metal woods, drivers, fairway woods, irons, iron- woods, utility clubs, wedges, and putters, bags, and headwear. C.\"MANDATORY PRODUCTS\" shall mean the following ADAMS GOLF PRODUCTS that CONSULTANT must exclusively play/use in all Champions/Senior Professional Golf Association (SPGA) and Professional Golf Association (PGA) events at all times: [***** ] Confidential Material redacted and filed separately with the Commission. 2 1.[*****] 2.Sufficient [*****] to maintain total minimum of [*****] ADAMS GOLF [*****] (includes [*****])[*****] at all times 3.[*****] 4.[*****] (CONSULTANT may continue to place the [*****] logo on the [*****] consistent with historical practice.) D. \"CONTRACT TERRITORY\" shall mean the entire world. CONSULTANT\\'S OBLIGATIONS 3. CONSULTANT\\'S ENDORSEMENT CONSULTANT hereby gives and grants to ADAMS GOLF the exclusive right and license to use CONSULTANT\\'S ENDORSEMENT in connection with the manufacture, sale, distribution, advertising and promotion of PRODUCT in the CONTRACT TERRITORY. 4. EXCLUSIVITY OF ENDORSEMENT During the term of this Agreement, unless otherwise authorized at the sole discretion of ADAMS GOLF in writing, CONSULTANT shall not: A.give the right to use or permit the use of CONSULTANT\\'S name, facsimile signature, nickname, voice or likeness to any other manufacturer or seller of PRODUCT; B.sponsor or endorse PRODUCT made or sold by any other manufacturer or seller; or C.serve as a CONSULTANT or advisor of any other manufacturer or seller of PRODUCT. D.Notwithstanding paragraphs 4A, 4B and 4C above, CONSULTANT shall be entitled to endorse and play the [*****]. The parties expressly agree that CONSULTANT may permit [*****] the use of CONSULTANT\\'S name and/or likeness in [*****] print and/or television advertisement provided that this is executed in a manner consistent with [*****] past [*****] advertising practice using similarly situated professional golfers with competing golf club endorsement agreements that include [*****]. If [*****] use of CONSULTANT varies from past practice of utilizing similarly situated professionals, CONSULTANT will take action to remedy the situation [*****]. If CONSULTANT participates directly in any [*****] sponsored photo shoots for advertising or PR, CONSULTANT shall wear his ADAMS GOLF [*****]. The parties further expressly agree that CONSULTANT\\'S endorsement of the [*****] shall not include the right to place a [*****] logo on his ADAMS GOLF [*****] or the ADAMS GOLF [*****]. If CONSULTANT\\'S relationship with [*****] terminates during this Agreement, CONSULTANT shall be permitted to replace the [*****] endorsement with another [*****] endorsement under the same terms and conditions expressed herein. [***** ] Confidential Material redacted and filed separately with the Commission. 3 E.Notwithstanding paragraphs 4A, 4B and 4C above, CONSULTANT shall not be required to wear ADAMS GOLF [*****] in [*****] ads. <*$p$*>5. EXCLUSIVE USE OF PRODUCT During the term of this Agreement, CONSULTANT shall exclusively play/use the MANDATORY PRODUCT, except that CONSULTANT is permitted to use equipment from any manufacturer without restriction, provided he makes a good faith effort to use ADAMS GOLF products whenever possible.<*$p$*> 6. CONSULTANT\\'S ENDORSEMENT OF NON-COMPETITIVE PRODUCT If CONSULTANT endorses or promotes a non-competitive product and in that endorsement or promotion CONSULTANT wears, plays, uses, holds or is in any way associated with a product that would constitute PRODUCT as defined under this Agreement, CONSULTANT shall use objectively reasonable best efforts to ensure that PRODUCT is an ADAMS GOLF PRODUCT and it shall not be altered or changed in appearance in the endorsement in any manner whatsoever without the express written consent of ADAMS GOLF. When endorsing a non-competitive product, under no circumstances shall CONSULTANT wear, play, use, hold or in any way be associated with an ADAMS GOLF competitor\\'s Product. 7. CONSULTANT\\'S SATISFACTION OF MANDATORY PRODUCT It is particularly and expressly understood and agreed that if CONSULTANT shall find in his sincere best reasonable judgment that the MANDATORY PRODUCT so supplied is not suitable for his use in tournament competition, then he shall promptly notify ADAMS GOLF in writing of such fact and the reasons therefor. Thereafter, ADAMS GOLF shall have a period of thirty (30) days to either, at ADAMS GOLF\\'S sole discretion, supply CONSULTANT with MANDATORY PRODUCT that is acceptable to him or terminate the agreement. It is agreed that if the contract is terminated pursuant to this paragraph, the compensation due CONSULTANT shall be prorated from the date this Agreement is terminated. Proration of compensation shall be determined on the same repayment schedule as provide in paragraph 8A below. [***** ] Confidential Material redacted and filed separately with the Commission. 4 8. MINIMUM NUMBER OF TOURNAMENTS AND POTENTIAL REPAYMENT OF BASE COMPENSATION A. In each and every calendar year of this Agreement, CONSULTANT shall achieve a satisfactory record of play in a minimum of [* ****] professional golf association events on the SPGA and/or PGA tour (which shall include both the PGA and SPGA Tour Skins Games). If for any reason, CONSULTANT should achieve a satisfactory record of play in less than [*****] SPGA and/or PGA tour events in a calendar year, he shall repay ADAMS GOLF an amount per event for each event under [*****] achieved in the given calendar year as follows: The agreed upon repayment amount per event per calendar year: 1. Year 1. $[*****] 2. Year 2 $[*****] 3. Year 3 $[*****] 4. Year 4 $[*****] 5. Year 5 $[*****] B.Payment shall be made to ADAMS GOLF within one month following the end of the calendar year. For example, if in the calendar year 2005 CONSULTANT achieves a satisfactory record of play in [*****] events, he shall repay ADAMS GOLF [*****] dollars no later than January 31, 2006. C.In the event that CONSULTANT is prevented from competing for reasons outside his control, the parties agree to a good faith attempt to resolve the issues. If a resolution can not be reached, ADAMS GOLF may, at its sole discretion, demand prorated repayment pursuant to the repayment schedule in paragraph 8A above. 9. PRODUCT DESIGN During the term of this Agreement, CONSULTANT shall use best efforts to cooperate with ADAMS GOLF in giving advice, suggestions and recommendations concerning the acceptability and playability of current ADAMS GOLF lines, the development of new ADAMS GOLF lines, and information about significant golf PRODUCT and golf market trends, and meet as reasonably requested with ADAMS GOLF\\'S Design/Testing Teams. 10. PROMOTION OF PRODUCT During the term of this Agreement, CONSULTANT shall use best efforts to wear the headwear and display ADAMS GOLF\\'S brand name and to demonstrate, discuss and emphasize the newest features of ADAMS GOLF PRODUCT at every opportunity including but not limited to all Senior PGA tour events and promotional and advertising events in which CONSULTANT takes part. [***** ] Confidential Material redacted and filed separately with the Commission. 5 11. PROMOTIONAL APPEARANCES A.During the term of this Agreement, CONSULTANT shall use best efforts to be available for such press interviews, radio or TV appearances arranged for CONSULTANT by ADAMS GOLF which are compatible with CONSULTANT\\'S own practice, play and personal time requirements. CONSULTANT will be required to be available after a tournament for selected interviews, either the Sunday afternoon or Monday morning following the tournament. In all such interviews and appearances, CONSULTANT will use his best efforts to make reference to the ADAMS GOLF PRODUCT and wear [*****] and display ADAMS GOLF\\'S brand name. <*$p$*>B. During the term of this Agreement, CONSULTANT may, at his discretion, participate in television and radio commercials, photo shoots, modeling, and promotional appearances. ADAMS GOLF shall reimburse CONSULTANT for reasonable travel expenses for CONSULTANT when making special appearances for ADAMS GOLF pursuant to this paragraph but ADAMS GOLF shall not pay CONSULTANT session fees, residual payments or the like for television appearances. Travel expenses shall include jet fuel or first-class round-trip airfare and lodging, meals and local transportation.<*$p$*> 12. BEHAVIOR During the term of this Agreement, CONSULTANT will conduct himself at all times with due regard to public morals and conventions. If the value of CONSULTANT\\'S ENDORSEMENT is materially reduced or impaired because CONSULTANT: A.committed or shall commit any public act that involves moral turpitude, B.commits or violates any material foreign, U.S., federal, or other applicable state or local law, C.commits any act which brings him into public disrepute, contempt, scandal or ridicule, or which insults or offends the community, D.makes any statements in derogation, in any material respect, of ADAMS GOLF or any of its affiliates or any of their respective PRODUCT or services and such statement is made to the general public or becomes a matter of public knowledge, then at any time after the occurrence of such act, thing or statement, ADAMS GOLF shall have the right, in addition to its other legal and equitable remedies, to immediately terminate this Agreement, by giving written notice to CONSULTANT. ADAMS GOLF must exercise its right of termination within ninety (90) days of its senior management becoming aware of the conduct giving rise to the right of termination. [***** ] Confidential Material redacted and filed separately with the Commission. 6 13. FREEDOM TO CONTRACT CONSULTANT represents and warrants that CONSULTANT is free of all prior undertakings and obligations which would prevent or tend to impair either the full performance of CONSULTANT\\'S obligations hereunder or ADAMS GOLF\\'S full enjoyment of the rights and privileges granted to it by CONSULTANT. 14. INDEMNITY CONSULTANT agrees to protect, indemnify and hold ADAMS GOLF harmless from any and all liability, claims, causes of action, suits, damages and expenses (including reasonable attorneys\\' fees and expenses) for which it becomes liable or is compelled to pay by reason of a breach of any covenant or representation by CONSULTANT in this Agreement. 15. ABSENCE OF AGENCY CONSULTANT shall not and will not have the right or authority to bind ADAMS GOLF by any representation or in any other respect whatsoever or to incur any obligation or liability in the name of or on behalf of ADAMS GOLF. 16. MEMBERSHIPS CONSULTANT warrants and represents that during the term of this Agreement he is a member in good standing of SAG, AFTRA or any other organization having jurisdiction over CONSULTANT\\'S services hereunder. This Agreement is subject to all of the terms and conditions of the collective bargaining agreements with SAG, AFTRA, or any other union agreements or codes having jurisdiction over CONSULTANT\\'S services hereunder. Any and all payments required to be made to SAG or AFTRA or any other organization having jurisdiction over CONSULTANT\\'S services hereunder, shall be the sole responsibility of CONSULTANT. ADAMS GOLF\\'S OBLIGATIONS 17. SUPPLY OF PRODUCT A. During the term of this Agreement, ADAMS GOLF shall provide CONSULTANT with sufficient quantities of such MANDATORY PRODUCTS for CONSULTANT\\'S use as CONSULTANT may reasonably need to fulfill his obligations under this agreement. ADAMS GOLF shall pay all charges in connection with the delivery of MANDATORY PRODUCTS to CONSULTANT. B.In addition to paragraph 17A above, ADAMS GOLF shall provide CONSULTANT with [*****] sets of clubs for CONSULTANT\\'S family and friends each calendar year of this Agreement. [***** ] Confidential Material redacted and filed separately with the Commission. 7 18. BASE COMPENSATION For the entire term of this Agreement, from September 1, 2004 through [*****] ADAMS GOLF shall pay CONSULTANT a base compensation of [*****] dollars. The base compensation shall be paid [*****]. 19. PERFORMANCE BONUSES AND TOTAL COMPENSATION LIMITATION A. In addition to his base compensation, CONSULTANT shall also be entitled to bonuses based on performance in particular PGA and SPGA events and year-end standing as follows: 1. If CONSULTANT wins a PGA Tour Major (consisting of the Masters, US Open, PGA and British Open) or the Champion\\'s Tour (SPGA) US Open, CONSULTANT shall receive a bonus of $ [*****]. 2. If CONSULTANT wins a Champions/Seniors Tour (SPGA) major other than the US Open (which shall for the purposes of this agreement consist of the Senior PGA, Senior British, the Tradition and the Ford Seniors) CONSULTANT shall receive a bonus of $ [*****]. 3. If CONSULTANT finishes in the top [*****] on the official year end money list of the Champion\\'s Tour (SPGA), CONSULTANT shall also be entitled to a year end performance bonus according to the following schedule: a.2005 $ [*****] b.2006$ [*****] c.2007$ [*****] d.2008$ [*****] e.2009$ [*****] B.Notwithstanding paragraph A and its subparts above, the maximum total annual bonuses shall in no case exceed the following schedule: 1.2005 $ [*****] 2.2006$ [*****] 3.2007$ [*****] 4.2008$ [*****] 5.2009$ [*****] (For example, if in the calendar year [*****]CONSULTANT wins every PGA tour major and finishes in the top [*****] on the official year end money list of the Champion\\'s Tour (SPGA), CONSULTANT\\'S total bonuses shall be [*****] dollars. [***** ] Confidential Material redacted and filed separately with the Commission. 8 C. In the event of ADAMS GOLF\\'S insolvency or bankruptcy, it is expressly agreed to by the parties that CONSULTANT shall not be obligated to repay any money so long as CONSULTANT continues to fully perform his obligations under this Agreement. 20. APPROVAL OF ADVERTISING Prior to publishing or placing any advertising or promotional material which uses CONSULTANT\\'S name, facsimile signature, nickname, voice or likeness, ADAMS GOLF shall submit the same to CONSULTANT, or CONSULTANT\\'S designee, for approval, which approval shall not be unreasonably withheld or delayed. If CONSULTANT disapproves, the reasons therefore shall be given to ADAMS GOLF in writing within three (3) business days or shall be deemed approved. ADAMS GOLF agrees to protect, indemnify and hold CONSULTANT harmless from and against any and all expenses, damages, claims, suits, actions, judgments and costs whatsoever, arising out of, or in any way connected with, any advertising material furnished by, or on behalf of, the company. 21. INDEMNITY ADAMS GOLF agrees to defend, indemnify and hold harmless CONSULTANT from any and all liability, claims, causes of action, suits, damages and expenses (including reasonable attorneys\\' fees and expenses) for which he becomes liable or is compelled to pay by reason of or arising out of any claim or action for personal injury, death or otherwise involving alleged defects in ADAMS GOLF\\'S PRODUCT, provided that ADAMS GOLF is promptly given notice in writing and is given complete authority and information required for the defense, and ADAMS GOLF shall pay all damages or costs awarded therein against CONSULTANT and any other cost incurred by CONSULTANT in defense of any suit, but shall not be responsible for any cost, expense or compromise incurred or made by CONSULTANT without ADAMS GOLF\\'S prior written consent. TERMINATION 22. FAILURE TO PLAY Notwithstanding any other paragraph of this Agreement, in the event that CONSULTANT dies or is unable to play tour golf at all, ADAMS GOLF may terminate this Agreement on thirty (30) days\\' written notice. Upon such termination, CONSULTANT and/or CONSULTANT\\'S estate shall be required to repay ADAMS GOLF for that period of the Agreement not performed by CONSULTANT. The repayment amount shall be calculated in the same way as repayment is calculated under paragraph 8A. 9 23. TERMINATION FOR CAUSE Notwithstanding any other paragraph of this Agreement, if either party commits any material breach of this Agreement, the other party may terminate for cause upon giving fifteen (15) days written notice of such cause and provided the breach is not rectified within such fifteen (15) day period. Upon such termination, CONSULTANT shall be required to repay ADAMS GOLF for that period of the Agreement not performed by CONSULTANT. The repayment amount shall be calculated in the same way as repayment is calculated under paragraph 8A. 24. ADAMS GOLF\\'S RIGHTS UPON TERMINATION A.In the event of termination of this Agreement, ADAMS GOLF shall cease using the name and/or likeness of CONSULTANT in advertising within [*****] days. B.In the event of termination of this Agreement, ADAMS GOLF shall cease using the name and/or likeness of CONSULTANT on Product within [*****] months after termination of this Agreement. MISCELLANEOUS PROVISIONS 24. SIGNIFICANCE OF HEADINGS Section headings contained herein are solely for the purpose of aiding in speedy location of subject matter and are not in any sense to be given weight in the construction of this Agreement. Accordingly, in case of any question with respect to the construction of this Agreement, it is to be construed as though such section headings had been omitted. 25. APPLICABLE LAW This Agreement shall be governed and construed according to the laws of the State of Kansas. 26. ENTIRE AGREEMENT The provisions of this Agreement are intended by the parties as a complete, conclusive and final expression of their agreement concerning the subject matter hereof, which Agreement supersedes all prior agreements concerning the subject matter, and no other statement, representation, agreement or understanding, oral or written, made prior to or at the execution hereof, shall vary or modify the written terms hereof. No amendments, modifications or releases from any provision hereof shall be effective unless in writing and signed by both parties. 27. WAIVER Unless otherwise mutually agreed in writing, no departure from, waiver of, or omission to require compliance with any of the terms hereof by either party shall be deemed to authorize any prior or subsequent departure or waiver, or obligate either party to continue any departure or waiver. [***** ] Confidential Material redacted and filed separately with the Commission. 10 28. EXECUTION AND DELIVERY REQUIRED This instrument shall not be considered to be an agreement or contract nor shall it create any obligation whatsoever on the part of CONSULTANT or ADAMS GOLF unless and until it has been signed by CONSULTANT, or a duly authorized representative, and by duly authorized representatives of ADAMS GOLF and delivery has been made of a fully signed original to both parties. 29. SEVERABILITY Any provision or part of this Agreement prohibited by applicable law shall be ineffective to the extent of such prohibition without invalidating the remaining provisions or parts hereof. 30. RELATIONSHIP Both parties agree that this Agreement does not constitute and shall not be construed as a constituting of a partnership or joint venture between ADAMS GOLF and CONSULTANT. Neither party shall have any right to obligate or bind the other party in any manner whatsoever, and nothing herein contained shall give or is intended to give any rights of any kind to any third person. 31. ASSIGNMENT AND CHANGE OF CONTROL Neither ADAMS GOLF nor CONSULTANT shall have the right to grant sublicenses hereunder or to assign, alienate or otherwise transfer any of its rights or obligations hereunder. 32. CONFIDENTIALITY Both parties understand that the contents of this Agreement, including, but not limited to, all amounts paid or to be paid and any additional consideration, are extremely confidential, and that disclosure of same to any third party could be detrimental to the interests of one or both parties. Therefore, both parties agree not to disclose the terms of this Agreement, without the permission of the other party, to any third party other than to CONSULTANT\\'S business, legal and financial advisors, and with respect to all such advisors, CONSULTANT shall take all reasonable steps to ensure such confidentiality to ADAMS GOLF. Furthermore, CONSULTANT recognizes that during the course of performing his duties hereunder he may become aware of proprietary, confidential information concerning ADAMS GOLF, its PRODUCT, methods, processes, billing practices, financial condition, etc., or information ADAMS GOLF designates as confidential (collectively \"Confidential Information\"). CONSULTANT agrees that he will maintain in confidence and not disclose to any third party at any time any such Confidential Information and shall not use any such information to the detriment of ADAMS GOLF or for any purpose not contemplated by the Agreement. 11 33. ARBITRATION In the event a dispute arises under this Agreement which cannot be resolved, such dispute shall be submitted to arbitration and resolved by a panel of three arbitrators (who shall be lawyers), in a decision required by a majority of the arbitrators. If the parties cannot agree upon the panel of three arbitrators, then each party may pick an arbitrator and the two chosen arbitrators shall choose upon the three-arbitrator panel. The arbitration shall be conducted in accordance with the Arbitration Rules of the American Arbitration Association. Venue shall be Kansas. The award or decision rendered by the arbitration panel shall be final, binding and conclusive and judgment may be entered upon such award by any court of competent jurisdiction. 34. NOTICE Every written notice or written report which may be served upon CONSULTANT, according to the terms of this Agreement, may be served by enclosing it in a postpaid envelope addressed to: Mr. Tom Watson C/O Assured Management Company 1901 W. 47th Place, Suite 200 Westwood, Kansas 66205 or at such other address as is given in writing to ADAMS GOLF by CONSULTANT. Every written notice which may be served upon ADAMS GOLF, according to the terms of this Agreement, shall be served by enclosing it in a postpaid envelope addressed to: Attention Legal Department ADAMS GOLF, LTD. 2801 East Plano Parkway Plano, Texas 75074 or at such other address as is given in writing by ADAMS GOLF to CONSULTANT. 12 IN WITNESS WHEREOF, the parties hereto have caused this Agreement to be executed as of the date first set forth above. APPROVED FOR CONSULTANT By: /s/ Tom Watson Date: January 13, 2005 Tom Watson APPROVED FOR ADAMS GOLF, LTD. By: /s/ Oliver G. \"Chip\" Brewer III Date: January 13, 2005 Oliver G. (\"Chip\") Brewer III CEO, ADAMS GOLF 13'"
      ]
     },
     "metadata": {},
     "output_type": "display_data"
    }
   ],
   "source": [
    "dataset = MiniEvalDataset()\n",
    "display(dataset[0][\"answers\"], dataset[0][\"documents\"])\n"
   ]
  },
  {
   "cell_type": "markdown",
   "metadata": {},
   "source": [
    "**You check the length like this:**"
   ]
  },
  {
   "cell_type": "code",
   "execution_count": 5,
   "metadata": {},
   "outputs": [],
   "source": [
    "# len(dataset)\n",
    "# print(dataset[5][\"file_name\"])"
   ]
  },
  {
   "cell_type": "markdown",
   "metadata": {},
   "source": [
    "**To maintain the base file name, removing `modified_` or `perturbed_`**"
   ]
  },
  {
   "cell_type": "code",
   "execution_count": 6,
   "metadata": {},
   "outputs": [],
   "source": [
    "# dataset = MiniEvalDataset()\n",
    "# dataset.clean_filenames()"
   ]
  },
  {
   "cell_type": "markdown",
   "metadata": {},
   "source": [
    "### Implementation of `generate_responses`"
   ]
  },
  {
   "cell_type": "code",
   "execution_count": 7,
   "metadata": {},
   "outputs": [],
   "source": [
    "def generate_responses(model, dataset, prompt: str, output_dir, num_responses: int = 1):\n",
    "    try:\n",
    "        for sample in tqdm.tqdm(dataset, desc=\"Processing samples\"):\n",
    "            # print(sample)\n",
    "            # Prepare base directory and document text\n",
    "            base_name = sample[\"file_name\"]\n",
    "            document_with_tags = sample[\"documents\"]\n",
    "            document_with_tags_removed = sample[\"documents\"].replace(\"<*$p$*>\", \"\") \n",
    "            ground_truth = sample[\"answers\"][0][\"perturbation\"]\n",
    "\n",
    "            for i in range(num_responses):\n",
    "                # Construct output path: outputs/self_consistency/<subdir>/<filename>_i.json\n",
    "                subdir = os.path.join(output_dir, \"self_consistency\", os.path.dirname(base_name))\n",
    "                os.makedirs(subdir, exist_ok=True)\n",
    "                output_path = os.path.join(subdir, os.path.basename(base_name) + f\"_{i}.json\")\n",
    "\n",
    "                # Skip if file already exists\n",
    "                if os.path.exists(output_path):\n",
    "                    continue\n",
    "\n",
    "                # Generate model response\n",
    "                model_response = model.generate(\n",
    "                    prompt.replace(\"[DOCUMENT]\", document_with_tags_removed)\n",
    "                    # prompt.replace(\"[DOCUMENT]\", document_with_tags)\n",
    "                )\n",
    "                parsed_response = utils.clean_and_parse_model_response(model_response)\n",
    "\n",
    "                if parsed_response:\n",
    "                    updated_predictions = utils.add_section_identified_flag(parsed_response, ground_truth)\n",
    "                    with open(output_path, \"w\", encoding=\"utf-8\") as f:\n",
    "                        json.dump(updated_predictions, f, indent=4)\n",
    "    except Exception as e:\n",
    "        print(f\"\u274c Error in generate_responses: {e}\")"
   ]
  },
  {
   "cell_type": "code",
   "execution_count": 8,
   "metadata": {},
   "outputs": [],
   "source": [
    "def run(\n",
    "    model: Model,\n",
    "    dataset: Dataset,\n",
    "    prompt: str,\n",
    "    responses_dir: str,\n",
    "    num_responses: int,\n",
    "    evaluation_model: Model = None\n",
    "):\n",
    "    \"\"\"\n",
    "    Runs the evaluation process.\n",
    "    :param model: The model to generate responses.\n",
    "    :param dataset: The dataset to evaluate.\n",
    "    :param prompt: The prompt to use for generating responses.\n",
    "    :param responses_dir: Directory to save the responses.\n",
    "    :param num_responses: The number of responses to collect per document (for self-consistency)\n",
    "    :param evaluation_model: Model for evaluating model responses.\n",
    "    \"\"\"\n",
    "    generate_responses(model, dataset, prompt, responses_dir, num_responses)\n",
    "    # explanation_match(evaluation_model, dataset, responses_dir)\n",
    "    em.explanation_match_sbert(dataset, responses_dir, threshold=0.5)\n",
    "    return eval.evaluate_scoring(responses_dir)"
   ]
  },
  {
   "cell_type": "code",
   "execution_count": 9,
   "metadata": {},
   "outputs": [],
   "source": [
    "runs = [\n",
    "    {\n",
    "        \"name\": \"zero-shot\",\n",
    "        \"model\": GeminiModel(API_KEYS),\n",
    "        \"dataset\": MiniEvalDataset(),\n",
    "        \"prompt\": ZERO_SHOT_PROMPT,\n",
    "        \"responses_dir\": utils.correct_path_name(\"mini-eval/responses_v2/zero-shot/\"),\n",
    "        \"num_responses\": 1,\n",
    "        \"evaluation_model\": GeminiModel(API_KEYS),\n",
    "    },\n",
    "    {\n",
    "        \"name\": \"zero-shot-cot\",\n",
    "        \"model\": GeminiModel(API_KEYS),\n",
    "        \"dataset\": MiniEvalDataset(),\n",
    "        \"prompt\": ZERO_SHOT_PROMPT + COT,\n",
    "        \"responses_dir\": utils.correct_path_name(\"mini-eval/responses_v2/zero-shot-cot/\"),\n",
    "        \"num_responses\": 1,\n",
    "        \"evaluation_model\": GeminiModel(API_KEYS),\n",
    "    },\n",
    "    {\n",
    "        \"name\": \"zero-shot-self-verification\",\n",
    "        \"model\": SelfVerificationModel(GeminiModel(API_KEYS)),\n",
    "        \"dataset\": MiniEvalDataset(),\n",
    "        \"prompt\": ZERO_SHOT_PROMPT,\n",
    "        \"responses_dir\": utils.correct_path_name(\n",
    "            \"mini-eval/responses_v2/zero-shot-self-verification/\"\n",
    "        ),\n",
    "        \"num_responses\": 1,\n",
    "        \"evaluation_model\": GeminiModel(API_KEYS),\n",
    "    },\n",
    "    {\n",
    "        \"name\": \"zero-shot-self-verification-cot\",\n",
    "        \"model\": SelfVerificationModel(GeminiModel(API_KEYS)),\n",
    "        \"dataset\": MiniEvalDataset(),\n",
    "        \"prompt\": ZERO_SHOT_PROMPT + COT,\n",
    "        \"responses_dir\": utils.correct_path_name(\n",
    "            \"mini-eval/responses_v2/zero-shot-self-verification-cot/\"\n",
    "        ),\n",
    "        \"num_responses\": 1,\n",
    "        \"evaluation_model\": GeminiModel(API_KEYS),\n",
    "    },\n",
    "    {\n",
    "        \"name\": \"few-shot\",\n",
    "        \"model\": GeminiModel(API_KEYS),\n",
    "        \"dataset\": MiniEvalDataset(),\n",
    "        \"prompt\": FEW_SHOT_PROMPT,\n",
    "        \"responses_dir\": utils.correct_path_name(\"mini-eval/responses_v2/few-shot/\"),\n",
    "        \"num_responses\": 1,\n",
    "        \"evaluation_model\": GeminiModel(API_KEYS),\n",
    "    },\n",
    "    {\n",
    "        \"name\": \"few-shot-cot\",\n",
    "        \"model\": GeminiModel(API_KEYS),\n",
    "        \"dataset\": MiniEvalDataset(),\n",
    "        \"prompt\": FEW_SHOT_PROMPT + COT,\n",
    "        \"responses_dir\": utils.correct_path_name(\"mini-eval/responses_v2/few-shot-cot/\"),\n",
    "        \"num_responses\": 1,\n",
    "        \"evaluation_model\": GeminiModel(API_KEYS),\n",
    "    },\n",
    "    {\n",
    "        \"name\": \"few-shot-self-verification\",\n",
    "        \"model\": SelfVerificationModel(GeminiModel(API_KEYS)),\n",
    "        \"dataset\": MiniEvalDataset(),\n",
    "        \"prompt\": FEW_SHOT_PROMPT,\n",
    "        \"responses_dir\": utils.correct_path_name(\n",
    "            \"mini-eval/responses_v2/few-shot-self-verification/\"\n",
    "        ),\n",
    "        \"num_responses\": 1,\n",
    "        \"evaluation_model\": GeminiModel(API_KEYS),\n",
    "    },\n",
    "    {\n",
    "        \"name\": \"few-shot-self-verification-cot\",\n",
    "        \"model\": SelfVerificationModel(GeminiModel(API_KEYS)),\n",
    "        \"dataset\": MiniEvalDataset(),\n",
    "        \"prompt\": FEW_SHOT_PROMPT + COT,\n",
    "        \"responses_dir\": utils.correct_path_name(\n",
    "            \"mini-eval/responses_v2/few-shot-self-verification-cot/\"\n",
    "        ),\n",
    "        \"num_responses\": 1,\n",
    "        \"evaluation_model\": GeminiModel(API_KEYS),\n",
    "    },\n",
    "]"
   ]
  },
  {
   "cell_type": "code",
   "execution_count": 10,
   "metadata": {},
   "outputs": [
    {
     "name": "stderr",
     "output_type": "stream",
     "text": [
      "Processing samples:   0%|          | 0/30 [00:00<?, ?it/s]\n",
      "\n",
      "\u001b[A\u001b[A\n",
      "\u001b[A\n",
      "\n",
      "\n",
      "\u001b[A\u001b[A\u001b[A\n",
      "\n",
      "\n",
      "\n",
      "\n",
      "\u001b[A\u001b[A\u001b[A\u001b[A\u001b[A\n",
      "\n",
      "\n",
      "\n",
      "\n",
      "\n",
      "\u001b[A\u001b[A\u001b[A\u001b[A\u001b[A\u001b[A\n",
      "\n",
      "\n",
      "\n",
      "Processing samples:  20%|\u2588\u2588        | 6/30 [00:00<00:00, 55.77it/s]\n",
      "\n",
      "\u001b[A\u001b[A\n",
      "\u001b[A\n",
      "\n",
      "\n",
      "\u001b[A\u001b[A\u001b[A\n",
      "\n",
      "\n",
      "\n",
      "\n",
      "\u001b[A\u001b[A\u001b[A\u001b[A\u001b[A\n",
      "\n",
      "\n",
      "\n",
      "\n",
      "\n",
      "\u001b[A\u001b[A\u001b[A\u001b[A\u001b[A\u001b[A\n",
      "\n",
      "\n",
      "\n",
      "Processing samples:  40%|\u2588\u2588\u2588\u2588      | 12/30 [00:00<00:00, 44.22it/s]\n",
      "\u001b[A\n",
      "\n",
      "\u001b[A\u001b[A\n",
      "\n",
      "\n",
      "\u001b[A\u001b[A\u001b[A\n",
      "\n",
      "\n",
      "\n",
      "\n",
      "\u001b[A\u001b[A\u001b[A\u001b[A\u001b[A\n",
      "\n",
      "\n",
      "\n",
      "\n",
      "\n",
      "\u001b[A\u001b[A\u001b[A\u001b[A\u001b[A\u001b[A\n",
      "\n",
      "\n",
      "\n",
      "Processing samples:  60%|\u2588\u2588\u2588\u2588\u2588\u2588    | 18/30 [00:00<00:00, 46.28it/s]\n",
      "\u001b[A\n",
      "\n",
      "\u001b[A\u001b[A\n",
      "\n",
      "\n",
      "\u001b[A\u001b[A\u001b[A\n",
      "\n",
      "\n",
      "\n",
      "\n",
      "\u001b[A\u001b[A\u001b[A\u001b[A\u001b[A\n",
      "\n",
      "\n",
      "\n",
      "\n",
      "\n",
      "\u001b[A\u001b[A\u001b[A\u001b[A\u001b[A\u001b[A\n",
      "\n",
      "\n",
      "\n",
      "Processing samples:  77%|\u2588\u2588\u2588\u2588\u2588\u2588\u2588\u258b  | 23/30 [00:00<00:00, 42.49it/s]\n",
      "\u001b[A\n",
      "\n",
      "\u001b[A\u001b[A\n",
      "\n",
      "\n",
      "\u001b[A\u001b[A\u001b[A\n",
      "\n",
      "\n",
      "\n",
      "\n",
      "\u001b[A\u001b[A\u001b[A\u001b[A\u001b[A\n",
      "\n",
      "\n",
      "\n",
      "\n",
      "\n",
      "\u001b[A\u001b[A\u001b[A\u001b[A\u001b[A\u001b[A\n",
      "\n",
      "\n",
      "\n",
      "\u001b[A\u001b[A\u001b[A\u001b[A\n",
      "Processing samples:  93%|\u2588\u2588\u2588\u2588\u2588\u2588\u2588\u2588\u2588\u258e| 28/30 [00:00<00:00, 40.04it/s]\n",
      "\n",
      "\u001b[A\u001b[A\n",
      "\n",
      "\n",
      "\u001b[A\u001b[A\u001b[A\n",
      "\n",
      "\n",
      "\n",
      "\n",
      "\u001b[A\u001b[A\u001b[A\u001b[A\u001b[A\n",
      "\n",
      "\n",
      "\n",
      "\n",
      "\n",
      "\u001b[A\u001b[A\u001b[A\u001b[A\u001b[A\u001b[A\n",
      "\n",
      "\n",
      "\n",
      "\u001b[A\u001b[A\u001b[A\u001b[A\n",
      "\u001b[A\n",
      "\n",
      "\u001b[A\u001b[A\n",
      "\n",
      "\n",
      "Processing samples: 100%|\u2588\u2588\u2588\u2588\u2588\u2588\u2588\u2588\u2588\u2588| 30/30 [00:00<00:00, 35.89it/s]\n",
      "\n",
      "\n",
      "\n",
      "\n",
      "\n",
      "Processing samples: 100%|\u2588\u2588\u2588\u2588\u2588\u2588\u2588\u2588\u2588\u2588| 30/30 [00:00<00:00, 34.54it/s]\n",
      "\n",
      "\n",
      "\n",
      "\n",
      "\n",
      "\n",
      "Processing samples: 100%|\u2588\u2588\u2588\u2588\u2588\u2588\u2588\u2588\u2588\u2588| 30/30 [00:00<00:00, 33.05it/s]\n",
      "\n",
      "\n",
      "\n",
      "\n",
      "Processing samples: 100%|\u2588\u2588\u2588\u2588\u2588\u2588\u2588\u2588\u2588\u2588| 30/30 [00:00<00:00, 32.55it/s]\n",
      "Processing samples: 100%|\u2588\u2588\u2588\u2588\u2588\u2588\u2588\u2588\u2588\u2588| 30/30 [00:00<00:00, 33.71it/s]\n",
      "\n",
      "\n",
      "\n",
      "\n",
      "\n",
      "Processing samples: 100%|\u2588\u2588\u2588\u2588\u2588\u2588\u2588\u2588\u2588\u2588| 30/30 [00:00<00:00, 33.40it/s]\n",
      "\n",
      "\n",
      "\n",
      "\n",
      "\n",
      "\n",
      "Processing samples: 100%|\u2588\u2588\u2588\u2588\u2588\u2588\u2588\u2588\u2588\u2588| 30/30 [00:00<00:00, 32.90it/s]\n",
      "\n",
      "\n",
      "\n",
      "\n",
      "Processing samples: 100%|\u2588\u2588\u2588\u2588\u2588\u2588\u2588\u2588\u2588\u2588| 30/30 [00:00<00:00, 33.05it/s]\n"
     ]
    },
    {
     "name": "stdout",
     "output_type": "stream",
     "text": [
      "\u2705 Model loaded successfully!\n",
      "\u2705 Model loaded successfully!\n"
     ]
    },
    {
     "name": "stderr",
     "output_type": "stream",
     "text": [
      "Evaluating explanations (SBERT):   0%|          | 0/30 [00:00<?, ?it/s]"
     ]
    },
    {
     "name": "stdout",
     "output_type": "stream",
     "text": [
      "\u2705 Model loaded successfully!\n"
     ]
    },
    {
     "name": "stderr",
     "output_type": "stream",
     "text": [
      "\n",
      "\u001b[A\n",
      "Evaluating explanations (SBERT):   3%|\u258e         | 1/30 [00:00<00:05,  5.78it/s]"
     ]
    },
    {
     "name": "stdout",
     "output_type": "stream",
     "text": [
      "\u26a0\ufe0f Skipped (no update needed): \\\\?\\c:\\Users\\Noel\\Documents\\Projects\\School\\CSE 576\\Legal-Document-Discrepancy-Benchmark-Dataset\\mini-eval\\responses_v2\\few-shot-self-verification\\self_consistency\\ambiguity_inText\\ADAMSGOLFINC_03_21_2005-EX-10.17-ENDORSEMENTAGREEMENT.txt_0.json\n",
      "\u26a0\ufe0f Skipped (no update needed): \\\\?\\c:\\Users\\Noel\\Documents\\Projects\\School\\CSE 576\\Legal-Document-Discrepancy-Benchmark-Dataset\\mini-eval\\responses_v2\\zero-shot\\self_consistency\\ambiguity_inText\\ADAMSGOLFINC_03_21_2005-EX-10.17-ENDORSEMENTAGREEMENT.txt_0.json\n",
      "\u26a0\ufe0f Skipped (no update needed): \\\\?\\c:\\Users\\Noel\\Documents\\Projects\\School\\CSE 576\\Legal-Document-Discrepancy-Benchmark-Dataset\\mini-eval\\responses_v2\\zero-shot-self-verification-cot\\self_consistency\\ambiguity_inText\\ADAMSGOLFINC_03_21_2005-EX-10.17-ENDORSEMENTAGREEMENT.txt_0.json\n"
     ]
    },
    {
     "name": "stderr",
     "output_type": "stream",
     "text": [
      "Evaluating explanations (SBERT):   7%|\u258b         | 2/30 [00:00<00:04,  6.64it/s]\n",
      "\u001b[A"
     ]
    },
    {
     "name": "stdout",
     "output_type": "stream",
     "text": [
      "\u26a0\ufe0f Skipped (no update needed): \\\\?\\c:\\Users\\Noel\\Documents\\Projects\\School\\CSE 576\\Legal-Document-Discrepancy-Benchmark-Dataset\\mini-eval\\responses_v2\\few-shot-self-verification\\self_consistency\\ambiguity_inText\\BORROWMONEYCOM,INC_06_11_2020-EX-10.1-JOINTVENTUREAGREEMENT.txt_0.json\n",
      "\u26a0\ufe0f Skipped (no update needed): \\\\?\\c:\\Users\\Noel\\Documents\\Projects\\School\\CSE 576\\Legal-Document-Discrepancy-Benchmark-Dataset\\mini-eval\\responses_v2\\zero-shot-self-verification-cot\\self_consistency\\ambiguity_inText\\BORROWMONEYCOM,INC_06_11_2020-EX-10.1-JOINTVENTUREAGREEMENT.txt_0.json\n",
      "\u26a0\ufe0f Skipped (no update needed): \\\\?\\c:\\Users\\Noel\\Documents\\Projects\\School\\CSE 576\\Legal-Document-Discrepancy-Benchmark-Dataset\\mini-eval\\responses_v2\\zero-shot\\self_consistency\\ambiguity_inText\\BORROWMONEYCOM,INC_06_11_2020-EX-10.1-JOINTVENTUREAGREEMENT.txt_0.json\n",
      "\u2705 Model loaded successfully!\n"
     ]
    },
    {
     "name": "stderr",
     "output_type": "stream",
     "text": [
      "\n",
      "\n",
      "\u001b[A\u001b[A\n",
      "\u001b[A\n",
      "\n",
      "Evaluating explanations (SBERT):  10%|\u2588         | 3/30 [00:00<00:05,  5.30it/s]"
     ]
    },
    {
     "name": "stdout",
     "output_type": "stream",
     "text": [
      "\u26a0\ufe0f Skipped (no update needed): \\\\?\\c:\\Users\\Noel\\Documents\\Projects\\School\\CSE 576\\Legal-Document-Discrepancy-Benchmark-Dataset\\mini-eval\\responses_v2\\few-shot-self-verification\\self_consistency\\ambiguity_inText\\CENTRACKINTERNATIONALINC_10_29_1999-EX-10.3-WEBSITEHOSTINGAGREEMENT.txt_0.json\n",
      "\u26a0\ufe0f Skipped (no update needed): \\\\?\\c:\\Users\\Noel\\Documents\\Projects\\School\\CSE 576\\Legal-Document-Discrepancy-Benchmark-Dataset\\mini-eval\\responses_v2\\zero-shot\\self_consistency\\ambiguity_inText\\CENTRACKINTERNATIONALINC_10_29_1999-EX-10.3-WEBSITEHOSTINGAGREEMENT.txt_0.json\n",
      "\u26a0\ufe0f Skipped (no update needed): \\\\?\\c:\\Users\\Noel\\Documents\\Projects\\School\\CSE 576\\Legal-Document-Discrepancy-Benchmark-Dataset\\mini-eval\\responses_v2\\few-shot-cot\\self_consistency\\ambiguity_inText\\ADAMSGOLFINC_03_21_2005-EX-10.17-ENDORSEMENTAGREEMENT.txt_0.json\n",
      "\u26a0\ufe0f Skipped (no update needed): \\\\?\\c:\\Users\\Noel\\Documents\\Projects\\School\\CSE 576\\Legal-Document-Discrepancy-Benchmark-Dataset\\mini-eval\\responses_v2\\zero-shot-self-verification-cot\\self_consistency\\ambiguity_inText\\CENTRACKINTERNATIONALINC_10_29_1999-EX-10.3-WEBSITEHOSTINGAGREEMENT.txt_0.json\n",
      "\u2705 Model loaded successfully!\n"
     ]
    },
    {
     "name": "stderr",
     "output_type": "stream",
     "text": [
      "\n",
      "\n",
      "\n",
      "\u001b[A\u001b[A\u001b[A"
     ]
    },
    {
     "name": "stdout",
     "output_type": "stream",
     "text": [
      "\u2705 Model loaded successfully!\n",
      "\u2705 Model loaded successfully!\n"
     ]
    },
    {
     "name": "stderr",
     "output_type": "stream",
     "text": [
      "\n",
      "\n",
      "\n",
      "\n",
      "\u001b[A\u001b[A\u001b[A\u001b[A\n",
      "\n",
      "\n",
      "\n",
      "\n",
      "\u001b[A\u001b[A\u001b[A\u001b[A\u001b[A"
     ]
    },
    {
     "name": "stdout",
     "output_type": "stream",
     "text": [
      "\u2705 Model loaded successfully!\n"
     ]
    },
    {
     "name": "stderr",
     "output_type": "stream",
     "text": [
      "\n",
      "\n",
      "\n",
      "\n",
      "\n",
      "\n",
      "\u001b[A\u001b[A\u001b[A\u001b[A\u001b[A\u001b[A"
     ]
    },
    {
     "name": "stdout",
     "output_type": "stream",
     "text": [
      "\u26a0\ufe0f Skipped (no update needed): \\\\?\\c:\\Users\\Noel\\Documents\\Projects\\School\\CSE 576\\Legal-Document-Discrepancy-Benchmark-Dataset\\mini-eval\\responses_v2\\few-shot-cot\\self_consistency\\ambiguity_inText\\BORROWMONEYCOM,INC_06_11_2020-EX-10.1-JOINTVENTUREAGREEMENT.txt_0.json"
     ]
    },
    {
     "name": "stderr",
     "output_type": "stream",
     "text": [
      "\n",
      "\n",
      "\u001b[A\u001b[A\n",
      "\n"
     ]
    },
    {
     "name": "stdout",
     "output_type": "stream",
     "text": [
      "\n",
      "\u26a0\ufe0f Skipped (no update needed): \\\\?\\c:\\Users\\Noel\\Documents\\Projects\\School\\CSE 576\\Legal-Document-Discrepancy-Benchmark-Dataset\\mini-eval\\responses_v2\\few-shot-self-verification\\self_consistency\\ambiguity_inText\\DOMINIADVISORTRUST_02_18_2005-EX-99.(H)(2)-SPONSORSHIPAGREEMENT.txt_0.json\n",
      "\u26a0\ufe0f Skipped (no update needed): \\\\?\\c:\\Users\\Noel\\Documents\\Projects\\School\\CSE 576\\Legal-Document-Discrepancy-Benchmark-Dataset\\mini-eval\\responses_v2\\zero-shot\\self_consistency\\ambiguity_inText\\DOMINIADVISORTRUST_02_18_2005-EX-99.(H)(2)-SPONSORSHIPAGREEMENT.txt_0.json\n"
     ]
    },
    {
     "name": "stderr",
     "output_type": "stream",
     "text": [
      "Evaluating explanations (SBERT):  13%|\u2588\u258e        | 4/30 [00:00<00:05,  4.46it/s]\u001b[A\u001b[A\n",
      "\n",
      "\n",
      "\n",
      "\n",
      "\u001b[A\u001b[A\u001b[A\u001b[A\u001b[A\n",
      "\n",
      "\n",
      "\n",
      "\n"
     ]
    },
    {
     "name": "stdout",
     "output_type": "stream",
     "text": [
      "\u26a0\ufe0f Skipped (no update needed): \\\\?\\c:\\Users\\Noel\\Documents\\Projects\\School\\CSE 576\\Legal-Document-Discrepancy-Benchmark-Dataset\\mini-eval\\responses_v2\\zero-shot-self-verification-cot\\self_consistency\\ambiguity_inText\\DOMINIADVISORTRUST_02_18_2005-EX-99.(H)(2)-SPONSORSHIPAGREEMENT.txt_0.json\n",
      "\u26a0\ufe0f Skipped (no update needed): \\\\?\\c:\\Users\\Noel\\Documents\\Projects\\School\\CSE 576\\Legal-Document-Discrepancy-Benchmark-Dataset\\mini-eval\\responses_v2\\zero-shot-self-verification\\self_consistency\\ambiguity_inText\\ADAMSGOLFINC_03_21_2005-EX-10.17-ENDORSEMENTAGREEMENT.txt_0.json\n",
      "\u26a0\ufe0f Skipped (no update needed): \\\\?\\c:\\Users\\Noel\\Documents\\Projects\\School\\CSE 576\\Legal-Document-Discrepancy-Benchmark-Dataset\\mini-eval\\responses_v2\\few-shot-self-verification-cot\\self_consistency\\ambiguity_inText\\ADAMSGOLFINC_03_21_2005-EX-10.17-ENDORSEMENTAGREEMENT.txt_0.json\n",
      "\u26a0\ufe0f Skipped (no update needed): \\\\?\\c:\\Users\\Noel\\Documents\\Projects\\School\\CSE 576\\Legal-Document-Discrepancy-Benchmark-Dataset\\mini-eval\\responses_v2\\few-shot\\self_consistency\\ambiguity_inText\\ADAMSGOLFINC_03_21_2005-EX-10.17-ENDORSEMENTAGREEMENT.txt_0.json\n"
     ]
    },
    {
     "name": "stderr",
     "output_type": "stream",
     "text": [
      "Evaluating explanations (SBERT):   3%|\u258e         | 1/30 [00:00<00:06,  4.22it/s]\u001b[A\u001b[A\u001b[A\u001b[A\u001b[A\n",
      "\n",
      "\n",
      "\u001b[A\u001b[A\u001b[A\n",
      "\n",
      "\n",
      "\n",
      "\n",
      "\n",
      "\u001b[A\u001b[A\u001b[A\u001b[A\u001b[A\u001b[A"
     ]
    },
    {
     "name": "stdout",
     "output_type": "stream",
     "text": [
      "\u26a0\ufe0f Skipped (no update needed): \\\\?\\c:\\Users\\Noel\\Documents\\Projects\\School\\CSE 576\\Legal-Document-Discrepancy-Benchmark-Dataset\\mini-eval\\responses_v2\\zero-shot-cot\\self_consistency\\ambiguity_inText\\ADAMSGOLFINC_03_21_2005-EX-10.17-ENDORSEMENTAGREEMENT.txt_0.json\n"
     ]
    },
    {
     "name": "stderr",
     "output_type": "stream",
     "text": [
      "\n",
      "\n",
      "\u001b[A\u001b[A\n",
      "\n",
      "\n",
      "\n",
      "\n",
      "\n"
     ]
    },
    {
     "name": "stdout",
     "output_type": "stream",
     "text": [
      "\u26a0\ufe0f Skipped (no update needed): \\\\?\\c:\\Users\\Noel\\Documents\\Projects\\School\\CSE 576\\Legal-Document-Discrepancy-Benchmark-Dataset\\mini-eval\\responses_v2\\few-shot-cot\\self_consistency\\ambiguity_inText\\CENTRACKINTERNATIONALINC_10_29_1999-EX-10.3-WEBSITEHOSTINGAGREEMENT.txt_0.json\n",
      "\u26a0\ufe0f Skipped (no update needed): \\\\?\\c:\\Users\\Noel\\Documents\\Projects\\School\\CSE 576\\Legal-Document-Discrepancy-Benchmark-Dataset\\mini-eval\\responses_v2\\zero-shot-self-verification\\self_consistency\\ambiguity_inText\\BORROWMONEYCOM,INC_06_11_2020-EX-10.1-JOINTVENTUREAGREEMENT.txt_0.json\n"
     ]
    },
    {
     "name": "stderr",
     "output_type": "stream",
     "text": [
      "Evaluating explanations (SBERT):   7%|\u258b         | 2/30 [00:00<00:04,  5.75it/s]\u001b[A\u001b[A\u001b[A\u001b[A\u001b[A\u001b[A\n",
      "\n",
      "\n",
      "\u001b[A\u001b[A\u001b[A\n",
      "\n",
      "\n",
      "\n",
      "\u001b[A\u001b[A\u001b[A\u001b[A\n",
      "\n",
      "\n",
      "\n",
      "\n",
      "\n",
      "\u001b[A\u001b[A\u001b[A\u001b[A\u001b[A\u001b[A"
     ]
    },
    {
     "name": "stdout",
     "output_type": "stream",
     "text": [
      "\u26a0\ufe0f Skipped (no update needed): \\\\?\\c:\\Users\\Noel\\Documents\\Projects\\School\\CSE 576\\Legal-Document-Discrepancy-Benchmark-Dataset\\mini-eval\\responses_v2\\few-shot-self-verification\\self_consistency\\ambiguity_inText\\Freecook_20180605_S-1_EX-10.3_11233807_EX-10.3_HostingAgreement.txt_0.json\n",
      "\u26a0\ufe0f Skipped (no update needed): \\\\?\\c:\\Users\\Noel\\Documents\\Projects\\School\\CSE 576\\Legal-Document-Discrepancy-Benchmark-Dataset\\mini-eval\\responses_v2\\few-shot\\self_consistency\\ambiguity_inText\\BORROWMONEYCOM,INC_06_11_2020-EX-10.1-JOINTVENTUREAGREEMENT.txt_0.json\n",
      "\u26a0\ufe0f Skipped (no update needed): \\\\?\\c:\\Users\\Noel\\Documents\\Projects\\School\\CSE 576\\Legal-Document-Discrepancy-Benchmark-Dataset\\mini-eval\\responses_v2\\few-shot-self-verification-cot\\self_consistency\\ambiguity_inText\\BORROWMONEYCOM,INC_06_11_2020-EX-10.1-JOINTVENTUREAGREEMENT.txt_0.json\n",
      "\u26a0\ufe0f Skipped (no update needed): \\\\?\\c:\\Users\\Noel\\Documents\\Projects\\School\\CSE 576\\Legal-Document-Discrepancy-Benchmark-Dataset\\mini-eval\\responses_v2\\zero-shot-cot\\self_consistency\\ambiguity_inText\\BORROWMONEYCOM,INC_06_11_2020-EX-10.1-JOINTVENTUREAGREEMENT.txt_0.json\n",
      "\u26a0\ufe0f Skipped (no update needed): \\\\?\\c:\\Users\\Noel\\Documents\\Projects\\School\\CSE 576\\Legal-Document-Discrepancy-Benchmark-Dataset\\mini-eval\\responses_v2\\zero-shot-self-verification-cot\\self_consistency\\ambiguity_inText\\Freecook_20180605_S-1_EX-10.3_11233807_EX-10.3_HostingAgreement.txt_0.json\n"
     ]
    },
    {
     "name": "stderr",
     "output_type": "stream",
     "text": [
      "Evaluating explanations (SBERT):  17%|\u2588\u258b        | 5/30 [00:01<00:05,  4.27it/s]\n",
      "\u001b[A"
     ]
    },
    {
     "name": "stdout",
     "output_type": "stream",
     "text": [
      "\u26a0\ufe0f Skipped (no update needed): \\\\?\\c:\\Users\\Noel\\Documents\\Projects\\School\\CSE 576\\Legal-Document-Discrepancy-Benchmark-Dataset\\mini-eval\\responses_v2\\zero-shot\\self_consistency\\ambiguity_inText\\Freecook_20180605_S-1_EX-10.3_11233807_EX-10.3_HostingAgreement.txt_0.json\n"
     ]
    },
    {
     "name": "stderr",
     "output_type": "stream",
     "text": [
      "\n",
      "\n",
      "\u001b[A\u001b[A\n",
      "\n",
      "\n",
      "\n",
      "\n",
      "\n"
     ]
    },
    {
     "name": "stdout",
     "output_type": "stream",
     "text": [
      "\u26a0\ufe0f Skipped (no update needed): \\\\?\\c:\\Users\\Noel\\Documents\\Projects\\School\\CSE 576\\Legal-Document-Discrepancy-Benchmark-Dataset\\mini-eval\\responses_v2\\few-shot-cot\\self_consistency\\ambiguity_inText\\DOMINIADVISORTRUST_02_18_2005-EX-99.(H)(2)-SPONSORSHIPAGREEMENT.txt_0.json\n",
      "\u26a0\ufe0f Skipped (no update needed): \\\\?\\c:\\Users\\Noel\\Documents\\Projects\\School\\CSE 576\\Legal-Document-Discrepancy-Benchmark-Dataset\\mini-eval\\responses_v2\\zero-shot-self-verification\\self_consistency\\ambiguity_inText\\CENTRACKINTERNATIONALINC_10_29_1999-EX-10.3-WEBSITEHOSTINGAGREEMENT.txt_0.json\n"
     ]
    },
    {
     "name": "stderr",
     "output_type": "stream",
     "text": [
      "Evaluating explanations (SBERT):  20%|\u2588\u2588        | 6/30 [00:01<00:05,  4.66it/s]\u001b[A\u001b[A\u001b[A\u001b[A\u001b[A\u001b[A\n",
      "\n"
     ]
    },
    {
     "name": "stdout",
     "output_type": "stream",
     "text": [
      "\u26a0\ufe0f Skipped (no update needed): \\\\?\\c:\\Users\\Noel\\Documents\\Projects\\School\\CSE 576\\Legal-Document-Discrepancy-Benchmark-Dataset\\mini-eval\\responses_v2\\few-shot-self-verification\\self_consistency\\inconsistencies_inText\\ADAMSGOLFINC_03_21_2005-EX-10.17-ENDORSEMENTAGREEMENT.txt_0.json\n",
      "\u26a0\ufe0f Skipped (no update needed): \\\\?\\c:\\Users\\Noel\\Documents\\Projects\\School\\CSE 576\\Legal-Document-Discrepancy-Benchmark-Dataset\\mini-eval\\responses_v2\\zero-shot-self-verification-cot\\self_consistency\\inconsistencies_inText\\ADAMSGOLFINC_03_21_2005-EX-10.17-ENDORSEMENTAGREEMENT.txt_0.json\n",
      "\u26a0\ufe0f Skipped (no update needed): \\\\?\\c:\\Users\\Noel\\Documents\\Projects\\School\\CSE 576\\Legal-Document-Discrepancy-Benchmark-Dataset\\mini-eval\\responses_v2\\zero-shot\\self_consistency\\inconsistencies_inText\\ADAMSGOLFINC_03_21_2005-EX-10.17-ENDORSEMENTAGREEMENT.txt_0.json\n"
     ]
    },
    {
     "name": "stderr",
     "output_type": "stream",
     "text": [
      "Evaluating explanations (SBERT):  20%|\u2588\u2588        | 6/30 [00:01<00:05,  4.58it/s]\u001b[A\u001b[A\n",
      "\n",
      "\n",
      "\n",
      "\n",
      "\n",
      "\u001b[A\u001b[A\u001b[A\u001b[A\u001b[A\u001b[A\n",
      "\n",
      "\n",
      "\u001b[A\u001b[A\u001b[A\n",
      "\n",
      "\n",
      "\n",
      "\u001b[A\u001b[A\u001b[A\u001b[A"
     ]
    },
    {
     "name": "stdout",
     "output_type": "stream",
     "text": [
      "\u26a0\ufe0f Skipped (no update needed): \\\\?\\c:\\Users\\Noel\\Documents\\Projects\\School\\CSE 576\\Legal-Document-Discrepancy-Benchmark-Dataset\\mini-eval\\responses_v2\\zero-shot-cot\\self_consistency\\ambiguity_inText\\CENTRACKINTERNATIONALINC_10_29_1999-EX-10.3-WEBSITEHOSTINGAGREEMENT.txt_0.json\n",
      "\u26a0\ufe0f Skipped (no update needed): \\\\?\\c:\\Users\\Noel\\Documents\\Projects\\School\\CSE 576\\Legal-Document-Discrepancy-Benchmark-Dataset\\mini-eval\\responses_v2\\few-shot\\self_consistency\\ambiguity_inText\\CENTRACKINTERNATIONALINC_10_29_1999-EX-10.3-WEBSITEHOSTINGAGREEMENT.txt_0.json\n",
      "\u26a0\ufe0f Skipped (no update needed): \\\\?\\c:\\Users\\Noel\\Documents\\Projects\\School\\CSE 576\\Legal-Document-Discrepancy-Benchmark-Dataset\\mini-eval\\responses_v2\\few-shot-self-verification-cot\\self_consistency\\ambiguity_inText\\CENTRACKINTERNATIONALINC_10_29_1999-EX-10.3-WEBSITEHOSTINGAGREEMENT.txt_0.json\n"
     ]
    },
    {
     "name": "stderr",
     "output_type": "stream",
     "text": [
      "\n",
      "\n",
      "\u001b[A\u001b[A\n",
      "\n",
      "\n",
      "\n",
      "\n",
      "\n"
     ]
    },
    {
     "name": "stdout",
     "output_type": "stream",
     "text": [
      "\u26a0\ufe0f Skipped (no update needed): \\\\?\\c:\\Users\\Noel\\Documents\\Projects\\School\\CSE 576\\Legal-Document-Discrepancy-Benchmark-Dataset\\mini-eval\\responses_v2\\few-shot-cot\\self_consistency\\ambiguity_inText\\Freecook_20180605_S-1_EX-10.3_11233807_EX-10.3_HostingAgreement.txt_0.json\n",
      "\u26a0\ufe0f Skipped (no update needed): \\\\?\\c:\\Users\\Noel\\Documents\\Projects\\School\\CSE 576\\Legal-Document-Discrepancy-Benchmark-Dataset\\mini-eval\\responses_v2\\zero-shot-self-verification\\self_consistency\\ambiguity_inText\\DOMINIADVISORTRUST_02_18_2005-EX-99.(H)(2)-SPONSORSHIPAGREEMENT.txt_0.json\n"
     ]
    },
    {
     "name": "stderr",
     "output_type": "stream",
     "text": [
      "Evaluating explanations (SBERT):  23%|\u2588\u2588\u258e       | 7/30 [00:01<00:05,  3.85it/s]\u001b[A\u001b[A\u001b[A\u001b[A\u001b[A\u001b[A"
     ]
    },
    {
     "name": "stdout",
     "output_type": "stream",
     "text": [
      "\u26a0\ufe0f Skipped (no update needed): \\\\?\\c:\\Users\\Noel\\Documents\\Projects\\School\\CSE 576\\Legal-Document-Discrepancy-Benchmark-Dataset\\mini-eval\\responses_v2\\few-shot-self-verification\\self_consistency\\inconsistencies_inText\\BORROWMONEYCOM,INC_06_11_2020-EX-10.1-JOINTVENTUREAGREEMENT.txt_0.json\n",
      "\u26a0\ufe0f Skipped (no update needed): \\\\?\\c:\\Users\\Noel\\Documents\\Projects\\School\\CSE 576\\Legal-Document-Discrepancy-Benchmark-Dataset\\mini-eval\\responses_v2\\zero-shot-self-verification-cot\\self_consistency\\inconsistencies_inText\\BORROWMONEYCOM,INC_06_11_2020-EX-10.1-JOINTVENTUREAGREEMENT.txt_0.json\n"
     ]
    },
    {
     "name": "stderr",
     "output_type": "stream",
     "text": [
      "\n",
      "\u001b[A\n",
      "\n",
      "\n",
      "\u001b[A\u001b[A\u001b[A\n",
      "\n",
      "\u001b[A\u001b[A\n",
      "\n",
      "\n",
      "\n",
      "\n",
      "\n",
      "\u001b[A\u001b[A\u001b[A\u001b[A\u001b[A\u001b[A\n",
      "\n",
      "\n",
      "\n",
      "\u001b[A\u001b[A\u001b[A\u001b[A\n",
      "\n",
      "\n",
      "\n",
      "\n",
      "\n"
     ]
    },
    {
     "name": "stdout",
     "output_type": "stream",
     "text": [
      "\u26a0\ufe0f Skipped (no update needed): \\\\?\\c:\\Users\\Noel\\Documents\\Projects\\School\\CSE 576\\Legal-Document-Discrepancy-Benchmark-Dataset\\mini-eval\\responses_v2\\few-shot\\self_consistency\\ambiguity_inText\\DOMINIADVISORTRUST_02_18_2005-EX-99.(H)(2)-SPONSORSHIPAGREEMENT.txt_0.json\u26a0\ufe0f Skipped (no update needed): \\\\?\\c:\\Users\\Noel\\Documents\\Projects\\School\\CSE 576\\Legal-Document-Discrepancy-Benchmark-Dataset\\mini-eval\\responses_v2\\zero-shot\\self_consistency\\inconsistencies_inText\\BORROWMONEYCOM,INC_06_11_2020-EX-10.1-JOINTVENTUREAGREEMENT.txt_0.json\n",
      "\n",
      "\u26a0\ufe0f Skipped (no update needed): \\\\?\\c:\\Users\\Noel\\Documents\\Projects\\School\\CSE 576\\Legal-Document-Discrepancy-Benchmark-Dataset\\mini-eval\\responses_v2\\few-shot-cot\\self_consistency\\inconsistencies_inText\\ADAMSGOLFINC_03_21_2005-EX-10.17-ENDORSEMENTAGREEMENT.txt_0.json\n",
      "\u26a0\ufe0f Skipped (no update needed): \\\\?\\c:\\Users\\Noel\\Documents\\Projects\\School\\CSE 576\\Legal-Document-Discrepancy-Benchmark-Dataset\\mini-eval\\responses_v2\\zero-shot-cot\\self_consistency\\ambiguity_inText\\DOMINIADVISORTRUST_02_18_2005-EX-99.(H)(2)-SPONSORSHIPAGREEMENT.txt_0.json\n",
      "\u26a0\ufe0f Skipped (no update needed): \\\\?\\c:\\Users\\Noel\\Documents\\Projects\\School\\CSE 576\\Legal-Document-Discrepancy-Benchmark-Dataset\\mini-eval\\responses_v2\\few-shot-self-verification-cot\\self_consistency\\ambiguity_inText\\DOMINIADVISORTRUST_02_18_2005-EX-99.(H)(2)-SPONSORSHIPAGREEMENT.txt_0.json\n",
      "\u26a0\ufe0f Skipped (no update needed): \\\\?\\c:\\Users\\Noel\\Documents\\Projects\\School\\CSE 576\\Legal-Document-Discrepancy-Benchmark-Dataset\\mini-eval\\responses_v2\\zero-shot-self-verification\\self_consistency\\ambiguity_inText\\Freecook_20180605_S-1_EX-10.3_11233807_EX-10.3_HostingAgreement.txt_0.json\n"
     ]
    },
    {
     "name": "stderr",
     "output_type": "stream",
     "text": [
      "Evaluating explanations (SBERT):  27%|\u2588\u2588\u258b       | 8/30 [00:01<00:05,  4.24it/s]\u001b[A\u001b[A\u001b[A\u001b[A\u001b[A\u001b[A\n",
      "\u001b[A"
     ]
    },
    {
     "name": "stdout",
     "output_type": "stream",
     "text": [
      "\u26a0\ufe0f Skipped (no update needed): \\\\?\\c:\\Users\\Noel\\Documents\\Projects\\School\\CSE 576\\Legal-Document-Discrepancy-Benchmark-Dataset\\mini-eval\\responses_v2\\few-shot-self-verification\\self_consistency\\inconsistencies_inText\\CENTRACKINTERNATIONALINC_10_29_1999-EX-10.3-WEBSITEHOSTINGAGREEMENT.txt_0.json\n",
      "\u26a0\ufe0f Skipped (no update needed): \\\\?\\c:\\Users\\Noel\\Documents\\Projects\\School\\CSE 576\\Legal-Document-Discrepancy-Benchmark-Dataset\\mini-eval\\responses_v2\\zero-shot-self-verification-cot\\self_consistency\\inconsistencies_inText\\CENTRACKINTERNATIONALINC_10_29_1999-EX-10.3-WEBSITEHOSTINGAGREEMENT.txt_0.json\n",
      "\u26a0\ufe0f Skipped (no update needed): \\\\?\\c:\\Users\\Noel\\Documents\\Projects\\School\\CSE 576\\Legal-Document-Discrepancy-Benchmark-Dataset\\mini-eval\\responses_v2\\zero-shot\\self_consistency\\inconsistencies_inText\\CENTRACKINTERNATIONALINC_10_29_1999-EX-10.3-WEBSITEHOSTINGAGREEMENT.txt_0.json\n"
     ]
    },
    {
     "name": "stderr",
     "output_type": "stream",
     "text": [
      "\n",
      "\n",
      "\n",
      "\u001b[A\u001b[A\u001b[A\n",
      "\n",
      "\n",
      "\n",
      "\n",
      "\n",
      "\u001b[A\u001b[A\u001b[A\u001b[A\u001b[A\u001b[A\n",
      "\n",
      "\n",
      "\n",
      "\u001b[A\u001b[A\u001b[A\u001b[A\n",
      "\n",
      "\n",
      "\n",
      "\n",
      "\u001b[A\u001b[A\u001b[A\u001b[A\u001b[A\n",
      "\n",
      "\u001b[A\u001b[A\n",
      "\n"
     ]
    },
    {
     "name": "stdout",
     "output_type": "stream",
     "text": [
      "\u26a0\ufe0f Skipped (no update needed): \\\\?\\c:\\Users\\Noel\\Documents\\Projects\\School\\CSE 576\\Legal-Document-Discrepancy-Benchmark-Dataset\\mini-eval\\responses_v2\\few-shot\\self_consistency\\ambiguity_inText\\Freecook_20180605_S-1_EX-10.3_11233807_EX-10.3_HostingAgreement.txt_0.json\n",
      "\u26a0\ufe0f Skipped (no update needed): \\\\?\\c:\\Users\\Noel\\Documents\\Projects\\School\\CSE 576\\Legal-Document-Discrepancy-Benchmark-Dataset\\mini-eval\\responses_v2\\zero-shot-cot\\self_consistency\\ambiguity_inText\\Freecook_20180605_S-1_EX-10.3_11233807_EX-10.3_HostingAgreement.txt_0.json\n",
      "\u26a0\ufe0f Skipped (no update needed): \\\\?\\c:\\Users\\Noel\\Documents\\Projects\\School\\CSE 576\\Legal-Document-Discrepancy-Benchmark-Dataset\\mini-eval\\responses_v2\\few-shot-self-verification-cot\\self_consistency\\ambiguity_inText\\Freecook_20180605_S-1_EX-10.3_11233807_EX-10.3_HostingAgreement.txt_0.json\n",
      "\u26a0\ufe0f Skipped (no update needed): \\\\?\\c:\\Users\\Noel\\Documents\\Projects\\School\\CSE 576\\Legal-Document-Discrepancy-Benchmark-Dataset\\mini-eval\\responses_v2\\zero-shot-self-verification\\self_consistency\\inconsistencies_inText\\ADAMSGOLFINC_03_21_2005-EX-10.17-ENDORSEMENTAGREEMENT.txt_0.json\n",
      "\u26a0\ufe0f Skipped (no update needed): \\\\?\\c:\\Users\\Noel\\Documents\\Projects\\School\\CSE 576\\Legal-Document-Discrepancy-Benchmark-Dataset\\mini-eval\\responses_v2\\few-shot-self-verification\\self_consistency\\inconsistencies_inText\\DOMINIADVISORTRUST_02_18_2005-EX-99.(H)(2)-SPONSORSHIPAGREEMENT.txt_0.json\n",
      "\u26a0\ufe0f Skipped (no update needed): \\\\?\\c:\\Users\\Noel\\Documents\\Projects\\School\\CSE 576\\Legal-Document-Discrepancy-Benchmark-Dataset\\mini-eval\\responses_v2\\few-shot-cot\\self_consistency\\inconsistencies_inText\\BORROWMONEYCOM,INC_06_11_2020-EX-10.1-JOINTVENTUREAGREEMENT.txt_0.json\n",
      "\u26a0\ufe0f Skipped (no update needed): \\\\?\\c:\\Users\\Noel\\Documents\\Projects\\School\\CSE 576\\Legal-Document-Discrepancy-Benchmark-Dataset\\mini-eval\\responses_v2\\zero-shot\\self_consistency\\inconsistencies_inText\\DOMINIADVISORTRUST_02_18_2005-EX-99.(H)(2)-SPONSORSHIPAGREEMENT.txt_0.json\n"
     ]
    },
    {
     "name": "stderr",
     "output_type": "stream",
     "text": [
      "Evaluating explanations (SBERT):  30%|\u2588\u2588\u2588       | 9/30 [00:01<00:04,  4.54it/s]\u001b[A\u001b[A\n",
      "\n",
      "\n",
      "\u001b[A\u001b[A\u001b[A\n",
      "\n",
      "\n",
      "\n",
      "\n",
      "\n",
      "\u001b[A\u001b[A\u001b[A\u001b[A\u001b[A\u001b[A\n"
     ]
    },
    {
     "name": "stdout",
     "output_type": "stream",
     "text": [
      "\u26a0\ufe0f Skipped (no update needed): \\\\?\\c:\\Users\\Noel\\Documents\\Projects\\School\\CSE 576\\Legal-Document-Discrepancy-Benchmark-Dataset\\mini-eval\\responses_v2\\zero-shot-self-verification-cot\\self_consistency\\inconsistencies_inText\\DOMINIADVISORTRUST_02_18_2005-EX-99.(H)(2)-SPONSORSHIPAGREEMENT.txt_0.json\n",
      "\u26a0\ufe0f Skipped (no update needed): \\\\?\\c:\\Users\\Noel\\Documents\\Projects\\School\\CSE 576\\Legal-Document-Discrepancy-Benchmark-Dataset\\mini-eval\\responses_v2\\few-shot\\self_consistency\\inconsistencies_inText\\ADAMSGOLFINC_03_21_2005-EX-10.17-ENDORSEMENTAGREEMENT.txt_0.json\n",
      "\u26a0\ufe0f Skipped (no update needed): \\\\?\\c:\\Users\\Noel\\Documents\\Projects\\School\\CSE 576\\Legal-Document-Discrepancy-Benchmark-Dataset\\mini-eval\\responses_v2\\zero-shot-cot\\self_consistency\\inconsistencies_inText\\ADAMSGOLFINC_03_21_2005-EX-10.17-ENDORSEMENTAGREEMENT.txt_0.json\n",
      "\u26a0\ufe0f Skipped (no update needed): \\\\?\\c:\\Users\\Noel\\Documents\\Projects\\School\\CSE 576\\Legal-Document-Discrepancy-Benchmark-Dataset\\mini-eval\\responses_v2\\few-shot-self-verification\\self_consistency\\inconsistencies_inText\\Freecook_20180605_S-1_EX-10.3_11233807_EX-10.3_HostingAgreement.txt_0.json\n"
     ]
    },
    {
     "name": "stderr",
     "output_type": "stream",
     "text": [
      "Evaluating explanations (SBERT):  33%|\u2588\u2588\u2588\u258e      | 10/30 [00:02<00:03,  5.11it/s]\u001b[A\n",
      "\n",
      "\n",
      "\n",
      "\u001b[A\u001b[A\u001b[A\u001b[A\n",
      "Evaluating explanations (SBERT):  33%|\u2588\u2588\u2588\u258e      | 10/30 [00:02<00:03,  5.00it/s]\n",
      "\n",
      "\u001b[A\u001b[A"
     ]
    },
    {
     "name": "stdout",
     "output_type": "stream",
     "text": [
      "\u26a0\ufe0f Skipped (no update needed): \\\\?\\c:\\Users\\Noel\\Documents\\Projects\\School\\CSE 576\\Legal-Document-Discrepancy-Benchmark-Dataset\\mini-eval\\responses_v2\\few-shot-self-verification-cot\\self_consistency\\inconsistencies_inText\\ADAMSGOLFINC_03_21_2005-EX-10.17-ENDORSEMENTAGREEMENT.txt_0.json\n",
      "\u26a0\ufe0f Skipped (no update needed): \\\\?\\c:\\Users\\Noel\\Documents\\Projects\\School\\CSE 576\\Legal-Document-Discrepancy-Benchmark-Dataset\\mini-eval\\responses_v2\\zero-shot\\self_consistency\\inconsistencies_inText\\Freecook_20180605_S-1_EX-10.3_11233807_EX-10.3_HostingAgreement.txt_0.json\n",
      "\u26a0\ufe0f Skipped (no update needed): \\\\?\\c:\\Users\\Noel\\Documents\\Projects\\School\\CSE 576\\Legal-Document-Discrepancy-Benchmark-Dataset\\mini-eval\\responses_v2\\zero-shot-self-verification-cot\\self_consistency\\inconsistencies_inText\\Freecook_20180605_S-1_EX-10.3_11233807_EX-10.3_HostingAgreement.txt_0.json\n",
      "\u26a0\ufe0f Skipped (no update needed): \\\\?\\c:\\Users\\Noel\\Documents\\Projects\\School\\CSE 576\\Legal-Document-Discrepancy-Benchmark-Dataset\\mini-eval\\responses_v2\\few-shot-cot\\self_consistency\\inconsistencies_inText\\CENTRACKINTERNATIONALINC_10_29_1999-EX-10.3-WEBSITEHOSTINGAGREEMENT.txt_0.json\n"
     ]
    },
    {
     "name": "stderr",
     "output_type": "stream",
     "text": [
      "\n",
      "\n",
      "\n",
      "\n",
      "\n",
      "\u001b[A\u001b[A\u001b[A\u001b[A\u001b[A\n",
      "\n",
      "\u001b[A\u001b[A\n"
     ]
    },
    {
     "name": "stdout",
     "output_type": "stream",
     "text": [
      "\u26a0\ufe0f Skipped (no update needed): \\\\?\\c:\\Users\\Noel\\Documents\\Projects\\School\\CSE 576\\Legal-Document-Discrepancy-Benchmark-Dataset\\mini-eval\\responses_v2\\zero-shot-self-verification\\self_consistency\\inconsistencies_inText\\BORROWMONEYCOM,INC_06_11_2020-EX-10.1-JOINTVENTUREAGREEMENT.txt_0.json\n",
      "\u26a0\ufe0f Skipped (no update needed): \\\\?\\c:\\Users\\Noel\\Documents\\Projects\\School\\CSE 576\\Legal-Document-Discrepancy-Benchmark-Dataset\\mini-eval\\responses_v2\\few-shot-cot\\self_consistency\\inconsistencies_inText\\DOMINIADVISORTRUST_02_18_2005-EX-99.(H)(2)-SPONSORSHIPAGREEMENT.txt_0.json\n",
      "\u26a0\ufe0f Skipped (no update needed): \\\\?\\c:\\Users\\Noel\\Documents\\Projects\\School\\CSE 576\\Legal-Document-Discrepancy-Benchmark-Dataset\\mini-eval\\responses_v2\\few-shot-self-verification\\self_consistency\\misaligned_terminalogy_inText\\ADAMSGOLFINC_03_21_2005-EX-10.17-ENDORSEMENTAGREEMENT.txt_0.json\n"
     ]
    },
    {
     "name": "stderr",
     "output_type": "stream",
     "text": [
      "Evaluating explanations (SBERT):  37%|\u2588\u2588\u2588\u258b      | 11/30 [00:02<00:03,  5.20it/s]\u001b[A\n",
      "\u001b[A\n",
      "\n",
      "\n",
      "\u001b[A\u001b[A\u001b[A\n",
      "\n",
      "\n",
      "\n",
      "\n",
      "\n",
      "\u001b[A\u001b[A\u001b[A\u001b[A\u001b[A\u001b[A\n",
      "\n",
      "\n",
      "\n",
      "\n",
      "\u001b[A\u001b[A\u001b[A\u001b[A\u001b[A\n",
      "\n",
      "\n",
      "\n",
      "\n"
     ]
    },
    {
     "name": "stdout",
     "output_type": "stream",
     "text": [
      "\u26a0\ufe0f Skipped (no update needed): \\\\?\\c:\\Users\\Noel\\Documents\\Projects\\School\\CSE 576\\Legal-Document-Discrepancy-Benchmark-Dataset\\mini-eval\\responses_v2\\zero-shot-self-verification-cot\\self_consistency\\misaligned_terminalogy_inText\\ADAMSGOLFINC_03_21_2005-EX-10.17-ENDORSEMENTAGREEMENT.txt_0.json\n",
      "\u26a0\ufe0f Skipped (no update needed): \\\\?\\c:\\Users\\Noel\\Documents\\Projects\\School\\CSE 576\\Legal-Document-Discrepancy-Benchmark-Dataset\\mini-eval\\responses_v2\\zero-shot\\self_consistency\\misaligned_terminalogy_inText\\ADAMSGOLFINC_03_21_2005-EX-10.17-ENDORSEMENTAGREEMENT.txt_0.json\n",
      "\u26a0\ufe0f Skipped (no update needed): \\\\?\\c:\\Users\\Noel\\Documents\\Projects\\School\\CSE 576\\Legal-Document-Discrepancy-Benchmark-Dataset\\mini-eval\\responses_v2\\few-shot\\self_consistency\\inconsistencies_inText\\BORROWMONEYCOM,INC_06_11_2020-EX-10.1-JOINTVENTUREAGREEMENT.txt_0.json\n",
      "\u26a0\ufe0f Skipped (no update needed): \\\\?\\c:\\Users\\Noel\\Documents\\Projects\\School\\CSE 576\\Legal-Document-Discrepancy-Benchmark-Dataset\\mini-eval\\responses_v2\\zero-shot-cot\\self_consistency\\inconsistencies_inText\\BORROWMONEYCOM,INC_06_11_2020-EX-10.1-JOINTVENTUREAGREEMENT.txt_0.json\n",
      "\u26a0\ufe0f Skipped (no update needed): \\\\?\\c:\\Users\\Noel\\Documents\\Projects\\School\\CSE 576\\Legal-Document-Discrepancy-Benchmark-Dataset\\mini-eval\\responses_v2\\zero-shot-self-verification\\self_consistency\\inconsistencies_inText\\CENTRACKINTERNATIONALINC_10_29_1999-EX-10.3-WEBSITEHOSTINGAGREEMENT.txt_0.json\n",
      "\u26a0\ufe0f Skipped (no update needed): \\\\?\\c:\\Users\\Noel\\Documents\\Projects\\School\\CSE 576\\Legal-Document-Discrepancy-Benchmark-Dataset\\mini-eval\\responses_v2\\few-shot-self-verification-cot\\self_consistency\\inconsistencies_inText\\BORROWMONEYCOM,INC_06_11_2020-EX-10.1-JOINTVENTUREAGREEMENT.txt_0.json\n"
     ]
    },
    {
     "name": "stderr",
     "output_type": "stream",
     "text": [
      "Evaluating explanations (SBERT):  23%|\u2588\u2588\u258e       | 7/30 [00:01<00:05,  3.87it/s]\u001b[A\u001b[A\u001b[A\u001b[A\u001b[A\n",
      "\n",
      "\u001b[A\u001b[A\n",
      "\n",
      "\n",
      "\n"
     ]
    },
    {
     "name": "stdout",
     "output_type": "stream",
     "text": [
      "\u26a0\ufe0f Skipped (no update needed): \\\\?\\c:\\Users\\Noel\\Documents\\Projects\\School\\CSE 576\\Legal-Document-Discrepancy-Benchmark-Dataset\\mini-eval\\responses_v2\\few-shot-cot\\self_consistency\\inconsistencies_inText\\Freecook_20180605_S-1_EX-10.3_11233807_EX-10.3_HostingAgreement.txt_0.json\n",
      "\u26a0\ufe0f Skipped (no update needed): \\\\?\\c:\\Users\\Noel\\Documents\\Projects\\School\\CSE 576\\Legal-Document-Discrepancy-Benchmark-Dataset\\mini-eval\\responses_v2\\few-shot-self-verification\\self_consistency\\misaligned_terminalogy_inText\\BORROWMONEYCOM,INC_06_11_2020-EX-10.1-JOINTVENTUREAGREEMENT.txt_0.json\n",
      "\u26a0\ufe0f Skipped (no update needed): \\\\?\\c:\\Users\\Noel\\Documents\\Projects\\School\\CSE 576\\Legal-Document-Discrepancy-Benchmark-Dataset\\mini-eval\\responses_v2\\few-shot\\self_consistency\\inconsistencies_inText\\CENTRACKINTERNATIONALINC_10_29_1999-EX-10.3-WEBSITEHOSTINGAGREEMENT.txt_0.json\n"
     ]
    },
    {
     "name": "stderr",
     "output_type": "stream",
     "text": [
      "Evaluating explanations (SBERT):  27%|\u2588\u2588\u258b       | 8/30 [00:01<00:04,  4.56it/s]\u001b[A\u001b[A\u001b[A\u001b[A\n",
      "Evaluating explanations (SBERT):  40%|\u2588\u2588\u2588\u2588      | 12/30 [00:02<00:03,  5.10it/s]\n",
      "\n",
      "\n",
      "\n",
      "\n",
      "\n",
      "\u001b[A\u001b[A\u001b[A\u001b[A\u001b[A\u001b[A\n",
      "\n",
      "\n",
      "\n",
      "\n",
      "\u001b[A\u001b[A\u001b[A\u001b[A\u001b[A\n",
      "\n",
      "\n",
      "\n",
      "\u001b[A\u001b[A\u001b[A\u001b[A\n",
      "\n",
      "\u001b[A\u001b[A"
     ]
    },
    {
     "name": "stdout",
     "output_type": "stream",
     "text": [
      "\u26a0\ufe0f Skipped (no update needed): \\\\?\\c:\\Users\\Noel\\Documents\\Projects\\School\\CSE 576\\Legal-Document-Discrepancy-Benchmark-Dataset\\mini-eval\\responses_v2\\zero-shot\\self_consistency\\misaligned_terminalogy_inText\\BORROWMONEYCOM,INC_06_11_2020-EX-10.1-JOINTVENTUREAGREEMENT.txt_0.json\n",
      "\u26a0\ufe0f Skipped (no update needed): \\\\?\\c:\\Users\\Noel\\Documents\\Projects\\School\\CSE 576\\Legal-Document-Discrepancy-Benchmark-Dataset\\mini-eval\\responses_v2\\zero-shot-self-verification-cot\\self_consistency\\misaligned_terminalogy_inText\\BORROWMONEYCOM,INC_06_11_2020-EX-10.1-JOINTVENTUREAGREEMENT.txt_0.json\n",
      "\u26a0\ufe0f Skipped (no update needed): \\\\?\\c:\\Users\\Noel\\Documents\\Projects\\School\\CSE 576\\Legal-Document-Discrepancy-Benchmark-Dataset\\mini-eval\\responses_v2\\zero-shot-cot\\self_consistency\\inconsistencies_inText\\CENTRACKINTERNATIONALINC_10_29_1999-EX-10.3-WEBSITEHOSTINGAGREEMENT.txt_0.json\n",
      "\u26a0\ufe0f Skipped (no update needed): \\\\?\\c:\\Users\\Noel\\Documents\\Projects\\School\\CSE 576\\Legal-Document-Discrepancy-Benchmark-Dataset\\mini-eval\\responses_v2\\zero-shot-self-verification\\self_consistency\\inconsistencies_inText\\DOMINIADVISORTRUST_02_18_2005-EX-99.(H)(2)-SPONSORSHIPAGREEMENT.txt_0.json\n",
      "\u26a0\ufe0f Skipped (no update needed): \\\\?\\c:\\Users\\Noel\\Documents\\Projects\\School\\CSE 576\\Legal-Document-Discrepancy-Benchmark-Dataset\\mini-eval\\responses_v2\\few-shot-self-verification-cot\\self_consistency\\inconsistencies_inText\\CENTRACKINTERNATIONALINC_10_29_1999-EX-10.3-WEBSITEHOSTINGAGREEMENT.txt_0.json\n",
      "\u26a0\ufe0f Skipped (no update needed): \\\\?\\c:\\Users\\Noel\\Documents\\Projects\\School\\CSE 576\\Legal-Document-Discrepancy-Benchmark-Dataset\\mini-eval\\responses_v2\\few-shot-cot\\self_consistency\\misaligned_terminalogy_inText\\ADAMSGOLFINC_03_21_2005-EX-10.17-ENDORSEMENTAGREEMENT.txt_0.json\n"
     ]
    },
    {
     "name": "stderr",
     "output_type": "stream",
     "text": [
      "\n",
      "\n",
      "\n",
      "\n",
      "\n",
      "\u001b[A\u001b[A\u001b[A\u001b[A\u001b[A\n",
      "\n",
      "\n",
      "\n",
      "Evaluating explanations (SBERT):  30%|\u2588\u2588\u2588       | 9/30 [00:02<00:04,  4.78it/s]"
     ]
    },
    {
     "name": "stdout",
     "output_type": "stream",
     "text": [
      "\u26a0\ufe0f Skipped (no update needed): \\\\?\\c:\\Users\\Noel\\Documents\\Projects\\School\\CSE 576\\Legal-Document-Discrepancy-Benchmark-Dataset\\mini-eval\\responses_v2\\few-shot-self-verification\\self_consistency\\misaligned_terminalogy_inText\\CENTRACKINTERNATIONALINC_10_29_1999-EX-10.3-WEBSITEHOSTINGAGREEMENT.txt_0.json\n",
      "\u26a0\ufe0f Skipped (no update needed): \\\\?\\c:\\Users\\Noel\\Documents\\Projects\\School\\CSE 576\\Legal-Document-Discrepancy-Benchmark-Dataset\\mini-eval\\responses_v2\\zero-shot-self-verification\\self_consistency\\inconsistencies_inText\\Freecook_20180605_S-1_EX-10.3_11233807_EX-10.3_HostingAgreement.txt_0.json\n",
      "\u26a0\ufe0f Skipped (no update needed): \\\\?\\c:\\Users\\Noel\\Documents\\Projects\\School\\CSE 576\\Legal-Document-Discrepancy-Benchmark-Dataset\\mini-eval\\responses_v2\\few-shot\\self_consistency\\inconsistencies_inText\\DOMINIADVISORTRUST_02_18_2005-EX-99.(H)(2)-SPONSORSHIPAGREEMENT.txt_0.json\n"
     ]
    },
    {
     "name": "stderr",
     "output_type": "stream",
     "text": [
      "\u001b[A\u001b[A\u001b[A\u001b[A\n",
      "\n",
      "\n",
      "\n",
      "\n",
      "\n",
      "\u001b[A\u001b[A\u001b[A\u001b[A\u001b[A\u001b[A\n",
      "\n",
      "\n",
      "\n",
      "Evaluating explanations (SBERT):  43%|\u2588\u2588\u2588\u2588\u258e     | 13/30 [00:02<00:03,  4.81it/s]\n",
      "\n",
      "\u001b[A\u001b[A\n",
      "\u001b[A\n",
      "\n",
      "\n",
      "\u001b[A\u001b[A\u001b[A\n",
      "\n",
      "\n",
      "\n",
      "\n",
      "\n",
      "\n"
     ]
    },
    {
     "name": "stdout",
     "output_type": "stream",
     "text": [
      "\u26a0\ufe0f Skipped (no update needed): \\\\?\\c:\\Users\\Noel\\Documents\\Projects\\School\\CSE 576\\Legal-Document-Discrepancy-Benchmark-Dataset\\mini-eval\\responses_v2\\zero-shot-cot\\self_consistency\\inconsistencies_inText\\DOMINIADVISORTRUST_02_18_2005-EX-99.(H)(2)-SPONSORSHIPAGREEMENT.txt_0.json\n",
      "\u26a0\ufe0f Skipped (no update needed): \\\\?\\c:\\Users\\Noel\\Documents\\Projects\\School\\CSE 576\\Legal-Document-Discrepancy-Benchmark-Dataset\\mini-eval\\responses_v2\\few-shot-self-verification-cot\\self_consistency\\inconsistencies_inText\\DOMINIADVISORTRUST_02_18_2005-EX-99.(H)(2)-SPONSORSHIPAGREEMENT.txt_0.json\n",
      "\u26a0\ufe0f Skipped (no update needed): \\\\?\\c:\\Users\\Noel\\Documents\\Projects\\School\\CSE 576\\Legal-Document-Discrepancy-Benchmark-Dataset\\mini-eval\\responses_v2\\zero-shot-self-verification-cot\\self_consistency\\misaligned_terminalogy_inText\\CENTRACKINTERNATIONALINC_10_29_1999-EX-10.3-WEBSITEHOSTINGAGREEMENT.txt_0.json\n",
      "\u26a0\ufe0f Skipped (no update needed): \\\\?\\c:\\Users\\Noel\\Documents\\Projects\\School\\CSE 576\\Legal-Document-Discrepancy-Benchmark-Dataset\\mini-eval\\responses_v2\\few-shot-cot\\self_consistency\\misaligned_terminalogy_inText\\BORROWMONEYCOM,INC_06_11_2020-EX-10.1-JOINTVENTUREAGREEMENT.txt_0.json\n",
      "\u26a0\ufe0f Skipped (no update needed): \\\\?\\c:\\Users\\Noel\\Documents\\Projects\\School\\CSE 576\\Legal-Document-Discrepancy-Benchmark-Dataset\\mini-eval\\responses_v2\\zero-shot\\self_consistency\\misaligned_terminalogy_inText\\CENTRACKINTERNATIONALINC_10_29_1999-EX-10.3-WEBSITEHOSTINGAGREEMENT.txt_0.json\n",
      "\u26a0\ufe0f Skipped (no update needed): \\\\?\\c:\\Users\\Noel\\Documents\\Projects\\School\\CSE 576\\Legal-Document-Discrepancy-Benchmark-Dataset\\mini-eval\\responses_v2\\few-shot\\self_consistency\\inconsistencies_inText\\Freecook_20180605_S-1_EX-10.3_11233807_EX-10.3_HostingAgreement.txt_0.json\n",
      "\u26a0\ufe0f Skipped (no update needed): \\\\?\\c:\\Users\\Noel\\Documents\\Projects\\School\\CSE 576\\Legal-Document-Discrepancy-Benchmark-Dataset\\mini-eval\\responses_v2\\zero-shot-cot\\self_consistency\\inconsistencies_inText\\Freecook_20180605_S-1_EX-10.3_11233807_EX-10.3_HostingAgreement.txt_0.json\n"
     ]
    },
    {
     "name": "stderr",
     "output_type": "stream",
     "text": [
      "Evaluating explanations (SBERT):  33%|\u2588\u2588\u2588\u258e      | 10/30 [00:02<00:03,  5.26it/s]\u001b[A\u001b[A\u001b[A\u001b[A\u001b[A\u001b[A\u001b[A\n",
      "\n",
      "\n",
      "\n",
      "\u001b[A\u001b[A\u001b[A\u001b[A\n",
      "\n",
      "\n",
      "\n",
      "\n",
      "\n"
     ]
    },
    {
     "name": "stdout",
     "output_type": "stream",
     "text": [
      "\u26a0\ufe0f Skipped (no update needed): \\\\?\\c:\\Users\\Noel\\Documents\\Projects\\School\\CSE 576\\Legal-Document-Discrepancy-Benchmark-Dataset\\mini-eval\\responses_v2\\few-shot-self-verification-cot\\self_consistency\\inconsistencies_inText\\Freecook_20180605_S-1_EX-10.3_11233807_EX-10.3_HostingAgreement.txt_0.json\n",
      "\u26a0\ufe0f Skipped (no update needed): \\\\?\\c:\\Users\\Noel\\Documents\\Projects\\School\\CSE 576\\Legal-Document-Discrepancy-Benchmark-Dataset\\mini-eval\\responses_v2\\zero-shot-self-verification\\self_consistency\\misaligned_terminalogy_inText\\ADAMSGOLFINC_03_21_2005-EX-10.17-ENDORSEMENTAGREEMENT.txt_0.json\n"
     ]
    },
    {
     "name": "stderr",
     "output_type": "stream",
     "text": [
      "Evaluating explanations (SBERT):  47%|\u2588\u2588\u2588\u2588\u258b     | 14/30 [00:02<00:03,  4.99it/s]\u001b[A\u001b[A\u001b[A\u001b[A\u001b[A\u001b[A\n",
      "\u001b[A\n",
      "\n",
      "\u001b[A\u001b[A\n",
      "\n",
      "\n",
      "\n",
      "\n",
      "\n",
      "\u001b[A\u001b[A\u001b[A\u001b[A\u001b[A\u001b[A\n",
      "\n",
      "\n",
      "\u001b[A\u001b[A\u001b[A\n",
      "\n",
      "\n",
      "\n",
      "\n",
      "\n"
     ]
    },
    {
     "name": "stdout",
     "output_type": "stream",
     "text": [
      "\u26a0\ufe0f Skipped (no update needed): \\\\?\\c:\\Users\\Noel\\Documents\\Projects\\School\\CSE 576\\Legal-Document-Discrepancy-Benchmark-Dataset\\mini-eval\\responses_v2\\few-shot-self-verification\\self_consistency\\misaligned_terminalogy_inText\\DOMINIADVISORTRUST_02_18_2005-EX-99.(H)(2)-SPONSORSHIPAGREEMENT.txt_0.json\n",
      "\u26a0\ufe0f Skipped (no update needed): \\\\?\\c:\\Users\\Noel\\Documents\\Projects\\School\\CSE 576\\Legal-Document-Discrepancy-Benchmark-Dataset\\mini-eval\\responses_v2\\zero-shot-self-verification-cot\\self_consistency\\misaligned_terminalogy_inText\\DOMINIADVISORTRUST_02_18_2005-EX-99.(H)(2)-SPONSORSHIPAGREEMENT.txt_0.json\n",
      "\u26a0\ufe0f Skipped (no update needed): \\\\?\\c:\\Users\\Noel\\Documents\\Projects\\School\\CSE 576\\Legal-Document-Discrepancy-Benchmark-Dataset\\mini-eval\\responses_v2\\zero-shot\\self_consistency\\misaligned_terminalogy_inText\\DOMINIADVISORTRUST_02_18_2005-EX-99.(H)(2)-SPONSORSHIPAGREEMENT.txt_0.json\n",
      "\u26a0\ufe0f Skipped (no update needed): \\\\?\\c:\\Users\\Noel\\Documents\\Projects\\School\\CSE 576\\Legal-Document-Discrepancy-Benchmark-Dataset\\mini-eval\\responses_v2\\few-shot-cot\\self_consistency\\misaligned_terminalogy_inText\\CENTRACKINTERNATIONALINC_10_29_1999-EX-10.3-WEBSITEHOSTINGAGREEMENT.txt_0.json\n",
      "\u26a0\ufe0f Skipped (no update needed): \\\\?\\c:\\Users\\Noel\\Documents\\Projects\\School\\CSE 576\\Legal-Document-Discrepancy-Benchmark-Dataset\\mini-eval\\responses_v2\\zero-shot-cot\\self_consistency\\misaligned_terminalogy_inText\\ADAMSGOLFINC_03_21_2005-EX-10.17-ENDORSEMENTAGREEMENT.txt_0.json\n",
      "\u26a0\ufe0f Skipped (no update needed): \\\\?\\c:\\Users\\Noel\\Documents\\Projects\\School\\CSE 576\\Legal-Document-Discrepancy-Benchmark-Dataset\\mini-eval\\responses_v2\\few-shot\\self_consistency\\misaligned_terminalogy_inText\\ADAMSGOLFINC_03_21_2005-EX-10.17-ENDORSEMENTAGREEMENT.txt_0.json\n",
      "\u26a0\ufe0f Skipped (no update needed): \\\\?\\c:\\Users\\Noel\\Documents\\Projects\\School\\CSE 576\\Legal-Document-Discrepancy-Benchmark-Dataset\\mini-eval\\responses_v2\\zero-shot-self-verification\\self_consistency\\misaligned_terminalogy_inText\\BORROWMONEYCOM,INC_06_11_2020-EX-10.1-JOINTVENTUREAGREEMENT.txt_0.json\n"
     ]
    },
    {
     "name": "stderr",
     "output_type": "stream",
     "text": [
      "Evaluating explanations (SBERT):  40%|\u2588\u2588\u2588\u2588      | 12/30 [00:02<00:03,  5.53it/s]\u001b[A\u001b[A\u001b[A\u001b[A\u001b[A\u001b[A\n",
      "\n",
      "\n",
      "\n",
      "\u001b[A\u001b[A\u001b[A\u001b[A"
     ]
    },
    {
     "name": "stdout",
     "output_type": "stream",
     "text": [
      "\u26a0\ufe0f Skipped (no update needed): \\\\?\\c:\\Users\\Noel\\Documents\\Projects\\School\\CSE 576\\Legal-Document-Discrepancy-Benchmark-Dataset\\mini-eval\\responses_v2\\few-shot-self-verification-cot\\self_consistency\\misaligned_terminalogy_inText\\ADAMSGOLFINC_03_21_2005-EX-10.17-ENDORSEMENTAGREEMENT.txt_0.json\n"
     ]
    },
    {
     "name": "stderr",
     "output_type": "stream",
     "text": [
      "Evaluating explanations (SBERT):  50%|\u2588\u2588\u2588\u2588\u2588     | 15/30 [00:03<00:02,  5.07it/s]\n",
      "\u001b[A\n",
      "\n",
      "\u001b[A\u001b[A\n",
      "\n",
      "\n",
      "\n",
      "\n",
      "\n",
      "\u001b[A\u001b[A\u001b[A\u001b[A\u001b[A\u001b[A\n",
      "\n",
      "\n",
      "\n"
     ]
    },
    {
     "name": "stdout",
     "output_type": "stream",
     "text": [
      "\u26a0\ufe0f Skipped (no update needed): \\\\?\\c:\\Users\\Noel\\Documents\\Projects\\School\\CSE 576\\Legal-Document-Discrepancy-Benchmark-Dataset\\mini-eval\\responses_v2\\few-shot-self-verification\\self_consistency\\misaligned_terminalogy_inText\\Freecook_20180605_S-1_EX-10.3_11233807_EX-10.3_HostingAgreement.txt_0.json\n",
      "\u26a0\ufe0f Skipped (no update needed): \\\\?\\c:\\Users\\Noel\\Documents\\Projects\\School\\CSE 576\\Legal-Document-Discrepancy-Benchmark-Dataset\\mini-eval\\responses_v2\\zero-shot-self-verification-cot\\self_consistency\\misaligned_terminalogy_inText\\Freecook_20180605_S-1_EX-10.3_11233807_EX-10.3_HostingAgreement.txt_0.json\n",
      "\u26a0\ufe0f Skipped (no update needed): \\\\?\\c:\\Users\\Noel\\Documents\\Projects\\School\\CSE 576\\Legal-Document-Discrepancy-Benchmark-Dataset\\mini-eval\\responses_v2\\zero-shot\\self_consistency\\misaligned_terminalogy_inText\\Freecook_20180605_S-1_EX-10.3_11233807_EX-10.3_HostingAgreement.txt_0.json\n",
      "\u26a0\ufe0f Skipped (no update needed): \\\\?\\c:\\Users\\Noel\\Documents\\Projects\\School\\CSE 576\\Legal-Document-Discrepancy-Benchmark-Dataset\\mini-eval\\responses_v2\\few-shot-cot\\self_consistency\\misaligned_terminalogy_inText\\DOMINIADVISORTRUST_02_18_2005-EX-99.(H)(2)-SPONSORSHIPAGREEMENT.txt_0.json\n",
      "\u26a0\ufe0f Skipped (no update needed): \\\\?\\c:\\Users\\Noel\\Documents\\Projects\\School\\CSE 576\\Legal-Document-Discrepancy-Benchmark-Dataset\\mini-eval\\responses_v2\\zero-shot-cot\\self_consistency\\misaligned_terminalogy_inText\\BORROWMONEYCOM,INC_06_11_2020-EX-10.1-JOINTVENTUREAGREEMENT.txt_0.json\n",
      "\u26a0\ufe0f Skipped (no update needed): \\\\?\\c:\\Users\\Noel\\Documents\\Projects\\School\\CSE 576\\Legal-Document-Discrepancy-Benchmark-Dataset\\mini-eval\\responses_v2\\few-shot\\self_consistency\\misaligned_terminalogy_inText\\BORROWMONEYCOM,INC_06_11_2020-EX-10.1-JOINTVENTUREAGREEMENT.txt_0.json\n"
     ]
    },
    {
     "name": "stderr",
     "output_type": "stream",
     "text": [
      "Evaluating explanations (SBERT):  40%|\u2588\u2588\u2588\u2588      | 12/30 [00:02<00:03,  5.07it/s]\u001b[A\u001b[A\u001b[A\u001b[A\n",
      "\n",
      "\n",
      "\n",
      "\u001b[A\u001b[A\u001b[A\u001b[A"
     ]
    },
    {
     "name": "stdout",
     "output_type": "stream",
     "text": [
      "\u26a0\ufe0f Skipped (no update needed): \\\\?\\c:\\Users\\Noel\\Documents\\Projects\\School\\CSE 576\\Legal-Document-Discrepancy-Benchmark-Dataset\\mini-eval\\responses_v2\\few-shot-self-verification-cot\\self_consistency\\misaligned_terminalogy_inText\\BORROWMONEYCOM,INC_06_11_2020-EX-10.1-JOINTVENTUREAGREEMENT.txt_0.json\n"
     ]
    },
    {
     "name": "stderr",
     "output_type": "stream",
     "text": [
      "\n",
      "\n",
      "\n",
      "\n",
      "\n",
      "\u001b[A\u001b[A\u001b[A\u001b[A\u001b[A\n",
      "\n",
      "\u001b[A\u001b[A\n",
      "\n",
      "\n",
      "\n",
      "\n",
      "\n",
      "\u001b[A\u001b[A\u001b[A\u001b[A\u001b[A\u001b[A"
     ]
    },
    {
     "name": "stdout",
     "output_type": "stream",
     "text": [
      "\u26a0\ufe0f Skipped (no update needed): \\\\?\\c:\\Users\\Noel\\Documents\\Projects\\School\\CSE 576\\Legal-Document-Discrepancy-Benchmark-Dataset\\mini-eval\\responses_v2\\zero-shot-self-verification\\self_consistency\\misaligned_terminalogy_inText\\CENTRACKINTERNATIONALINC_10_29_1999-EX-10.3-WEBSITEHOSTINGAGREEMENT.txt_0.json\n",
      "\u26a0\ufe0f Skipped (no update needed): \\\\?\\c:\\Users\\Noel\\Documents\\Projects\\School\\CSE 576\\Legal-Document-Discrepancy-Benchmark-Dataset\\mini-eval\\responses_v2\\few-shot-cot\\self_consistency\\misaligned_terminalogy_inText\\Freecook_20180605_S-1_EX-10.3_11233807_EX-10.3_HostingAgreement.txt_0.json\n",
      "\u26a0\ufe0f Skipped (no update needed): \\\\?\\c:\\Users\\Noel\\Documents\\Projects\\School\\CSE 576\\Legal-Document-Discrepancy-Benchmark-Dataset\\mini-eval\\responses_v2\\few-shot-self-verification\\self_consistency\\omissions_inText\\ADAMSGOLFINC_03_21_2005-EX-10.17-ENDORSEMENTAGREEMENT.txt_0.json\n",
      "\u26a0\ufe0f Skipped (no update needed): \\\\?\\c:\\Users\\Noel\\Documents\\Projects\\School\\CSE 576\\Legal-Document-Discrepancy-Benchmark-Dataset\\mini-eval\\responses_v2\\zero-shot-cot\\self_consistency\\misaligned_terminalogy_inText\\CENTRACKINTERNATIONALINC_10_29_1999-EX-10.3-WEBSITEHOSTINGAGREEMENT.txt_0.json\n"
     ]
    },
    {
     "name": "stderr",
     "output_type": "stream",
     "text": [
      "Evaluating explanations (SBERT):  53%|\u2588\u2588\u2588\u2588\u2588\u258e    | 16/30 [00:03<00:03,  4.22it/s]"
     ]
    },
    {
     "name": "stdout",
     "output_type": "stream",
     "text": [
      "\u26a0\ufe0f Skipped (no update needed): \\\\?\\c:\\Users\\Noel\\Documents\\Projects\\School\\CSE 576\\Legal-Document-Discrepancy-Benchmark-Dataset\\mini-eval\\responses_v2\\zero-shot-self-verification-cot\\self_consistency\\omissions_inText\\ADAMSGOLFINC_03_21_2005-EX-10.17-ENDORSEMENTAGREEMENT.txt_0.json\n",
      "\u26a0\ufe0f Skipped (no update needed): \\\\?\\c:\\Users\\Noel\\Documents\\Projects\\School\\CSE 576\\Legal-Document-Discrepancy-Benchmark-Dataset\\mini-eval\\responses_v2\\few-shot\\self_consistency\\misaligned_terminalogy_inText\\CENTRACKINTERNATIONALINC_10_29_1999-EX-10.3-WEBSITEHOSTINGAGREEMENT.txt_0.json\n"
     ]
    },
    {
     "name": "stderr",
     "output_type": "stream",
     "text": [
      "\n",
      "\n",
      "\n",
      "\u001b[A\u001b[A\u001b[A\n",
      "\n",
      "\n",
      "\n",
      "\n",
      "\u001b[A\u001b[A\u001b[A\u001b[A\u001b[A\n",
      "\u001b[A\n",
      "\n",
      "\n",
      "\n",
      "\u001b[A\u001b[A\u001b[A\u001b[A"
     ]
    },
    {
     "name": "stdout",
     "output_type": "stream",
     "text": [
      "\u26a0\ufe0f Skipped (no update needed): \\\\?\\c:\\Users\\Noel\\Documents\\Projects\\School\\CSE 576\\Legal-Document-Discrepancy-Benchmark-Dataset\\mini-eval\\responses_v2\\zero-shot-self-verification\\self_consistency\\misaligned_terminalogy_inText\\DOMINIADVISORTRUST_02_18_2005-EX-99.(H)(2)-SPONSORSHIPAGREEMENT.txt_0.json\n",
      "\u26a0\ufe0f Skipped (no update needed): \\\\?\\c:\\Users\\Noel\\Documents\\Projects\\School\\CSE 576\\Legal-Document-Discrepancy-Benchmark-Dataset\\mini-eval\\responses_v2\\zero-shot\\self_consistency\\omissions_inText\\ADAMSGOLFINC_03_21_2005-EX-10.17-ENDORSEMENTAGREEMENT.txt_0.json\n",
      "\u26a0\ufe0f Skipped (no update needed): \\\\?\\c:\\Users\\Noel\\Documents\\Projects\\School\\CSE 576\\Legal-Document-Discrepancy-Benchmark-Dataset\\mini-eval\\responses_v2\\few-shot-self-verification-cot\\self_consistency\\misaligned_terminalogy_inText\\CENTRACKINTERNATIONALINC_10_29_1999-EX-10.3-WEBSITEHOSTINGAGREEMENT.txt_0.json\n"
     ]
    },
    {
     "name": "stderr",
     "output_type": "stream",
     "text": [
      "\n",
      "\n",
      "\n",
      "\n",
      "\n",
      "\n",
      "\u001b[A\u001b[A\u001b[A\u001b[A\u001b[A\u001b[A\n",
      "\n",
      "\n",
      "\n",
      "\n",
      "\n"
     ]
    },
    {
     "name": "stdout",
     "output_type": "stream",
     "text": [
      "\u26a0\ufe0f Skipped (no update needed): \\\\?\\c:\\Users\\Noel\\Documents\\Projects\\School\\CSE 576\\Legal-Document-Discrepancy-Benchmark-Dataset\\mini-eval\\responses_v2\\few-shot-self-verification\\self_consistency\\omissions_inText\\BORROWMONEYCOM,INC_06_11_2020-EX-10.1-JOINTVENTUREAGREEMENT.txt_0.json\n",
      "\u26a0\ufe0f Skipped (no update needed): \\\\?\\c:\\Users\\Noel\\Documents\\Projects\\School\\CSE 576\\Legal-Document-Discrepancy-Benchmark-Dataset\\mini-eval\\responses_v2\\zero-shot-cot\\self_consistency\\misaligned_terminalogy_inText\\DOMINIADVISORTRUST_02_18_2005-EX-99.(H)(2)-SPONSORSHIPAGREEMENT.txt_0.json\n",
      "\u26a0\ufe0f Skipped (no update needed): \\\\?\\c:\\Users\\Noel\\Documents\\Projects\\School\\CSE 576\\Legal-Document-Discrepancy-Benchmark-Dataset\\mini-eval\\responses_v2\\zero-shot-self-verification\\self_consistency\\misaligned_terminalogy_inText\\Freecook_20180605_S-1_EX-10.3_11233807_EX-10.3_HostingAgreement.txt_0.json\n"
     ]
    },
    {
     "name": "stderr",
     "output_type": "stream",
     "text": [
      "Evaluating explanations (SBERT):  50%|\u2588\u2588\u2588\u2588\u2588     | 15/30 [00:03<00:02,  5.05it/s]\u001b[A\u001b[A\u001b[A\u001b[A\u001b[A\u001b[A\n",
      "\n",
      "\n",
      "\u001b[A\u001b[A\u001b[A\n",
      "\n",
      "Evaluating explanations (SBERT):  57%|\u2588\u2588\u2588\u2588\u2588\u258b    | 17/30 [00:03<00:03,  4.09it/s]\n",
      "\n",
      "\n",
      "\n",
      "\u001b[A\u001b[A\u001b[A\u001b[A\n",
      "\u001b[A"
     ]
    },
    {
     "name": "stdout",
     "output_type": "stream",
     "text": [
      "\u26a0\ufe0f Skipped (no update needed): \\\\?\\c:\\Users\\Noel\\Documents\\Projects\\School\\CSE 576\\Legal-Document-Discrepancy-Benchmark-Dataset\\mini-eval\\responses_v2\\few-shot\\self_consistency\\misaligned_terminalogy_inText\\DOMINIADVISORTRUST_02_18_2005-EX-99.(H)(2)-SPONSORSHIPAGREEMENT.txt_0.json\n",
      "\u26a0\ufe0f Skipped (no update needed): \\\\?\\c:\\Users\\Noel\\Documents\\Projects\\School\\CSE 576\\Legal-Document-Discrepancy-Benchmark-Dataset\\mini-eval\\responses_v2\\few-shot-cot\\self_consistency\\omissions_inText\\ADAMSGOLFINC_03_21_2005-EX-10.17-ENDORSEMENTAGREEMENT.txt_0.json\n",
      "\u26a0\ufe0f Skipped (no update needed): \\\\?\\c:\\Users\\Noel\\Documents\\Projects\\School\\CSE 576\\Legal-Document-Discrepancy-Benchmark-Dataset\\mini-eval\\responses_v2\\zero-shot-self-verification-cot\\self_consistency\\omissions_inText\\BORROWMONEYCOM,INC_06_11_2020-EX-10.1-JOINTVENTUREAGREEMENT.txt_0.json\n",
      "\u26a0\ufe0f Skipped (no update needed): \\\\?\\c:\\Users\\Noel\\Documents\\Projects\\School\\CSE 576\\Legal-Document-Discrepancy-Benchmark-Dataset\\mini-eval\\responses_v2\\few-shot-self-verification-cot\\self_consistency\\misaligned_terminalogy_inText\\DOMINIADVISORTRUST_02_18_2005-EX-99.(H)(2)-SPONSORSHIPAGREEMENT.txt_0.json\n",
      "\u26a0\ufe0f Skipped (no update needed): \\\\?\\c:\\Users\\Noel\\Documents\\Projects\\School\\CSE 576\\Legal-Document-Discrepancy-Benchmark-Dataset\\mini-eval\\responses_v2\\zero-shot\\self_consistency\\omissions_inText\\BORROWMONEYCOM,INC_06_11_2020-EX-10.1-JOINTVENTUREAGREEMENT.txt_0.json\n",
      "\u26a0\ufe0f Skipped (no update needed): \\\\?\\c:\\Users\\Noel\\Documents\\Projects\\School\\CSE 576\\Legal-Document-Discrepancy-Benchmark-Dataset\\mini-eval\\responses_v2\\few-shot-self-verification\\self_consistency\\omissions_inText\\CENTRACKINTERNATIONALINC_10_29_1999-EX-10.3-WEBSITEHOSTINGAGREEMENT.txt_0.json\n"
     ]
    },
    {
     "name": "stderr",
     "output_type": "stream",
     "text": [
      "\n",
      "\n",
      "\n",
      "\n",
      "\n",
      "\n",
      "\u001b[A\u001b[A\u001b[A\u001b[A\u001b[A\u001b[A"
     ]
    },
    {
     "name": "stdout",
     "output_type": "stream",
     "text": [
      "\u26a0\ufe0f Skipped (no update needed): \\\\?\\c:\\Users\\Noel\\Documents\\Projects\\School\\CSE 576\\Legal-Document-Discrepancy-Benchmark-Dataset\\mini-eval\\responses_v2\\zero-shot-cot\\self_consistency\\misaligned_terminalogy_inText\\Freecook_20180605_S-1_EX-10.3_11233807_EX-10.3_HostingAgreement.txt_0.json\n"
     ]
    },
    {
     "name": "stderr",
     "output_type": "stream",
     "text": [
      "\n",
      "\n",
      "\n",
      "\u001b[A\u001b[A\u001b[A\n",
      "\n",
      "\n",
      "\n",
      "Evaluating explanations (SBERT):  60%|\u2588\u2588\u2588\u2588\u2588\u2588    | 18/30 [00:03<00:02,  4.11it/s]\n",
      "\u001b[A\n",
      "\n",
      "\u001b[A\u001b[A\n",
      "\n",
      "\n",
      "\n",
      "\n",
      "\u001b[A\u001b[A\u001b[A\u001b[A\u001b[A"
     ]
    },
    {
     "name": "stdout",
     "output_type": "stream",
     "text": [
      "\u26a0\ufe0f Skipped (no update needed): \\\\?\\c:\\Users\\Noel\\Documents\\Projects\\School\\CSE 576\\Legal-Document-Discrepancy-Benchmark-Dataset\\mini-eval\\responses_v2\\few-shot\\self_consistency\\misaligned_terminalogy_inText\\Freecook_20180605_S-1_EX-10.3_11233807_EX-10.3_HostingAgreement.txt_0.json\n",
      "\u26a0\ufe0f Skipped (no update needed): \\\\?\\c:\\Users\\Noel\\Documents\\Projects\\School\\CSE 576\\Legal-Document-Discrepancy-Benchmark-Dataset\\mini-eval\\responses_v2\\few-shot-self-verification-cot\\self_consistency\\misaligned_terminalogy_inText\\Freecook_20180605_S-1_EX-10.3_11233807_EX-10.3_HostingAgreement.txt_0.json\n",
      "\u26a0\ufe0f Skipped (no update needed): \\\\?\\c:\\Users\\Noel\\Documents\\Projects\\School\\CSE 576\\Legal-Document-Discrepancy-Benchmark-Dataset\\mini-eval\\responses_v2\\zero-shot-self-verification-cot\\self_consistency\\omissions_inText\\CENTRACKINTERNATIONALINC_10_29_1999-EX-10.3-WEBSITEHOSTINGAGREEMENT.txt_0.json\n",
      "\u26a0\ufe0f Skipped (no update needed): \\\\?\\c:\\Users\\Noel\\Documents\\Projects\\School\\CSE 576\\Legal-Document-Discrepancy-Benchmark-Dataset\\mini-eval\\responses_v2\\zero-shot\\self_consistency\\omissions_inText\\CENTRACKINTERNATIONALINC_10_29_1999-EX-10.3-WEBSITEHOSTINGAGREEMENT.txt_0.json\n",
      "\u26a0\ufe0f Skipped (no update needed): \\\\?\\c:\\Users\\Noel\\Documents\\Projects\\School\\CSE 576\\Legal-Document-Discrepancy-Benchmark-Dataset\\mini-eval\\responses_v2\\few-shot-cot\\self_consistency\\omissions_inText\\BORROWMONEYCOM,INC_06_11_2020-EX-10.1-JOINTVENTUREAGREEMENT.txt_0.json\n",
      "\u26a0\ufe0f Skipped (no update needed): \\\\?\\c:\\Users\\Noel\\Documents\\Projects\\School\\CSE 576\\Legal-Document-Discrepancy-Benchmark-Dataset\\mini-eval\\responses_v2\\zero-shot-self-verification\\self_consistency\\omissions_inText\\ADAMSGOLFINC_03_21_2005-EX-10.17-ENDORSEMENTAGREEMENT.txt_0.json\n"
     ]
    },
    {
     "name": "stderr",
     "output_type": "stream",
     "text": []
    },
    {
     "name": "stdout",
     "output_type": "stream",
     "text": [
      "\u26a0\ufe0f Skipped (no update needed): \\\\?\\c:\\Users\\Noel\\Documents\\Projects\\School\\CSE 576\\Legal-Document-Discrepancy-Benchmark-Dataset\\mini-eval\\responses_v2\\few-shot-self-verification\\self_consistency\\omissions_inText\\DOMINIADVISORTRUST_02_18_2005-EX-99.(H)(2)-SPONSORSHIPAGREEMENT.txt_0.json\n"
     ]
    },
    {
     "name": "stderr",
     "output_type": "stream",
     "text": [
      "\n",
      "\n",
      "\n",
      "\n",
      "\n",
      "\n",
      "\u001b[A\u001b[A\u001b[A\u001b[A\u001b[A\u001b[A\n",
      "\n",
      "Evaluating explanations (SBERT):  63%|\u2588\u2588\u2588\u2588\u2588\u2588\u258e   | 19/30 [00:04<00:02,  3.95it/s]\n",
      "\n",
      "\n",
      "\n",
      "\n",
      "\u001b[A\u001b[A\u001b[A\u001b[A\u001b[A\n",
      "\u001b[A\n",
      "\n",
      "\n",
      "\n"
     ]
    },
    {
     "name": "stdout",
     "output_type": "stream",
     "text": [
      "\u26a0\ufe0f Skipped (no update needed): \\\\?\\c:\\Users\\Noel\\Documents\\Projects\\School\\CSE 576\\Legal-Document-Discrepancy-Benchmark-Dataset\\mini-eval\\responses_v2\\zero-shot-cot\\self_consistency\\omissions_inText\\ADAMSGOLFINC_03_21_2005-EX-10.17-ENDORSEMENTAGREEMENT.txt_0.json\n",
      "\u26a0\ufe0f Skipped (no update needed): \\\\?\\c:\\Users\\Noel\\Documents\\Projects\\School\\CSE 576\\Legal-Document-Discrepancy-Benchmark-Dataset\\mini-eval\\responses_v2\\few-shot-cot\\self_consistency\\omissions_inText\\CENTRACKINTERNATIONALINC_10_29_1999-EX-10.3-WEBSITEHOSTINGAGREEMENT.txt_0.json\n",
      "\u26a0\ufe0f Skipped (no update needed): \\\\?\\c:\\Users\\Noel\\Documents\\Projects\\School\\CSE 576\\Legal-Document-Discrepancy-Benchmark-Dataset\\mini-eval\\responses_v2\\zero-shot-self-verification-cot\\self_consistency\\omissions_inText\\DOMINIADVISORTRUST_02_18_2005-EX-99.(H)(2)-SPONSORSHIPAGREEMENT.txt_0.json\n",
      "\u26a0\ufe0f Skipped (no update needed): \\\\?\\c:\\Users\\Noel\\Documents\\Projects\\School\\CSE 576\\Legal-Document-Discrepancy-Benchmark-Dataset\\mini-eval\\responses_v2\\zero-shot-self-verification\\self_consistency\\omissions_inText\\BORROWMONEYCOM,INC_06_11_2020-EX-10.1-JOINTVENTUREAGREEMENT.txt_0.json\n",
      "\u26a0\ufe0f Skipped (no update needed): \\\\?\\c:\\Users\\Noel\\Documents\\Projects\\School\\CSE 576\\Legal-Document-Discrepancy-Benchmark-Dataset\\mini-eval\\responses_v2\\zero-shot\\self_consistency\\omissions_inText\\DOMINIADVISORTRUST_02_18_2005-EX-99.(H)(2)-SPONSORSHIPAGREEMENT.txt_0.json\n",
      "\u26a0\ufe0f Skipped (no update needed): \\\\?\\c:\\Users\\Noel\\Documents\\Projects\\School\\CSE 576\\Legal-Document-Discrepancy-Benchmark-Dataset\\mini-eval\\responses_v2\\few-shot\\self_consistency\\omissions_inText\\ADAMSGOLFINC_03_21_2005-EX-10.17-ENDORSEMENTAGREEMENT.txt_0.json\n"
     ]
    },
    {
     "name": "stderr",
     "output_type": "stream",
     "text": [
      "Evaluating explanations (SBERT):  53%|\u2588\u2588\u2588\u2588\u2588\u258e    | 16/30 [00:03<00:03,  3.92it/s]\u001b[A\u001b[A\u001b[A\u001b[A\n",
      "\n",
      "\n",
      "\n",
      "\u001b[A\u001b[A\u001b[A\u001b[A"
     ]
    },
    {
     "name": "stdout",
     "output_type": "stream",
     "text": [
      "\u26a0\ufe0f Skipped (no update needed): \\\\?\\c:\\Users\\Noel\\Documents\\Projects\\School\\CSE 576\\Legal-Document-Discrepancy-Benchmark-Dataset\\mini-eval\\responses_v2\\few-shot-self-verification\\self_consistency\\omissions_inText\\Freecook_20180605_S-1_EX-10.3_11233807_EX-10.3_HostingAgreement.txt_0.json\n",
      "\u26a0\ufe0f Skipped (no update needed): \\\\?\\c:\\Users\\Noel\\Documents\\Projects\\School\\CSE 576\\Legal-Document-Discrepancy-Benchmark-Dataset\\mini-eval\\responses_v2\\few-shot-self-verification-cot\\self_consistency\\omissions_inText\\ADAMSGOLFINC_03_21_2005-EX-10.17-ENDORSEMENTAGREEMENT.txt_0.json\n"
     ]
    },
    {
     "name": "stderr",
     "output_type": "stream",
     "text": [
      "\n",
      "\n",
      "\n",
      "\n",
      "\n",
      "\n",
      "\u001b[A\u001b[A\u001b[A\u001b[A\u001b[A\u001b[A\n",
      "\n",
      "\u001b[A\u001b[A\n",
      "\n",
      "\n",
      "\n",
      "\n",
      "Evaluating explanations (SBERT):  67%|\u2588\u2588\u2588\u2588\u2588\u2588\u258b   | 20/30 [00:04<00:02,  4.14it/s]\n",
      "\u001b[A"
     ]
    },
    {
     "name": "stdout",
     "output_type": "stream",
     "text": [
      "\u26a0\ufe0f Skipped (no update needed): \\\\?\\c:\\Users\\Noel\\Documents\\Projects\\School\\CSE 576\\Legal-Document-Discrepancy-Benchmark-Dataset\\mini-eval\\responses_v2\\zero-shot-cot\\self_consistency\\omissions_inText\\BORROWMONEYCOM,INC_06_11_2020-EX-10.1-JOINTVENTUREAGREEMENT.txt_0.json\n",
      "\u26a0\ufe0f Skipped (no update needed): \\\\?\\c:\\Users\\Noel\\Documents\\Projects\\School\\CSE 576\\Legal-Document-Discrepancy-Benchmark-Dataset\\mini-eval\\responses_v2\\few-shot-cot\\self_consistency\\omissions_inText\\DOMINIADVISORTRUST_02_18_2005-EX-99.(H)(2)-SPONSORSHIPAGREEMENT.txt_0.json\n",
      "\u26a0\ufe0f Skipped (no update needed): \\\\?\\c:\\Users\\Noel\\Documents\\Projects\\School\\CSE 576\\Legal-Document-Discrepancy-Benchmark-Dataset\\mini-eval\\responses_v2\\zero-shot-self-verification\\self_consistency\\omissions_inText\\CENTRACKINTERNATIONALINC_10_29_1999-EX-10.3-WEBSITEHOSTINGAGREEMENT.txt_0.json\n",
      "\u26a0\ufe0f Skipped (no update needed): \\\\?\\c:\\Users\\Noel\\Documents\\Projects\\School\\CSE 576\\Legal-Document-Discrepancy-Benchmark-Dataset\\mini-eval\\responses_v2\\zero-shot-self-verification-cot\\self_consistency\\omissions_inText\\Freecook_20180605_S-1_EX-10.3_11233807_EX-10.3_HostingAgreement.txt_0.json\n",
      "\u26a0\ufe0f Skipped (no update needed): \\\\?\\c:\\Users\\Noel\\Documents\\Projects\\School\\CSE 576\\Legal-Document-Discrepancy-Benchmark-Dataset\\mini-eval\\responses_v2\\zero-shot\\self_consistency\\omissions_inText\\Freecook_20180605_S-1_EX-10.3_11233807_EX-10.3_HostingAgreement.txt_0.json\n"
     ]
    },
    {
     "name": "stderr",
     "output_type": "stream",
     "text": [
      "\n",
      "\n",
      "\n",
      "\u001b[A\u001b[A\u001b[A\n",
      "\n",
      "\n",
      "\n",
      "\u001b[A\u001b[A\u001b[A\u001b[A\n",
      "\n",
      "\n",
      "\n",
      "\n",
      "\n",
      "\n"
     ]
    },
    {
     "name": "stdout",
     "output_type": "stream",
     "text": [
      "\u26a0\ufe0f Skipped (no update needed): \\\\?\\c:\\Users\\Noel\\Documents\\Projects\\School\\CSE 576\\Legal-Document-Discrepancy-Benchmark-Dataset\\mini-eval\\responses_v2\\few-shot\\self_consistency\\omissions_inText\\BORROWMONEYCOM,INC_06_11_2020-EX-10.1-JOINTVENTUREAGREEMENT.txt_0.json\n",
      "\u26a0\ufe0f Skipped (no update needed): \\\\?\\c:\\Users\\Noel\\Documents\\Projects\\School\\CSE 576\\Legal-Document-Discrepancy-Benchmark-Dataset\\mini-eval\\responses_v2\\few-shot-self-verification\\self_consistency\\structural_flaws_inText\\ADAMSGOLFINC_03_21_2005-EX-10.17-ENDORSEMENTAGREEMENT.txt_0.json\n",
      "\u26a0\ufe0f Skipped (no update needed): \\\\?\\c:\\Users\\Noel\\Documents\\Projects\\School\\CSE 576\\Legal-Document-Discrepancy-Benchmark-Dataset\\mini-eval\\responses_v2\\few-shot-self-verification-cot\\self_consistency\\omissions_inText\\BORROWMONEYCOM,INC_06_11_2020-EX-10.1-JOINTVENTUREAGREEMENT.txt_0.json\n",
      "\u26a0\ufe0f Skipped (no update needed): \\\\?\\c:\\Users\\Noel\\Documents\\Projects\\School\\CSE 576\\Legal-Document-Discrepancy-Benchmark-Dataset\\mini-eval\\responses_v2\\zero-shot-cot\\self_consistency\\omissions_inText\\CENTRACKINTERNATIONALINC_10_29_1999-EX-10.3-WEBSITEHOSTINGAGREEMENT.txt_0.json\n"
     ]
    },
    {
     "name": "stderr",
     "output_type": "stream",
     "text": [
      "Evaluating explanations (SBERT):  60%|\u2588\u2588\u2588\u2588\u2588\u2588    | 18/30 [00:03<00:02,  4.68it/s]\u001b[A\u001b[A\u001b[A\u001b[A\u001b[A\u001b[A\u001b[A\n",
      "\n",
      "Evaluating explanations (SBERT):  70%|\u2588\u2588\u2588\u2588\u2588\u2588\u2588   | 21/30 [00:04<00:02,  4.29it/s]\n",
      "\u001b[A\n",
      "\n",
      "\n",
      "\n",
      "\n",
      "\u001b[A\u001b[A\u001b[A\u001b[A\u001b[A\n",
      "\n",
      "\n",
      "\n"
     ]
    },
    {
     "name": "stdout",
     "output_type": "stream",
     "text": [
      "\u26a0\ufe0f Skipped (no update needed): \\\\?\\c:\\Users\\Noel\\Documents\\Projects\\School\\CSE 576\\Legal-Document-Discrepancy-Benchmark-Dataset\\mini-eval\\responses_v2\\few-shot-cot\\self_consistency\\omissions_inText\\Freecook_20180605_S-1_EX-10.3_11233807_EX-10.3_HostingAgreement.txt_0.json\n",
      "\u26a0\ufe0f Skipped (no update needed): \\\\?\\c:\\Users\\Noel\\Documents\\Projects\\School\\CSE 576\\Legal-Document-Discrepancy-Benchmark-Dataset\\mini-eval\\responses_v2\\zero-shot-self-verification-cot\\self_consistency\\structural_flaws_inText\\ADAMSGOLFINC_03_21_2005-EX-10.17-ENDORSEMENTAGREEMENT.txt_0.json\n",
      "\u26a0\ufe0f Skipped (no update needed): \\\\?\\c:\\Users\\Noel\\Documents\\Projects\\School\\CSE 576\\Legal-Document-Discrepancy-Benchmark-Dataset\\mini-eval\\responses_v2\\zero-shot\\self_consistency\\structural_flaws_inText\\ADAMSGOLFINC_03_21_2005-EX-10.17-ENDORSEMENTAGREEMENT.txt_0.json\n",
      "\u26a0\ufe0f Skipped (no update needed): \\\\?\\c:\\Users\\Noel\\Documents\\Projects\\School\\CSE 576\\Legal-Document-Discrepancy-Benchmark-Dataset\\mini-eval\\responses_v2\\zero-shot-self-verification\\self_consistency\\omissions_inText\\DOMINIADVISORTRUST_02_18_2005-EX-99.(H)(2)-SPONSORSHIPAGREEMENT.txt_0.json\n",
      "\u26a0\ufe0f Skipped (no update needed): \\\\?\\c:\\Users\\Noel\\Documents\\Projects\\School\\CSE 576\\Legal-Document-Discrepancy-Benchmark-Dataset\\mini-eval\\responses_v2\\few-shot\\self_consistency\\omissions_inText\\CENTRACKINTERNATIONALINC_10_29_1999-EX-10.3-WEBSITEHOSTINGAGREEMENT.txt_0.json\n"
     ]
    },
    {
     "name": "stderr",
     "output_type": "stream",
     "text": [
      "Evaluating explanations (SBERT):  60%|\u2588\u2588\u2588\u2588\u2588\u2588    | 18/30 [00:04<00:02,  4.33it/s]\u001b[A\u001b[A\u001b[A\u001b[A\n",
      "\n",
      "\n",
      "\n",
      "\u001b[A\u001b[A\u001b[A\u001b[A\n",
      "\n",
      "\n",
      "\n",
      "\n",
      "\n",
      "\u001b[A\u001b[A\u001b[A\u001b[A\u001b[A\u001b[A"
     ]
    },
    {
     "name": "stdout",
     "output_type": "stream",
     "text": [
      "\u26a0\ufe0f Skipped (no update needed): \\\\?\\c:\\Users\\Noel\\Documents\\Projects\\School\\CSE 576\\Legal-Document-Discrepancy-Benchmark-Dataset\\mini-eval\\responses_v2\\few-shot-self-verification-cot\\self_consistency\\omissions_inText\\CENTRACKINTERNATIONALINC_10_29_1999-EX-10.3-WEBSITEHOSTINGAGREEMENT.txt_0.json\n",
      "\u26a0\ufe0f Skipped (no update needed): \\\\?\\c:\\Users\\Noel\\Documents\\Projects\\School\\CSE 576\\Legal-Document-Discrepancy-Benchmark-Dataset\\mini-eval\\responses_v2\\few-shot-self-verification\\self_consistency\\structural_flaws_inText\\BORROWMONEYCOM,INC_06_11_2020-EX-10.1-JOINTVENTUREAGREEMENT.txt_0.json\n",
      "\u26a0\ufe0f Skipped (no update needed): \\\\?\\c:\\Users\\Noel\\Documents\\Projects\\School\\CSE 576\\Legal-Document-Discrepancy-Benchmark-Dataset\\mini-eval\\responses_v2\\zero-shot-cot\\self_consistency\\omissions_inText\\DOMINIADVISORTRUST_02_18_2005-EX-99.(H)(2)-SPONSORSHIPAGREEMENT.txt_0.json\n"
     ]
    },
    {
     "name": "stderr",
     "output_type": "stream",
     "text": [
      "\n",
      "\n",
      "\u001b[A\u001b[A\n",
      "\n",
      "\n",
      "\n",
      "\n",
      "Evaluating explanations (SBERT):  73%|\u2588\u2588\u2588\u2588\u2588\u2588\u2588\u258e  | 22/30 [00:04<00:01,  4.19it/s]"
     ]
    },
    {
     "name": "stdout",
     "output_type": "stream",
     "text": [
      "\u26a0\ufe0f Skipped (no update needed): \\\\?\\c:\\Users\\Noel\\Documents\\Projects\\School\\CSE 576\\Legal-Document-Discrepancy-Benchmark-Dataset\\mini-eval\\responses_v2\\few-shot-cot\\self_consistency\\structural_flaws_inText\\ADAMSGOLFINC_03_21_2005-EX-10.17-ENDORSEMENTAGREEMENT.txt_0.json\n",
      "\u26a0\ufe0f Skipped (no update needed): \\\\?\\c:\\Users\\Noel\\Documents\\Projects\\School\\CSE 576\\Legal-Document-Discrepancy-Benchmark-Dataset\\mini-eval\\responses_v2\\zero-shot-self-verification\\self_consistency\\omissions_inText\\Freecook_20180605_S-1_EX-10.3_11233807_EX-10.3_HostingAgreement.txt_0.json\n",
      "\u26a0\ufe0f Skipped (no update needed): \\\\?\\c:\\Users\\Noel\\Documents\\Projects\\School\\CSE 576\\Legal-Document-Discrepancy-Benchmark-Dataset\\mini-eval\\responses_v2\\zero-shot-self-verification-cot\\self_consistency\\structural_flaws_inText\\BORROWMONEYCOM,INC_06_11_2020-EX-10.1-JOINTVENTUREAGREEMENT.txt_0.json\n"
     ]
    },
    {
     "name": "stderr",
     "output_type": "stream",
     "text": [
      "\n",
      "\u001b[A\n",
      "\n",
      "\n",
      "\u001b[A\u001b[A\u001b[A\n",
      "\n",
      "\n",
      "\n",
      "\n",
      "\n",
      "\u001b[A\u001b[A\u001b[A\u001b[A\u001b[A\u001b[A\n",
      "\n",
      "\n",
      "\n",
      "\u001b[A\u001b[A\u001b[A\u001b[A"
     ]
    },
    {
     "name": "stdout",
     "output_type": "stream",
     "text": [
      "\u26a0\ufe0f Skipped (no update needed): \\\\?\\c:\\Users\\Noel\\Documents\\Projects\\School\\CSE 576\\Legal-Document-Discrepancy-Benchmark-Dataset\\mini-eval\\responses_v2\\zero-shot\\self_consistency\\structural_flaws_inText\\BORROWMONEYCOM,INC_06_11_2020-EX-10.1-JOINTVENTUREAGREEMENT.txt_0.json\n",
      "\u26a0\ufe0f Skipped (no update needed): \\\\?\\c:\\Users\\Noel\\Documents\\Projects\\School\\CSE 576\\Legal-Document-Discrepancy-Benchmark-Dataset\\mini-eval\\responses_v2\\few-shot-self-verification\\self_consistency\\structural_flaws_inText\\CENTRACKINTERNATIONALINC_10_29_1999-EX-10.3-WEBSITEHOSTINGAGREEMENT.txt_0.json\n",
      "\u26a0\ufe0f Skipped (no update needed): \\\\?\\c:\\Users\\Noel\\Documents\\Projects\\School\\CSE 576\\Legal-Document-Discrepancy-Benchmark-Dataset\\mini-eval\\responses_v2\\few-shot\\self_consistency\\omissions_inText\\DOMINIADVISORTRUST_02_18_2005-EX-99.(H)(2)-SPONSORSHIPAGREEMENT.txt_0.json\n",
      "\u26a0\ufe0f Skipped (no update needed): \\\\?\\c:\\Users\\Noel\\Documents\\Projects\\School\\CSE 576\\Legal-Document-Discrepancy-Benchmark-Dataset\\mini-eval\\responses_v2\\zero-shot-cot\\self_consistency\\omissions_inText\\Freecook_20180605_S-1_EX-10.3_11233807_EX-10.3_HostingAgreement.txt_0.json\n",
      "\u26a0\ufe0f Skipped (no update needed): \\\\?\\c:\\Users\\Noel\\Documents\\Projects\\School\\CSE 576\\Legal-Document-Discrepancy-Benchmark-Dataset\\mini-eval\\responses_v2\\few-shot-self-verification-cot\\self_consistency\\omissions_inText\\DOMINIADVISORTRUST_02_18_2005-EX-99.(H)(2)-SPONSORSHIPAGREEMENT.txt_0.json\n"
     ]
    },
    {
     "name": "stderr",
     "output_type": "stream",
     "text": [
      "\n",
      "\n",
      "Evaluating explanations (SBERT):  77%|\u2588\u2588\u2588\u2588\u2588\u2588\u2588\u258b  | 23/30 [00:05<00:01,  4.49it/s]\n",
      "\n",
      "\n",
      "\n",
      "\n",
      "\n"
     ]
    },
    {
     "name": "stdout",
     "output_type": "stream",
     "text": [
      "\u26a0\ufe0f Skipped (no update needed): \\\\?\\c:\\Users\\Noel\\Documents\\Projects\\School\\CSE 576\\Legal-Document-Discrepancy-Benchmark-Dataset\\mini-eval\\responses_v2\\few-shot-cot\\self_consistency\\structural_flaws_inText\\BORROWMONEYCOM,INC_06_11_2020-EX-10.1-JOINTVENTUREAGREEMENT.txt_0.json\n",
      "\u26a0\ufe0f Skipped (no update needed): \\\\?\\c:\\Users\\Noel\\Documents\\Projects\\School\\CSE 576\\Legal-Document-Discrepancy-Benchmark-Dataset\\mini-eval\\responses_v2\\zero-shot-self-verification-cot\\self_consistency\\structural_flaws_inText\\CENTRACKINTERNATIONALINC_10_29_1999-EX-10.3-WEBSITEHOSTINGAGREEMENT.txt_0.json\n",
      "\u26a0\ufe0f Skipped (no update needed): \\\\?\\c:\\Users\\Noel\\Documents\\Projects\\School\\CSE 576\\Legal-Document-Discrepancy-Benchmark-Dataset\\mini-eval\\responses_v2\\zero-shot-self-verification\\self_consistency\\structural_flaws_inText\\ADAMSGOLFINC_03_21_2005-EX-10.17-ENDORSEMENTAGREEMENT.txt_0.json\n"
     ]
    },
    {
     "name": "stderr",
     "output_type": "stream",
     "text": [
      "Evaluating explanations (SBERT):  70%|\u2588\u2588\u2588\u2588\u2588\u2588\u2588   | 21/30 [00:04<00:02,  4.48it/s]\u001b[A\u001b[A\u001b[A\u001b[A\u001b[A\u001b[A\n",
      "\u001b[A\n",
      "\n",
      "\n",
      "\u001b[A\u001b[A\u001b[A\n",
      "\n",
      "\n",
      "\n",
      "\u001b[A\u001b[A\u001b[A\u001b[A\n",
      "\n",
      "\n",
      "\n",
      "\n",
      "\n",
      "\u001b[A\u001b[A\u001b[A\u001b[A\u001b[A\u001b[A"
     ]
    },
    {
     "name": "stdout",
     "output_type": "stream",
     "text": [
      "\u26a0\ufe0f Skipped (no update needed): \\\\?\\c:\\Users\\Noel\\Documents\\Projects\\School\\CSE 576\\Legal-Document-Discrepancy-Benchmark-Dataset\\mini-eval\\responses_v2\\zero-shot\\self_consistency\\structural_flaws_inText\\CENTRACKINTERNATIONALINC_10_29_1999-EX-10.3-WEBSITEHOSTINGAGREEMENT.txt_0.json\n",
      "\u26a0\ufe0f Skipped (no update needed): \\\\?\\c:\\Users\\Noel\\Documents\\Projects\\School\\CSE 576\\Legal-Document-Discrepancy-Benchmark-Dataset\\mini-eval\\responses_v2\\few-shot-self-verification\\self_consistency\\structural_flaws_inText\\DOMINIADVISORTRUST_02_18_2005-EX-99.(H)(2)-SPONSORSHIPAGREEMENT.txt_0.json\n",
      "\u26a0\ufe0f Skipped (no update needed): \\\\?\\c:\\Users\\Noel\\Documents\\Projects\\School\\CSE 576\\Legal-Document-Discrepancy-Benchmark-Dataset\\mini-eval\\responses_v2\\few-shot\\self_consistency\\omissions_inText\\Freecook_20180605_S-1_EX-10.3_11233807_EX-10.3_HostingAgreement.txt_0.json\n",
      "\u26a0\ufe0f Skipped (no update needed): \\\\?\\c:\\Users\\Noel\\Documents\\Projects\\School\\CSE 576\\Legal-Document-Discrepancy-Benchmark-Dataset\\mini-eval\\responses_v2\\few-shot-self-verification-cot\\self_consistency\\omissions_inText\\Freecook_20180605_S-1_EX-10.3_11233807_EX-10.3_HostingAgreement.txt_0.json\n",
      "\u26a0\ufe0f Skipped (no update needed): \\\\?\\c:\\Users\\Noel\\Documents\\Projects\\School\\CSE 576\\Legal-Document-Discrepancy-Benchmark-Dataset\\mini-eval\\responses_v2\\zero-shot-cot\\self_consistency\\structural_flaws_inText\\ADAMSGOLFINC_03_21_2005-EX-10.17-ENDORSEMENTAGREEMENT.txt_0.json\n"
     ]
    },
    {
     "name": "stderr",
     "output_type": "stream",
     "text": [
      "\n",
      "\n",
      "Evaluating explanations (SBERT):  80%|\u2588\u2588\u2588\u2588\u2588\u2588\u2588\u2588  | 24/30 [00:05<00:01,  4.57it/s]\n",
      "\n"
     ]
    },
    {
     "name": "stdout",
     "output_type": "stream",
     "text": [
      "\u26a0\ufe0f Skipped (no update needed): \\\\?\\c:\\Users\\Noel\\Documents\\Projects\\School\\CSE 576\\Legal-Document-Discrepancy-Benchmark-Dataset\\mini-eval\\responses_v2\\few-shot-cot\\self_consistency\\structural_flaws_inText\\CENTRACKINTERNATIONALINC_10_29_1999-EX-10.3-WEBSITEHOSTINGAGREEMENT.txt_0.json\n",
      "\u26a0\ufe0f Skipped (no update needed): \\\\?\\c:\\Users\\Noel\\Documents\\Projects\\School\\CSE 576\\Legal-Document-Discrepancy-Benchmark-Dataset\\mini-eval\\responses_v2\\zero-shot-self-verification-cot\\self_consistency\\structural_flaws_inText\\DOMINIADVISORTRUST_02_18_2005-EX-99.(H)(2)-SPONSORSHIPAGREEMENT.txt_0.json\n",
      "\u26a0\ufe0f Skipped (no update needed): \\\\?\\c:\\Users\\Noel\\Documents\\Projects\\School\\CSE 576\\Legal-Document-Discrepancy-Benchmark-Dataset\\mini-eval\\responses_v2\\zero-shot\\self_consistency\\structural_flaws_inText\\DOMINIADVISORTRUST_02_18_2005-EX-99.(H)(2)-SPONSORSHIPAGREEMENT.txt_0.json\n"
     ]
    },
    {
     "name": "stderr",
     "output_type": "stream",
     "text": [
      "Evaluating explanations (SBERT):  80%|\u2588\u2588\u2588\u2588\u2588\u2588\u2588\u2588  | 24/30 [00:05<00:01,  4.62it/s]\u001b[A\u001b[A\n",
      "\n",
      "\n",
      "\n",
      "\n",
      "Evaluating explanations (SBERT): 100%|\u2588\u2588\u2588\u2588\u2588\u2588\u2588\u2588\u2588\u2588| 30/30 [00:05<00:00,  5.56it/s]\n",
      "\n",
      "\n",
      "\n",
      "\u001b[A\u001b[A\u001b[A\n",
      "\n",
      "\n",
      "\n",
      "\n",
      "\n",
      "\u001b[A\u001b[A\u001b[A\u001b[A\u001b[A\u001b[A\n",
      "\n",
      "\n",
      "\n",
      "\n"
     ]
    },
    {
     "name": "stdout",
     "output_type": "stream",
     "text": [
      "\u26a0\ufe0f Skipped (no update needed): \\\\?\\c:\\Users\\Noel\\Documents\\Projects\\School\\CSE 576\\Legal-Document-Discrepancy-Benchmark-Dataset\\mini-eval\\responses_v2\\few-shot-self-verification\\self_consistency\\structural_flaws_inText\\Freecook_20180605_S-1_EX-10.3_11233807_EX-10.3_HostingAgreement.txt_0.json\n",
      "\u26a0\ufe0f Skipped (no update needed): \\\\?\\c:\\Users\\Noel\\Documents\\Projects\\School\\CSE 576\\Legal-Document-Discrepancy-Benchmark-Dataset\\mini-eval\\responses_v2\\zero-shot-self-verification\\self_consistency\\structural_flaws_inText\\BORROWMONEYCOM,INC_06_11_2020-EX-10.1-JOINTVENTUREAGREEMENT.txt_0.json\n",
      "\u26a0\ufe0f No ground truth explanations for: unperturbed\\2ThemartComInc_19990826_10-12G_EX-10.10_6700288_EX-10.10_Co-Branding Agreement_ Agency Agreement\n",
      "\u26a0\ufe0f No ground truth explanations for: unperturbed\\ABILITYINC_06_15_2020-EX-4.25-SERVICES AGREEMENT\n",
      "\u26a0\ufe0f No ground truth explanations for: unperturbed\\ACCELERATEDTECHNOLOGIESHOLDINGCORP_04_24_2003-EX-10.13-JOINT VENTURE AGREEMENT\n",
      "\u26a0\ufe0f No ground truth explanations for: unperturbed\\ACCURAYINC_09_01_2010-EX-10.31-DISTRIBUTOR AGREEMENT\n",
      "\u26a0\ufe0f No ground truth explanations for: unperturbed\\ADAMSGOLFINC_03_21_2005-EX-10.17-ENDORSEMENT AGREEMENT\n",
      "\n",
      "\ud83d\udcc1 Directory: ambiguity_inText\n",
      "Text Match (any): 8 / 15\n",
      "  \u251c\u2500 v1 (changed_text): 7 / 15\n",
      "  \u2514\u2500 v2 (contradicted_text): 4 / 15\n",
      "Explanation Match: 1 / 15\n",
      "Text + Explanation Match: 1 / 15\n",
      "\n",
      "\ud83d\udcc1 Directory: inconsistencies_inText\n",
      "Text Match (any): 10 / 15\n",
      "  \u251c\u2500 v1 (changed_text): 9 / 15\n",
      "  \u2514\u2500 v2 (contradicted_text): 9 / 15\n",
      "Explanation Match: 1 / 15\n",
      "Text + Explanation Match: 1 / 15\n",
      "\n",
      "\ud83d\udcc1 Directory: misaligned_terminalogy_inText\n",
      "Text Match (any): 8 / 15\n",
      "  \u251c\u2500 v1 (changed_text): 5 / 15\n",
      "  \u2514\u2500 v2 (contradicted_text): 5 / 15\n",
      "Explanation Match: 1 / 15\n",
      "Text + Explanation Match: 1 / 15\n",
      "\n",
      "\ud83d\udcc1 Directory: omissions_inText\n",
      "Text Match (any): 6 / 15\n",
      "  \u251c\u2500 v1 (changed_text): 5 / 15\n",
      "  \u2514\u2500 v2 (contradicted_text): 1 / 15\n",
      "Explanation Match: 0 / 15\n",
      "Text + Explanation Match: 0 / 15\n",
      "\n",
      "\ud83d\udcc1 Directory: structural_flaws_inText\n",
      "Text Match (any): 11 / 15\n",
      "  \u251c\u2500 v1 (changed_text): 11 / 15\n",
      "  \u2514\u2500 v2 (contradicted_text): 9 / 15\n",
      "Explanation Match: 4 / 15\n",
      "Text + Explanation Match: 4 / 15\n",
      "\u26a0\ufe0f Skipped (no update needed): \\\\?\\c:\\Users\\Noel\\Documents\\Projects\\School\\CSE 576\\Legal-Document-Discrepancy-Benchmark-Dataset\\mini-eval\\responses_v2\\few-shot\\self_consistency\\structural_flaws_inText\\ADAMSGOLFINC_03_21_2005-EX-10.17-ENDORSEMENTAGREEMENT.txt_0.json\n",
      "\u26a0\ufe0f Skipped (no update needed): \\\\?\\c:\\Users\\Noel\\Documents\\Projects\\School\\CSE 576\\Legal-Document-Discrepancy-Benchmark-Dataset\\mini-eval\\responses_v2\\zero-shot-cot\\self_consistency\\structural_flaws_inText\\BORROWMONEYCOM,INC_06_11_2020-EX-10.1-JOINTVENTUREAGREEMENT.txt_0.json\n",
      "\u26a0\ufe0f Skipped (no update needed): \\\\?\\c:\\Users\\Noel\\Documents\\Projects\\School\\CSE 576\\Legal-Document-Discrepancy-Benchmark-Dataset\\mini-eval\\responses_v2\\few-shot-self-verification-cot\\self_consistency\\structural_flaws_inText\\ADAMSGOLFINC_03_21_2005-EX-10.17-ENDORSEMENTAGREEMENT.txt_0.json\n"
     ]
    },
    {
     "name": "stderr",
     "output_type": "stream",
     "text": [
      "Evaluating explanations (SBERT):  70%|\u2588\u2588\u2588\u2588\u2588\u2588\u2588   | 21/30 [00:04<00:02,  4.12it/s]\u001b[A\u001b[A\u001b[A\u001b[A\u001b[A\n",
      "\n",
      "\u001b[A\u001b[A\n",
      "\n"
     ]
    },
    {
     "name": "stdout",
     "output_type": "stream",
     "text": [
      "\u26a0\ufe0f Skipped (no update needed): \\\\?\\c:\\Users\\Noel\\Documents\\Projects\\School\\CSE 576\\Legal-Document-Discrepancy-Benchmark-Dataset\\mini-eval\\responses_v2\\few-shot-cot\\self_consistency\\structural_flaws_inText\\DOMINIADVISORTRUST_02_18_2005-EX-99.(H)(2)-SPONSORSHIPAGREEMENT.txt_0.json\n",
      "\u26a0\ufe0f Skipped (no update needed): \\\\?\\c:\\Users\\Noel\\Documents\\Projects\\School\\CSE 576\\Legal-Document-Discrepancy-Benchmark-Dataset\\mini-eval\\responses_v2\\zero-shot\\self_consistency\\structural_flaws_inText\\Freecook_20180605_S-1_EX-10.3_11233807_EX-10.3_HostingAgreement.txt_0.json\n"
     ]
    },
    {
     "name": "stderr",
     "output_type": "stream",
     "text": [
      "Evaluating explanations (SBERT):  83%|\u2588\u2588\u2588\u2588\u2588\u2588\u2588\u2588\u258e | 25/30 [00:05<00:01,  4.60it/s]\u001b[A\u001b[A\n",
      "\n",
      "\n",
      "\n",
      "\n",
      "Evaluating explanations (SBERT): 100%|\u2588\u2588\u2588\u2588\u2588\u2588\u2588\u2588\u2588\u2588| 30/30 [00:05<00:00,  5.38it/s]\n",
      "Evaluating explanations (SBERT): 100%|\u2588\u2588\u2588\u2588\u2588\u2588\u2588\u2588\u2588\u2588| 30/30 [00:05<00:00,  5.37it/s]\n",
      "\n",
      "\n",
      "\n",
      "\n",
      "\n",
      "\n",
      "\u001b[A\u001b[A\u001b[A\u001b[A\u001b[A\u001b[A\n",
      "\n",
      "\n",
      "\n"
     ]
    },
    {
     "name": "stdout",
     "output_type": "stream",
     "text": [
      "\u26a0\ufe0f Skipped (no update needed): \\\\?\\c:\\Users\\Noel\\Documents\\Projects\\School\\CSE 576\\Legal-Document-Discrepancy-Benchmark-Dataset\\mini-eval\\responses_v2\\zero-shot-self-verification-cot\\self_consistency\\structural_flaws_inText\\Freecook_20180605_S-1_EX-10.3_11233807_EX-10.3_HostingAgreement.txt_0.json\n",
      "\u26a0\ufe0f No ground truth explanations for: unperturbed\\2ThemartComInc_19990826_10-12G_EX-10.10_6700288_EX-10.10_Co-Branding Agreement_ Agency Agreement\n",
      "\u26a0\ufe0f No ground truth explanations for: unperturbed\\2ThemartComInc_19990826_10-12G_EX-10.10_6700288_EX-10.10_Co-Branding Agreement_ Agency Agreement\n",
      "\u26a0\ufe0f Skipped (no update needed): \\\\?\\c:\\Users\\Noel\\Documents\\Projects\\School\\CSE 576\\Legal-Document-Discrepancy-Benchmark-Dataset\\mini-eval\\responses_v2\\zero-shot-self-verification\\self_consistency\\structural_flaws_inText\\CENTRACKINTERNATIONALINC_10_29_1999-EX-10.3-WEBSITEHOSTINGAGREEMENT.txt_0.json\n",
      "\u26a0\ufe0f No ground truth explanations for: unperturbed\\ABILITYINC_06_15_2020-EX-4.25-SERVICES AGREEMENT\n",
      "\u26a0\ufe0f No ground truth explanations for: unperturbed\\ABILITYINC_06_15_2020-EX-4.25-SERVICES AGREEMENT\n",
      "\u26a0\ufe0f No ground truth explanations for: unperturbed\\ACCELERATEDTECHNOLOGIESHOLDINGCORP_04_24_2003-EX-10.13-JOINT VENTURE AGREEMENT\n",
      "\u26a0\ufe0f No ground truth explanations for: unperturbed\\ACCELERATEDTECHNOLOGIESHOLDINGCORP_04_24_2003-EX-10.13-JOINT VENTURE AGREEMENT\n",
      "\u26a0\ufe0f No ground truth explanations for: unperturbed\\ACCURAYINC_09_01_2010-EX-10.31-DISTRIBUTOR AGREEMENT\n",
      "\u26a0\ufe0f No ground truth explanations for: unperturbed\\ACCURAYINC_09_01_2010-EX-10.31-DISTRIBUTOR AGREEMENT\n",
      "\u26a0\ufe0f No ground truth explanations for: unperturbed\\ADAMSGOLFINC_03_21_2005-EX-10.17-ENDORSEMENT AGREEMENT\n",
      "\u26a0\ufe0f No ground truth explanations for: unperturbed\\ADAMSGOLFINC_03_21_2005-EX-10.17-ENDORSEMENT AGREEMENT\n",
      "\n",
      "\ud83d\udcc1 Directory: ambiguity_inText\n",
      "Text Match (any): 8 / 15\n",
      "  \u251c\u2500 v1 (changed_text): 7 / 15\n",
      "  \u2514\u2500 v2 (contradicted_text): 4 / 15\n",
      "Explanation Match: 5 / 15\n",
      "Text + Explanation Match: 4 / 15\n",
      "\n",
      "\ud83d\udcc1 Directory: inconsistencies_inText\n",
      "Text Match (any): 12 / 15\n",
      "  \u251c\u2500 v1 (changed_text): 11 / 15\n",
      "  \u2514\u2500 v2 (contradicted_text): 12 / 15\n",
      "Explanation Match: 2 / 15\n",
      "Text + Explanation Match: 1 / 15\n",
      "\n",
      "\ud83d\udcc1 Directory: misaligned_terminalogy_inText\n",
      "Text Match (any): 11 / 16\n",
      "  \u251c\u2500 v1 (changed_text): 10 / 16\n",
      "  \u2514\u2500 v2 (contradicted_text): 2 / 16\n",
      "Explanation Match: 2 / 16\n",
      "Text + Explanation Match: 2 / 16\n",
      "\n",
      "\ud83d\udcc1 Directory: omissions_inText\n",
      "Text Match (any): 7 / 15\n",
      "  \u251c\u2500 v1 (changed_text): 5 / 15\n",
      "  \u2514\u2500 v2 (contradicted_text): 3 / 15\n",
      "Explanation Match: 3 / 15\n",
      "Text + Explanation Match: 2 / 15\n",
      "\n",
      "\ud83d\udcc1 Directory: structural_flaws_inText\n",
      "Text Match (any): 10 / 17\n",
      "  \u251c\u2500 v1 (changed_text): 10 / 17\n",
      "  \u2514\u2500 v2 (contradicted_text): 8 / 17\n",
      "Explanation Match: 8 / 17\n",
      "Text + Explanation Match: 6 / 17\n",
      "\n",
      "\ud83d\udcc1 Directory: ambiguity_inText\n",
      "Text Match (any): 8 / 16\n",
      "  \u251c\u2500 v1 (changed_text): 8 / 16\n",
      "  \u2514\u2500 v2 (contradicted_text): 3 / 16\n",
      "Explanation Match: 3 / 16\n",
      "Text + Explanation Match: 2 / 16\n",
      "\n",
      "\ud83d\udcc1 Directory: inconsistencies_inText\n",
      "Text Match (any): 8 / 14\n",
      "  \u251c\u2500 v1 (changed_text): 5 / 14\n",
      "  \u2514\u2500 v2 (contradicted_text): 8 / 14\n",
      "Explanation Match: 1 / 14\n",
      "Text + Explanation Match: 0 / 14\n",
      "\n",
      "\ud83d\udcc1 Directory: misaligned_terminalogy_inText\n",
      "Text Match (any): 10 / 21\n",
      "  \u251c\u2500 v1 (changed_text): 8 / 21\n",
      "  \u2514\u2500 v2 (contradicted_text): 4 / 21\n",
      "Explanation Match: 2 / 21\n",
      "Text + Explanation Match: 2 / 21\n",
      "\n",
      "\ud83d\udcc1 Directory: omissions_inText\n",
      "Text Match (any): 10 / 25\n",
      "  \u251c\u2500 v1 (changed_text): 8 / 25\n",
      "  \u2514\u2500 v2 (contradicted_text): 4 / 25\n",
      "Explanation Match: 0 / 25\n",
      "Text + Explanation Match: 0 / 25\n",
      "\n",
      "\ud83d\udcc1 Directory: structural_flaws_inText\n",
      "Text Match (any): 10 / 21\n",
      "  \u251c\u2500 v1 (changed_text): 9 / 21\n",
      "  \u2514\u2500 v2 (contradicted_text): 7 / 21\n",
      "Explanation Match: 5 / 21\n",
      "Text + Explanation Match: 3 / 21\n",
      "\u26a0\ufe0f Skipped (no update needed): \\\\?\\c:\\Users\\Noel\\Documents\\Projects\\School\\CSE 576\\Legal-Document-Discrepancy-Benchmark-Dataset\\mini-eval\\responses_v2\\zero-shot-cot\\self_consistency\\structural_flaws_inText\\CENTRACKINTERNATIONALINC_10_29_1999-EX-10.3-WEBSITEHOSTINGAGREEMENT.txt_0.json\n",
      "\u26a0\ufe0f Skipped (no update needed): \\\\?\\c:\\Users\\Noel\\Documents\\Projects\\School\\CSE 576\\Legal-Document-Discrepancy-Benchmark-Dataset\\mini-eval\\responses_v2\\few-shot\\self_consistency\\structural_flaws_inText\\BORROWMONEYCOM,INC_06_11_2020-EX-10.1-JOINTVENTUREAGREEMENT.txt_0.json\n"
     ]
    },
    {
     "name": "stderr",
     "output_type": "stream",
     "text": [
      "Evaluating explanations (SBERT):  73%|\u2588\u2588\u2588\u2588\u2588\u2588\u2588\u258e  | 22/30 [00:05<00:01,  4.18it/s]\u001b[A\u001b[A\u001b[A\u001b[A\n",
      "\n",
      "\u001b[A\u001b[A\n",
      "\n",
      "\n",
      "\n",
      "\n"
     ]
    },
    {
     "name": "stdout",
     "output_type": "stream",
     "text": [
      "\u26a0\ufe0f Skipped (no update needed): \\\\?\\c:\\Users\\Noel\\Documents\\Projects\\School\\CSE 576\\Legal-Document-Discrepancy-Benchmark-Dataset\\mini-eval\\responses_v2\\few-shot-cot\\self_consistency\\structural_flaws_inText\\Freecook_20180605_S-1_EX-10.3_11233807_EX-10.3_HostingAgreement.txt_0.json\n",
      "\u26a0\ufe0f No ground truth explanations for: unperturbed\\2ThemartComInc_19990826_10-12G_EX-10.10_6700288_EX-10.10_Co-Branding Agreement_ Agency Agreement\n",
      "\u26a0\ufe0f No ground truth explanations for: unperturbed\\ABILITYINC_06_15_2020-EX-4.25-SERVICES AGREEMENT\n",
      "\u26a0\ufe0f Skipped (no update needed): \\\\?\\c:\\Users\\Noel\\Documents\\Projects\\School\\CSE 576\\Legal-Document-Discrepancy-Benchmark-Dataset\\mini-eval\\responses_v2\\few-shot-self-verification-cot\\self_consistency\\structural_flaws_inText\\BORROWMONEYCOM,INC_06_11_2020-EX-10.1-JOINTVENTUREAGREEMENT.txt_0.json\n"
     ]
    },
    {
     "name": "stderr",
     "output_type": "stream",
     "text": [
      "Evaluating explanations (SBERT):  73%|\u2588\u2588\u2588\u2588\u2588\u2588\u2588\u258e  | 22/30 [00:05<00:01,  4.15it/s]\u001b[A\u001b[A\u001b[A\u001b[A\u001b[A\n",
      "\n",
      "\n",
      "\n",
      "\n",
      "Evaluating explanations (SBERT): 100%|\u2588\u2588\u2588\u2588\u2588\u2588\u2588\u2588\u2588\u2588| 30/30 [00:05<00:00,  5.57it/s]\n",
      "\n",
      "\n",
      "\n",
      "\n",
      "\n",
      "\n",
      "\u001b[A\u001b[A\u001b[A\u001b[A\u001b[A\u001b[A\n",
      "\n",
      "\n",
      "\u001b[A\u001b[A\u001b[A\n",
      "\n",
      "\n",
      "\n",
      "\n"
     ]
    },
    {
     "name": "stdout",
     "output_type": "stream",
     "text": [
      "\u26a0\ufe0f No ground truth explanations for: unperturbed\\ACCELERATEDTECHNOLOGIESHOLDINGCORP_04_24_2003-EX-10.13-JOINT VENTURE AGREEMENT\n",
      "\u26a0\ufe0f No ground truth explanations for: unperturbed\\ACCURAYINC_09_01_2010-EX-10.31-DISTRIBUTOR AGREEMENT\n",
      "\u26a0\ufe0f Skipped (no update needed): \\\\?\\c:\\Users\\Noel\\Documents\\Projects\\School\\CSE 576\\Legal-Document-Discrepancy-Benchmark-Dataset\\mini-eval\\responses_v2\\zero-shot-self-verification\\self_consistency\\structural_flaws_inText\\DOMINIADVISORTRUST_02_18_2005-EX-99.(H)(2)-SPONSORSHIPAGREEMENT.txt_0.json\n",
      "\u26a0\ufe0f No ground truth explanations for: unperturbed\\ADAMSGOLFINC_03_21_2005-EX-10.17-ENDORSEMENT AGREEMENT\n",
      "\n",
      "\ud83d\udcc1 Directory: ambiguity_inText\n",
      "Text Match (any): 9 / 15\n",
      "  \u251c\u2500 v1 (changed_text): 7 / 15\n",
      "  \u2514\u2500 v2 (contradicted_text): 4 / 15\n",
      "Explanation Match: 3 / 15\n",
      "Text + Explanation Match: 3 / 15\n",
      "\n",
      "\ud83d\udcc1 Directory: inconsistencies_inText\n",
      "Text Match (any): 8 / 15\n",
      "  \u251c\u2500 v1 (changed_text): 7 / 15\n",
      "  \u2514\u2500 v2 (contradicted_text): 7 / 15\n",
      "Explanation Match: 0 / 15\n",
      "Text + Explanation Match: 0 / 15\n",
      "\n",
      "\ud83d\udcc1 Directory: misaligned_terminalogy_inText\n",
      "Text Match (any): 7 / 17\n",
      "  \u251c\u2500 v1 (changed_text): 5 / 17\n",
      "  \u2514\u2500 v2 (contradicted_text): 4 / 17\n",
      "Explanation Match: 1 / 17\n",
      "Text + Explanation Match: 1 / 17\n",
      "\n",
      "\ud83d\udcc1 Directory: omissions_inText\n",
      "Text Match (any): 5 / 15\n",
      "  \u251c\u2500 v1 (changed_text): 3 / 15\n",
      "  \u2514\u2500 v2 (contradicted_text): 2 / 15\n",
      "Explanation Match: 2 / 15\n",
      "Text + Explanation Match: 2 / 15\n",
      "\n",
      "\ud83d\udcc1 Directory: structural_flaws_inText\n",
      "Text Match (any): 10 / 15\n",
      "  \u251c\u2500 v1 (changed_text): 10 / 15\n",
      "  \u2514\u2500 v2 (contradicted_text): 7 / 15\n",
      "Explanation Match: 11 / 15\n",
      "Text + Explanation Match: 9 / 15\n",
      "\u26a0\ufe0f Skipped (no update needed): \\\\?\\c:\\Users\\Noel\\Documents\\Projects\\School\\CSE 576\\Legal-Document-Discrepancy-Benchmark-Dataset\\mini-eval\\responses_v2\\zero-shot-cot\\self_consistency\\structural_flaws_inText\\DOMINIADVISORTRUST_02_18_2005-EX-99.(H)(2)-SPONSORSHIPAGREEMENT.txt_0.json\n",
      "\u26a0\ufe0f Skipped (no update needed): \\\\?\\c:\\Users\\Noel\\Documents\\Projects\\School\\CSE 576\\Legal-Document-Discrepancy-Benchmark-Dataset\\mini-eval\\responses_v2\\few-shot\\self_consistency\\structural_flaws_inText\\CENTRACKINTERNATIONALINC_10_29_1999-EX-10.3-WEBSITEHOSTINGAGREEMENT.txt_0.json\n",
      "\u26a0\ufe0f Skipped (no update needed): \\\\?\\c:\\Users\\Noel\\Documents\\Projects\\School\\CSE 576\\Legal-Document-Discrepancy-Benchmark-Dataset\\mini-eval\\responses_v2\\few-shot-self-verification-cot\\self_consistency\\structural_flaws_inText\\CENTRACKINTERNATIONALINC_10_29_1999-EX-10.3-WEBSITEHOSTINGAGREEMENT.txt_0.json\n"
     ]
    },
    {
     "name": "stderr",
     "output_type": "stream",
     "text": [
      "Evaluating explanations (SBERT):  77%|\u2588\u2588\u2588\u2588\u2588\u2588\u2588\u258b  | 23/30 [00:05<00:01,  4.66it/s]\u001b[A\u001b[A\u001b[A\u001b[A\u001b[A\n",
      "\n",
      "\n",
      "\n",
      "\n",
      "Evaluating explanations (SBERT): 100%|\u2588\u2588\u2588\u2588\u2588\u2588\u2588\u2588\u2588\u2588| 30/30 [00:05<00:00,  5.70it/s]"
     ]
    },
    {
     "name": "stdout",
     "output_type": "stream",
     "text": [
      "\u26a0\ufe0f Skipped (no update needed): \\\\?\\c:\\Users\\Noel\\Documents\\Projects\\School\\CSE 576\\Legal-Document-Discrepancy-Benchmark-Dataset\\mini-eval\\responses_v2\\zero-shot-self-verification\\self_consistency\\structural_flaws_inText\\Freecook_20180605_S-1_EX-10.3_11233807_EX-10.3_HostingAgreement.txt_0.json\n",
      "\u26a0\ufe0f No ground truth explanations for: unperturbed\\2ThemartComInc_19990826_10-12G_EX-10.10_6700288_EX-10.10_Co-Branding Agreement_ Agency Agreement\n",
      "\u26a0\ufe0f No ground truth explanations for: unperturbed\\ABILITYINC_06_15_2020-EX-4.25-SERVICES AGREEMENT\n",
      "\u26a0\ufe0f No ground truth explanations for: unperturbed\\ACCELERATEDTECHNOLOGIESHOLDINGCORP_04_24_2003-EX-10.13-JOINT VENTURE AGREEMENT\n",
      "\u26a0\ufe0f No ground truth explanations for: unperturbed\\ACCURAYINC_09_01_2010-EX-10.31-DISTRIBUTOR AGREEMENT\n",
      "\u26a0\ufe0f No ground truth explanations for: unperturbed\\ADAMSGOLFINC_03_21_2005-EX-10.17-ENDORSEMENT AGREEMENT\n"
     ]
    },
    {
     "name": "stderr",
     "output_type": "stream",
     "text": [
      "\n",
      "\n",
      "\n",
      "\n",
      "\n",
      "\n",
      "\n",
      "Evaluating explanations (SBERT): 100%|\u2588\u2588\u2588\u2588\u2588\u2588\u2588\u2588\u2588\u2588| 30/30 [00:05<00:00,  5.67it/s]\n",
      "\n",
      "\n",
      "\n",
      "\u001b[A\u001b[A\u001b[A\n",
      "\n",
      "\n",
      "\n",
      "\u001b[A\u001b[A\u001b[A\u001b[A"
     ]
    },
    {
     "name": "stdout",
     "output_type": "stream",
     "text": [
      "\n",
      "\ud83d\udcc1 Directory: ambiguity_inText\n",
      "Text Match (any): 7 / 15\n",
      "  \u251c\u2500 v1 (changed_text): 7 / 15\n",
      "  \u2514\u2500 v2 (contradicted_text): 2 / 15\n",
      "Explanation Match: 2 / 15\n",
      "Text + Explanation Match: 2 / 15\n",
      "\n",
      "\ud83d\udcc1 Directory: inconsistencies_inText\n",
      "Text Match (any): 12 / 22\n",
      "  \u251c\u2500 v1 (changed_text): 11 / 22\n",
      "  \u2514\u2500 v2 (contradicted_text): 11 / 22\n",
      "Explanation Match: 4 / 22\n",
      "Text + Explanation Match: 2 / 22\n",
      "\n",
      "\ud83d\udcc1 Directory: misaligned_terminalogy_inText\n",
      "Text Match (any): 6 / 18\n",
      "  \u251c\u2500 v1 (changed_text): 6 / 18\n",
      "  \u2514\u2500 v2 (contradicted_text): 0 / 18\n",
      "Explanation Match: 1 / 18\n",
      "Text + Explanation Match: 1 / 18\n",
      "\n",
      "\ud83d\udcc1 Directory: omissions_inText\n",
      "Text Match (any): 8 / 18\n",
      "  \u251c\u2500 v1 (changed_text): 3 / 18\n",
      "  \u2514\u2500 v2 (contradicted_text): 5 / 18\n",
      "Explanation Match: 0 / 18\n",
      "Text + Explanation Match: 0 / 18\n",
      "\n",
      "\ud83d\udcc1 Directory: structural_flaws_inText\n",
      "Text Match (any): 8 / 19\n",
      "  \u251c\u2500 v1 (changed_text): 8 / 19\n",
      "  \u2514\u2500 v2 (contradicted_text): 5 / 19\n",
      "Explanation Match: 5 / 19\n",
      "Text + Explanation Match: 3 / 19\n",
      "\u26a0\ufe0f Skipped (no update needed): \\\\?\\c:\\Users\\Noel\\Documents\\Projects\\School\\CSE 576\\Legal-Document-Discrepancy-Benchmark-Dataset\\mini-eval\\responses_v2\\zero-shot-cot\\self_consistency\\structural_flaws_inText\\Freecook_20180605_S-1_EX-10.3_11233807_EX-10.3_HostingAgreement.txt_0.json\n",
      "\u26a0\ufe0f No ground truth explanations for: unperturbed\\2ThemartComInc_19990826_10-12G_EX-10.10_6700288_EX-10.10_Co-Branding Agreement_ Agency Agreement\n",
      "\u26a0\ufe0f No ground truth explanations for: unperturbed\\ABILITYINC_06_15_2020-EX-4.25-SERVICES AGREEMENT\n",
      "\u26a0\ufe0f No ground truth explanations for: unperturbed\\ACCELERATEDTECHNOLOGIESHOLDINGCORP_04_24_2003-EX-10.13-JOINT VENTURE AGREEMENT\n",
      "\u26a0\ufe0f No ground truth explanations for: unperturbed\\ACCURAYINC_09_01_2010-EX-10.31-DISTRIBUTOR AGREEMENT\n",
      "\u26a0\ufe0f No ground truth explanations for: unperturbed\\ADAMSGOLFINC_03_21_2005-EX-10.17-ENDORSEMENT AGREEMENT\n",
      "\n",
      "\ud83d\udcc1 Directory: ambiguity_inText\n",
      "Text Match (any): 10 / 15\n",
      "  \u251c\u2500 v1 (changed_text): 9 / 15\n",
      "  \u2514\u2500 v2 (contradicted_text): 4 / 15\n",
      "Explanation Match: 4 / 15\n",
      "Text + Explanation Match: 4 / 15\n",
      "\n",
      "\ud83d\udcc1 Directory: inconsistencies_inText\n",
      "Text Match (any): 11 / 19\n",
      "  \u251c\u2500 v1 (changed_text): 10 / 19\n",
      "  \u2514\u2500 v2 (contradicted_text): 11 / 19\n",
      "Explanation Match: 1 / 19\n",
      "Text + Explanation Match: 1 / 19\n",
      "\n",
      "\ud83d\udcc1 Directory: misaligned_terminalogy_inText\n",
      "Text Match (any): 8 / 16\n",
      "  \u251c\u2500 v1 (changed_text): 7 / 16\n",
      "  \u2514\u2500 v2 (contradicted_text): 3 / 16\n",
      "Explanation Match: 1 / 16\n",
      "Text + Explanation Match: 1 / 16\n",
      "\n",
      "\ud83d\udcc1 Directory: omissions_inText\n",
      "Text Match (any): 7 / 15\n",
      "  \u251c\u2500 v1 (changed_text): 5 / 15\n",
      "  \u2514\u2500 v2 (contradicted_text): 3 / 15\n",
      "Explanation Match: 0 / 15\n",
      "Text + Explanation Match: 0 / 15\n",
      "\n",
      "\ud83d\udcc1 Directory: structural_flaws_inText\n",
      "Text Match (any): 7 / 16\n",
      "  \u251c\u2500 v1 (changed_text): 7 / 16\n",
      "  \u2514\u2500 v2 (contradicted_text): 5 / 16\n",
      "Explanation Match: 10 / 16\n",
      "Text + Explanation Match: 5 / 16\n",
      "\u26a0\ufe0f Skipped (no update needed): \\\\?\\c:\\Users\\Noel\\Documents\\Projects\\School\\CSE 576\\Legal-Document-Discrepancy-Benchmark-Dataset\\mini-eval\\responses_v2\\few-shot\\self_consistency\\structural_flaws_inText\\DOMINIADVISORTRUST_02_18_2005-EX-99.(H)(2)-SPONSORSHIPAGREEMENT.txt_0.json\n",
      "\u26a0\ufe0f Skipped (no update needed): \\\\?\\c:\\Users\\Noel\\Documents\\Projects\\School\\CSE 576\\Legal-Document-Discrepancy-Benchmark-Dataset\\mini-eval\\responses_v2\\few-shot-self-verification-cot\\self_consistency\\structural_flaws_inText\\DOMINIADVISORTRUST_02_18_2005-EX-99.(H)(2)-SPONSORSHIPAGREEMENT.txt_0.json\n"
     ]
    },
    {
     "name": "stderr",
     "output_type": "stream",
     "text": [
      "\n",
      "\n",
      "\n",
      "\u001b[A\u001b[A\u001b[A\n",
      "\n",
      "\n",
      "\n",
      "Evaluating explanations (SBERT): 100%|\u2588\u2588\u2588\u2588\u2588\u2588\u2588\u2588\u2588\u2588| 30/30 [00:05<00:00,  5.43it/s]\n",
      "Evaluating explanations (SBERT): 100%|\u2588\u2588\u2588\u2588\u2588\u2588\u2588\u2588\u2588\u2588| 30/30 [00:05<00:00,  5.42it/s]\n"
     ]
    },
    {
     "name": "stdout",
     "output_type": "stream",
     "text": [
      "\u26a0\ufe0f Skipped (no update needed): \\\\?\\c:\\Users\\Noel\\Documents\\Projects\\School\\CSE 576\\Legal-Document-Discrepancy-Benchmark-Dataset\\mini-eval\\responses_v2\\few-shot\\self_consistency\\structural_flaws_inText\\Freecook_20180605_S-1_EX-10.3_11233807_EX-10.3_HostingAgreement.txt_0.json\n",
      "\u26a0\ufe0f No ground truth explanations for: unperturbed\\2ThemartComInc_19990826_10-12G_EX-10.10_6700288_EX-10.10_Co-Branding Agreement_ Agency Agreement\n",
      "\u26a0\ufe0f No ground truth explanations for: unperturbed\\ABILITYINC_06_15_2020-EX-4.25-SERVICES AGREEMENT\n",
      "\u26a0\ufe0f Skipped (no update needed): \\\\?\\c:\\Users\\Noel\\Documents\\Projects\\School\\CSE 576\\Legal-Document-Discrepancy-Benchmark-Dataset\\mini-eval\\responses_v2\\few-shot-self-verification-cot\\self_consistency\\structural_flaws_inText\\Freecook_20180605_S-1_EX-10.3_11233807_EX-10.3_HostingAgreement.txt_0.json\n",
      "\u26a0\ufe0f No ground truth explanations for: unperturbed\\ACCELERATEDTECHNOLOGIESHOLDINGCORP_04_24_2003-EX-10.13-JOINT VENTURE AGREEMENT\n",
      "\u26a0\ufe0f No ground truth explanations for: unperturbed\\ACCURAYINC_09_01_2010-EX-10.31-DISTRIBUTOR AGREEMENT\n",
      "\u26a0\ufe0f No ground truth explanations for: unperturbed\\2ThemartComInc_19990826_10-12G_EX-10.10_6700288_EX-10.10_Co-Branding Agreement_ Agency Agreement\n",
      "\u26a0\ufe0f No ground truth explanations for: unperturbed\\ADAMSGOLFINC_03_21_2005-EX-10.17-ENDORSEMENT AGREEMENT\n",
      "\u26a0\ufe0f No ground truth explanations for: unperturbed\\ABILITYINC_06_15_2020-EX-4.25-SERVICES AGREEMENT\n",
      "\u26a0\ufe0f No ground truth explanations for: unperturbed\\ACCELERATEDTECHNOLOGIESHOLDINGCORP_04_24_2003-EX-10.13-JOINT VENTURE AGREEMENT\n",
      "\u26a0\ufe0f No ground truth explanations for: unperturbed\\ACCURAYINC_09_01_2010-EX-10.31-DISTRIBUTOR AGREEMENT\n",
      "\u26a0\ufe0f No ground truth explanations for: unperturbed\\ADAMSGOLFINC_03_21_2005-EX-10.17-ENDORSEMENT AGREEMENT\n",
      "\n",
      "\ud83d\udcc1 Directory: ambiguity_inText\n",
      "Text Match (any): 9 / 15\n",
      "  \u251c\u2500 v1 (changed_text): 9 / 15\n",
      "  \u2514\u2500 v2 (contradicted_text): 5 / 15\n",
      "Explanation Match: 3 / 15\n",
      "Text + Explanation Match: 3 / 15\n",
      "\n",
      "\ud83d\udcc1 Directory: inconsistencies_inText\n",
      "Text Match (any): 9 / 15\n",
      "  \u251c\u2500 v1 (changed_text): 9 / 15\n",
      "  \u2514\u2500 v2 (contradicted_text): 8 / 15\n",
      "Explanation Match: 2 / 15\n",
      "Text + Explanation Match: 2 / 15\n",
      "\n",
      "\ud83d\udcc1 Directory: misaligned_terminalogy_inText\n",
      "Text Match (any): 4 / 15\n",
      "  \u251c\u2500 v1 (changed_text): 4 / 15\n",
      "  \u2514\u2500 v2 (contradicted_text): 0 / 15\n",
      "Explanation Match: 1 / 15\n",
      "Text + Explanation Match: 1 / 15\n",
      "\n",
      "\ud83d\udcc1 Directory: omissions_inText\n",
      "Text Match (any): 6 / 15\n",
      "  \u251c\u2500 v1 (changed_text): 5 / 15\n",
      "  \u2514\u2500 v2 (contradicted_text): 2 / 15\n",
      "Explanation Match: 4 / 15\n",
      "Text + Explanation Match: 3 / 15\n",
      "\n",
      "\ud83d\udcc1 Directory: structural_flaws_inText\n",
      "Text Match (any): 10 / 15\n",
      "  \u251c\u2500 v1 (changed_text): 10 / 15\n",
      "  \u2514\u2500 v2 (contradicted_text): 8 / 15\n",
      "Explanation Match: 5 / 15\n",
      "Text + Explanation Match: 5 / 15\n",
      "\n",
      "\ud83d\udcc1 Directory: ambiguity_inText\n",
      "Text Match (any): 8 / 15\n",
      "  \u251c\u2500 v1 (changed_text): 7 / 15\n",
      "  \u2514\u2500 v2 (contradicted_text): 4 / 15\n",
      "Explanation Match: 3 / 15\n",
      "Text + Explanation Match: 2 / 15\n",
      "\n",
      "\ud83d\udcc1 Directory: inconsistencies_inText\n",
      "Text Match (any): 11 / 18\n",
      "  \u251c\u2500 v1 (changed_text): 9 / 18\n",
      "  \u2514\u2500 v2 (contradicted_text): 10 / 18\n",
      "Explanation Match: 1 / 18\n",
      "Text + Explanation Match: 1 / 18\n",
      "\n",
      "\ud83d\udcc1 Directory: misaligned_terminalogy_inText\n",
      "Text Match (any): 5 / 15\n",
      "  \u251c\u2500 v1 (changed_text): 5 / 15\n",
      "  \u2514\u2500 v2 (contradicted_text): 2 / 15\n",
      "Explanation Match: 1 / 15\n",
      "Text + Explanation Match: 1 / 15\n",
      "\n",
      "\ud83d\udcc1 Directory: omissions_inText\n",
      "Text Match (any): 8 / 18\n",
      "  \u251c\u2500 v1 (changed_text): 4 / 18\n",
      "  \u2514\u2500 v2 (contradicted_text): 5 / 18\n",
      "Explanation Match: 0 / 18\n",
      "Text + Explanation Match: 0 / 18\n",
      "\n",
      "\ud83d\udcc1 Directory: structural_flaws_inText\n",
      "Text Match (any): 11 / 15\n",
      "  \u251c\u2500 v1 (changed_text): 11 / 15\n",
      "  \u2514\u2500 v2 (contradicted_text): 9 / 15\n",
      "Explanation Match: 5 / 15\n",
      "Text + Explanation Match: 5 / 15\n",
      "\u2705 DONE\n"
     ]
    }
   ],
   "source": [
    "@contextlib.contextmanager\n",
    "def suppress_output():\n",
    "    with open(os.devnull, \"w\") as fnull:\n",
    "        with contextlib.redirect_stdout(fnull), contextlib.redirect_stderr(fnull):\n",
    "            yield\n",
    "\n",
    "\n",
    "# Semaphore to limit the number of concurrent threads to the number of API keys\n",
    "api_key_semaphore = threading.Semaphore(len(API_KEYS))\n",
    "\n",
    "run_results = {}\n",
    "\n",
    "\n",
    "def run_with_semaphore(run_config):\n",
    "    \"\"\"\n",
    "    Wrapper function to run a task while respecting the semaphore.\n",
    "    \"\"\"\n",
    "    with api_key_semaphore:\n",
    "        run_results[run_config[\"name\"]] = run(\n",
    "            model=run_config[\"model\"],\n",
    "            dataset=run_config[\"dataset\"],\n",
    "            prompt=run_config[\"prompt\"],\n",
    "            responses_dir=run_config[\"responses_dir\"],\n",
    "            num_responses=run_config[\"num_responses\"],\n",
    "            evaluation_model=run_config[\"evaluation_model\"],\n",
    "        )\n",
    "\n",
    "\n",
    "with ThreadPoolExecutor(max_workers=len(API_KEYS)) as executor:\n",
    "    for run_config in runs:\n",
    "        executor.submit(run_with_semaphore, run_config)\n",
    "\n",
    "print(\"\u2705 DONE\")"
   ]
  },
  {
   "cell_type": "markdown",
   "metadata": {},
   "source": [
    "### **Analysis**"
   ]
  },
  {
   "cell_type": "code",
   "execution_count": 11,
   "metadata": {},
   "outputs": [
    {
     "data": {
      "text/html": [
       "<div>\n",
       "<style scoped>\n",
       "    .dataframe tbody tr th:only-of-type {\n",
       "        vertical-align: middle;\n",
       "    }\n",
       "\n",
       "    .dataframe tbody tr th {\n",
       "        vertical-align: top;\n",
       "    }\n",
       "\n",
       "    .dataframe thead th {\n",
       "        text-align: right;\n",
       "    }\n",
       "</style>\n",
       "<table border=\"1\" class=\"dataframe\">\n",
       "  <thead>\n",
       "    <tr style=\"text-align: right;\">\n",
       "      <th></th>\n",
       "      <th>ambiguity_inText</th>\n",
       "      <th>inconsistencies_inText</th>\n",
       "      <th>misaligned_terminalogy_inText</th>\n",
       "      <th>omissions_inText</th>\n",
       "      <th>structural_flaws_inText</th>\n",
       "    </tr>\n",
       "  </thead>\n",
       "  <tbody>\n",
       "    <tr>\n",
       "      <th>few-shot-self-verification</th>\n",
       "      <td>{'text_matches': 8, 'text_match_v1': 7, 'text_...</td>\n",
       "      <td>{'text_matches': 10, 'text_match_v1': 9, 'text...</td>\n",
       "      <td>{'text_matches': 8, 'text_match_v1': 5, 'text_...</td>\n",
       "      <td>{'text_matches': 6, 'text_match_v1': 5, 'text_...</td>\n",
       "      <td>{'text_matches': 11, 'text_match_v1': 11, 'tex...</td>\n",
       "    </tr>\n",
       "    <tr>\n",
       "      <th>zero-shot</th>\n",
       "      <td>{'text_matches': 8, 'text_match_v1': 7, 'text_...</td>\n",
       "      <td>{'text_matches': 12, 'text_match_v1': 11, 'tex...</td>\n",
       "      <td>{'text_matches': 11, 'text_match_v1': 10, 'tex...</td>\n",
       "      <td>{'text_matches': 7, 'text_match_v1': 5, 'text_...</td>\n",
       "      <td>{'text_matches': 10, 'text_match_v1': 10, 'tex...</td>\n",
       "    </tr>\n",
       "    <tr>\n",
       "      <th>zero-shot-self-verification-cot</th>\n",
       "      <td>{'text_matches': 8, 'text_match_v1': 8, 'text_...</td>\n",
       "      <td>{'text_matches': 8, 'text_match_v1': 5, 'text_...</td>\n",
       "      <td>{'text_matches': 10, 'text_match_v1': 8, 'text...</td>\n",
       "      <td>{'text_matches': 10, 'text_match_v1': 8, 'text...</td>\n",
       "      <td>{'text_matches': 10, 'text_match_v1': 9, 'text...</td>\n",
       "    </tr>\n",
       "    <tr>\n",
       "      <th>few-shot-cot</th>\n",
       "      <td>{'text_matches': 9, 'text_match_v1': 7, 'text_...</td>\n",
       "      <td>{'text_matches': 8, 'text_match_v1': 7, 'text_...</td>\n",
       "      <td>{'text_matches': 7, 'text_match_v1': 5, 'text_...</td>\n",
       "      <td>{'text_matches': 5, 'text_match_v1': 3, 'text_...</td>\n",
       "      <td>{'text_matches': 10, 'text_match_v1': 10, 'tex...</td>\n",
       "    </tr>\n",
       "    <tr>\n",
       "      <th>zero-shot-self-verification</th>\n",
       "      <td>{'text_matches': 7, 'text_match_v1': 7, 'text_...</td>\n",
       "      <td>{'text_matches': 12, 'text_match_v1': 11, 'tex...</td>\n",
       "      <td>{'text_matches': 6, 'text_match_v1': 6, 'text_...</td>\n",
       "      <td>{'text_matches': 8, 'text_match_v1': 3, 'text_...</td>\n",
       "      <td>{'text_matches': 8, 'text_match_v1': 8, 'text_...</td>\n",
       "    </tr>\n",
       "    <tr>\n",
       "      <th>zero-shot-cot</th>\n",
       "      <td>{'text_matches': 10, 'text_match_v1': 9, 'text...</td>\n",
       "      <td>{'text_matches': 11, 'text_match_v1': 10, 'tex...</td>\n",
       "      <td>{'text_matches': 8, 'text_match_v1': 7, 'text_...</td>\n",
       "      <td>{'text_matches': 7, 'text_match_v1': 5, 'text_...</td>\n",
       "      <td>{'text_matches': 7, 'text_match_v1': 7, 'text_...</td>\n",
       "    </tr>\n",
       "    <tr>\n",
       "      <th>few-shot</th>\n",
       "      <td>{'text_matches': 9, 'text_match_v1': 9, 'text_...</td>\n",
       "      <td>{'text_matches': 9, 'text_match_v1': 9, 'text_...</td>\n",
       "      <td>{'text_matches': 4, 'text_match_v1': 4, 'text_...</td>\n",
       "      <td>{'text_matches': 6, 'text_match_v1': 5, 'text_...</td>\n",
       "      <td>{'text_matches': 10, 'text_match_v1': 10, 'tex...</td>\n",
       "    </tr>\n",
       "    <tr>\n",
       "      <th>few-shot-self-verification-cot</th>\n",
       "      <td>{'text_matches': 8, 'text_match_v1': 7, 'text_...</td>\n",
       "      <td>{'text_matches': 11, 'text_match_v1': 9, 'text...</td>\n",
       "      <td>{'text_matches': 5, 'text_match_v1': 5, 'text_...</td>\n",
       "      <td>{'text_matches': 8, 'text_match_v1': 4, 'text_...</td>\n",
       "      <td>{'text_matches': 11, 'text_match_v1': 11, 'tex...</td>\n",
       "    </tr>\n",
       "  </tbody>\n",
       "</table>\n",
       "</div>"
      ],
      "text/plain": [
       "                                                                  ambiguity_inText  \\\n",
       "few-shot-self-verification       {'text_matches': 8, 'text_match_v1': 7, 'text_...   \n",
       "zero-shot                        {'text_matches': 8, 'text_match_v1': 7, 'text_...   \n",
       "zero-shot-self-verification-cot  {'text_matches': 8, 'text_match_v1': 8, 'text_...   \n",
       "few-shot-cot                     {'text_matches': 9, 'text_match_v1': 7, 'text_...   \n",
       "zero-shot-self-verification      {'text_matches': 7, 'text_match_v1': 7, 'text_...   \n",
       "zero-shot-cot                    {'text_matches': 10, 'text_match_v1': 9, 'text...   \n",
       "few-shot                         {'text_matches': 9, 'text_match_v1': 9, 'text_...   \n",
       "few-shot-self-verification-cot   {'text_matches': 8, 'text_match_v1': 7, 'text_...   \n",
       "\n",
       "                                                            inconsistencies_inText  \\\n",
       "few-shot-self-verification       {'text_matches': 10, 'text_match_v1': 9, 'text...   \n",
       "zero-shot                        {'text_matches': 12, 'text_match_v1': 11, 'tex...   \n",
       "zero-shot-self-verification-cot  {'text_matches': 8, 'text_match_v1': 5, 'text_...   \n",
       "few-shot-cot                     {'text_matches': 8, 'text_match_v1': 7, 'text_...   \n",
       "zero-shot-self-verification      {'text_matches': 12, 'text_match_v1': 11, 'tex...   \n",
       "zero-shot-cot                    {'text_matches': 11, 'text_match_v1': 10, 'tex...   \n",
       "few-shot                         {'text_matches': 9, 'text_match_v1': 9, 'text_...   \n",
       "few-shot-self-verification-cot   {'text_matches': 11, 'text_match_v1': 9, 'text...   \n",
       "\n",
       "                                                     misaligned_terminalogy_inText  \\\n",
       "few-shot-self-verification       {'text_matches': 8, 'text_match_v1': 5, 'text_...   \n",
       "zero-shot                        {'text_matches': 11, 'text_match_v1': 10, 'tex...   \n",
       "zero-shot-self-verification-cot  {'text_matches': 10, 'text_match_v1': 8, 'text...   \n",
       "few-shot-cot                     {'text_matches': 7, 'text_match_v1': 5, 'text_...   \n",
       "zero-shot-self-verification      {'text_matches': 6, 'text_match_v1': 6, 'text_...   \n",
       "zero-shot-cot                    {'text_matches': 8, 'text_match_v1': 7, 'text_...   \n",
       "few-shot                         {'text_matches': 4, 'text_match_v1': 4, 'text_...   \n",
       "few-shot-self-verification-cot   {'text_matches': 5, 'text_match_v1': 5, 'text_...   \n",
       "\n",
       "                                                                  omissions_inText  \\\n",
       "few-shot-self-verification       {'text_matches': 6, 'text_match_v1': 5, 'text_...   \n",
       "zero-shot                        {'text_matches': 7, 'text_match_v1': 5, 'text_...   \n",
       "zero-shot-self-verification-cot  {'text_matches': 10, 'text_match_v1': 8, 'text...   \n",
       "few-shot-cot                     {'text_matches': 5, 'text_match_v1': 3, 'text_...   \n",
       "zero-shot-self-verification      {'text_matches': 8, 'text_match_v1': 3, 'text_...   \n",
       "zero-shot-cot                    {'text_matches': 7, 'text_match_v1': 5, 'text_...   \n",
       "few-shot                         {'text_matches': 6, 'text_match_v1': 5, 'text_...   \n",
       "few-shot-self-verification-cot   {'text_matches': 8, 'text_match_v1': 4, 'text_...   \n",
       "\n",
       "                                                           structural_flaws_inText  \n",
       "few-shot-self-verification       {'text_matches': 11, 'text_match_v1': 11, 'tex...  \n",
       "zero-shot                        {'text_matches': 10, 'text_match_v1': 10, 'tex...  \n",
       "zero-shot-self-verification-cot  {'text_matches': 10, 'text_match_v1': 9, 'text...  \n",
       "few-shot-cot                     {'text_matches': 10, 'text_match_v1': 10, 'tex...  \n",
       "zero-shot-self-verification      {'text_matches': 8, 'text_match_v1': 8, 'text_...  \n",
       "zero-shot-cot                    {'text_matches': 7, 'text_match_v1': 7, 'text_...  \n",
       "few-shot                         {'text_matches': 10, 'text_match_v1': 10, 'tex...  \n",
       "few-shot-self-verification-cot   {'text_matches': 11, 'text_match_v1': 11, 'tex...  "
      ]
     },
     "execution_count": 11,
     "metadata": {},
     "output_type": "execute_result"
    }
   ],
   "source": [
    "import pandas as pd\n",
    "\n",
    "df = pd.DataFrame.from_dict(run_results, orient=\"index\")\n",
    "df"
   ]
  },
  {
   "cell_type": "code",
   "execution_count": 12,
   "metadata": {},
   "outputs": [
    {
     "data": {
      "text/html": [
       "<div>\n",
       "<style scoped>\n",
       "    .dataframe tbody tr th:only-of-type {\n",
       "        vertical-align: middle;\n",
       "    }\n",
       "\n",
       "    .dataframe tbody tr th {\n",
       "        vertical-align: top;\n",
       "    }\n",
       "\n",
       "    .dataframe thead th {\n",
       "        text-align: right;\n",
       "    }\n",
       "</style>\n",
       "<table border=\"1\" class=\"dataframe\">\n",
       "  <thead>\n",
       "    <tr style=\"text-align: right;\">\n",
       "      <th></th>\n",
       "      <th>ambiguity_inText</th>\n",
       "      <th>inconsistencies_inText</th>\n",
       "      <th>misaligned_terminalogy_inText</th>\n",
       "      <th>omissions_inText</th>\n",
       "      <th>structural_flaws_inText</th>\n",
       "    </tr>\n",
       "  </thead>\n",
       "  <tbody>\n",
       "    <tr>\n",
       "      <th>few-shot-self-verification</th>\n",
       "      <td>0.533333</td>\n",
       "      <td>0.666667</td>\n",
       "      <td>0.533333</td>\n",
       "      <td>0.400000</td>\n",
       "      <td>0.733333</td>\n",
       "    </tr>\n",
       "    <tr>\n",
       "      <th>zero-shot</th>\n",
       "      <td>0.533333</td>\n",
       "      <td>0.800000</td>\n",
       "      <td>0.687500</td>\n",
       "      <td>0.466667</td>\n",
       "      <td>0.588235</td>\n",
       "    </tr>\n",
       "    <tr>\n",
       "      <th>zero-shot-self-verification-cot</th>\n",
       "      <td>0.500000</td>\n",
       "      <td>0.571429</td>\n",
       "      <td>0.476190</td>\n",
       "      <td>0.400000</td>\n",
       "      <td>0.476190</td>\n",
       "    </tr>\n",
       "    <tr>\n",
       "      <th>few-shot-cot</th>\n",
       "      <td>0.600000</td>\n",
       "      <td>0.533333</td>\n",
       "      <td>0.411765</td>\n",
       "      <td>0.333333</td>\n",
       "      <td>0.666667</td>\n",
       "    </tr>\n",
       "    <tr>\n",
       "      <th>zero-shot-self-verification</th>\n",
       "      <td>0.466667</td>\n",
       "      <td>0.545455</td>\n",
       "      <td>0.333333</td>\n",
       "      <td>0.444444</td>\n",
       "      <td>0.421053</td>\n",
       "    </tr>\n",
       "    <tr>\n",
       "      <th>zero-shot-cot</th>\n",
       "      <td>0.666667</td>\n",
       "      <td>0.578947</td>\n",
       "      <td>0.500000</td>\n",
       "      <td>0.466667</td>\n",
       "      <td>0.437500</td>\n",
       "    </tr>\n",
       "    <tr>\n",
       "      <th>few-shot</th>\n",
       "      <td>0.600000</td>\n",
       "      <td>0.600000</td>\n",
       "      <td>0.266667</td>\n",
       "      <td>0.400000</td>\n",
       "      <td>0.666667</td>\n",
       "    </tr>\n",
       "    <tr>\n",
       "      <th>few-shot-self-verification-cot</th>\n",
       "      <td>0.533333</td>\n",
       "      <td>0.611111</td>\n",
       "      <td>0.333333</td>\n",
       "      <td>0.444444</td>\n",
       "      <td>0.733333</td>\n",
       "    </tr>\n",
       "  </tbody>\n",
       "</table>\n",
       "</div>"
      ],
      "text/plain": [
       "                                 ambiguity_inText  inconsistencies_inText  \\\n",
       "few-shot-self-verification               0.533333                0.666667   \n",
       "zero-shot                                0.533333                0.800000   \n",
       "zero-shot-self-verification-cot          0.500000                0.571429   \n",
       "few-shot-cot                             0.600000                0.533333   \n",
       "zero-shot-self-verification              0.466667                0.545455   \n",
       "zero-shot-cot                            0.666667                0.578947   \n",
       "few-shot                                 0.600000                0.600000   \n",
       "few-shot-self-verification-cot           0.533333                0.611111   \n",
       "\n",
       "                                 misaligned_terminalogy_inText  \\\n",
       "few-shot-self-verification                            0.533333   \n",
       "zero-shot                                             0.687500   \n",
       "zero-shot-self-verification-cot                       0.476190   \n",
       "few-shot-cot                                          0.411765   \n",
       "zero-shot-self-verification                           0.333333   \n",
       "zero-shot-cot                                         0.500000   \n",
       "few-shot                                              0.266667   \n",
       "few-shot-self-verification-cot                        0.333333   \n",
       "\n",
       "                                 omissions_inText  structural_flaws_inText  \n",
       "few-shot-self-verification               0.400000                 0.733333  \n",
       "zero-shot                                0.466667                 0.588235  \n",
       "zero-shot-self-verification-cot          0.400000                 0.476190  \n",
       "few-shot-cot                             0.333333                 0.666667  \n",
       "zero-shot-self-verification              0.444444                 0.421053  \n",
       "zero-shot-cot                            0.466667                 0.437500  \n",
       "few-shot                                 0.400000                 0.666667  \n",
       "few-shot-self-verification-cot           0.444444                 0.733333  "
      ]
     },
     "execution_count": 12,
     "metadata": {},
     "output_type": "execute_result"
    }
   ],
   "source": [
    "text_match_df = df.copy()\n",
    "for column in text_match_df.columns:\n",
    "    text_match_df[column] = text_match_df[column].apply(\n",
    "        lambda x: x[\"text_matches\"] / x[\"total\"] if x[\"total\"] > 0 else 0\n",
    "    )\n",
    "text_match_df"
   ]
  },
  {
   "cell_type": "code",
   "execution_count": 13,
   "metadata": {},
   "outputs": [
    {
     "data": {
      "text/html": [
       "<div>\n",
       "<style scoped>\n",
       "    .dataframe tbody tr th:only-of-type {\n",
       "        vertical-align: middle;\n",
       "    }\n",
       "\n",
       "    .dataframe tbody tr th {\n",
       "        vertical-align: top;\n",
       "    }\n",
       "\n",
       "    .dataframe thead th {\n",
       "        text-align: right;\n",
       "    }\n",
       "</style>\n",
       "<table border=\"1\" class=\"dataframe\">\n",
       "  <thead>\n",
       "    <tr style=\"text-align: right;\">\n",
       "      <th></th>\n",
       "      <th>ambiguity_inText</th>\n",
       "      <th>inconsistencies_inText</th>\n",
       "      <th>misaligned_terminalogy_inText</th>\n",
       "      <th>omissions_inText</th>\n",
       "      <th>structural_flaws_inText</th>\n",
       "    </tr>\n",
       "  </thead>\n",
       "  <tbody>\n",
       "    <tr>\n",
       "      <th>few-shot-self-verification</th>\n",
       "      <td>0.066667</td>\n",
       "      <td>0.066667</td>\n",
       "      <td>0.066667</td>\n",
       "      <td>0.000000</td>\n",
       "      <td>0.266667</td>\n",
       "    </tr>\n",
       "    <tr>\n",
       "      <th>zero-shot</th>\n",
       "      <td>0.266667</td>\n",
       "      <td>0.066667</td>\n",
       "      <td>0.125000</td>\n",
       "      <td>0.133333</td>\n",
       "      <td>0.352941</td>\n",
       "    </tr>\n",
       "    <tr>\n",
       "      <th>zero-shot-self-verification-cot</th>\n",
       "      <td>0.125000</td>\n",
       "      <td>0.000000</td>\n",
       "      <td>0.095238</td>\n",
       "      <td>0.000000</td>\n",
       "      <td>0.142857</td>\n",
       "    </tr>\n",
       "    <tr>\n",
       "      <th>few-shot-cot</th>\n",
       "      <td>0.200000</td>\n",
       "      <td>0.000000</td>\n",
       "      <td>0.058824</td>\n",
       "      <td>0.133333</td>\n",
       "      <td>0.600000</td>\n",
       "    </tr>\n",
       "    <tr>\n",
       "      <th>zero-shot-self-verification</th>\n",
       "      <td>0.133333</td>\n",
       "      <td>0.090909</td>\n",
       "      <td>0.055556</td>\n",
       "      <td>0.000000</td>\n",
       "      <td>0.157895</td>\n",
       "    </tr>\n",
       "    <tr>\n",
       "      <th>zero-shot-cot</th>\n",
       "      <td>0.266667</td>\n",
       "      <td>0.052632</td>\n",
       "      <td>0.062500</td>\n",
       "      <td>0.000000</td>\n",
       "      <td>0.312500</td>\n",
       "    </tr>\n",
       "    <tr>\n",
       "      <th>few-shot</th>\n",
       "      <td>0.200000</td>\n",
       "      <td>0.133333</td>\n",
       "      <td>0.066667</td>\n",
       "      <td>0.200000</td>\n",
       "      <td>0.333333</td>\n",
       "    </tr>\n",
       "    <tr>\n",
       "      <th>few-shot-self-verification-cot</th>\n",
       "      <td>0.133333</td>\n",
       "      <td>0.055556</td>\n",
       "      <td>0.066667</td>\n",
       "      <td>0.000000</td>\n",
       "      <td>0.333333</td>\n",
       "    </tr>\n",
       "  </tbody>\n",
       "</table>\n",
       "</div>"
      ],
      "text/plain": [
       "                                 ambiguity_inText  inconsistencies_inText  \\\n",
       "few-shot-self-verification               0.066667                0.066667   \n",
       "zero-shot                                0.266667                0.066667   \n",
       "zero-shot-self-verification-cot          0.125000                0.000000   \n",
       "few-shot-cot                             0.200000                0.000000   \n",
       "zero-shot-self-verification              0.133333                0.090909   \n",
       "zero-shot-cot                            0.266667                0.052632   \n",
       "few-shot                                 0.200000                0.133333   \n",
       "few-shot-self-verification-cot           0.133333                0.055556   \n",
       "\n",
       "                                 misaligned_terminalogy_inText  \\\n",
       "few-shot-self-verification                            0.066667   \n",
       "zero-shot                                             0.125000   \n",
       "zero-shot-self-verification-cot                       0.095238   \n",
       "few-shot-cot                                          0.058824   \n",
       "zero-shot-self-verification                           0.055556   \n",
       "zero-shot-cot                                         0.062500   \n",
       "few-shot                                              0.066667   \n",
       "few-shot-self-verification-cot                        0.066667   \n",
       "\n",
       "                                 omissions_inText  structural_flaws_inText  \n",
       "few-shot-self-verification               0.000000                 0.266667  \n",
       "zero-shot                                0.133333                 0.352941  \n",
       "zero-shot-self-verification-cot          0.000000                 0.142857  \n",
       "few-shot-cot                             0.133333                 0.600000  \n",
       "zero-shot-self-verification              0.000000                 0.157895  \n",
       "zero-shot-cot                            0.000000                 0.312500  \n",
       "few-shot                                 0.200000                 0.333333  \n",
       "few-shot-self-verification-cot           0.000000                 0.333333  "
      ]
     },
     "execution_count": 13,
     "metadata": {},
     "output_type": "execute_result"
    }
   ],
   "source": [
    "text_match_df = df.copy()\n",
    "for column in text_match_df.columns:\n",
    "    text_match_df[column] = text_match_df[column].apply(\n",
    "        lambda x: x[\"correct\"] / x[\"total\"] if x[\"total\"] > 0 else 0\n",
    "    )\n",
    "text_match_df"
   ]
  },
  {
   "cell_type": "code",
   "execution_count": 14,
   "metadata": {},
   "outputs": [
    {
     "data": {
      "text/plain": [
       "few-shot-self-verification         0.093333\n",
       "zero-shot                          0.192308\n",
       "zero-shot-self-verification-cot    0.072165\n",
       "few-shot-cot                       0.194805\n",
       "zero-shot-self-verification        0.086957\n",
       "zero-shot-cot                      0.135802\n",
       "few-shot                           0.186667\n",
       "few-shot-self-verification-cot     0.111111\n",
       "dtype: float64"
      ]
     },
     "execution_count": 14,
     "metadata": {},
     "output_type": "execute_result"
    }
   ],
   "source": [
    "def aggregate_correct_score(row):\n",
    "    total = 0\n",
    "    correct = 0\n",
    "    for col in row.index:\n",
    "        total += row[col][\"total\"]\n",
    "        correct += row[col][\"correct\"]\n",
    "    return correct / total if total > 0 else 0\n",
    "        \n",
    "# Text Match\n",
    "total_score = df.copy()\n",
    "total_score.apply(aggregate_correct_score, axis=1)"
   ]
  },
  {
   "cell_type": "code",
   "execution_count": 15,
   "metadata": {},
   "outputs": [
    {
     "data": {
      "text/plain": [
       "few-shot-self-verification         0.573333\n",
       "zero-shot                          0.615385\n",
       "zero-shot-self-verification-cot    0.474227\n",
       "few-shot-cot                       0.506494\n",
       "zero-shot-self-verification        0.445652\n",
       "zero-shot-cot                      0.530864\n",
       "few-shot                           0.506667\n",
       "few-shot-self-verification-cot     0.530864\n",
       "dtype: float64"
      ]
     },
     "execution_count": 15,
     "metadata": {},
     "output_type": "execute_result"
    }
   ],
   "source": [
    "def aggregate_correct_score(row):\n",
    "    total = 0\n",
    "    correct = 0\n",
    "    for col in row.index:\n",
    "        total += row[col][\"total\"]\n",
    "        correct += row[col][\"text_matches\"]\n",
    "    return correct / total if total > 0 else 0\n",
    "        \n",
    "# Text Match\n",
    "total_score = df.copy()\n",
    "total_score.apply(aggregate_correct_score, axis=1)"
   ]
  },
  {
   "cell_type": "code",
   "execution_count": null,
   "metadata": {},
   "outputs": [
    {
     "data": {
      "text/plain": [
       "few-shot-self-verification         0.586667\n",
       "zero-shot                          0.679487\n",
       "zero-shot-self-verification-cot    0.597938\n",
       "few-shot-cot                       0.636364\n",
       "zero-shot-self-verification        0.500000\n",
       "zero-shot-cot                      0.592593\n",
       "few-shot                           0.573333\n",
       "few-shot-self-verification-cot     0.604938\n",
       "dtype: float64"
      ]
     },
     "execution_count": 21,
     "metadata": {},
     "output_type": "execute_result"
    }
   ],
   "source": [
    "def explanation_match_with_threshold(row, threshold):\n",
    "    total = 0\n",
    "    correct = 0\n",
    "\n",
    "    for col in row.index:\n",
    "        total += row[col][\"total\"]\n",
    "        correct += sum([1 if score > threshold else 0 for score in row[col][\"explanation_match_scores\"]])\n",
    "    return correct / total if total > 0 else 0\n",
    "        \n",
    "# Text Match\n",
    "total_score = df.copy()\n",
    "total_score.apply(lambda x : explanation_match_with_threshold(x, 0.5), axis=1)"
   ]
  },
  {
   "cell_type": "markdown",
   "metadata": {},
   "source": [
    "#### Few-shot variations"
   ]
  },
  {
   "cell_type": "markdown",
   "metadata": {},
   "source": [
    "## TODO \n",
    "---\n",
    "- Z \u2705\n",
    "- Z + COT \u2705\n",
    "- Z + SV \u2705\n",
    "- Z + COT + SV \u2705\n",
    "- Z + SC \u2705\n",
    "- Z + COT + SC \u2705\n",
    "---\n",
    "- FS \u2705\u26a0\ufe0f\n",
    "- FS + COT \u2705\u26a0\ufe0f\n",
    "- FS + SV \u2705\u26a0\ufe0f\n",
    "- FS + COT + SV \u2705\u26a0\ufe0f\n",
    "- FS + SC \u2705\u26a0\ufe0f\n",
    "- FS + COT + SC \u2705\u26a0\ufe0f\n",
    "---\n",
    "- Z + SV + SC (SKIP THIS FOR NOW) \u2705\n",
    "- Z + COT + SV + SC (SKIP THIS FOR NOW) \u2705\n",
    "- FS + SV + SC (SKIP THIS FOR NOW) \u2705\u26a0\ufe0f\n",
    "- FS + COT + SV + SC (SKIP THIS FOR NOW) \u2705\u26a0\ufe0f\n",
    "---\n",
    "- **Output into a .csv**\u274c\n",
    "- **Eventually need to repeat with different LLMs**\u274c"
   ]
  }
 ],
 "metadata": {
  "kernelspec": {
   "display_name": "Python 3",
   "language": "python",
   "name": "python3"
  },
  "language_info": {
   "codemirror_mode": {
    "name": "ipython",
    "version": 3
   },
   "file_extension": ".py",
   "mimetype": "text/x-python",
   "name": "python",
   "nbconvert_exporter": "python",
   "pygments_lexer": "ipython3",
   "version": "3.10.0"
  }
 },
 "nbformat": 4,
 "nbformat_minor": 2
}