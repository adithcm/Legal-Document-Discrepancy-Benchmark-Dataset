{
 "cells": [
  {
   "cell_type": "code",
   "execution_count": 21,
   "id": "e40dd06e",
   "metadata": {},
   "outputs": [],
   "source": [
    "import os\n",
    "import shutil"
   ]
  },
  {
   "cell_type": "markdown",
   "id": "74bb7667",
   "metadata": {},
   "source": [
    "This file is basically just here to fix the file structure of the datasets"
   ]
  },
  {
   "cell_type": "code",
   "execution_count": null,
   "id": "3075a797",
   "metadata": {},
   "outputs": [],
   "source": [
    "MAX_NUM = 5\n",
    "for category in os.listdir(\"mini-eval\"):\n",
    "    if os.path.exists(os.path.join(\"mini-eval/answers\", category)):\n",
    "        shutil.rmtree(os.path.join(\"mini-eval/answers\", category))\n",
    "    os.makedirs(os.path.join(\"mini-eval/answers\", category), exist_ok=True)\n",
    "    \n",
    "    if os.path.exists(os.path.join(\"mini-eval/documents\", category)):\n",
    "        shutil.rmtree(os.path.join(\"mini-eval/documents\", category))\n",
    "    os.makedirs(os.path.join(\"mini-eval/documents\", category), exist_ok=True)\n",
    "\n",
    "    index = 0\n",
    "    for file in os.listdir(os.path.join(\"mini-eval\", category)):\n",
    "        if file.endswith(\".json\"):\n",
    "            if index >= MAX_NUM: break\n",
    "            shutil.copy(os.path.join(\"mini-eval\", category, file), os.path.join(\"mini-eval/answers\", category, file.replace(\"perturbed_\", \"\")))\n",
    "            index += 1\n",
    "    \n",
    "    index = 0\n",
    "    for file in os.listdir(os.path.join(\"mini-eval\", category, \"modified_files\")):\n",
    "        if file.endswith(\".txt\"):\n",
    "            if index >= MAX_NUM: break\n",
    "            shutil.copy(os.path.join(\"mini-eval\", category, \"modified_files\", file), os.path.join(\"mini-eval/documents\", category, file.replace(\"modified_\", \"\")))\n",
    "            index += 1"
   ]
  }
 ],
 "metadata": {
  "kernelspec": {
   "display_name": "Python 3",
   "language": "python",
   "name": "python3"
  },
  "language_info": {
   "codemirror_mode": {
    "name": "ipython",
    "version": 3
   },
   "file_extension": ".py",
   "mimetype": "text/x-python",
   "name": "python",
   "nbconvert_exporter": "python",
   "pygments_lexer": "ipython3",
   "version": "3.10.0"
  }
 },
 "nbformat": 4,
 "nbformat_minor": 5
}
