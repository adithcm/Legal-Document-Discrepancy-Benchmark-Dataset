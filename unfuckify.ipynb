{
 "cells": [
  {
   "cell_type": "code",
   "execution_count": 25,
   "id": "e40dd06e",
   "metadata": {},
   "outputs": [],
   "source": [
    "import os\n",
    "import shutil"
   ]
  },
  {
   "cell_type": "markdown",
   "id": "74bb7667",
   "metadata": {},
   "source": [
    "This file is basically just here to fix the file structure of the datasets"
   ]
  },
  {
   "cell_type": "code",
   "execution_count": 26,
   "id": "3075a797",
   "metadata": {},
   "outputs": [
    {
     "ename": "FileNotFoundError",
     "evalue": "[WinError 3] The system cannot find the path specified: 'mini-eval\\\\responses\\\\modified_files'",
     "output_type": "error",
     "traceback": [
      "\u001b[1;31m---------------------------------------------------------------------------\u001b[0m",
      "\u001b[1;31mFileNotFoundError\u001b[0m                         Traceback (most recent call last)",
      "Cell \u001b[1;32mIn[26], line 19\u001b[0m\n\u001b[0;32m     16\u001b[0m         index \u001b[38;5;241m+\u001b[39m\u001b[38;5;241m=\u001b[39m \u001b[38;5;241m1\u001b[39m\n\u001b[0;32m     18\u001b[0m index \u001b[38;5;241m=\u001b[39m \u001b[38;5;241m0\u001b[39m\n\u001b[1;32m---> 19\u001b[0m \u001b[38;5;28;01mfor\u001b[39;00m file \u001b[38;5;129;01min\u001b[39;00m \u001b[43mos\u001b[49m\u001b[38;5;241;43m.\u001b[39;49m\u001b[43mlistdir\u001b[49m\u001b[43m(\u001b[49m\u001b[43mos\u001b[49m\u001b[38;5;241;43m.\u001b[39;49m\u001b[43mpath\u001b[49m\u001b[38;5;241;43m.\u001b[39;49m\u001b[43mjoin\u001b[49m\u001b[43m(\u001b[49m\u001b[38;5;124;43m\"\u001b[39;49m\u001b[38;5;124;43mmini-eval\u001b[39;49m\u001b[38;5;124;43m\"\u001b[39;49m\u001b[43m,\u001b[49m\u001b[43m \u001b[49m\u001b[43mcategory\u001b[49m\u001b[43m,\u001b[49m\u001b[43m \u001b[49m\u001b[38;5;124;43m\"\u001b[39;49m\u001b[38;5;124;43mmodified_files\u001b[39;49m\u001b[38;5;124;43m\"\u001b[39;49m\u001b[43m)\u001b[49m\u001b[43m)\u001b[49m:\n\u001b[0;32m     20\u001b[0m     \u001b[38;5;28;01mif\u001b[39;00m file\u001b[38;5;241m.\u001b[39mendswith(\u001b[38;5;124m\"\u001b[39m\u001b[38;5;124m.txt\u001b[39m\u001b[38;5;124m\"\u001b[39m):\n\u001b[0;32m     21\u001b[0m         \u001b[38;5;28;01mif\u001b[39;00m index \u001b[38;5;241m>\u001b[39m\u001b[38;5;241m=\u001b[39m MAX_NUM: \u001b[38;5;28;01mbreak\u001b[39;00m\n",
      "\u001b[1;31mFileNotFoundError\u001b[0m: [WinError 3] The system cannot find the path specified: 'mini-eval\\\\responses\\\\modified_files'"
     ]
    }
   ],
   "source": [
    "MAX_NUM = 5\n",
    "for category in os.listdir(\"mini-eval\"):\n",
    "    if os.path.exists(os.path.join(\"mini-eval/answers\", category)):\n",
    "        shutil.rmtree(os.path.join(\"mini-eval/answers\", category))\n",
    "    os.makedirs(os.path.join(\"mini-eval/answers\", category), exist_ok=True)\n",
    "    \n",
    "    if os.path.exists(os.path.join(\"mini-eval/documents\", category)):\n",
    "        shutil.rmtree(os.path.join(\"mini-eval/documents\", category))\n",
    "    os.makedirs(os.path.join(\"mini-eval/documents\", category), exist_ok=True)\n",
    "\n",
    "    index = 0\n",
    "    for file in os.listdir(os.path.join(\"mini-eval\", category)):\n",
    "        if file.endswith(\".json\"):\n",
    "            if index >= MAX_NUM: break\n",
    "            shutil.copy(os.path.join(\"mini-eval\", category, file), os.path.join(\"mini-eval/answers\", category, file.replace(\"perturbed_\", \"\")))\n",
    "            index += 1\n",
    "    \n",
    "    index = 0\n",
    "    for file in os.listdir(os.path.join(\"mini-eval\", category, \"modified_files\")):\n",
    "        if file.endswith(\".txt\"):\n",
    "            if index >= MAX_NUM: break\n",
    "            shutil.copy(os.path.join(\"mini-eval\", category, \"modified_files\", file), os.path.join(\"mini-eval/documents\", category, file.replace(\"modified_\", \"\")))\n",
    "            index += 1"
   ]
  }
 ],
 "metadata": {
  "kernelspec": {
   "display_name": "Python 3",
   "language": "python",
   "name": "python3"
  },
  "language_info": {
   "codemirror_mode": {
    "name": "ipython",
    "version": 3
   },
   "file_extension": ".py",
   "mimetype": "text/x-python",
   "name": "python",
   "nbconvert_exporter": "python",
   "pygments_lexer": "ipython3",
   "version": "3.10.0"
  }
 },
 "nbformat": 4,
 "nbformat_minor": 5
}
