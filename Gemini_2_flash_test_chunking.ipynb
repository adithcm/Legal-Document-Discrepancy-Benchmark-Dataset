{
 "cells": [
  {
   "cell_type": "code",
   "execution_count": 2,
   "id": "b45c6acc-8851-4b17-ba0c-2ae651c039f8",
   "metadata": {
    "collapsed": true,
    "jupyter": {
     "outputs_hidden": true
    },
    "tags": []
   },
   "outputs": [
    {
     "name": "stdout",
     "output_type": "stream",
     "text": [
      "Requirement already satisfied: google-generativeai in /Users/adithmouli/anaconda3/lib/python3.11/site-packages (0.8.4)\n",
      "Requirement already satisfied: google-ai-generativelanguage==0.6.15 in /Users/adithmouli/anaconda3/lib/python3.11/site-packages (from google-generativeai) (0.6.15)\n",
      "Requirement already satisfied: google-api-core in /Users/adithmouli/anaconda3/lib/python3.11/site-packages (from google-generativeai) (2.24.2)\n",
      "Requirement already satisfied: google-api-python-client in /Users/adithmouli/anaconda3/lib/python3.11/site-packages (from google-generativeai) (2.164.0)\n",
      "Requirement already satisfied: google-auth>=2.15.0 in /Users/adithmouli/anaconda3/lib/python3.11/site-packages (from google-generativeai) (2.38.0)\n",
      "Requirement already satisfied: protobuf in /Users/adithmouli/anaconda3/lib/python3.11/site-packages (from google-generativeai) (5.29.3)\n",
      "Requirement already satisfied: pydantic in /Users/adithmouli/anaconda3/lib/python3.11/site-packages (from google-generativeai) (1.10.8)\n",
      "Requirement already satisfied: tqdm in /Users/adithmouli/anaconda3/lib/python3.11/site-packages (from google-generativeai) (4.65.0)\n",
      "Requirement already satisfied: typing-extensions in /Users/adithmouli/anaconda3/lib/python3.11/site-packages (from google-generativeai) (4.12.2)\n",
      "Requirement already satisfied: proto-plus<2.0.0dev,>=1.22.3 in /Users/adithmouli/anaconda3/lib/python3.11/site-packages (from google-ai-generativelanguage==0.6.15->google-generativeai) (1.26.1)\n",
      "Requirement already satisfied: cachetools<6.0,>=2.0.0 in /Users/adithmouli/anaconda3/lib/python3.11/site-packages (from google-auth>=2.15.0->google-generativeai) (5.5.2)\n",
      "Requirement already satisfied: pyasn1-modules>=0.2.1 in /Users/adithmouli/anaconda3/lib/python3.11/site-packages (from google-auth>=2.15.0->google-generativeai) (0.2.8)\n",
      "Requirement already satisfied: rsa<5,>=3.1.4 in /Users/adithmouli/anaconda3/lib/python3.11/site-packages (from google-auth>=2.15.0->google-generativeai) (4.9)\n",
      "Requirement already satisfied: googleapis-common-protos<2.0.0,>=1.56.2 in /Users/adithmouli/anaconda3/lib/python3.11/site-packages (from google-api-core->google-generativeai) (1.69.1)\n",
      "Requirement already satisfied: requests<3.0.0,>=2.18.0 in /Users/adithmouli/anaconda3/lib/python3.11/site-packages (from google-api-core->google-generativeai) (2.31.0)\n",
      "Requirement already satisfied: httplib2<1.dev0,>=0.19.0 in /Users/adithmouli/anaconda3/lib/python3.11/site-packages (from google-api-python-client->google-generativeai) (0.22.0)\n",
      "Requirement already satisfied: google-auth-httplib2<1.0.0,>=0.2.0 in /Users/adithmouli/anaconda3/lib/python3.11/site-packages (from google-api-python-client->google-generativeai) (0.2.0)\n",
      "Requirement already satisfied: uritemplate<5,>=3.0.1 in /Users/adithmouli/anaconda3/lib/python3.11/site-packages (from google-api-python-client->google-generativeai) (4.1.1)\n",
      "Requirement already satisfied: grpcio<2.0dev,>=1.33.2 in /Users/adithmouli/anaconda3/lib/python3.11/site-packages (from google-api-core->google-generativeai) (1.71.0)\n",
      "Requirement already satisfied: grpcio-status<2.0.dev0,>=1.33.2 in /Users/adithmouli/anaconda3/lib/python3.11/site-packages (from google-api-core->google-generativeai) (1.71.0)\n",
      "Requirement already satisfied: pyparsing!=3.0.0,!=3.0.1,!=3.0.2,!=3.0.3,<4,>=2.4.2 in /Users/adithmouli/anaconda3/lib/python3.11/site-packages (from httplib2<1.dev0,>=0.19.0->google-api-python-client->google-generativeai) (3.0.9)\n",
      "Requirement already satisfied: pyasn1<0.5.0,>=0.4.6 in /Users/adithmouli/anaconda3/lib/python3.11/site-packages (from pyasn1-modules>=0.2.1->google-auth>=2.15.0->google-generativeai) (0.4.8)\n",
      "Requirement already satisfied: charset-normalizer<4,>=2 in /Users/adithmouli/anaconda3/lib/python3.11/site-packages (from requests<3.0.0,>=2.18.0->google-api-core->google-generativeai) (2.0.4)\n",
      "Requirement already satisfied: idna<4,>=2.5 in /Users/adithmouli/anaconda3/lib/python3.11/site-packages (from requests<3.0.0,>=2.18.0->google-api-core->google-generativeai) (3.4)\n",
      "Requirement already satisfied: urllib3<3,>=1.21.1 in /Users/adithmouli/anaconda3/lib/python3.11/site-packages (from requests<3.0.0,>=2.18.0->google-api-core->google-generativeai) (1.26.16)\n",
      "Requirement already satisfied: certifi>=2017.4.17 in /Users/adithmouli/anaconda3/lib/python3.11/site-packages (from requests<3.0.0,>=2.18.0->google-api-core->google-generativeai) (2024.2.2)\n"
     ]
    }
   ],
   "source": [
    "!pip install google-generativeai\n"
   ]
  },
  {
   "cell_type": "code",
   "execution_count": 3,
   "id": "da6addb1-0542-4e04-8d91-bb23c2b27f7b",
   "metadata": {
    "tags": []
   },
   "outputs": [
    {
     "name": "stdout",
     "output_type": "stream",
     "text": [
      "Requirement already satisfied: pymupdf in /Users/adithmouli/anaconda3/lib/python3.11/site-packages (1.25.3)\n"
     ]
    }
   ],
   "source": [
    "!pip install pymupdf"
   ]
  },
  {
   "cell_type": "code",
   "execution_count": 2,
   "id": "cf2eed28-2c34-4c62-80e2-68db59684a9f",
   "metadata": {
    "tags": []
   },
   "outputs": [],
   "source": [
    "import google.generativeai as genai"
   ]
  },
  {
   "cell_type": "code",
   "execution_count": 3,
   "id": "566465eb-3e09-45f0-bda0-b4892fa05e75",
   "metadata": {
    "tags": []
   },
   "outputs": [],
   "source": [
    "import os\n",
    "GOOGLE_API_KEY = os.getenv(\"GOOGLE_API_KEY\")\n"
   ]
  },
  {
   "cell_type": "code",
   "execution_count": 4,
   "id": "d7eaec7b-a947-4309-b7be-ffc043275059",
   "metadata": {
    "tags": []
   },
   "outputs": [],
   "source": [
    "api_key = os.getenv(\"GOOGLE_API_KEY\")\n"
   ]
  },
  {
   "cell_type": "code",
   "execution_count": 5,
   "id": "58c3950b-60ba-4de2-b5f7-9f3ef344a7ad",
   "metadata": {
    "collapsed": true,
    "jupyter": {
     "outputs_hidden": true
    },
    "tags": []
   },
   "outputs": [
    {
     "name": "stdout",
     "output_type": "stream",
     "text": [
      "Imagine a light switch. A regular computer bit is like that light switch: it can be either ON (1) or OFF (0). It's a definitive state.\n",
      "\n",
      "Quantum computing is different. Instead of a simple light switch, imagine a dimmer switch that can be anywhere between fully ON and fully OFF, and even both at the same time! This \"both at the same time\" state is called **superposition**.  Think of it like a coin spinning in the air - it's neither heads nor tails until it lands.\n",
      "\n",
      "Here's the breakdown:\n",
      "\n",
      "* **Qubit (Quantum Bit):**  Instead of a regular bit (0 or 1), a quantum bit (qubit) can be 0, 1, or a **superposition** of both. This \"in-between\" state allows quantum computers to explore many possibilities simultaneously.\n",
      "\n",
      "* **Superposition:**  The ability of a qubit to exist in multiple states at the same time. This dramatically increases the potential computational power because it allows the computer to explore many possibilities simultaneously instead of one at a time.\n",
      "\n",
      "* **Entanglement:** This is where it gets even weirder.  Imagine two of our dimmer switches (qubits) are linked together in a special way.  If you change one, the other *instantly* changes with it, no matter how far apart they are.  This linked behavior, called entanglement, allows qubits to work together to solve problems.\n",
      "\n",
      "**So, how does this help?**\n",
      "\n",
      "Because of superposition and entanglement, quantum computers can:\n",
      "\n",
      "* **Explore many solutions at once:**  Instead of trying one solution after another like a regular computer, a quantum computer can explore many possibilities simultaneously, vastly speeding up complex calculations.\n",
      "* **Solve problems that are impossible for regular computers:**  This includes things like:\n",
      "    * **Drug discovery:**  Simulating how molecules interact to design better medicines.\n",
      "    * **Materials science:** Creating new materials with specific properties.\n",
      "    * **Breaking encryption:**  Potentially cracking current encryption methods.\n",
      "    * **Financial modeling:**  Optimizing investments and managing risk.\n",
      "\n",
      "**In summary:**\n",
      "\n",
      "Quantum computers use qubits, which can be in multiple states at once (superposition) and linked together (entanglement), to explore many solutions simultaneously. This makes them potentially much faster and more powerful than regular computers for certain types of problems.\n",
      "\n",
      "**Important Note:**\n",
      "\n",
      "Quantum computers are still in their early stages of development. They're not going to replace your laptop anytime soon! They are specialized tools for tackling extremely complex problems where classical computers struggle.\n",
      "\n"
     ]
    }
   ],
   "source": [
    "genai.configure(api_key=api_key)\n",
    "\n",
    "# Initialize the Gemini model\n",
    "model = genai.GenerativeModel(\"gemini-2.0-flash\")\n",
    "\n",
    "# Ask a question\n",
    "response = model.generate_content(\"Explain quantum computing in simple terms.\")\n",
    "\n",
    "# Print the response\n",
    "print(response.text)"
   ]
  },
  {
   "cell_type": "code",
   "execution_count": 102,
   "id": "2b350490-c432-4f4e-a9df-930d2ac7d5d9",
   "metadata": {},
   "outputs": [],
   "source": [
    "import fitz\n",
    "import difflib\n",
    "import re\n",
    "import json"
   ]
  },
  {
   "cell_type": "code",
   "execution_count": 7,
   "id": "08932ad4-a008-4fd6-b812-eb39ab3dbc86",
   "metadata": {
    "tags": []
   },
   "outputs": [],
   "source": [
    "def read_pdf(file_path):\n",
    "    \"\"\"Reads a PDF file\"\"\"\n",
    "    doc = fitz.open(file_path)\n",
    "    return \"\\n\".join([page.get_text() for page in doc])\n",
    "\n",
    "def read_legal_files(folder_path):\n",
    "    \"\"\"Reads all legal files in the folder and returns a dictionary with file names and content.\"\"\"\n",
    "    legal_documents = {}\n",
    "\n",
    "    for file_name in os.listdir(folder_path):\n",
    "        file_path = os.path.join(folder_path, file_name)\n",
    "        if file_name.endswith(\".pdf\"):\n",
    "            legal_documents[file_name] = read_pdf(file_path)\n",
    "        else:\n",
    "            print(f\"Skipping unsupported file: {file_name}\")\n",
    "\n",
    "    return legal_documents"
   ]
  },
  {
   "cell_type": "code",
   "execution_count": 18,
   "id": "ead8104f-9d9e-436d-a7fc-99412b4b8da5",
   "metadata": {
    "tags": []
   },
   "outputs": [
    {
     "name": "stdout",
     "output_type": "stream",
     "text": [
      "Skipping unsupported file: perturbed_UsioInc_20040428_SB-2_EX-10.11_1723988_EX-10.11_Affiliate Agreement 2.pdf.txt\n",
      "Skipping unsupported file: .ipynb_checkpoints\n",
      "--- UsioInc_20040428_SB-2_EX-10.11_1723988_EX-10.11_Affiliate Agreement 2.pdf ---\n",
      "                                                                   EXHIBIT 10.11\n",
      "                         NETWORK 1 FINANCIAL CORPORATION\n",
      "                           AFFILIATE OFFICE AGREEMENT\n",
      "THIS  AGREEMENT  is  entered  into  by  and  between  NETWORK  1 FINANCIAL, INC.\n",
      "(\"NETWORK  1\"),  a  Virginia Corporation with its principal place of business at\n",
      "1501  Farm  Credit  Drive,  Suite 1500, McLean, Virginia 22102-5004, and Payment\n",
      "Data  Systems,  Inc.,  the  Affiliate Office (\"AFFILIATE\"), a Nev...\n",
      "\n"
     ]
    }
   ],
   "source": [
    "folder_path = \"full_contract_pdf/Part_I/Affiliate_Agreements/\"\n",
    "legal_docs = read_legal_files(folder_path)\n",
    "\n",
    "# Display first document\n",
    "for file_name, content in legal_docs.items():\n",
    "    print(f\"--- {file_name} ---\\n{content[:500]}...\\n\")\n",
    "    break  # Only show the first one for preview"
   ]
  },
  {
   "cell_type": "code",
   "execution_count": 19,
   "id": "234a0642-e619-4b38-8722-c1c22bd8f75b",
   "metadata": {
    "tags": []
   },
   "outputs": [
    {
     "name": "stdout",
     "output_type": "stream",
     "text": [
      "--- UsioInc_20040428_SB-2_EX-10.11_1723988_EX-10.11_Affiliate Agreement 2.pdf ---...\n",
      "\n",
      "--- DigitalCinemaDestinationsCorp_20111220_S-1_EX-10.10_7346719_EX-10.10_Affiliate Agreement.pdf ---...\n",
      "\n",
      "--- LinkPlusCorp_20050802_8-K_EX-10_3240252_EX-10_Affiliate Agreement.pdf ---...\n",
      "\n",
      "--- CreditcardscomInc_20070810_S-1_EX-10.33_362297_EX-10.33_Affiliate Agreement.pdf ---...\n",
      "\n",
      "--- SouthernStarEnergyInc_20051202_SB-2A_EX-9_801890_EX-9_Affiliate Agreement.pdf ---...\n",
      "\n",
      "--- UnionDentalHoldingsInc_20050204_8-KA_EX-10_3345577_EX-10_Affiliate Agreement.pdf ---...\n",
      "\n",
      "--- SteelVaultCorp_20081224_10-K_EX-10.16_3074935_EX-10.16_Affiliate Agreement.pdf ---...\n",
      "\n",
      "--- TubeMediaCorp_20060310_8-K_EX-10.1_513921_EX-10.1_Affiliate Agreement.pdf ---...\n",
      "\n",
      "--- CybergyHoldingsInc_20140520_10-Q_EX-10.27_8605784_EX-10.27_Affiliate Agreement.pdf ---...\n",
      "\n"
     ]
    }
   ],
   "source": [
    "for file_name, content in legal_docs.items():\n",
    "    print(f\"--- {file_name} ---...\\n\")\n"
   ]
  },
  {
   "cell_type": "code",
   "execution_count": 28,
   "id": "a2535863-27b0-4861-9c65-61dd4c6e214b",
   "metadata": {
    "tags": []
   },
   "outputs": [],
   "source": [
    "def normalize_text(text):\n",
    "    \"\"\"\n",
    "    Normalizes text by removing extra spaces, line breaks, and ensuring consistent spacing.\n",
    "    \"\"\"\n",
    "    text = text.replace(\"\\n\", \" \")  # Replace newlines with space\n",
    "    text = re.sub(r\"\\s+\", \" \", text).strip()  # Replace multiple spaces with a single space\n",
    "    return text"
   ]
  },
  {
   "cell_type": "code",
   "execution_count": 125,
   "id": "83e7af73-b4d6-4f44-83ea-1c4ddd72f909",
   "metadata": {
    "tags": []
   },
   "outputs": [],
   "source": [
    "def apply_perturbation_from_json(original_text, json_file, output_folder=\"perturbed_legal_documents/inconsistencies_inText_contradiction/modified_files_tags/\"):\n",
    "    \"\"\"\n",
    "    Reads the JSON metadata and applies the described perturbations to the original document,\n",
    "    adding unique <*$p$*> markers around the modified sections.\n",
    "\n",
    "    Parameters:\n",
    "    - original_text (str): The original contract text.\n",
    "    - json_file (str): Path to the JSON file containing the perturbation details.\n",
    "    - output_folder (str): Folder to save the modified contract.\n",
    "\n",
    "    Returns:\n",
    "    - modified_text (str): The full modified document.\n",
    "    \"\"\"\n",
    "\n",
    "    # Ensure the output directory exists\n",
    "    os.makedirs(output_folder, exist_ok=True)\n",
    "    \n",
    "    print(\"This is json file:\", json_file)\n",
    "    \n",
    "    # Load the JSON metadata\n",
    "    with open(json_file, \"r\", encoding=\"utf-8\") as file:\n",
    "        json_data = json.load(file)\n",
    "\n",
    "    print(\"file loaded\") \n",
    "    if isinstance(json_data, list) and len(json_data) > 0:\n",
    "        json_data = json_data[0]  # Extract the first item in the list\n",
    "    \n",
    "    # Normalize the original contract text\n",
    "    normalized_text = normalize_text(original_text)\n",
    "\n",
    "    # Apply modifications with unique markers\n",
    "    modified_text = normalized_text\n",
    "    \n",
    "    for perturbation in json_data[\"perturbation\"]:\n",
    "        original_section = normalize_text(perturbation[\"original_text\"])  \n",
    "        #print(\"this is original text:\", original_section)\n",
    "        changed_section = normalize_text(perturbation[\"changed_text\"])\n",
    "        #print(\"this is the changed text:\", changed_section)\n",
    "        \n",
    "        # Wrap changed section with unique <*$p$*> markers\n",
    "        marked_section = f\"<*$p$*>{changed_section}<*$p$*>\"\n",
    "\n",
    "        # Replace original section with marked modified section\n",
    "        if original_section in modified_text:\n",
    "            modified_text = modified_text.replace(original_section, marked_section)\n",
    "        else:\n",
    "            print(f\"Warning: Could not find section in text: {original_section}\")\n",
    "            error = \"COULD NOT MODIFY FILE\"\n",
    "            return error\n",
    "\n",
    "    # Save the modified contract as a new file\n",
    "    modified_file_name = f\"modified_{json_data['file_name']}.txt\"\n",
    "    modified_file_path = os.path.join(output_folder, modified_file_name)\n",
    "\n",
    "    with open(modified_file_path, \"w\", encoding=\"utf-8\") as file:\n",
    "        file.write(modified_text)\n",
    "\n",
    "    return modified_text"
   ]
  },
  {
   "cell_type": "code",
   "execution_count": 124,
   "id": "914eea60-d941-4935-b48a-8debaddabfc8",
   "metadata": {
    "tags": []
   },
   "outputs": [],
   "source": [
    "def generate_perturbation_new(original_text, file_name):    \n",
    "    \"\"\"Generates a perturbed version of the legal document section in structured JSON format.\"\"\"\n",
    "    \n",
    "    prompt_inconsistencies_inText = f\"\"\"You are a financial contract auditor ensuring consistency in payment terms. Your task is to introduce a conflict between different payment deadline clauses.\n",
    "\n",
    "    ### **Definition:**\n",
    "    Inconsistencies also lead to **in-text contradictions** when **different sections of a contract provide conflicting deadlines, obligations, or penalties**. This creates ambiguity regarding which terms should be enforced, leading to disputes over contractual obligations.\n",
    "\n",
    "    ### **Step-by-Step Instructions:**\n",
    "    1. Identify **two different sections** where payment terms or penalties are mentioned.  \n",
    "    2. Modify one section so that it **conflicts with the other**.  \n",
    "    3. Ensure the change **creates uncertainty in enforcement**.  \n",
    "    4. Output the modified contract in structured JSON format.  \n",
    "\n",
    "    ---\n",
    "\n",
    "    ### **Examples of Conflicting Payment Terms:**\n",
    "\n",
    "    **Example 1:**\n",
    "    - **Section 4:** \"Invoices must be paid within 45 days.\"\n",
    "    - **Section 12:** \"Late fees apply if invoices are unpaid after 30 days.\"\n",
    "    - **Explanation:** One section allows **45 days**, but the other **charges late fees after 30 days**, creating ambiguity.\n",
    "\n",
    "    **Example 2:**\n",
    "    - **Section 6:** \"Security deposits are fully refundable.\"\n",
    "    - **Section 9:** \"Security deposits are non-refundable.\"\n",
    "    - **Explanation:** It is unclear whether **deposits must be returned**.\n",
    "\n",
    "    **Example 3:**\n",
    "    - **Section 3:** \"Early termination fees apply if the contract is ended before 12 months.\"\n",
    "    - **Section 10:** \"Clients may terminate at any time without penalty.\"\n",
    "    - **Explanation:** Conflicting clauses **cause uncertainty about termination fees**.\n",
    "\n",
    "    **Example 4:**\n",
    "    - **Section 5:** \"Payment plans must be completed within 6 months.\"\n",
    "    - **Section 11:** \"Customers may extend payment plans up to 12 months.\"\n",
    "    - **Explanation:** Different sections **contradict the maximum payment period**.\n",
    "\n",
    "    **Example 5:**\n",
    "    - **Section 8:** \"Interest on late payments accrues at 5% per month.\"\n",
    "    - **Section 14:** \"No interest will be charged on late payments.\"\n",
    "    - **Explanation:** **Conflicting interest policies** could lead to legal disputes.\n",
    "\n",
    "    **Example 6:**\n",
    "    - **Original:** \"For the purposes of this Agreement, the term 'Affiliate' shall refer to any entity that is controlled by, controls, or is under common control with either party. The term 'control' shall mean ownership of at least fifty-one percent (51%) of the voting equity in such entity. Affiliates shall be entitled to the same rights and obligations as the contracting party.\"\n",
    "    - **Modified:** \"For the purposes of this Agreement, the term 'Affiliate' shall refer to any entity that is affiliated with, works in conjunction with, or has a strategic partnership with either party. Affiliates may be granted certain rights and obligations as determined by the contracting party on a case-by-case basis.\"\n",
    "    - **Explanation:** The modified text **creates an in-text contradiction** by **changing the definition of \"Affiliate\"** to include strategic partnerships and loosely affiliated entities, rather than just entities **under majority control**. This contradicts other contract sections that **rely on the original definition** (51% ownership) to determine rights and obligations. Additionally, **allowing case-by-case determination** undermines the original intent of treating affiliates the same as contracting parties, introducing **legal uncertainty** and **potential disputes over obligations**.\n",
    "    ---\n",
    "\n",
    "    ### **Return JSON Format**\n",
    "    {{\n",
    "        \"file_name\": {file_name},\n",
    "        \"perturbation\": [\n",
    "            {{\n",
    "                \"type\": \"Inconsistencies - In Text Contradiction\",\n",
    "                \"original_text\": \"EXCERPT BEFORE CHANGE\",\n",
    "                \"changed_text\": \"EXCERPT AFTER CHANGE\",\n",
    "                \"explanation\": \"WHY THIS CHANGE INTRODUCES A PERTURBATION\",\n",
    "                \"location\": \"SECTION OR PARAGRAPH NUMBER\"\n",
    "            }}\n",
    "        ]\n",
    "    }}\n",
    "    \n",
    "    Below is the original legal text:\n",
    "    -------------------\n",
    "    {original_text}\n",
    "    -------------------\n",
    "\n",
    "    Now, return ONLY the structured JSON object with the modified text and explanation.\n",
    "    \"\"\"\n",
    "    response = model.generate_content(prompt_inconsistencies_inText)\n",
    "    \n",
    "    if not response:\n",
    "        return \"ERROR: No response from API\"\n",
    "\n",
    "    return response.text if response else \"ERROR: No response from API\""
   ]
  },
  {
   "cell_type": "code",
   "execution_count": 21,
   "id": "419800a2-f881-45f9-8327-b4c279f5bf7e",
   "metadata": {
    "tags": []
   },
   "outputs": [],
   "source": [
    "def highlight_changes(original, modified):\n",
    "    \"\"\"Compares original and modified text and marks changes.\"\"\"\n",
    "    original_lines = original.split(\"\\n\")\n",
    "    modified_lines = modified.split(\"\\n\")\n",
    "\n",
    "    diff = difflib.ndiff(original_lines, modified_lines)\n",
    "    highlighted = []\n",
    "    \n",
    "    for line in diff:\n",
    "        if line.startswith(\"+ \"):  # Added text\n",
    "            highlighted.append(f\"[MODIFIED] {line[2:]}\")\n",
    "        elif line.startswith(\"- \"):  # Removed text\n",
    "            highlighted.append(f\"[REMOVED] {line[2:]}\")\n",
    "        else:\n",
    "            highlighted.append(line[2:])  \n",
    "    \n",
    "    return \"\\n\".join(highlighted)"
   ]
  },
  {
   "cell_type": "code",
   "execution_count": 22,
   "id": "286c95fd-9e4f-44e8-9c54-9fa4de196c4b",
   "metadata": {
    "tags": []
   },
   "outputs": [],
   "source": [
    "def extract_clean_text(perturbed_text):\n",
    "    \"\"\"\n",
    "    Removes [MODIFIED], [REMOVED] tags and explanations, leaving only the modified version.\n",
    "    \"\"\"\n",
    "    # Remove any [MODIFIED] or [REMOVED] markers\n",
    "    clean_text = re.sub(r\"\\[MODIFIED\\]|\\[REMOVED\\]\", \"\", perturbed_text)\n",
    "    \n",
    "    # Remove explanations (assuming they are after a certain marker like \"Explanation:\")\n",
    "    clean_text = re.sub(r\"Explanation:.*\", \"\", clean_text, flags=re.DOTALL)\n",
    "    \n",
    "    # Clean up extra spaces that may remain after removal\n",
    "    clean_text = re.sub(r\"\\n\\s*\\n\", \"\\n\", clean_text).strip()\n",
    "    \n",
    "    \n",
    "    \n",
    "    return clean_text"
   ]
  },
  {
   "cell_type": "code",
   "execution_count": 126,
   "id": "d6714505-9b24-4257-9275-e3d8a844533d",
   "metadata": {
    "tags": []
   },
   "outputs": [],
   "source": [
    "def apply_perturbations(folder_path, perturbation_type=\"contradiction\"):\n",
    "    legal_docs = read_legal_files(folder_path)\n",
    "    \n",
    "\n",
    "    for i, (file_name, content) in enumerate(legal_docs.items()):\n",
    "        results = []\n",
    "        if i >= 10:  # Stop after processing 5 documents\n",
    "             break\n",
    "        print(f\"Processing {file_name}...\")\n",
    "        #perturbed_json = generate_perturbation(content, file_name, perturbation_type)\n",
    "        perturbed_json = generate_perturbation_new(content, file_name)\n",
    "        #print(\"This is the perturbed json:\", perturbed_json)\n",
    "        clean_json_text = re.sub(r\"```json|```\", \"\", perturbed_json).strip()\n",
    "\n",
    "        # print('this is json:', clean_json_text)\n",
    "        try:\n",
    "            # Convert response into a Python dictionary\n",
    "            perturbed_data = json.loads(clean_json_text)\n",
    "            results.append(perturbed_data)\n",
    "        except json.JSONDecodeError:\n",
    "            print(f\"Error parsing JSON for {file_name}, skipping...\")\n",
    "            continue\n",
    "            \n",
    "            \n",
    "        # Save the modified text\n",
    "        folder_path = \"perturbed_legal_documents/inconsistencies_inText_contradiction/\"\n",
    "\n",
    "        # Save the JSON output\n",
    "        json_output_path = os.path.join(folder_path, f\"perturbed_{file_name}.json\")\n",
    "        with open(json_output_path, \"w\", encoding=\"utf-8\") as f:\n",
    "            json.dump(results, f, indent=4, ensure_ascii=False)\n",
    "        \n",
    "        json_file_path = f\"perturbed_legal_documents/inconsistencies_inText_contradiction/perturbed_{file_name}.json\"\n",
    "        modified_contract = apply_perturbation_from_json(content, json_file_path)\n",
    "        print(\"________________________________________________________________________\")\n",
    "\n",
    "    print(f\"All perturbations saved in {folder_path}\")\n",
    "\n",
    "    return perturbed_json"
   ]
  },
  {
   "cell_type": "code",
   "execution_count": 130,
   "id": "35460d2e-a980-4e0c-9807-1b046f757178",
   "metadata": {
    "tags": []
   },
   "outputs": [
    {
     "name": "stdout",
     "output_type": "stream",
     "text": [
      "Skipping unsupported file: perturbed_UsioInc_20040428_SB-2_EX-10.11_1723988_EX-10.11_Affiliate Agreement 2.pdf.txt\n",
      "Skipping unsupported file: .ipynb_checkpoints\n",
      "Processing UsioInc_20040428_SB-2_EX-10.11_1723988_EX-10.11_Affiliate Agreement 2.pdf...\n",
      "This is json file: perturbed_legal_documents/inconsistencies_inText_contradiction/perturbed_UsioInc_20040428_SB-2_EX-10.11_1723988_EX-10.11_Affiliate Agreement 2.pdf.json\n",
      "file loaded\n",
      "________________________________________________________________________\n",
      "Processing DigitalCinemaDestinationsCorp_20111220_S-1_EX-10.10_7346719_EX-10.10_Affiliate Agreement.pdf...\n",
      "This is json file: perturbed_legal_documents/inconsistencies_inText_contradiction/perturbed_DigitalCinemaDestinationsCorp_20111220_S-1_EX-10.10_7346719_EX-10.10_Affiliate Agreement.pdf.json\n",
      "file loaded\n",
      "________________________________________________________________________\n",
      "Processing LinkPlusCorp_20050802_8-K_EX-10_3240252_EX-10_Affiliate Agreement.pdf...\n",
      "This is json file: perturbed_legal_documents/inconsistencies_inText_contradiction/perturbed_LinkPlusCorp_20050802_8-K_EX-10_3240252_EX-10_Affiliate Agreement.pdf.json\n",
      "file loaded\n",
      "________________________________________________________________________\n",
      "Processing CreditcardscomInc_20070810_S-1_EX-10.33_362297_EX-10.33_Affiliate Agreement.pdf...\n",
      "This is json file: perturbed_legal_documents/inconsistencies_inText_contradiction/perturbed_CreditcardscomInc_20070810_S-1_EX-10.33_362297_EX-10.33_Affiliate Agreement.pdf.json\n",
      "file loaded\n",
      "________________________________________________________________________\n",
      "Processing SouthernStarEnergyInc_20051202_SB-2A_EX-9_801890_EX-9_Affiliate Agreement.pdf...\n",
      "This is json file: perturbed_legal_documents/inconsistencies_inText_contradiction/perturbed_SouthernStarEnergyInc_20051202_SB-2A_EX-9_801890_EX-9_Affiliate Agreement.pdf.json\n",
      "file loaded\n",
      "________________________________________________________________________\n",
      "Processing UnionDentalHoldingsInc_20050204_8-KA_EX-10_3345577_EX-10_Affiliate Agreement.pdf...\n",
      "This is json file: perturbed_legal_documents/inconsistencies_inText_contradiction/perturbed_UnionDentalHoldingsInc_20050204_8-KA_EX-10_3345577_EX-10_Affiliate Agreement.pdf.json\n",
      "file loaded\n",
      "________________________________________________________________________\n",
      "Processing SteelVaultCorp_20081224_10-K_EX-10.16_3074935_EX-10.16_Affiliate Agreement.pdf...\n",
      "This is json file: perturbed_legal_documents/inconsistencies_inText_contradiction/perturbed_SteelVaultCorp_20081224_10-K_EX-10.16_3074935_EX-10.16_Affiliate Agreement.pdf.json\n",
      "file loaded\n",
      "________________________________________________________________________\n",
      "Processing TubeMediaCorp_20060310_8-K_EX-10.1_513921_EX-10.1_Affiliate Agreement.pdf...\n",
      "This is json file: perturbed_legal_documents/inconsistencies_inText_contradiction/perturbed_TubeMediaCorp_20060310_8-K_EX-10.1_513921_EX-10.1_Affiliate Agreement.pdf.json\n",
      "file loaded\n",
      "________________________________________________________________________\n",
      "Processing CybergyHoldingsInc_20140520_10-Q_EX-10.27_8605784_EX-10.27_Affiliate Agreement.pdf...\n",
      "This is json file: perturbed_legal_documents/inconsistencies_inText_contradiction/perturbed_CybergyHoldingsInc_20140520_10-Q_EX-10.27_8605784_EX-10.27_Affiliate Agreement.pdf.json\n",
      "file loaded\n",
      "________________________________________________________________________\n",
      "All perturbations saved in perturbed_legal_documents/inconsistencies_inText_contradiction/\n"
     ]
    }
   ],
   "source": [
    "folder_path = \"full_contract_pdf/Part_I/Affiliate_Agreements/\"\n",
    "perturbation_type = \"contradiction\"  # Change to \"ambiguity\", \"omission\", etc.\n",
    "perturbed_legal_docs = apply_perturbations(folder_path, perturbation_type)"
   ]
  },
  {
   "cell_type": "code",
   "execution_count": 63,
   "id": "dd77d51a-a3e6-4df7-8578-6aac8326a4db",
   "metadata": {},
   "outputs": [],
   "source": [
    "json_text = \"\"\"{\n",
    "    \"text\": \"hello\",\n",
    "    \"explain\": [\n",
    "        {\n",
    "            \"from\": \"tucson\"\n",
    "        }\n",
    "    ]\n",
    "}\"\"\"\n"
   ]
  },
  {
   "cell_type": "code",
   "execution_count": 61,
   "id": "29ad351b-3d00-44eb-9d28-4519751db166",
   "metadata": {
    "tags": []
   },
   "outputs": [
    {
     "name": "stdout",
     "output_type": "stream",
     "text": [
      "{'text': 'hello', 'explain': [{'from': 'tucson'}]}\n"
     ]
    }
   ],
   "source": [
    "json_output = json.loads(json_text)  # Converts to JSON with formatting\n",
    "print(json_output)"
   ]
  },
  {
   "cell_type": "code",
   "execution_count": 41,
   "id": "76eda4ce-08c4-4ed3-90d8-4c8b621d6833",
   "metadata": {
    "tags": []
   },
   "outputs": [
    {
     "name": "stdout",
     "output_type": "stream",
     "text": [
      "[<module 'json' from '/Users/adithmouli/anaconda3/lib/python3.11/json/__init__.py'>]\n"
     ]
    }
   ],
   "source": [
    "print(results)"
   ]
  },
  {
   "cell_type": "code",
   "execution_count": null,
   "id": "8a861dbc-fca6-4d06-b681-d5fff8defa58",
   "metadata": {},
   "outputs": [],
   "source": []
  }
 ],
 "metadata": {
  "kernelspec": {
   "display_name": "Python 3 (ipykernel)",
   "language": "python",
   "name": "python3"
  },
  "language_info": {
   "codemirror_mode": {
    "name": "ipython",
    "version": 3
   },
   "file_extension": ".py",
   "mimetype": "text/x-python",
   "name": "python",
   "nbconvert_exporter": "python",
   "pygments_lexer": "ipython3",
   "version": "3.11.5"
  }
 },
 "nbformat": 4,
 "nbformat_minor": 5
}