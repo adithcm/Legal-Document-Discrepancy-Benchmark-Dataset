{
 "cells": [
  {
   "cell_type": "code",
   "execution_count": 2,
   "id": "e40dd06e",
   "metadata": {},
   "outputs": [],
   "source": [
    "import os\n",
    "import shutil"
   ]
  },
  {
   "cell_type": "markdown",
   "id": "74bb7667",
   "metadata": {},
   "source": [
    "This file is basically just here to fix the file structure of the datasets"
   ]
  },
  {
   "cell_type": "code",
   "execution_count": 3,
   "id": "3075a797",
   "metadata": {},
   "outputs": [],
   "source": [
    "MAX_NUM = 5\n",
    "categories = [\n",
    "    \"ambiguity_inText\",\n",
    "    \"inconsistencies_inText\",\n",
    "    \"misaligned_terminalogy_inText\",\n",
    "    \"omissions_inText\",\n",
    "    \"structural_flaws_inText\"\n",
    "]\n",
    "\n",
    "for category in categories:\n",
    "    if os.path.exists(os.path.join(\"mini-eval/answers\", category)):\n",
    "        shutil.rmtree(os.path.join(\"mini-eval/answers\", category))\n",
    "    os.makedirs(os.path.join(\"mini-eval/answers\", category), exist_ok=True)\n",
    "    \n",
    "    if os.path.exists(os.path.join(\"mini-eval/documents\", category)):\n",
    "        shutil.rmtree(os.path.join(\"mini-eval/documents\", category))\n",
    "    os.makedirs(os.path.join(\"mini-eval/documents\", category), exist_ok=True)\n",
    "\n",
    "    index = 0\n",
    "    for file in os.listdir(os.path.join(\"dataset\", category)):\n",
    "        if file.endswith(\".json\"):\n",
    "            if index >= MAX_NUM: break\n",
    "            shutil.copy(os.path.join(\"dataset\", category, file), os.path.join(\"mini-eval/answers\", category, file.replace(\"perturbed_\", \"\")))\n",
    "            index += 1\n",
    "    \n",
    "    index = 0\n",
    "    for file in os.listdir(os.path.join(\"dataset\", category, \"modified_files\")):\n",
    "        if file.endswith(\".txt\"):\n",
    "            if index >= MAX_NUM: break\n",
    "            shutil.copy(os.path.join(\"dataset\", category, \"modified_files\", file), os.path.join(\"mini-eval/documents\", category, file.replace(\"modified_\", \"\")))\n",
    "            index += 1"
   ]
  },
  {
   "cell_type": "code",
   "execution_count": 9,
   "id": "3d9d108f",
   "metadata": {},
   "outputs": [
    {
     "name": "stdout",
     "output_type": "stream",
     "text": [
      "2ThemartComInc_19990826_10-12G_EX-10.10_6700288_EX-10.10_Co-Branding Agreement_ Agency Agreement.txt\n",
      "ABILITYINC_06_15_2020-EX-4.25-SERVICES AGREEMENT.txt\n",
      "ACCELERATEDTECHNOLOGIESHOLDINGCORP_04_24_2003-EX-10.13-JOINT VENTURE AGREEMENT.txt\n",
      "ACCURAYINC_09_01_2010-EX-10.31-DISTRIBUTOR AGREEMENT.txt\n",
      "ADAMSGOLFINC_03_21_2005-EX-10.17-ENDORSEMENT AGREEMENT.txt\n",
      "ADAPTIMMUNETHERAPEUTICSPLC_04_06_2017-EX-10.11-STRATEGIC ALLIANCE AGREEMENT.txt\n"
     ]
    }
   ],
   "source": [
    "import json\n",
    "\n",
    "if os.path.exists(os.path.join(\"mini-eval/answers\", \"unperturbed\")):\n",
    "    shutil.rmtree(os.path.join(\"mini-eval/answers\", \"unperturbed\"))\n",
    "os.makedirs(os.path.join(\"mini-eval/answers\", \"unperturbed\"), exist_ok=True)\n",
    "\n",
    "if os.path.exists(os.path.join(\"mini-eval/documents\", \"unperturbed\")):\n",
    "    shutil.rmtree(os.path.join(\"mini-eval/documents\", \"unperturbed\"))\n",
    "os.makedirs(os.path.join(\"mini-eval/documents\", \"unperturbed\"), exist_ok=True)\n",
    "\n",
    "index = 0\n",
    "for file in os.listdir(\"full_contract_txt\"):\n",
    "    print(file)\n",
    "    if file.endswith(\".txt\"):\n",
    "        if index >= MAX_NUM: break\n",
    "        shutil.copy(os.path.join(\"full_contract_txt\", file), os.path.join(\"mini-eval/documents\", \"unperturbed\", file))\n",
    "\n",
    "        # Save an empty json file\n",
    "        with open(os.path.join(\"mini-eval/answers\", \"unperturbed\", file.replace(\".txt\", \".json\")), \"w\") as f:\n",
    "            f.write(json.dumps([{\n",
    "                \"file_name\": file,\n",
    "                \"perturbation\": []\n",
    "            }]))\n",
    "        index += 1"
   ]
  }
 ],
 "metadata": {
  "kernelspec": {
   "display_name": "Python 3",
   "language": "python",
   "name": "python3"
  },
  "language_info": {
   "codemirror_mode": {
    "name": "ipython",
    "version": 3
   },
   "file_extension": ".py",
   "mimetype": "text/x-python",
   "name": "python",
   "nbconvert_exporter": "python",
   "pygments_lexer": "ipython3",
   "version": "3.10.0"
  }
 },
 "nbformat": 4,
 "nbformat_minor": 5
}
