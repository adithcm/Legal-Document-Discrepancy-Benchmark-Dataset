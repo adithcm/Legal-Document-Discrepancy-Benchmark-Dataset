{
 "cells": [
  {
   "cell_type": "code",
   "execution_count": 6,
   "id": "b7c57e75-3ce1-4a68-be8a-5b914153dd91",
   "metadata": {
    "collapsed": true,
    "jupyter": {
     "outputs_hidden": true
    },
    "tags": []
   },
   "outputs": [
    {
     "name": "stdout",
     "output_type": "stream",
     "text": [
      "Requirement already satisfied: sentence-transformers in /Users/adithmouli/anaconda3/lib/python3.11/site-packages (2.2.2)\n",
      "Requirement already satisfied: scikit-learn in /Users/adithmouli/anaconda3/lib/python3.11/site-packages (1.4.2)\n",
      "Requirement already satisfied: transformers<5.0.0,>=4.6.0 in /Users/adithmouli/anaconda3/lib/python3.11/site-packages (from sentence-transformers) (4.32.1)\n",
      "Requirement already satisfied: tqdm in /Users/adithmouli/anaconda3/lib/python3.11/site-packages (from sentence-transformers) (4.65.0)\n",
      "Requirement already satisfied: torch>=1.6.0 in /Users/adithmouli/anaconda3/lib/python3.11/site-packages (from sentence-transformers) (2.4.1)\n",
      "Requirement already satisfied: torchvision in /Users/adithmouli/anaconda3/lib/python3.11/site-packages (from sentence-transformers) (0.16.2)\n",
      "Requirement already satisfied: numpy in /Users/adithmouli/anaconda3/lib/python3.11/site-packages (from sentence-transformers) (1.24.3)\n",
      "Requirement already satisfied: scipy in /Users/adithmouli/anaconda3/lib/python3.11/site-packages (from sentence-transformers) (1.11.1)\n",
      "Requirement already satisfied: nltk in /Users/adithmouli/anaconda3/lib/python3.11/site-packages (from sentence-transformers) (3.8.1)\n",
      "Requirement already satisfied: sentencepiece in /Users/adithmouli/anaconda3/lib/python3.11/site-packages (from sentence-transformers) (0.1.99)\n",
      "Requirement already satisfied: huggingface-hub>=0.4.0 in /Users/adithmouli/anaconda3/lib/python3.11/site-packages (from sentence-transformers) (0.15.1)\n",
      "Requirement already satisfied: joblib>=1.2.0 in /Users/adithmouli/anaconda3/lib/python3.11/site-packages (from scikit-learn) (1.2.0)\n",
      "Requirement already satisfied: threadpoolctl>=2.0.0 in /Users/adithmouli/anaconda3/lib/python3.11/site-packages (from scikit-learn) (2.2.0)\n",
      "Requirement already satisfied: filelock in /Users/adithmouli/anaconda3/lib/python3.11/site-packages (from huggingface-hub>=0.4.0->sentence-transformers) (3.9.0)\n",
      "Requirement already satisfied: fsspec in /Users/adithmouli/anaconda3/lib/python3.11/site-packages (from huggingface-hub>=0.4.0->sentence-transformers) (2023.4.0)\n",
      "Requirement already satisfied: requests in /Users/adithmouli/anaconda3/lib/python3.11/site-packages (from huggingface-hub>=0.4.0->sentence-transformers) (2.31.0)\n",
      "Requirement already satisfied: pyyaml>=5.1 in /Users/adithmouli/anaconda3/lib/python3.11/site-packages (from huggingface-hub>=0.4.0->sentence-transformers) (6.0)\n",
      "Requirement already satisfied: typing-extensions>=3.7.4.3 in /Users/adithmouli/anaconda3/lib/python3.11/site-packages (from huggingface-hub>=0.4.0->sentence-transformers) (4.12.2)\n",
      "Requirement already satisfied: packaging>=20.9 in /Users/adithmouli/anaconda3/lib/python3.11/site-packages (from huggingface-hub>=0.4.0->sentence-transformers) (23.1)\n",
      "Requirement already satisfied: sympy in /Users/adithmouli/anaconda3/lib/python3.11/site-packages (from torch>=1.6.0->sentence-transformers) (1.11.1)\n",
      "Requirement already satisfied: networkx in /Users/adithmouli/anaconda3/lib/python3.11/site-packages (from torch>=1.6.0->sentence-transformers) (3.1)\n",
      "Requirement already satisfied: jinja2 in /Users/adithmouli/anaconda3/lib/python3.11/site-packages (from torch>=1.6.0->sentence-transformers) (3.1.2)\n",
      "Requirement already satisfied: regex!=2019.12.17 in /Users/adithmouli/anaconda3/lib/python3.11/site-packages (from transformers<5.0.0,>=4.6.0->sentence-transformers) (2022.7.9)\n",
      "Requirement already satisfied: tokenizers!=0.11.3,<0.14,>=0.11.1 in /Users/adithmouli/anaconda3/lib/python3.11/site-packages (from transformers<5.0.0,>=4.6.0->sentence-transformers) (0.13.2)\n",
      "Requirement already satisfied: safetensors>=0.3.1 in /Users/adithmouli/anaconda3/lib/python3.11/site-packages (from transformers<5.0.0,>=4.6.0->sentence-transformers) (0.3.2)\n",
      "Requirement already satisfied: click in /Users/adithmouli/anaconda3/lib/python3.11/site-packages (from nltk->sentence-transformers) (8.0.4)\n",
      "Collecting torch>=1.6.0 (from sentence-transformers)\n",
      "  Obtaining dependency information for torch>=1.6.0 from https://files.pythonhosted.org/packages/1e/86/477ec85bf1f122931f00a2f3889ed9322c091497415a563291ffc119dacc/torch-2.1.2-cp311-none-macosx_11_0_arm64.whl.metadata\n",
      "  Using cached torch-2.1.2-cp311-none-macosx_11_0_arm64.whl.metadata (25 kB)\n",
      "Requirement already satisfied: pillow!=8.3.*,>=5.3.0 in /Users/adithmouli/anaconda3/lib/python3.11/site-packages (from torchvision->sentence-transformers) (9.4.0)\n",
      "Requirement already satisfied: MarkupSafe>=2.0 in /Users/adithmouli/anaconda3/lib/python3.11/site-packages (from jinja2->torch>=1.6.0->sentence-transformers) (2.1.1)\n",
      "Requirement already satisfied: charset-normalizer<4,>=2 in /Users/adithmouli/anaconda3/lib/python3.11/site-packages (from requests->huggingface-hub>=0.4.0->sentence-transformers) (2.0.4)\n",
      "Requirement already satisfied: idna<4,>=2.5 in /Users/adithmouli/anaconda3/lib/python3.11/site-packages (from requests->huggingface-hub>=0.4.0->sentence-transformers) (3.4)\n",
      "Requirement already satisfied: urllib3<3,>=1.21.1 in /Users/adithmouli/anaconda3/lib/python3.11/site-packages (from requests->huggingface-hub>=0.4.0->sentence-transformers) (1.26.16)\n",
      "Requirement already satisfied: certifi>=2017.4.17 in /Users/adithmouli/anaconda3/lib/python3.11/site-packages (from requests->huggingface-hub>=0.4.0->sentence-transformers) (2024.2.2)\n",
      "Requirement already satisfied: mpmath>=0.19 in /Users/adithmouli/anaconda3/lib/python3.11/site-packages (from sympy->torch>=1.6.0->sentence-transformers) (1.3.0)\n",
      "Using cached torch-2.1.2-cp311-none-macosx_11_0_arm64.whl (59.6 MB)\n",
      "Installing collected packages: torch\n",
      "  Attempting uninstall: torch\n",
      "    Found existing installation: torch 2.4.1\n",
      "    Uninstalling torch-2.4.1:\n",
      "      Successfully uninstalled torch-2.4.1\n",
      "\u001b[31mERROR: pip's dependency resolver does not currently take into account all the packages that are installed. This behaviour is the source of the following dependency conflicts.\n",
      "torchaudio 2.4.1 requires torch==2.4.1, but you have torch 2.1.2 which is incompatible.\u001b[0m\u001b[31m\n",
      "\u001b[0mSuccessfully installed torch-2.1.2\n",
      "Note: you may need to restart the kernel to use updated packages.\n"
     ]
    }
   ],
   "source": [
    "pip install sentence-transformers scikit-learn"
   ]
  },
  {
   "cell_type": "code",
   "execution_count": 51,
   "id": "11d17979-5540-48fb-b744-238a100c8105",
   "metadata": {
    "tags": []
   },
   "outputs": [],
   "source": [
    "import google.generativeai as genai\n",
    "import os\n",
    "import fitz\n",
    "import difflib\n",
    "import re\n",
    "import json\n",
    "from sentence_transformers import SentenceTransformer\n",
    "from sklearn.metrics.pairwise import cosine_similarity\n",
    "import numpy as np\n",
    "from tqdm import tqdm\n",
    "import time"
   ]
  },
  {
   "cell_type": "code",
   "execution_count": 46,
   "id": "e3635c47-7c40-4798-a487-fde9efa33e91",
   "metadata": {
    "tags": []
   },
   "outputs": [],
   "source": [
    "GOOGLE_API_KEY = os.getenv(\"GOOGLE_API_KEY\")\n"
   ]
  },
  {
   "cell_type": "code",
   "execution_count": 47,
   "id": "29c4dc80-1936-460d-b6e3-9197107e9465",
   "metadata": {
    "tags": []
   },
   "outputs": [],
   "source": [
    "api_key = os.getenv(\"GOOGLE_API_KEY\")\n",
    "\n",
    "genai.configure(api_key=api_key)\n",
    "\n",
    "# Initialize the Gemini model\n",
    "model = genai.GenerativeModel(\"gemini-2.0-flash\")"
   ]
  },
  {
   "cell_type": "code",
   "execution_count": 48,
   "id": "34cd3d02-fc8a-4aa3-87e7-ae4dbac44afb",
   "metadata": {
    "collapsed": true,
    "jupyter": {
     "outputs_hidden": true
    },
    "tags": []
   },
   "outputs": [
    {
     "name": "stdout",
     "output_type": "stream",
     "text": [
      "Okay, imagine regular computers are like light switches: they can be either ON (representing 1) or OFF (representing 0).\n",
      "\n",
      "Quantum computers are more like dimmer switches. They can be ON, OFF, or **anywhere in between**, or even a mix of both *at the same time*.  This \"in-between\" state is called **superposition**.\n",
      "\n",
      "Here's the breakdown:\n",
      "\n",
      "* **Classical Bits (Regular Computers):**  Think of a light switch. It's either ON (1) or OFF (0). That's a bit, the basic unit of information.\n",
      "\n",
      "* **Quantum Bits (Qubits - Quantum Computers):** Think of a dimmer switch. It can be ON (1), OFF (0), or any brightness in between. This is a qubit. Because it can be in multiple states *simultaneously*, it's much more powerful.\n",
      "\n",
      "**Why is this powerful?**\n",
      "\n",
      "* **Superposition:**  A qubit can represent 0, 1, or a combination of both *at the same time*.  This means a quantum computer can explore many possibilities simultaneously.  Imagine trying to find the best route through a maze. A regular computer would try each path one by one. A quantum computer could explore *all* the paths at once.\n",
      "\n",
      "* **Entanglement:** Imagine you have two of these special dimmer switches (qubits). If they're entangled, when you adjust one, the other instantly changes in a predictable way, even if they're far apart. This allows qubits to work together to solve problems in a way that's impossible for regular computers.  Think of it like a super-fast communication channel between the qubits.\n",
      "\n",
      "**So, what can Quantum Computers do?**\n",
      "\n",
      "Because of superposition and entanglement, quantum computers are theoretically much faster than classical computers for certain types of problems, such as:\n",
      "\n",
      "* **Drug Discovery:**  Simulating molecules and chemical reactions.\n",
      "* **Materials Science:**  Designing new materials with specific properties.\n",
      "* **Cryptography:**  Breaking current encryption methods (and developing new, stronger ones).\n",
      "* **Optimization:**  Finding the best solutions to complex problems, like optimizing logistics or financial models.\n",
      "* **Artificial Intelligence:**  Improving machine learning algorithms.\n",
      "\n",
      "**The Catch:**\n",
      "\n",
      "* **Early Stage:** Quantum computing is still in its early stages of development.  They are extremely complex to build and maintain.\n",
      "* **Error-Prone:** Qubits are very sensitive to their environment and prone to errors (decoherence).\n",
      "* **Not a Replacement for Regular Computers:** Quantum computers aren't going to replace your laptop. They're good at specific types of problems that are currently too hard for regular computers.\n",
      "\n",
      "**In Summary:**\n",
      "\n",
      "Quantum computers use qubits that can exist in multiple states simultaneously (superposition) and are linked together in a special way (entanglement). This allows them to explore many possibilities at once and solve certain complex problems much faster than regular computers. However, they are still in early stages of development and are not a replacement for the computers we use every day. Think of them as specialized tools for solving very specific, very difficult problems.\n",
      "\n"
     ]
    }
   ],
   "source": [
    "# Ask a question\n",
    "response = model.generate_content(\"Explain quantum computing in simple terms.\")\n",
    "\n",
    "# Print the response\n",
    "print(response.text)\n"
   ]
  },
  {
   "cell_type": "code",
   "execution_count": 8,
   "id": "c97f4d1b-0381-4ba9-83e2-3bbf2c4bb1c8",
   "metadata": {
    "tags": []
   },
   "outputs": [],
   "source": [
    "# Load the MiniLM embedding model from Hugging Face\n",
    "model = SentenceTransformer('sentence-transformers/all-MiniLM-L6-v2')"
   ]
  },
  {
   "cell_type": "code",
   "execution_count": 9,
   "id": "0f6d0822-8d46-4b15-8e1a-098de24d7d13",
   "metadata": {
    "tags": []
   },
   "outputs": [],
   "source": [
    "# 1. Example input: LLM-generated \"contradicted\" law statement\n",
    "llm_generated_law = \"According to Section 18 of the Federal Privacy Act, data must be deleted after 6 months.\"\n",
    "\n",
    "# 2. Example real laws in your database (you can load these from a file or dataset)\n",
    "real_laws = [\n",
    "    \"Under Section 18 of the Federal Privacy Act, users must be notified before data deletion.\",\n",
    "    \"According to the Fair Credit Reporting Act, individuals have a right to dispute errors.\",\n",
    "    \"The California Consumer Privacy Act requires companies to delete user data upon request.\",\n",
    "    \"Section 11 of the Data Privacy Act mandates data retention for at least one year.\"\n",
    "]"
   ]
  },
  {
   "cell_type": "code",
   "execution_count": 11,
   "id": "029166f8-93ad-426c-a437-b42f9703c81b",
   "metadata": {
    "tags": []
   },
   "outputs": [
    {
     "name": "stdout",
     "output_type": "stream",
     "text": [
      " LLM Generated Law:\n",
      "According to Section 18 of the Federal Privacy Act, data must be deleted after 6 months.\n",
      "\n",
      " Closest Real Law Match:\n",
      "Under Section 18 of the Federal Privacy Act, users must be notified before data deletion.\n",
      "\n",
      " Similarity Score: 0.7701\n",
      "\n",
      " Law may be hallucinated or does not closely match any known entry.\n"
     ]
    }
   ],
   "source": [
    "# 3. Encode both the LLM output and the real laws\n",
    "llm_embedding = model.encode([llm_generated_law])\n",
    "real_law_embeddings = model.encode(real_laws)\n",
    "\n",
    "# 4. Compute cosine similarities\n",
    "similarities = cosine_similarity(llm_embedding, real_law_embeddings)[0]\n",
    "\n",
    "# 5. Get top match\n",
    "best_match_idx = np.argmax(similarities)\n",
    "best_match = real_laws[best_match_idx]\n",
    "confidence = similarities[best_match_idx]\n",
    "\n",
    "# 6. Display result\n",
    "print(\" LLM Generated Law:\")\n",
    "print(llm_generated_law)\n",
    "print(\"\\n Closest Real Law Match:\")\n",
    "print(best_match)\n",
    "print(f\"\\n Similarity Score: {confidence:.4f}\")\n",
    "\n",
    "# Optional: Threshold-based judgment\n",
    "if confidence > 0.8:\n",
    "    print(\"\\n Law is likely real or referenced correctly.\")\n",
    "else:\n",
    "    print(\"\\n Law may be hallucinated or does not closely match any known entry.\")"
   ]
  },
  {
   "cell_type": "markdown",
   "id": "2a39b737-662f-4809-bd76-610f31fd30e5",
   "metadata": {},
   "source": [
    "# Law Validation"
   ]
  },
  {
   "cell_type": "code",
   "execution_count": 126,
   "id": "dc50c36b-8b60-4a78-9f32-d0c92b9401a7",
   "metadata": {
    "tags": []
   },
   "outputs": [],
   "source": [
    "INPUT_FOLDER = \"scraped_laws_v7/ommision_legal/\"\n",
    "OUTPUT_FOLDER = \"scraped_laws_v7/ommision_legal/law_validation2/\""
   ]
  },
  {
   "cell_type": "markdown",
   "id": "de2c9d4c-cf3d-4674-96f6-1c57fdff79a4",
   "metadata": {},
   "source": [
    "### Changes\n",
    "- Confidence score should be dependent on justifcation\n",
    "- Using pre-trained BERT models to assess tone and key words from the LLM justification, to provide a confidence score(NOT DOING NOW)\n",
    "- should be contradiction_score, based off how strong the law was contradicted\n",
    "- contradiction_score should be based off scraped_snippet, perturbation explanation, and law explanation, original text and changed text\n",
    "- DISCUSS: confidence score vs. contradiction score\n",
    "    - confidence score: How sure the LLM is that its own output is correct or appropriate(LLM opinion)\n",
    "    - contradiction score: How strongly the modified legal text contradicts the real law"
   ]
  },
  {
   "cell_type": "markdown",
   "id": "b2769954-09a6-47aa-b90c-ee562dfca738",
   "metadata": {},
   "source": [
    "# Next Steps\n",
    "- keep binary verification\n",
    "- keep 3 snippets links\n",
    "\n",
    "- scrape most updated version of law\n",
    "\n",
    "## Human verification(TODO)\n",
    "- expert(someone with Legal background)\n",
    "- Law Students"
   ]
  },
  {
   "cell_type": "code",
   "execution_count": 117,
   "id": "52e07552-f8d8-4547-b8a4-0f91c4382c44",
   "metadata": {
    "collapsed": true,
    "jupyter": {
     "outputs_hidden": true
    },
    "tags": []
   },
   "outputs": [
    {
     "data": {
      "text/plain": [
       "'\\n    You are a legal verification expert. Your task is to determine how strongly a legal contradiction was created when a contract was modified. This contradiction must be evaluated based on legal standards, using the information provided.\\n\\n    You are given:\\n    - The **type** of perturbation introduced\\n    - The **original contract text**\\n    - The **changed (perturbed) version** of that text\\n    - A short **perturbation explanation**, describing how the legal obligation was altered\\n    - A **law explanation**, generated by an LLM, describing why it believes this change contradicts a specific law\\n    - **Two scraped law snippets**, pulled from official legal sources (e.g., .gov/.org sites)\\n    - The definitions for each type of Perturbation. \\n\\n    ---\\n\\n    ### Perturbation Type:\\n    {perturbation.get(\"type\", \"\")}\\n\\n    ### Original Text:\\n    {perturbation.get(\"original_text\", \"\")}\\n\\n    ### Changed Text:\\n    {perturbation.get(\"changed_text\", \"\")}\\n\\n    ### Perturbation Explanation:\\n    {perturbation.get(\"explanation\", \"\")}\\n\\n    ### Law Explanation (Generated by LLM):\\n    {perturbation.get(\"law_explanation\", \"\")}\\n\\n    ### Scraped Law Snippet 1:\\n    {perturbation.get(\"scraped_snippet_1\", \"\")}\\n\\n    ### Scraped Law Snippet 2:\\n    {perturbation.get(\"scraped_snippet_2\", \"\")}\\n    \\n    ### Perturbation Definitions:\\n    1. Ambiguity Legal Contradiction: Ambiguities occur when a legal statement is vague, leading to multiple interpretations. A **legal contradiction** under this category happens when an obligation is introduced ambiguously, making it difficult to enforce under state or national law. This can result in non-compliance with regulatory requirements, leaving legal obligations open to dispute.\\n    2. Omission Legal Contradiction: Omissions occur when a contract **removes essential information**, creating legal loopholes. A **legal contradiction** in this category happens when a contract omits **a legally mandated consumer protection**, making it non-compliant.\\n    3. Misaligned Terminalogy Legal Contradiction: Misaligned terminology occurs when a contract **uses terms that do not match their statutory meaning**, leading to non-compliance. A **legal contradiction** in this category arises when contractual language deviates from legally recognized definitions, making the contract unenforceable.\\n    4. Structural Flaws Legal Contradiction: Structural flaws occur when the **organization of a contract affects its clarity or enforceability**. A **legal contradiction** in this category arises when a required legal disclosure is **placed in an irrelevant or misleading section**, making it difficult for parties to locate or interpret.\\n    5. Inconsistencies Legal Contradiction: Inconsistencies arise when **time-sensitive obligations** in a contract do not align with legal requirements. A **legal contradiction** in this category happens when a contract sets **a deadline or requirement that violates federal or state law**, making the contractual terms unenforceable or illegal.\\n    \\n    ---\\n\\n    ### Your Task (Strict Instructions):\\n\\n    1. Analyze all the provided inputs thoroughly, along with the definitions to understand what perturbation type was used.\\n    2. Focus your contradiction assessment on the following 5 core elements:\\n       - Scraped Law Snippet 1\\n       - Scraped Law Snippet 2\\n       - Perturbation Explanation\\n       - Law Explanation\\n       - The comparison between the Original and Changed Text\\n\\n    3. Use **both scraped law snippets**, even if one is missing, short, or incomplete. If both are valid, use both to strengthen your understanding of the law\u2019s scope and language.\\n\\n    4. Assign a **contradiction_category** of LOW(Little to No contradiction) MEDIUM(In-direct Contradiction), HIGH(very strong, direct contradiction) based on how much the changed contract text violates or weakens the obligation stated in the actual law.\\n        \\n\\n    5. Then provide a **justification**, explaining clearly:\\n       - How the law was contradicted (or not)\\n       - Which parts of the scraped snippets support your reasoning\\n       - Why the contradiction score is appropriate, without simply repeating the score\\n\\n     Do not infer legal meaning beyond what\u2019s in the snippets or explanations. Only use what\\'s provided.\\n\\n     The contradiction_score and justification must be **independently valid** \u2014 don\u2019t base one on the other.\\n\\n    ---\\n\\n    ### Output Format (Strictly Follow This):\\n\\n    {{\\n      \"contradiction_score\": \"Assign LOW, MEDIUM, HIGH\",\\n      \"justification\": \"A legally grounded explanation of how (and if) the modified text contradicts the law, referencing the scraped snippets where helpful.\"\\n    }}\\n\\n    Return ONLY this JSON object. No markdown, no notes, no commentary \u2014 just valid JSON with double quotes.\\n    '"
      ]
     },
     "execution_count": 117,
     "metadata": {},
     "output_type": "execute_result"
    }
   ],
   "source": [
    "\"\"\"\n",
    "    You are a legal verification expert. Your task is to determine how strongly a legal contradiction was created when a contract was modified. This contradiction must be evaluated based on legal standards, using the information provided.\n",
    "\n",
    "    You are given:\n",
    "    - The **type** of perturbation introduced\n",
    "    - The **original contract text**\n",
    "    - The **changed (perturbed) version** of that text\n",
    "    - A short **perturbation explanation**, describing how the legal obligation was altered\n",
    "    - A **law explanation**, generated by an LLM, describing why it believes this change contradicts a specific law\n",
    "    - **Two scraped law snippets**, pulled from official legal sources (e.g., .gov/.org sites)\n",
    "    - The definitions for each type of Perturbation. \n",
    "\n",
    "    ---\n",
    "\n",
    "    ### Perturbation Type:\n",
    "    {perturbation.get(\"type\", \"\")}\n",
    "\n",
    "    ### Original Text:\n",
    "    {perturbation.get(\"original_text\", \"\")}\n",
    "\n",
    "    ### Changed Text:\n",
    "    {perturbation.get(\"changed_text\", \"\")}\n",
    "\n",
    "    ### Perturbation Explanation:\n",
    "    {perturbation.get(\"explanation\", \"\")}\n",
    "\n",
    "    ### Law Explanation (Generated by LLM):\n",
    "    {perturbation.get(\"law_explanation\", \"\")}\n",
    "\n",
    "    ### Scraped Law Snippet 1:\n",
    "    {perturbation.get(\"scraped_snippet_1\", \"\")}\n",
    "\n",
    "    ### Scraped Law Snippet 2:\n",
    "    {perturbation.get(\"scraped_snippet_2\", \"\")}\n",
    "    \n",
    "    ### Perturbation Definitions:\n",
    "    1. Ambiguity Legal Contradiction: Ambiguities occur when a legal statement is vague, leading to multiple interpretations. A **legal contradiction** under this category happens when an obligation is introduced ambiguously, making it difficult to enforce under state or national law. This can result in non-compliance with regulatory requirements, leaving legal obligations open to dispute.\n",
    "    2. Omission Legal Contradiction: Omissions occur when a contract **removes essential information**, creating legal loopholes. A **legal contradiction** in this category happens when a contract omits **a legally mandated consumer protection**, making it non-compliant.\n",
    "    3. Misaligned Terminalogy Legal Contradiction: Misaligned terminology occurs when a contract **uses terms that do not match their statutory meaning**, leading to non-compliance. A **legal contradiction** in this category arises when contractual language deviates from legally recognized definitions, making the contract unenforceable.\n",
    "    4. Structural Flaws Legal Contradiction: Structural flaws occur when the **organization of a contract affects its clarity or enforceability**. A **legal contradiction** in this category arises when a required legal disclosure is **placed in an irrelevant or misleading section**, making it difficult for parties to locate or interpret.\n",
    "    5. Inconsistencies Legal Contradiction: Inconsistencies arise when **time-sensitive obligations** in a contract do not align with legal requirements. A **legal contradiction** in this category happens when a contract sets **a deadline or requirement that violates federal or state law**, making the contractual terms unenforceable or illegal.\n",
    "    \n",
    "    ---\n",
    "\n",
    "    ### Your Task (Strict Instructions):\n",
    "\n",
    "    1. Analyze all the provided inputs thoroughly, along with the definitions to understand what perturbation type was used.\n",
    "    2. Focus your contradiction assessment on the following 5 core elements:\n",
    "       - Scraped Law Snippet 1\n",
    "       - Scraped Law Snippet 2\n",
    "       - Perturbation Explanation\n",
    "       - Law Explanation\n",
    "       - The comparison between the Original and Changed Text\n",
    "\n",
    "    3. Use **both scraped law snippets**, even if one is missing, short, or incomplete. If both are valid, use both to strengthen your understanding of the law\u2019s scope and language.\n",
    "\n",
    "    4. Assign a **contradiction_category** of LOW(Little to No contradiction) MEDIUM(In-direct Contradiction), HIGH(very strong, direct contradiction) based on how much the changed contract text violates or weakens the obligation stated in the actual law.\n",
    "        \n",
    "\n",
    "    5. Then provide a **justification**, explaining clearly:\n",
    "       - How the law was contradicted (or not)\n",
    "       - Which parts of the scraped snippets support your reasoning\n",
    "       - Why the contradiction score is appropriate, without simply repeating the score\n",
    "\n",
    "     Do not infer legal meaning beyond what\u2019s in the snippets or explanations. Only use what's provided.\n",
    "\n",
    "     The contradiction_score and justification must be **independently valid** \u2014 don\u2019t base one on the other.\n",
    "\n",
    "    ---\n",
    "\n",
    "    ### Output Format (Strictly Follow This):\n",
    "\n",
    "    {{\n",
    "      \"contradiction_score\": \"Assign LOW, MEDIUM, HIGH\",\n",
    "      \"justification\": \"A legally grounded explanation of how (and if) the modified text contradicts the law, referencing the scraped snippets where helpful.\"\n",
    "    }}\n",
    "\n",
    "    Return ONLY this JSON object. No markdown, no notes, no commentary \u2014 just valid JSON with double quotes.\n",
    "    \"\"\""
   ]
  },
  {
   "cell_type": "code",
   "execution_count": 118,
   "id": "68914975-7da4-495f-b3f9-9bd696b4d169",
   "metadata": {
    "collapsed": true,
    "jupyter": {
     "outputs_hidden": true
    },
    "tags": []
   },
   "outputs": [
    {
     "data": {
      "text/plain": [
       "'\\n    You are a legal verification expert. Your task is to determine how strongly a legal contradiction was created when a contract was modified. This contradiction must be evaluated based on legal standards, using the information provided.\\n\\n    You are given:\\n    - The **type** of perturbation introduced\\n    - The **original contract text**\\n    - The **changed (perturbed) version** of that text\\n    - A short **perturbation explanation**, describing how the legal obligation was altered\\n    - A **law explanation**, generated by an LLM, describing why it believes this change contradicts a specific law\\n    - **Two scraped law snippets**, pulled from official legal sources (e.g., .gov/.org sites)\\n    - The definitions for each type of Perturbation. \\n\\n    ---\\n\\n    ### Perturbation Type:\\n    {perturbation.get(\"type\", \"\")}\\n\\n    ### Original Text:\\n    {perturbation.get(\"original_text\", \"\")}\\n\\n    ### Changed Text:\\n    {perturbation.get(\"changed_text\", \"\")}\\n\\n    ### Perturbation Explanation:\\n    {perturbation.get(\"explanation\", \"\")}\\n\\n    ### Law Explanation (Generated by LLM):\\n    {perturbation.get(\"law_explanation\", \"\")}\\n\\n    ### Scraped Law Snippet 1:\\n    {perturbation.get(\"scraped_snippet_1\", \"\")}\\n\\n    ### Scraped Law Snippet 2:\\n    {perturbation.get(\"scraped_snippet_2\", \"\")}\\n    \\n    ### Perturbation Definitions:\\n    1. Ambiguity Legal Contradiction: Ambiguities occur when a legal statement is vague, leading to multiple interpretations. A **legal contradiction** under this category happens when an obligation is introduced ambiguously, making it difficult to enforce under state or national law. This can result in non-compliance with regulatory requirements, leaving legal obligations open to dispute.\\n    2. Omission Legal Contradiction: Omissions occur when a contract **removes essential information**, creating legal loopholes. A **legal contradiction** in this category happens when a contract omits **a legally mandated consumer protection**, making it non-compliant.\\n    3. Misaligned Terminalogy Legal Contradiction: Misaligned terminology occurs when a contract **uses terms that do not match their statutory meaning**, leading to non-compliance. A **legal contradiction** in this category arises when contractual language deviates from legally recognized definitions, making the contract unenforceable.\\n    4. Structural Flaws Legal Contradiction: Structural flaws occur when the **organization of a contract affects its clarity or enforceability**. A **legal contradiction** in this category arises when a required legal disclosure is **placed in an irrelevant or misleading section**, making it difficult for parties to locate or interpret.\\n    5. Inconsistencies Legal Contradiction: Inconsistencies arise when **time-sensitive obligations** in a contract do not align with legal requirements. A **legal contradiction** in this category happens when a contract sets **a deadline or requirement that violates federal or state law**, making the contractual terms unenforceable or illegal.\\n    \\n    ---\\n\\n    ### Your Task (Strict Instructions):\\n\\n    1. Analyze all the provided inputs thoroughly, along with the definitions to understand what perturbation type was used.\\n    2. Focus your contradiction assessment on the following 5 core elements:\\n       - Scraped Law Snippet 1\\n       - Scraped Law Snippet 2\\n       - Perturbation Explanation\\n       - Law Explanation\\n       - The comparison between the Original and Changed Text\\n\\n    3. Use **both scraped law snippets**, even if one is missing, short, or incomplete. If both are valid, use both to strengthen your understanding of the law\u2019s scope and language.\\n\\n    4. Assign a **contradiction_score** between **0.0** (no contradiction) and **1.0** (very strong, direct contradiction) based on how much the changed contract text violates or weakens the obligation stated in the actual law.\\n\\n    5. Then provide a **justification**, explaining clearly:\\n       - How the law was contradicted (or not)\\n       - Which parts of the scraped snippets support your reasoning\\n       - Why the contradiction score is appropriate, without simply repeating the score\\n\\n     Do not infer legal meaning beyond what\u2019s in the snippets or explanations. Only use what\\'s provided.\\n\\n     The contradiction_score and justification must be **independently valid** \u2014 don\u2019t base one on the other.\\n\\n    ---\\n\\n    ### Output Format (Strictly Follow This):\\n\\n    {{\\n      \"contradiction_score\": float between 0.0 and 1.0,\\n      \"justification\": \"A legally grounded explanation of how (and if) the modified text contradicts the law, referencing the scraped snippets where helpful.\"\\n    }}\\n\\n    Return ONLY this JSON object. No markdown, no notes, no commentary \u2014 just valid JSON with double quotes.\\n    '"
      ]
     },
     "execution_count": 118,
     "metadata": {},
     "output_type": "execute_result"
    }
   ],
   "source": [
    "\"\"\"\n",
    "    You are a legal verification expert. Your task is to determine how strongly a legal contradiction was created when a contract was modified. This contradiction must be evaluated based on legal standards, using the information provided.\n",
    "\n",
    "    You are given:\n",
    "    - The **type** of perturbation introduced\n",
    "    - The **original contract text**\n",
    "    - The **changed (perturbed) version** of that text\n",
    "    - A short **perturbation explanation**, describing how the legal obligation was altered\n",
    "    - A **law explanation**, generated by an LLM, describing why it believes this change contradicts a specific law\n",
    "    - **Two scraped law snippets**, pulled from official legal sources (e.g., .gov/.org sites)\n",
    "    - The definitions for each type of Perturbation. \n",
    "\n",
    "    ---\n",
    "\n",
    "    ### Perturbation Type:\n",
    "    {perturbation.get(\"type\", \"\")}\n",
    "\n",
    "    ### Original Text:\n",
    "    {perturbation.get(\"original_text\", \"\")}\n",
    "\n",
    "    ### Changed Text:\n",
    "    {perturbation.get(\"changed_text\", \"\")}\n",
    "\n",
    "    ### Perturbation Explanation:\n",
    "    {perturbation.get(\"explanation\", \"\")}\n",
    "\n",
    "    ### Law Explanation (Generated by LLM):\n",
    "    {perturbation.get(\"law_explanation\", \"\")}\n",
    "\n",
    "    ### Scraped Law Snippet 1:\n",
    "    {perturbation.get(\"scraped_snippet_1\", \"\")}\n",
    "\n",
    "    ### Scraped Law Snippet 2:\n",
    "    {perturbation.get(\"scraped_snippet_2\", \"\")}\n",
    "    \n",
    "    ### Perturbation Definitions:\n",
    "    1. Ambiguity Legal Contradiction: Ambiguities occur when a legal statement is vague, leading to multiple interpretations. A **legal contradiction** under this category happens when an obligation is introduced ambiguously, making it difficult to enforce under state or national law. This can result in non-compliance with regulatory requirements, leaving legal obligations open to dispute.\n",
    "    2. Omission Legal Contradiction: Omissions occur when a contract **removes essential information**, creating legal loopholes. A **legal contradiction** in this category happens when a contract omits **a legally mandated consumer protection**, making it non-compliant.\n",
    "    3. Misaligned Terminalogy Legal Contradiction: Misaligned terminology occurs when a contract **uses terms that do not match their statutory meaning**, leading to non-compliance. A **legal contradiction** in this category arises when contractual language deviates from legally recognized definitions, making the contract unenforceable.\n",
    "    4. Structural Flaws Legal Contradiction: Structural flaws occur when the **organization of a contract affects its clarity or enforceability**. A **legal contradiction** in this category arises when a required legal disclosure is **placed in an irrelevant or misleading section**, making it difficult for parties to locate or interpret.\n",
    "    5. Inconsistencies Legal Contradiction: Inconsistencies arise when **time-sensitive obligations** in a contract do not align with legal requirements. A **legal contradiction** in this category happens when a contract sets **a deadline or requirement that violates federal or state law**, making the contractual terms unenforceable or illegal.\n",
    "    \n",
    "    ---\n",
    "\n",
    "    ### Your Task (Strict Instructions):\n",
    "\n",
    "    1. Analyze all the provided inputs thoroughly, along with the definitions to understand what perturbation type was used.\n",
    "    2. Focus your contradiction assessment on the following 5 core elements:\n",
    "       - Scraped Law Snippet 1\n",
    "       - Scraped Law Snippet 2\n",
    "       - Perturbation Explanation\n",
    "       - Law Explanation\n",
    "       - The comparison between the Original and Changed Text\n",
    "\n",
    "    3. Use **both scraped law snippets**, even if one is missing, short, or incomplete. If both are valid, use both to strengthen your understanding of the law\u2019s scope and language.\n",
    "\n",
    "    4. Assign a **contradiction_score** between **0.0** (no contradiction) and **1.0** (very strong, direct contradiction) based on how much the changed contract text violates or weakens the obligation stated in the actual law.\n",
    "\n",
    "    5. Then provide a **justification**, explaining clearly:\n",
    "       - How the law was contradicted (or not)\n",
    "       - Which parts of the scraped snippets support your reasoning\n",
    "       - Why the contradiction score is appropriate, without simply repeating the score\n",
    "\n",
    "     Do not infer legal meaning beyond what\u2019s in the snippets or explanations. Only use what's provided.\n",
    "\n",
    "     The contradiction_score and justification must be **independently valid** \u2014 don\u2019t base one on the other.\n",
    "\n",
    "    ---\n",
    "\n",
    "    ### Output Format (Strictly Follow This):\n",
    "\n",
    "    {{\n",
    "      \"contradiction_score\": float between 0.0 and 1.0,\n",
    "      \"justification\": \"A legally grounded explanation of how (and if) the modified text contradicts the law, referencing the scraped snippets where helpful.\"\n",
    "    }}\n",
    "\n",
    "    Return ONLY this JSON object. No markdown, no notes, no commentary \u2014 just valid JSON with double quotes.\n",
    "    \"\"\""
   ]
  },
  {
   "cell_type": "markdown",
   "id": "87e07c89-fa70-4120-90b0-996c48329b00",
   "metadata": {},
   "source": [
    "# TODO\n",
    "- add more examples\n",
    "- Binary Classification (Yes, No)"
   ]
  },
  {
   "cell_type": "markdown",
   "id": "fbfbd24c-deb9-4a29-a319-cb77ec88cc23",
   "metadata": {},
   "source": [
    "# Law Validation"
   ]
  },
  {
   "cell_type": "code",
   "execution_count": 127,
   "id": "dadcc542-dae1-4eef-97dc-940e230fee54",
   "metadata": {
    "tags": []
   },
   "outputs": [],
   "source": [
    "def generate_verification_prompt(perturbation):\n",
    "    return f\"\"\"\n",
    "    You are a legal verification expert. Your task is to determine how strongly a legal contradiction was created when a contract was modified. This contradiction must be evaluated based on legal standards, using the information provided.\n",
    "\n",
    "    You are given:\n",
    "    - The **type** of perturbation introduced\n",
    "    - The **original contract text**\n",
    "    - The **changed (perturbed) version** of that text\n",
    "    - A short **perturbation explanation**, describing how the legal obligation was altered\n",
    "    - A **law explanation**, generated by an LLM, describing why it believes this change contradicts a specific law\n",
    "    - **Two scraped law snippets**, pulled from official legal sources (e.g., .gov/.org sites)\n",
    "    - The definitions for each type of Perturbation. \n",
    "\n",
    "    ---\n",
    "\n",
    "    ### Perturbation Type:\n",
    "    {perturbation.get(\"type\", \"\")}\n",
    "\n",
    "    ### Original Text:\n",
    "    {perturbation.get(\"original_text\", \"\")}\n",
    "\n",
    "    ### Changed Text:\n",
    "    {perturbation.get(\"changed_text\", \"\")}\n",
    "\n",
    "    ### Perturbation Explanation:\n",
    "    {perturbation.get(\"explanation\", \"\")}\n",
    "\n",
    "    ### Law Explanation (Generated by LLM):\n",
    "    {perturbation.get(\"law_explanation\", \"\")}\n",
    "\n",
    "    ### Scraped Law Snippet 1:\n",
    "    {perturbation.get(\"scraped_snippet_1\", \"\")}\n",
    "\n",
    "    ### Scraped Law Snippet 2:\n",
    "    {perturbation.get(\"scraped_snippet_2\", \"\")}\n",
    "    \n",
    "    ### Perturbation Definitions:\n",
    "    1. Ambiguity Legal Contradiction: Ambiguities occur when a legal statement is vague, leading to multiple interpretations. A **legal contradiction** under this category happens when an obligation is introduced ambiguously, making it difficult to enforce under state or national law. This can result in non-compliance with regulatory requirements, leaving legal obligations open to dispute.\n",
    "    2. Omission Legal Contradiction: Omissions occur when a contract **removes essential information**, creating legal loopholes. A **legal contradiction** in this category happens when a contract omits **a legally mandated consumer protection**, making it non-compliant.\n",
    "    3. Misaligned Terminalogy Legal Contradiction: Misaligned terminology occurs when a contract **uses terms that do not match their statutory meaning**, leading to non-compliance. A **legal contradiction** in this category arises when contractual language deviates from legally recognized definitions, making the contract unenforceable.\n",
    "    4. Structural Flaws Legal Contradiction: Structural flaws occur when the **organization of a contract affects its clarity or enforceability**. A **legal contradiction** in this category arises when a required legal disclosure is **placed in an irrelevant or misleading section**, making it difficult for parties to locate or interpret.\n",
    "    5. Inconsistencies Legal Contradiction: Inconsistencies arise when **time-sensitive obligations** in a contract do not align with legal requirements. A **legal contradiction** in this category happens when a contract sets **a deadline or requirement that violates federal or state law**, making the contractual terms unenforceable or illegal.\n",
    "    \n",
    "    ---\n",
    "\n",
    "    ### Your Task (Strict Instructions):\n",
    "\n",
    "    1. Analyze all the provided inputs thoroughly, along with the definitions to understand what perturbation type was used.\n",
    "    2. Focus your contradiction assessment on the following 5 core elements:\n",
    "       - Scraped Law Snippet 1\n",
    "       - Scraped Law Snippet 2\n",
    "       - Perturbation Explanation\n",
    "       - Law Explanation\n",
    "       - The comparison between the Original and Changed Text\n",
    "\n",
    "    3. Use **both scraped law snippets**, even if one is missing, short, or incomplete. If both are valid, use both to strengthen your understanding of the law\u2019s scope and language.\n",
    "\n",
    "    4. ### Contradiction Category (Choose ONE: \"LOW\" or \"HIGH\")\n",
    "\n",
    "        You must assign a contradiction category based on how significantly the modified contract text violates or undermines the legal obligation stated in the law.\n",
    "\n",
    "        This decision should consider:\n",
    "        - The **importance and clarity** of the legal requirement in the scraped law\n",
    "        - How much the **modified text weakens, removes, or reverses** that legal requirement\n",
    "        - Whether the contradiction is **explicit and impactful**, or **subtle and arguable**\n",
    "\n",
    "        #### LOW Contradiction\n",
    "\n",
    "        Assign `NO` when:\n",
    "        - The change introduces **minor weakening**, **softening**, or **interpretive ambiguity**\n",
    "        - The modified text still **preserves the legal intent**, even if it's more flexible or vague\n",
    "        - The contradiction is **context-dependent**, **non-obvious**, or requires legal interpretation to identify\n",
    "        - The contract could **reasonably be interpreted** as still being compliant\n",
    "\n",
    "        **Examples**:\n",
    "        - Adjustments that make language more discretionary or subjective  \n",
    "        - Modifications that reduce precision, but not legal force  \n",
    "        - Contradictions that rely on tone or nuance\n",
    "\n",
    "        #### HIGH Contradiction\n",
    "\n",
    "        Assign `YES` when:\n",
    "        - The modification results in a **clear non-compliance** with the law\n",
    "        - The changed text **removes or contradicts core legal obligations**\n",
    "        - The contradiction is **direct, enforceable, and serious** from a legal or regulatory perspective\n",
    "        - The modified clause would likely **fail legal scrutiny** or **nullify required protections or standards**\n",
    "\n",
    "        **Examples**:\n",
    "        - Contract change eliminates required action or accountability  \n",
    "        - Legal mandates are replaced by optional or conflicting obligations  \n",
    "        - Any change that would trigger a **legal violation** or breach of compliance\n",
    "        \n",
    "\n",
    "    5. Then provide a **justification**, explaining clearly:\n",
    "       - How the law was contradicted (or not)\n",
    "       - Which parts of the scraped snippets support your reasoning\n",
    "       - Why the contradiction score is appropriate, without simply repeating the score\n",
    "\n",
    "     Do not infer legal meaning beyond what\u2019s in the snippets or explanations. Only use what's provided.\n",
    "\n",
    "     The contradiction_score and justification must be **independently valid** \u2014 don\u2019t base one on the other.\n",
    "\n",
    "    ---\n",
    "\n",
    "    ### Output Format (Strictly Follow This):\n",
    "\n",
    "    {{\n",
    "      \"contradiction_exists\": \"Assign NO or YES\",\n",
    "      \"justification\": \"A legally grounded explanation of how (and if) the modified text contradicts the law, referencing the scraped snippets where helpful.\"\n",
    "    }}\n",
    "\n",
    "    Return ONLY this JSON object. No markdown, no notes, no commentary \u2014 just valid JSON with double quotes.\n",
    "    \"\"\"\n",
    "\n"
   ]
  },
  {
   "cell_type": "markdown",
   "id": "5ab4b030-093d-46a7-94d7-cc823baeee8e",
   "metadata": {},
   "source": [
    "# In-text Validation"
   ]
  },
  {
   "cell_type": "code",
   "execution_count": null,
   "id": "b02b7f96-16e2-4070-80d6-66c9659ce2bc",
   "metadata": {},
   "outputs": [],
   "source": [
    "def generate_intext_contradiction_prompt(perturbation):\n",
    "    return f\"\"\"\n",
    "You are a contract analyst. Your task is to determine whether a strong **in-text contradiction** was introduced by a modification to the document. An in-text contradiction occurs when one part of a contract directly or implicitly conflicts with another part of the same document, leading to uncertainty, inconsistency, or unenforceable terms.\n",
    "\n",
    "You are given:\n",
    "- The **type** of perturbation introduced\n",
    "- The **original text** that was modified\n",
    "- The **changed version** of that text\n",
    "- A short **explanation** of how the change creates contradiction\n",
    "- A **contradicted section** from elsewhere in the document where the contradiction is triggered\n",
    "- The definitions of each perturbation type\n",
    "\n",
    "---\n",
    "\n",
    "### Perturbation Type:\n",
    "{perturbation.get(\"type\", \"\")}\n",
    "\n",
    "### Original Text:\n",
    "{perturbation.get(\"original_text\", \"\")}\n",
    "\n",
    "### Changed Text:\n",
    "{perturbation.get(\"changed_text\", \"\")}\n",
    "\n",
    "### Perturbation Explanation:\n",
    "{perturbation.get(\"explanation\", \"\")}\n",
    "\n",
    "### Contradicted Text:\n",
    "{perturbation.get(\"contradicted_text\", \"\")}\n",
    "\n",
    "### Perturbation Definitions:\n",
    "1. Ambiguities \u2013 In Text Contradiction: Ambiguities occur when key terms or obligations are defined inconsistently in different parts of a contract, making enforcement difficult or interpretation unclear.\n",
    "2. Omissions \u2013 In Text Contradiction: Omissions occur when essential language is removed or altered in one section, creating a contradiction with obligations or constraints stated in other sections.\n",
    "\n",
    "---\n",
    "\n",
    "### Your Task (Strict Instructions):\n",
    "\n",
    "1. **Compare the changed text** with the **contradicted text**.\n",
    "2. Determine if the change creates a **clear conflict, inconsistency, or contradiction** within the document. This must be based solely on the provided excerpts.\n",
    "3. Only assign `\"contradiction_exists\": \"YES\"` if the change:\n",
    "   - Alters or narrows a definition, obligation, or entitlement that **directly breaks compatibility** with the contradicted section\n",
    "   - Makes enforcement unclear or creates a logical inconsistency\n",
    "4. Assign `\"NO\"` if:\n",
    "   - The changed clause still aligns with the contradicted section\n",
    "   - Any difference is minor, interpretative, or does not meaningfully impact understanding or enforcement\n",
    "\n",
    "---\n",
    "\n",
    "### Contradiction Classification Guidelines:\n",
    "\n",
    "#### YES (Strong In-Text Contradiction)\n",
    "Assign `\"YES\"` if the modified text:\n",
    "- Removes key terms or items that are later required or referenced\n",
    "- Changes timing, eligibility, or definitions in a way that breaks consistency\n",
    "- Introduces ambiguity where the contradicted clause expects certainty\n",
    "\n",
    "**Examples**:\n",
    "- Section 2 defines \"PRODUCT\" excluding 'bags'; Section 5 requires the use of bags \u2192 **YES**\n",
    "- Section 3: \"Benefits start on Day 1\" \u2192 Changed to: \"May be eligible after probation\"; Section 6: \"Enroll in benefits in Week 1\" \u2192 **YES**\n",
    "\n",
    "#### NO (No Meaningful Contradiction)\n",
    "Assign `\"NO\"` if:\n",
    "- The change is additive or softens the language but does not conflict\n",
    "- Both clauses can be reasonably interpreted as compatible\n",
    "- The contradiction is only apparent with legal inference, not internal inconsistency\n",
    "\n",
    "**Examples**:\n",
    "- Changed: \"Data must be stored securely\" \u2192 \"Data must be stored securely and backed up\" \u2014 does not contradict another section \u2192 **NO**\n",
    "- Changed: \"Contractors comply with local codes\" \u2192 \"Contractors comply with local and state codes\"; Section requires compliance \u2192 **NO**\n",
    "\n",
    "---\n",
    "\n",
    "### Output Format (Strictly Follow This):\n",
    "\n",
    "    {{\n",
    "      \"contradiction_exists\": \"Assign NO or YES\",\n",
    "      \"justification\": \"A legally grounded explanation of how (and if) the modified text contradicts the law, referencing the scraped snippets where helpful.\"\n",
    "    }}\n",
    "\n",
    "    Return ONLY this JSON object. No markdown, no notes, no commentary \u2014 just valid JSON with double quotes.\n",
    "\"\"\""
   ]
  },
  {
   "cell_type": "code",
   "execution_count": 121,
   "id": "cab1482c-ba97-44d3-88b0-315787befd26",
   "metadata": {
    "tags": []
   },
   "outputs": [],
   "source": [
    "def get_llm_verification(prompt):\n",
    "    # === Send prompt to LLM (e.g., Gemini) ===\n",
    "    try:\n",
    "        response = model.generate_content(prompt)\n",
    "        content = response.text.strip()\n",
    "        print(\"This is the response from LLM:\", content)\n",
    "        clean_json_text = re.sub(r\"```json|```\", \"\", content).strip()\n",
    "        result = json.loads(clean_json_text)\n",
    "        return result\n",
    "    except Exception as e:\n",
    "        print(f\"[!] Error during Gemini call: {e}\")\n",
    "        return {\"contradiction_score\": None, \"justification\": \"Gemini call failed\"}"
   ]
  },
  {
   "cell_type": "code",
   "execution_count": 122,
   "id": "e3fc15d9-7d3c-4f47-8cb4-c0afb5b7e611",
   "metadata": {
    "tags": []
   },
   "outputs": [],
   "source": [
    "def process_file(file_path, output_path):\n",
    "    with open(file_path, 'r') as f:\n",
    "        data = json.load(f)\n",
    "\n",
    "    root = data[0]    \n",
    "    \n",
    "    for perturbation in root.get(\"perturbation\", []):\n",
    "        prompt = generate_verification_prompt(perturbation)\n",
    "        result = get_llm_verification(prompt)\n",
    "        time.sleep(4.5)\n",
    "        # Attach the result to the current perturbation\n",
    "        perturbation[\"contradiction_score\"] = result.get(\"contradiction_score\")\n",
    "        perturbation[\"justification\"] = result.get(\"justification\")\n",
    "\n",
    "    # Save to output folder\n",
    "    with open(output_path, 'w') as f_out:\n",
    "        json.dump(data, f_out, indent=2)"
   ]
  },
  {
   "cell_type": "code",
   "execution_count": 123,
   "id": "d6ad03e8-20af-4a23-a3ea-2bfd4e4bcf62",
   "metadata": {
    "tags": []
   },
   "outputs": [
    {
     "name": "stderr",
     "output_type": "stream",
     "text": [
      "Verifying contradictions:   0%|          | 0/20 [00:00<?, ?it/s]"
     ]
    },
    {
     "name": "stdout",
     "output_type": "stream",
     "text": [
      "this is file_name: perturbed_WHITESMOKE,INC_11_08_2011-EX-10.26-PROMOTIONANDDISTRIBUTIONAGREEMENT.txt.snippet.json\n",
      "This is the response from LLM: ```json\n",
      "{\n",
      "  \"contradiction_score\": \"HIGH\",\n",
      "  \"justification\": \"The change from 'shall comply' and 'shall ensure' to 'shall endeavor to comply' and 'shall encourage' significantly weakens the binding nature of the Distributor's obligations. The original text created a direct legal duty to comply with the guidelines, while the modified text introduces ambiguity, suggesting a best-effort approach rather than a mandatory requirement. This contradicts the FTC Act, which, according to Scraped Law Snippet 1, aims to 'prevent unfair methods of competition and unfair or deceptive acts or practices in or affecting commerce'. The modified language makes it more difficult to enforce compliance with guidelines designed to prevent such practices, as the Distributor can argue that it 'endeavored' or 'encouraged' compliance without actually ensuring it. Scraped Law Snippet 2 references 15 USC 45 regarding 'Unfair methods of competition unlawful; prevention by Commission', reinforcing the legal obligation to prevent unfair practices, an obligation that is undermined by the weakening of the compliance mandate in the modified text.\"\n",
      "}\n",
      "```\n",
      "This is the response from LLM: ```json\n",
      "{\n",
      "  \"contradiction_score\": \"HIGH\",\n",
      "  \"justification\": \"The original contract text uses 'shall provide', making the action of providing a statement, opportunity to review, and a button for agreement mandatory. The changed text weakens this obligation by using 'should attempt to provide,' 'a statement,' 'an opportunity,' and 'a mechanism,' which introduces ambiguity and makes the actions discretionary. CalOPPA, as suggested by the Law Explanation, requires conspicuous posting of a privacy policy and implicitly requires affirmative consent for data collection. The scraped law snippet 1, BPC 22575(a), explicitly states that an operator 'shall conspicuously post its privacy policy.' By weakening the obligation to provide clear statements and mechanisms for agreement to the EULA, the modified text significantly reduces the likelihood that users will be presented with and agree to privacy policies, contradicting the explicit requirement of conspicuous posting and the implied requirement of affirmative consent. The changed language weakens the enforceability of obtaining informed consent, creating a high risk of non-compliance with CalOPPA.\"\n",
      "}\n",
      "```\n",
      "This is the response from LLM: ```json\n",
      "{\n",
      "  \"contradiction_score\": \"HIGH\",\n",
      "  \"justification\": \"The original text establishes a clear obligation for the distributor to provide Google with a report on specific metrics. The changed text introduces ambiguity and discretion, stating the distributor 'will, when feasible, attempt to provide Google with a report, potentially identifying the approximate number of' metrics. The Law Explanation suggests that the changes might affect Google's ability to comply with SEC regulations due to unreliable data. Scraped Law Snippet 1 (17 CFR \u00a7 210.4-01) requires that 'Financial statements should be filed in such form and order... as will best indicate their significance and character'. By making the report discretionary and approximate, the modified contract language directly undermines the reliability of data and introduces ambiguity which negatively impacts Google's reporting obligations. This is a HIGH contradiction because it significantly weakens the obligation to provide verifiable data for financial reporting, potentially leading to non-compliance.\"\n",
      "}\n",
      "```\n"
     ]
    },
    {
     "name": "stderr",
     "output_type": "stream",
     "text": [
      "Verifying contradictions:   5%|\u258c         | 1/20 [00:18<05:59, 18.90s/it]"
     ]
    },
    {
     "name": "stdout",
     "output_type": "stream",
     "text": [
      "this is file_name: perturbed_DovaPharmaceuticalsInc_20181108_10-Q_EX-10.2_11414857_EX-10.2_PromotionAgreement.txt.snippet.json\n",
      "This is the response from LLM: ```json\n",
      "{\n",
      "  \"contradiction_score\": \"HIGH\",\n",
      "  \"justification\": \"The modified text introduces ambiguity and weakens the original obligation, potentially leading to non-compliance with the FD&C Act, as indicated by the law explanation. Replacing 'shall instruct' with 'shall encourage,' reducing monitoring efforts from 'monitor and audit (in accordance with Valeant's standard practice)' to 'from time to time, monitor,' and allowing for 'generally in accordance with' instead of 'in adherence in all respects' significantly dilutes the mandatory nature of compliance. This is a HIGH contradiction because 21 USC 331(a) explicitly prohibits 'the introduction or delivery for introduction into interstate commerce of any food, drug, device, tobacco product, or cosmetic that is adulterated or misbranded.' The weakened language in the modified contract increases the risk of such prohibited acts occurring due to lack of strict oversight and mandatory adherence to applicable laws.\"\n",
      "}\n",
      "```\n",
      "This is the response from LLM: ```json\n",
      "{\n",
      "  \"contradiction_score\": \"HIGH\",\n",
      "  \"justification\": \"The original text requires Dova to \\\"ensure\\\" compliance with Applicable Law regarding patient assistance programs, while the changed text only requires Dova to \\\"endeavor\\\" to operate in a \\\"generally compliant manner.\\\" The Anti-Kickback Statute prohibits remuneration to induce referrals for services paid by federal healthcare programs. The Law Explanation argues that the weakening of the assurance of full compliance raises concerns that the program could be structured in a way that provides illegal remuneration to induce referrals, violating federal law. Although Scraped Law Snippet 1 is a 'Document not Found' error and Scraped Law Snippet 2 is 'None', the absence of supporting legal text doesn't negate the validity of the Law Explanation, which identifies a clear legal risk. The 'endeavor' and 'generally compliant' language introduces ambiguity and reduces the certainty of compliance, posing a significant risk of violating the Anti-Kickback Statute, therefore, the contradiction is rated as HIGH.\"\n",
      "}\n",
      "```\n",
      "This is the response from LLM: ```json\n",
      "{\n",
      "  \"contradiction_score\": \"HIGH\",\n",
      "  \"justification\": \"The original text mandates strict compliance with applicable laws, whereas the changed text introduces ambiguity and reduces the standard to 'reasonable efforts,' potentially conflicting with the Physician Payments Sunshine Act. The Law Explanation states the change 'opens the possibility of incomplete or inaccurate reporting, which is a violation of the Sunshine Act.' While Scraped Law Snippet 1 is empty, Scraped Law Snippet 2 points to 42 CFR Part 403 Subpart I, which concerns 'Transparency Reports and Reporting of Physician Ownership or Investment Interests,' aligning with the Law Explanation's reference to the Sunshine Act. Replacing 'require' with 'encourage' for Field Force Personnel further weakens the obligation, increasing the risk of non-compliance with mandatory reporting requirements under the Sunshine Act, thus warranting a 'HIGH' contradiction score as it undermines the enforceability and intent of the original strict compliance clause.\"\n",
      "}\n",
      "```\n"
     ]
    },
    {
     "name": "stderr",
     "output_type": "stream",
     "text": [
      "Verifying contradictions:  10%|\u2588         | 2/20 [00:36<05:30, 18.34s/it]"
     ]
    },
    {
     "name": "stdout",
     "output_type": "stream",
     "text": [
      "this is file_name: perturbed_PACIRAPHARMACEUTICALS,INC.-A_RSTRATEGICLICENSING,DISTRIBUTIONANDMARKETINGAGREEMENT.txt.snippet.json\n",
      "This is the response from LLM: ```json\n",
      "{\n",
      "  \"contradiction_score\": \"LOW\",\n",
      "  \"justification\": \"The modification changes \\\"to make or have made\\\" to \\\"to consider making or having made,\\\" which introduces ambiguity regarding EKR's obligation to manufacture products. The Law Explanation suggests this could conflict with postmarketing reporting requirements under 21 CFR \u00a7 314.81(b)(3)(vii), which necessitates reporting discontinuance of manufacture, implying a need to maintain adequate supply. However, the scraped snippets (Snippet 1 about 21 CFR 314.81 and Snippet 2 generally referencing CFR Title 21 and FDA regulations) do not explicitly mandate continuous or guaranteed production. While the change introduces uncertainty, it doesn't directly contradict any explicit legal requirement in the provided snippets. The obligation is weakened, making it discretionary, but the contract could still be interpreted as compliant, thus representing a 'LOW' contradiction.\"\n",
      "}\n",
      "```\n",
      "This is the response from LLM: ```json\n",
      "{\n",
      "  \"contradiction_score\": \"HIGH\",\n",
      "  \"justification\": \"The original contract mandates EKR to 'use commercially reasonable efforts' to obtain marketing authorizations. The revised text weakens this obligation by stating EKR 'shall consider using commercially reasonable efforts,' thus introducing discretion where there was originally a duty. The Law Explanation points out that this shift may conflict with FDA requirements regarding compliance (e.g., 21 CFR \u00a7 314.70(b)), implying that the FDA requires a clear commitment to maintaining compliance. While the provided snippets do not directly state the obligation to obtain marketing authorization, the snippets generally pertain to supplements and changes to approved NDAs, and explicitly reference Title 21. By making the effort discretionary, the revised text creates a high contradiction because it undermines the enforceability of any obligation to comply with regulatory standards, potentially leading to non-compliance.\"\n",
      "}\n",
      "```\n",
      "This is the response from LLM: ```json\n",
      "{\n",
      "  \"contradiction_score\": \"HIGH\",\n",
      "  \"justification\": \"The changed text weakens the mandatory reporting requirements for adverse events. The original text uses \\\"shall promptly provide\\\" and \\\"promptly forward,\\\" indicating a clear obligation. The modified text uses \\\"should attempt to provide\\\" and \\\"could forward,\\\" making the reporting discretionary. The Law Explanation highlights conflict with 21 CFR \u00a7 314.80(c)(1), which requires submission of information regarding adverse drug experiences. While Scraped Law Snippet 1 doesn't directly contain 21 CFR \u00a7 314.80(c)(1), it confirms its existence within the Code of Federal Regulations and Title 21. Scraped Law Snippet 2 further validates Title 21's regulatory role concerning drugs and medical devices. The shift from mandatory to discretionary reporting creates a direct conflict with regulatory expectations, thus, the contradiction is rated as HIGH.\"\n",
      "}\n",
      "```\n"
     ]
    },
    {
     "name": "stderr",
     "output_type": "stream",
     "text": [
      "Verifying contradictions:  15%|\u2588\u258c        | 3/20 [00:55<05:11, 18.33s/it]"
     ]
    },
    {
     "name": "stdout",
     "output_type": "stream",
     "text": [
      "this is file_name: perturbed_PfHospitalityGroupInc_20150923_10-12G_EX-10.1_9266710_EX-10.1_FranchiseAgreement3.txt.snippet.json\n",
      "This is the response from LLM: ```json\n",
      "{\n",
      "  \"contradiction_score\": \"LOW\",\n",
      "  \"justification\": \"The change from \\\"shall not\\\" to \\\"should endeavor not to\\\" weakens the obligation to protect confidential information. The Law Explanation says that this weakening can make it more difficult to enforce non-disclosure agreements, potentially conflicting with the DTSA's goal of protecting trade secrets. The provided snippet from the Defend Trade Secrets Act of 2016 indicates the act's existence and relates to trade secret misappropriation, but doesn't directly address the level of obligation required in contracts regarding confidential information. While the change introduces ambiguity and reduces the enforceability of the non-disclosure agreement, it doesn't explicitly violate the DTSA, as the contract could be interpreted as still intending to provide some level of protection. The snippet doesn't provide specific language requiring 'shall' or prohibiting 'should endeavor'. Thus, while weakening the obligation, it doesn't create a high level of contradiction.\"\n",
      "}\n",
      "```\n",
      "This is the response from LLM: ```json\n",
      "{\n",
      "  \"contradiction_score\": \"HIGH\",\n",
      "  \"justification\": \"The modified contract introduces ambiguities and weakens restrictions on competitive activities, potentially conflicting with California Business and Professions Code Section 16600, which generally invalidates non-compete agreements. The original text used definitive language like 'shall not' and 'any other interest,' whereas the revised text uses more permissive and vague terms such as 'shall generally not' and 'significant interest,' and replaces 'substantially similar' with 'reasonably similar.' This shift allows for a broader interpretation of permissible activities, potentially circumventing the intent of Section 16600, which, according to Scraped Law Snippet 1, states that 'every contract by which anyone is restrained from engaging in a lawful profession, trade, or business of any kind is to that extent void.' The change from 'otherwise approved' to 'may be approved' also weakens the requirement, introducing further ambiguity regarding the approval process. These changes collectively weaken the non-compete clause, making it more susceptible to legal challenge and potentially unenforceable under California law.\"\n",
      "}\n",
      "```\n",
      "This is the response from LLM: ```json\n",
      "{\n",
      "  \"contradiction_score\": \"HIGH\",\n",
      "  \"justification\": \"The changed text significantly undermines the original intent regarding the allocation of costs and fees in case of a breach, creating a high contradiction with the spirit of FRCP 54(d)(1). The original text clearly states the Member agrees to pay all court costs and reasonable attorney's fees. The revised text introduces ambiguity by stating the Member agrees to 'potentially contribute to court costs and possibly reasonable attorney's fees'.\\n\\nFRCP 54(d)(1) states that 'costs\u2014other than attorney's fees\u2014should be allowed to the prevailing party. Unless a federal statute, these rules, or a court order provides otherwise'. By changing 'all' to 'potentially contribute' and 'reasonable' to 'possibly reasonable', the modified contract introduces uncertainty and weakens the franchisor's ability to recover costs. This contradicts the principle that the prevailing party should generally be awarded costs, as stated in the scraped snippet. Furthermore, the added ambiguities weaken the enforceability of the agreement and introduce subjectivity, potentially conflicting with the goal of a 'just, speedy, and inexpensive determination' as highlighted in Scraped Law Snippet 2 regarding the Federal Rules of Civil Procedure.\"\n",
      "}\n",
      "```\n"
     ]
    },
    {
     "name": "stderr",
     "output_type": "stream",
     "text": [
      "Verifying contradictions:  20%|\u2588\u2588        | 4/20 [01:13<04:55, 18.45s/it]"
     ]
    },
    {
     "name": "stdout",
     "output_type": "stream",
     "text": [
      "this is file_name: perturbed_LohaCompanyltd_20191209_F-1_EX-10.16_11917878_EX-10.16_SupplyAgreement.txt.snippet.json\n",
      "This is the response from LLM: ```json\n",
      "{\n",
      "  \"contradiction_score\": \"HIGH\",\n",
      "  \"justification\": \"The modification introduces ambiguities that significantly weaken the original contract's enforceability, creating a high contradiction. The original text provided clear timelines and obligations for the seller's acceptance or rejection of an order. The altered text replaces these clear terms with vague alternatives such as 'reasonable timeframe,' 'potentially unacceptable,' and 'suitable period.' This shift undermines the definiteness required for a contract to be legally binding. The LLM's Law Explanation references Article 17 of the Contract Law of the People's Republic of China, stating that 'An offer shall become effective when it reaches the offeree.' The change introduces ambiguity around acceptance, which makes it difficult to determine when the contract legally becomes effective, contradicting the original intent of establishing a binding agreement. Scraped Law Snippet 1 is not relevant because it discusses political meetings and committees. The changes made would likely fail legal scrutiny because they undermine the clarity and enforceability of the contract.\"\n",
      "}\n",
      "```\n",
      "This is the response from LLM: ```json\n",
      "{\n",
      "  \"contradiction_score\": \"HIGH\",\n",
      "  \"justification\": \"The original text mandates specific treatments and certifications for wooden materials to comply with quarantine regulations, as suggested by the reference to the Entry-Exit Inspection and Quarantine Bureau of China and IPPC stamps. The changed text significantly weakens these requirements by using terms like 'general guidelines,' 'generally recognized,' 'may be marked with something similar,' and 'potentially certified.' This shift from mandatory ('must') to permissive ('should,' 'may') directly undermines the legally enforceable nature of the original obligation. Without a specific law snippet, the law explanation states that the changes contradict the intent of enforcing strict quarantine measures. Since the original language creates a strong and specific legal obligation and the altered language creates ambiguous requirements that weakens the obligation and opens it to interpretation, this creates a High contradiction.\"\n",
      "}\n",
      "```\n",
      "This is the response from LLM: ```json\n",
      "{\n",
      "  \"contradiction_score\": \"HIGH\",\n",
      "  \"justification\": \"The original contract text provides a guarantee that the commodity complies in all respects with the specified quality and standards. The changed text weakens this guarantee by stating that the sellers \\\"generally intend\\\" for the commodity to \\\"substantially comply.\\\" This shift from a firm guarantee to a statement of intent and the introduction of the term \\\"substantially comply\\\" creates ambiguity and reduces the seller's liability, as explained in the perturbation explanation. Although Scraped Law Snippet 1 is not relevant as it is in another language, the LLM's Law Explanation suggests that Article 153 of the Contract Law of the People's Republic of China implies the seller is responsible for ensuring goods meet the agreed-upon standards, which is undermined by the weakened guarantee in the changed text. Replacing 'complies in all respects' with 'substantially comply' introduces ambiguity, making it difficult to enforce quality and specification clauses. This represents a significant departure from a clear obligation, thus creating a high contradiction.\"\n",
      "}\n",
      "```\n"
     ]
    },
    {
     "name": "stderr",
     "output_type": "stream",
     "text": [
      "Verifying contradictions:  25%|\u2588\u2588\u258c       | 5/20 [01:32<04:36, 18.41s/it]"
     ]
    },
    {
     "name": "stdout",
     "output_type": "stream",
     "text": [
      "this is file_name: perturbed_CerenceInc_20191002_8-K_EX-10.4_11827494_EX-10.4_IntellectualPropertyAgreement.txt.snippet.json\n",
      "This is the response from LLM: ```json\n",
      "{\n",
      "  \"contradiction_score\": \"LOW\",\n",
      "  \"justification\": \"The LLM explanation argues that making IP assignment execution and recordation optional undermines the ability to maintain accurate records, potentially violating Delaware law regarding corporate record-keeping. However, the provided scraped snippet (Delaware Code Online Title 8) focuses on mergers and consolidations of domestic corporations, specifically addressing agreements of merger or consolidation. It outlines requirements for such agreements, including terms, conditions, mode of effectuation, and the manner of converting shares. The snippet does not directly mandate how companies must record or maintain records of intellectual property, nor does it explicitly state that IP assignments must be executed without exception. Therefore, while weakening the obligation to record IP transfers might have implications for corporate transparency, it doesn't create a direct contradiction with the specific law provided. The change introduces ambiguity and makes recordation discretionary, weakening the obligation, but the snippet doesn't establish a mandatory requirement for IP record-keeping that is directly violated. Therefore the contradiction is low.\"\n",
      "}\n",
      "```\n",
      "This is the response from LLM: ```json\n",
      "{\n",
      "  \"contradiction_score\": \"HIGH\",\n",
      "  \"justification\": \"The modified text significantly weakens the obligation to release security interests, creating a high contradiction with UCC \u00a7 9-513. The original text states \\\"each Party shall cooperate...to obtain...the release\\\", indicating a clear duty. The changed text uses language like \\\"should consider cooperating,\\\" \\\"perhaps obtain,\\\" and \\\"attempt to cause,\\\" which introduces ambiguity and makes the obligation discretionary. Scraped Law Snippet 1, referencing UCC \u00a7 9-513, imposes a duty on the secured party to file a termination statement. The changes undermine this duty by making the process of obtaining the release of security interests non-mandatory, potentially leading to non-compliance. Snippet 2 is irrelevant as it only provides general information about the Uniform Law Commission.\"\n",
      "}\n",
      "```\n",
      "This is the response from LLM: ```json\n",
      "{\n",
      "  \"contradiction_score\": \"HIGH\",\n",
      "  \"justification\": \"The original text creates a clear obligation for SpinCo to not undermine Nuance's IP rights. The modified text introduces ambiguities and subjective criteria, weakening these obligations. Specifically, adding qualifiers like 'unnecessarily,' 'significant way,' and 'overtly' allows SpinCo to potentially challenge Nuance's IP, which goes against the spirit of protecting IP rights as suggested by the Law Explanation's reference to unfair competition. The scraped law snippet 1 refers to the Trademark Act of 1946, which generally aims to prevent actions that could lead to unfair competition. By making the prohibitions more subjective and adding the 'unless there's a good reason' clause, the modified text significantly weakens the original intent and creates a high likelihood of contradiction with laws designed to prevent unfair competition, even though the specific sections of the Trademark Act are not detailed in the snippets. Given that the perturbation introduces ambiguity that undermines the intention to prevent challenges to IP and that the snippets relate to unfair competition law, the contradiction is deemed HIGH.\"\n",
      "}\n",
      "```\n"
     ]
    },
    {
     "name": "stderr",
     "output_type": "stream",
     "text": [
      "Verifying contradictions:  30%|\u2588\u2588\u2588       | 6/20 [01:50<04:18, 18.45s/it]"
     ]
    },
    {
     "name": "stdout",
     "output_type": "stream",
     "text": [
      "this is file_name: perturbed_IntegrityFunds_20200121_485BPOS_EX-99.EUNDRCONTR_11948727_EX-99.EUNDRCONTR_ServiceAgreement.txt.snippet.json\n",
      "This is the response from LLM: ```json\n",
      "{\n",
      "  \"contradiction_score\": \"HIGH\",\n",
      "  \"justification\": \"The modified text weakens the obligation to comply with applicable laws by introducing the subjective standard of 'to the extent Integrity deems practical.' This directly contradicts the Securities Exchange Act of 1934, which mandates strict adherence to regulations, as the Law Explanation indicates. Scraped Law Snippet 2, 15 USC 78o, addresses the 'Registration and regulation of brokers and dealers,' establishing legal requirements for securities activities. By allowing Integrity to bypass legal requirements based on its own assessment of practicality, the modified text creates a significant contradiction with the Act's demand for full compliance and undermines the regulatory framework governing broker-dealer activities. The original 'shall comply' is a clear, enforceable obligation, while the modified text introduces ambiguity and discretion that weakens the legally binding nature of the clause.\"\n",
      "}\n",
      "```\n",
      "This is the response from LLM: ```json\n",
      "{\n",
      "  \"contradiction_score\": \"HIGH\",\n",
      "  \"justification\": \"The modified contract text introduces a high contradiction with the Securities Act of 1933, specifically concerning liability for false registration statements. The original text mandates truthful and correct reports, while the changed text disclaims accuracy and completeness and makes the provision of reports 'convenient' rather than obligatory. This directly undermines the fund's responsibility to provide truthful information, creating a conflict with Section 11 of the Securities Act, which imposes liability for misstatements or omissions in registration statements. Scraped Law Snippet 1 references 15 USC 77k, outlining '[c]ivil liabilities on account of false registration statement,' emphasizing the legal consequences of untrue or omitted material facts. The changed text's disclaimer essentially attempts to circumvent this liability by suggesting the reports may not be accurate, complete, or even consistently provided, posing a significant risk of non-compliance and potentially nullifying investor protections afforded by securities laws.\"\n",
      "}\n",
      "```\n",
      "This is the response from LLM: ```json\n",
      "{\n",
      "  \"contradiction_score\": \"LOW\",\n",
      "  \"justification\": \"The original text provides a firm agreement to indemnify, while the changed text introduces ambiguity and discretion by stating the fund 'will consider' indemnifying and adding the condition that Integrity is 'not solely responsible'. The law explanation suggests this ambiguity might circumvent the Investment Company Act of 1940's intent to protect investors. However, Scraped Law Snippet 1 (15 USC 80a-17) focuses on prohibited transactions of affiliated persons and underwriters and does not explicitly address indemnification requirements or prohibit discretionary indemnity clauses. Snippet 2 is missing. While the changed text weakens the indemnity obligation, it doesn't directly contradict the provided law snippet, which doesn't mandate specific indemnification terms. Therefore, the contradiction is rated LOW because it is arguable and context-dependent, rather than a direct violation of the provided legal text.\"\n",
      "}\n",
      "```\n"
     ]
    },
    {
     "name": "stderr",
     "output_type": "stream",
     "text": [
      "Verifying contradictions:  35%|\u2588\u2588\u2588\u258c      | 7/20 [02:08<03:59, 18.41s/it]"
     ]
    },
    {
     "name": "stdout",
     "output_type": "stream",
     "text": [
      "this is file_name: perturbed_ADAMSGOLFINC_03_21_2005-EX-10.17-ENDORSEMENTAGREEMENT.txt.snippet.json\n",
      "This is the response from LLM: ```json\n",
      "{\n",
      "  \"contradiction_score\": \"HIGH\",\n",
      "  \"justification\": \"The original contract outlined specific conditions under which ADAMS GOLF could terminate the agreement, providing a clear framework for both parties. The modified text replaces these objective standards with subjective and vague language, such as 'reasonably believes,' 'somewhat affected,' and 'arguably acted.' This significant weakening of the termination clause directly undermines the implied duty of good faith and fair dealing as argued by the Law Explanation. While the scraped snippets are empty, the Law Explanation highlights that the changes introduce subjectivity, allowing ADAMS GOLF to potentially terminate based on easily manipulated interpretations, potentially acting in bad faith. This is a significant departure from the original contract's objective criteria, creating a high risk of unfair or arbitrary termination. Therefore, this constitutes a high contradiction.\"\n",
      "}\n",
      "```\n",
      "This is the response from LLM: ```json\n",
      "{\n",
      "  \"contradiction_score\": \"HIGH\",\n",
      "  \"justification\": \"The original contract language mandated that ADAMS GOLF 'shall provide sufficient quantities' and 'shall pay all charges.' The modified version weakens this obligation significantly by stating ADAMS GOLF 'will try to provide' 'what it considers an adequate amount,' and 'will address delivery charges in a manner it deems appropriate.' The law explanation states that under Kansas law, a material breach occurs when a party fails to perform a substantial part of the agreement. By changing the language to allow ADAMS GOLF to subjectively determine the quantity of MANDATORY PRODUCTS and the payment of delivery charges, the modified text allows for non-compliance. While no specific law snippets were provided to show a direct contradiction, the change introduces ambiguity into what was formerly a clear obligation. This ambiguity, according to the law explanation, creates a higher risk of a material breach of contract, therefore introducing a high contradiction.\"\n",
      "}\n",
      "```\n",
      "This is the response from LLM: ```json\n",
      "{\n",
      "  \"contradiction_score\": \"HIGH\",\n",
      "  \"justification\": \"The original contract mandates ADAMS GOLF to obtain approval from the CONSULTANT before using their likeness in advertising, ensuring the CONSULTANT's right to control their image. The changed text weakens this control by stating ADAMS GOLF will 'generally attempt' to show the material and the consultant's comments will only be 'taken into advisement,' removing the approval requirement. The Law Explanation asserts this weakens the consultant's right of publicity by diminishing the ability to protect their image from unwanted exploitation, and this is a right recognized under common law. Because the changed text removes the approval requirement and replaces it with a discretionary process that doesn't guarantee the consultant's control over their image, the contradiction is high. There is no language in the changed text that adequately safeguards the consultant's right to publicity.\"\n",
      "}\n",
      "```\n"
     ]
    },
    {
     "name": "stderr",
     "output_type": "stream",
     "text": [
      "Verifying contradictions:  40%|\u2588\u2588\u2588\u2588      | 8/20 [02:26<03:39, 18.25s/it]"
     ]
    },
    {
     "name": "stdout",
     "output_type": "stream",
     "text": [
      "this is file_name: perturbed_FTENETWORKS,INC_02_18_2016-EX-99.4-STRATEGICALLIANCEAGREEMENT.txt.snippet.json\n",
      "This is the response from LLM: ```json\n",
      "{\n",
      "  \"contradiction_score\": \"HIGH\",\n",
      "  \"justification\": \"The change from \\\"shall comply\\\" to \\\"shall endeavor to comply with what they perceive to be applicable laws\\\" creates a HIGH contradiction because it undermines the mandatory nature of legal compliance, particularly in areas like safety and health regulations. Scraped Law Snippet 1, specifically 1926.20(a)(1), states that contractors and subcontractors cannot require laborers to work in unsanitary, hazardous, or dangerous conditions. By making compliance subjective ('what they perceive'), the modified text allows subcontractors to potentially disregard safety regulations, directly contradicting the legal requirement for maintaining safe working conditions. The original text requires strict adherence, while the altered text introduces ambiguity and discretion, making enforcement difficult and potentially leading to unsafe conditions.\"\n",
      "}\n",
      "```\n",
      "This is the response from LLM: ```json\n",
      "{\n",
      "  \"contradiction_score\": \"HIGH\",\n",
      "  \"justification\": \"The modified text introduces ambiguity by allowing the subcontractor to determine which licenses are 'necessary,' directly contradicting the original text which mandates obtaining 'all' licenses required by law. The Texas Occupations Code emphasizes regulatory programs and licensing, implying a mandatory requirement for specific licenses (Snippet 1 refers to 'regulatory program under which a license is issued by the department'). The modification weakens this legal obligation by allowing the subcontractor's subjective assessment to dictate compliance, which is a significant departure from the legal intent. This shift from a mandatory 'all licenses' to a discretionary 'what it considers to be all necessary licenses' is a clear non-compliance, making the contradiction HIGH.\"\n",
      "}\n",
      "```\n",
      "This is the response from LLM: ```json\n",
      "{\n",
      "  \"contradiction_score\": \"HIGH\",\n",
      "  \"justification\": \"The modified text introduces ambiguity regarding hazardous waste disposal, directly contradicting RCRA's mandate for specific procedures. The original text required disposal 'in accordance with applicable law,' while the revised text allows disposal 'in a manner they deem appropriate.' This change significantly weakens the obligation to comply with environmental regulations, potentially leading to improper disposal and environmental damage. Scraped Law Snippet 1, while not directly on point, refers to the Administrator's powers to enforce compliance related to hazardous waste, demonstrating the significance of adhering to prescribed procedures. The altered text makes it unclear what regulations the subcontractor must follow. Therefore, this represents a high contradiction.\"\n",
      "}\n",
      "```\n"
     ]
    },
    {
     "name": "stderr",
     "output_type": "stream",
     "text": [
      "Verifying contradictions:  45%|\u2588\u2588\u2588\u2588\u258c     | 9/20 [02:44<03:18, 18.01s/it]"
     ]
    },
    {
     "name": "stdout",
     "output_type": "stream",
     "text": [
      "this is file_name: perturbed_LIMEENERGYCO_09_09_1999-EX-10-DISTRIBUTORAGREEMENT.txt.snippet.json\n",
      "This is the response from LLM: ```json\n",
      "{\n",
      "  \"contradiction_score\": \"LOW\",\n",
      "  \"justification\": \"The modification introduces ambiguity by changing 'shall' to 'endeavor to' and 'will attempt to,' weakening the company's obligation. The LLM's Law Explanation suggests this could violate the implied covenant of good faith and fair dealing. However, Scraped Law Snippet 1 is about Euro conversion and doesn't address contractual obligations or good faith. Scraped Law Snippet 2 is missing. Without a relevant law snippet directly addressing the issue of 'shall' vs. 'endeavor to' in contractual obligations within the Illinois UCC, the contradiction is not definitively 'HIGH.' It hinges on the interpretation of 'good faith,' making it context-dependent and arguable, therefore categorized as 'LOW'.\"\n",
      "}\n",
      "```\n",
      "This is the response from LLM: ```json\n",
      "{\n",
      "  \"contradiction_score\": \"LOW\",\n",
      "  \"justification\": \"The change from \\\"shall promote\\\" to \\\"should consider promoting\\\" introduces ambiguity and makes the promotional efforts discretionary. The Law Explanation suggests a potential conflict with the spirit of ensuring diligent sales activity and potential undermining of a sales representative's ability to earn commissions under the Illinois Sales Representative Act. However, Scraped Law Snippet 1 pertains to the Private Seal Abolishment Act, which is unrelated to sales representative commissions or promotional obligations. Without a relevant law snippet to demonstrate a direct contradiction, the change weakens the obligation but does not create a clear legal violation. The ambiguity introduced makes enforcement less certain but doesn't necessarily prevent compliance. Therefore, the contradiction is rated as LOW.\"\n",
      "}\n",
      "```\n",
      "This is the response from LLM: ```json\n",
      "{\n",
      "  \"contradiction_score\": \"HIGH\",\n",
      "  \"justification\": \"The modified text introduces ambiguity and weakens the company's obligations regarding product quality and condition. The original text requires 'reasonable efforts to maintain quality control' and deliver products that are 'properly and adequately packaged and contained, fully assembled, fully functional and otherwise in conformance with the warranties'. The changed text uses terms like 'generally try', 'appear to be reasonably packaged', 'mostly assembled', 'generally functional' and 'arguably in conformance'. This significantly reduces the enforceability of these requirements. While Scraped Law Snippet 1 focuses on invention development services and does not directly address product quality, the Law Explanation argues that the changes undermine the implied warranty of merchantability under the Illinois Uniform Commercial Code (810 ILCS 5/2-314), which requires goods to be fit for ordinary purposes. By allowing products that may not meet basic standards of functionality or packaging, the modified contract text creates a high risk of non-compliance with merchantability standards, therefore creating a high contradiction.\"\n",
      "}\n",
      "```\n"
     ]
    },
    {
     "name": "stderr",
     "output_type": "stream",
     "text": [
      "Verifying contradictions:  50%|\u2588\u2588\u2588\u2588\u2588     | 10/20 [03:02<02:59, 17.91s/it]"
     ]
    },
    {
     "name": "stdout",
     "output_type": "stream",
     "text": [
      "this is file_name: perturbed_DOMINIADVISORTRUST_02_18_2005-EX-99.(H)(2)-SPONSORSHIPAGREEMENT.txt.snippet.json\n",
      "This is the response from LLM: ```json\n",
      "{\n",
      "  \"contradiction_score\": \"HIGH\",\n",
      "  \"justification\": \"The modification significantly weakens the Sponsor's obligations, creating a high risk of non-compliance with Section 15(a) of the Investment Company Act of 1940. The original text uses 'shall perform,' a clear mandate, while the modified text uses 'will endeavor to perform,' which is discretionary. Similarly, 'reasonably requested' becomes 'periodically discussed,' further reducing the Sponsor's commitment. The phrase 'potentially including' introduces ambiguity about the services to be provided. The shift from 'overseeing' to 'offering input' diminishes the Sponsor's responsibility. According to the law explanation, Section 15(a) requires investment advisory contracts to be specific, and these changes introduce vagueness. Scraped Law Snippet 1 refers to 15 USC 80a-15, which covers contracts of advisers and underwriters, supporting the law explanation's claim that the Investment Company Act of 1940 is relevant to this contract. The weakening of mandatory language and introduction of ambiguity directly contradicts the need for specificity in investment advisory contracts, posing a high risk of non-compliance and potentially harming shareholder interests.\"\n",
      "}\n",
      "```\n",
      "This is the response from LLM: ```json\n",
      "{\n",
      "  \"contradiction_score\": \"HIGH\",\n",
      "  \"justification\": \"The modified text contradicts the Investment Company Act, specifically concerning exculpatory clauses. The original text limited liability to 'willful misfeasance, bad faith or gross negligence,' which aligns with fiduciary responsibilities. The changed text replaces this with 'proven and direct harm' and caps liability at fees paid. The Law Explanation states that Section 17(h) of the Investment Company Act prohibits exculpatory clauses that protect investment company affiliates from liability for conduct falling below certain standards, including breaches of fiduciary duty. Capping the Sponsor's liability to the fees paid under the agreement attempts to limit liability related to gross negligence or reckless disregard, which the Act prevents. The provided law snippets, though primarily focused on prohibited transactions under 15 U.S. Code \u00a7 80a-17, support the overarching principle of holding affiliated persons accountable, and the Law Explanation directly links the liability cap to a violation of this principle related to fiduciary duty. The change weakens the liability standard and introduces a cap, creating a HIGH contradiction as it attempts to circumvent legal accountability for serious misconduct.\"\n",
      "}\n",
      "```\n",
      "This is the response from LLM: ```json\n",
      "{\n",
      "  \"contradiction_score\": \"HIGH\",\n",
      "  \"justification\": \"The original contract specifies that Massachusetts law 'shall' govern its interpretation and enforcement. The changed text weakens this by stating the agreement 'will be generally guided by the principles of law, potentially including those of the Commonwealth of Massachusetts, as they seem most relevant.' This introduces significant ambiguity and subjectivity, deviating from the original clear directive. The law explanation states that clear governing law is crucial for compliance with the Investment Company Act of 1940 and that the new wording opens the door for disputes. While Scraped Law Snippet 1 doesn't explicitly mandate a specific choice of law clause, the act's need for clear legal obligations and investor protection is undermined by the ambiguous language. The change replaces a definitive choice of law with a vague guideline, increasing the risk of inconsistent interpretation and hindering regulatory oversight.\"\n",
      "}\n",
      "```\n"
     ]
    },
    {
     "name": "stderr",
     "output_type": "stream",
     "text": [
      "Verifying contradictions:  55%|\u2588\u2588\u2588\u2588\u2588\u258c    | 11/20 [03:20<02:42, 18.05s/it]"
     ]
    },
    {
     "name": "stdout",
     "output_type": "stream",
     "text": [
      "this is file_name: perturbed_MetLife,Inc.-RemarketingAgreement.txt.snippet.json\n",
      "This is the response from LLM: ```json\n",
      "{\n",
      "  \"contradiction_score\": \"HIGH\",\n",
      "  \"justification\": \"The original text imposes clear obligations on the Remarketing Agents, while the changed text weakens these obligations to mere contemplations and attempts. This undermines the implied covenant of good faith and fair dealing, which, according to the Law Explanation, requires parties to act honestly and reasonably. The modification introduces ambiguity that allows for a weaker effort, potentially violating the UCC \u00a7 1-304. as shown in both scraped snippets, which states \\\"Every contract or duty within the Uniform Commercial Code imposes an obligation of good faith in its performance and enforcement.\\\" By replacing definitive actions with vague ones, the modified text creates a high likelihood of non-compliance, directly contradicting the good faith requirement.\"\n",
      "}\n",
      "```\n",
      "This is the response from LLM: ```json\n",
      "{\n",
      "  \"contradiction_score\": \"HIGH\",\n",
      "  \"justification\": \"The changed text introduces significant ambiguity regarding the timing, certainty, and content of the notification required from the Remarketing Agents. The original text mandates notification 'by no later than 4:30 P.M.' that the 'Remarketing was a Successful Remarketing' along with 'the Reset Rates' and 'aggregate principal amount.' In contrast, the modified text uses terms like 'approximately,' 'on or around,' 'assuming,' 'seemingly Successful Remarketing,' 'may attempt,' 'possibly by telephone,' 'arguably,' 'certain Reset Rates,' and 'estimated aggregate principal amount.' This severely weakens the obligation and its enforceability. The Law Explanation posits a contradiction with NY CLS UCC \u00a7 2-607, which requires a buyer to notify the seller of a breach, or be barred from any remedy, arguing this makes proper and timely notification questionable. Snippet 1 and Snippet 2 both show the importance of 'notice of breach' under UCC 2-607; the changes would make this notice so uncertain as to be potentially worthless, effectively negating the requirement for clear and timely notification. The added uncertainty could mean that the buyer has no recourse to a breach.\"\n",
      "}\n",
      "```\n",
      "This is the response from LLM: ```json\n",
      "{\n",
      "  \"contradiction_score\": \"HIGH\",\n",
      "  \"justification\": \"The perturbation introduces numerous ambiguities into the original clause, severely weakening MetLife's obligation to restrict the issuance of similar debt securities. The original clause clearly defines the restriction period and the amount of debt securities. The modified text uses terms like \\\"potentially undefined period,\\\" \\\"generally avoid actions,\\\" \\\"possibly similar pricing characteristics,\\\" and \\\"maybe exceeding an undefined aggregate principal amount.\\\" These changes directly contradict the original intent to provide a clear and enforceable limit on debt issuance. According to the Law Explanation, 15 U.S. Code \u00a7 77k establishes liability for misleading statements in registration statements. The original clause provides a clear limit on the issuance of similar debt. The modified text, by being excessively vague, makes it impossible for investors to assess the risk of additional debt issuance and, as such, is misleading. Given that the perturbation introduces significant ambiguity and weakens the enforceable nature of the clause, it would likely fail legal scrutiny and undermine investor protection. Therefore, it creates a HIGH contradiction.\"\n",
      "}\n",
      "```\n"
     ]
    },
    {
     "name": "stderr",
     "output_type": "stream",
     "text": [
      "Verifying contradictions:  60%|\u2588\u2588\u2588\u2588\u2588\u2588    | 12/20 [03:38<02:25, 18.17s/it]"
     ]
    },
    {
     "name": "stdout",
     "output_type": "stream",
     "text": [
      "this is file_name: perturbed_VEONEER,INC_02_21_2020-EX-10.11-JOINTVENTUREAGREEMENT.txt.snippet.json\n",
      "This is the response from LLM: ```json\n",
      "{\n",
      "  \"contradiction_score\": \"HIGH\",\n",
      "  \"justification\": \"The change from 'governed by and construed in accordance with the laws of Japan' to 'generally guided by principles similar to the laws of Japan' significantly weakens the legal obligation. The original text establishes a clear legal standard, while the modified text introduces ambiguity, making compliance uncertain and potentially unenforceable. While the scraped snippets do not explicitly outline the requirement, the Perturbation Explanation and Law Explanation highlight the risk of conflicting interpretations and diminished legal certainty due to the vague nature of 'generally guided.' This introduces a significant risk of non-compliance, thus creating a High contradiction.\"\n",
      "}\n",
      "```\n",
      "This is the response from LLM: ```json\n",
      "{\n",
      "  \"contradiction_score\": \"HIGH\",\n",
      "  \"justification\": \"The original text mandates that the Nissin Parties \\\"agree to cause\\\" VNBJ and VNBZ to comply with indemnification obligations. The changed text significantly weakens this by stating the Nissin Parties \\\"will endeavor to encourage VNBJ and VNBZ to consider complying.\\\" The phrase 'consider complying' introduces ambiguity and makes the obligation discretionary rather than mandatory. Although the scraped snippets are not directly relevant to the specific law, the Law Explanation identifies Article 430 of the Japanese Companies Act, which concerns director and officer liabilities and indemnification. The change undermines the assurance of indemnification, potentially exposing directors and officers to liabilities. The shift from a firm obligation to a discretionary consideration creates a high contradiction because it significantly reduces the protection originally intended, making compliance uncertain and unenforceable.\"\n",
      "}\n",
      "```\n",
      "This is the response from LLM: ```json\n",
      "{\n",
      "  \"contradiction_score\": \"HIGH\",\n",
      "  \"justification\": \"The modified text introduces significant ambiguity, directly contradicting the essence of legal contracts, which require clarity and enforceability. The original text used 'shall not release,' creating a clear obligation. The changed text uses 'might not release,' replacing a mandatory term with a discretionary one. This introduces uncertainty about whether liability will be enforced. Furthermore, adding 'more significant' before breaches creates a subjective standard, as it's unclear what constitutes a 'more significant' breach. While the provided snippets are not directly applicable, the Perturbation and Law Explanations highlight that the ambiguity weakens the definiteness expected of contractual obligations, and introduces subjectivity, which would impede enforcement.\"\n",
      "}\n",
      "```\n"
     ]
    },
    {
     "name": "stderr",
     "output_type": "stream",
     "text": [
      "Verifying contradictions:  65%|\u2588\u2588\u2588\u2588\u2588\u2588\u258c   | 13/20 [03:56<02:05, 17.91s/it]"
     ]
    },
    {
     "name": "stdout",
     "output_type": "stream",
     "text": [
      "this is file_name: perturbed_SIBANNAC,INC_12_04_2017-EX-2.1-StrategicAllianceAgreement.txt.snippet.json\n",
      "This is the response from LLM: ```json\n",
      "{\n",
      "  \"contradiction_score\": \"HIGH\",\n",
      "  \"justification\": \"The modification significantly weakens the obligation to protect confidential information, potentially undermining the enforceability of trade secret protections under the Texas Uniform Trade Secrets Act (TUTSA). The original contract language, \\\"agree to maintain in strict confidence and not to disclose,\\\" creates a clear and binding duty. The changed language, \\\"endeavor to maintain in confidence and avoid disclosure,\\\" introduces ambiguity and reduces the stringency of the obligation. According to the Law Explanation, this ambiguity makes it more difficult to prove misappropriation under TUTSA because it's less clear what level of care is required. Scraped Law Snippet 1 defines \\\"Misappropriation\\\" as the \\\"disclosure or use of a trade secret of another without express or implied consent.\\\" By weakening the obligation to maintain secrecy, the modified contract increases the risk of unauthorized disclosure and makes it harder to prove that such disclosure constitutes misappropriation. The phrase 'endeavor to maintain' suggests an attempt rather than a guarantee, and 'avoid disclosure' is weaker than 'not to disclose,' giving more leeway to the disclosing party. Therefore, the contradiction is high because it directly impacts the ability to enforce trade secret protections under Texas law.\"\n",
      "}\n",
      "```\n",
      "This is the response from LLM: ```json\n",
      "{\n",
      "  \"contradiction_score\": \"HIGH\",\n",
      "  \"justification\": \"The original contract language uses mandatory terms like \\\"shall treat,\\\" \\\"take every reasonable precaution and use all reasonable efforts,\\\" and \\\"agree to take all steps reasonably necessary.\\\" The modified contract replaces these with discretionary terms like \\\"should consider treating,\\\" \\\"may take some precautions,\\\" and \\\"may take some steps to encourage.\\\" This significantly weakens the obligation to protect confidential information. The Law Explanation argues this contradicts the \\\"good faith\\\" standard defined in Texas Business and Commerce Code \u00a7 5.001, which requires \\\"honesty in fact in the conduct or transaction concerned.\\\" Scraped Law Snippet 1 defines \\\"Good faith\\\" as \\\"honesty in fact in the conduct or transaction concerned,\\\" which is part of the Texas Business and Commerce Code. By making the protection of confidential information discretionary rather than mandatory, the modified contract arguably fails to meet the \\\"honesty in fact\\\" standard, thereby creating a high level of contradiction with the law.\"\n",
      "}\n",
      "```\n",
      "This is the response from LLM: ```json\n",
      "{\n",
      "  \"contradiction_score\": \"HIGH\",\n",
      "  \"justification\": \"The original contract mandates indemnification ('shall indemnify'), while the modified version makes it discretionary ('may indemnify'). The original text also specifies the conditions under which indemnification is required: 'negligence or intentional misconduct of COMPANY or breach of COMPANY of any of its obligations under this Agreement.' The changed text widens the scope to 'arising from the actions of COMPANY' but simultaneously removes clear triggers for indemnification. The Law Explanation notes that Texas law (Texas Civil Practice & Remedies Code \u00a7 41.001) limits exemplary damages to harm resulting from fraud, malice, or gross negligence. By making indemnification discretionary for any 'damages, costs, expenses, and other liabilities arising from the actions of COMPANY,' irrespective of whether those actions constituted fraud, malice, or gross negligence, the modified agreement introduces a potential contradiction regarding the legally permissible scope of indemnification. The Scraped Law Snippet 1 defines 'Exemplary damages' as 'any damages awarded as a penalty or by way of punishment but not for compensatory purposes' and includes 'punitive damages'. By broadening the scope of indemnification without requiring the harm to result from fraud, malice, or gross negligence, the contract could be interpreted as indemnifying for exemplary damages not legally justified, creating a HIGH contradiction because it weakens the legal standard for awarding punitive damages, making the contract potentially unenforceable.\"\n",
      "}\n",
      "```\n"
     ]
    },
    {
     "name": "stderr",
     "output_type": "stream",
     "text": [
      "Verifying contradictions:  70%|\u2588\u2588\u2588\u2588\u2588\u2588\u2588   | 14/20 [04:15<01:49, 18.24s/it]"
     ]
    },
    {
     "name": "stdout",
     "output_type": "stream",
     "text": [
      "this is file_name: perturbed_PREMIERBIOMEDICALINC_05_14_2020-EX-10.2-INTELLECTUALPROPERTYAGREEMENT.txt.snippet.json\n",
      "This is the response from LLM: ```json\n",
      "{\n",
      "  \"contradiction_score\": \"HIGH\",\n",
      "  \"justification\": \"The modified text significantly weakens the obligation to protect confidential information by replacing 'agrees' with 'should endeavor' and introducing the 'unless business needs indicate otherwise' exception. While Scraped Law Snippet 1 is a 404 error, and Snippet 2 is empty, the Law Explanation correctly points out that PUTSA (Pennsylvania Uniform Trade Secrets Act) provides remedies for misappropriation of trade secrets. The added clause introduces significant ambiguity, potentially undermining the enforceability of confidentiality by allowing parties to disclose information based on a vague 'business needs' justification. This directly contradicts the intent of trade secret protection laws, as it makes proving misappropriation more difficult. Therefore, the changes create a HIGH contradiction.\"\n",
      "}\n",
      "```\n",
      "This is the response from LLM: ```json\n",
      "{\n",
      "  \"contradiction_score\": \"HIGH\",\n",
      "  \"justification\": \"The modified text introduces ambiguity and gives THI sole discretion in determining the 'reasonableness' of legal expenses, potentially allowing them to act in bad faith by denying or reducing reimbursement. This directly contradicts the principle of good faith and fair dealing in contract performance, as highlighted in the Law Explanation. Scraped Law Snippet 2, citing 13 Pennsylvania Consolidated Statutes \u00a7 1304, states that 'Every contract or duty within this title imposes an obligation of good faith in its performance and enforcement.' The original text mandated full reimbursement, while the changed text allows THI to avoid this obligation, creating a clear violation of the good faith requirement under Pennsylvania law. Therefore, the contradiction is HIGH because it directly undermines a core legal obligation.\"\n",
      "}\n",
      "```\n",
      "This is the response from LLM: ```json\n",
      "{\n",
      "  \"contradiction_score\": \"HIGH\",\n",
      "  \"justification\": \"The modified text significantly weakens the original obligation, introducing ambiguity and discretion that could potentially violate fiduciary duties under Pennsylvania corporate law. The original text states Marv and Mitchell S. Felder 'shall have no obligation'. The change to 'should generally have no obligation, absent extenuating circumstances' introduces a subjective element, potentially allowing THI to argue for their involvement. The alteration regarding the stock warrants is even more concerning. Originally, the warrants 'shall not be eliminated, cancelled, or altered in any way...unless specifically directed at the request of Mitchell S. Felder.' The modified text allows THI's board to alter the warrants if they deem it 'necessary for the long-term financial viability of the company.' This grants the board significant discretionary power that directly contradicts the original protection afforded to Mitchell S. Felder, and the law explanation suggests this could violate fiduciary duties. Scraped Law Snippet 1 is a 404 error, so it offers no insight. Scraped Law Snippet 2 is empty, but the law explanation specifically highlights potential violation of corporate law duties by providing the board unchecked discretion.\"\n",
      "}\n",
      "```\n"
     ]
    },
    {
     "name": "stderr",
     "output_type": "stream",
     "text": [
      "Verifying contradictions:  75%|\u2588\u2588\u2588\u2588\u2588\u2588\u2588\u258c  | 15/20 [04:33<01:30, 18.14s/it]"
     ]
    },
    {
     "name": "stdout",
     "output_type": "stream",
     "text": [
      "this is file_name: perturbed_ThriventVariableInsuranceAccountB_20190701_N-6_EX-99.D(IV)_11720968_EX-99.D(IV)_EndorsementAgreement.txt.snippet.json\n",
      "This is the response from LLM: ```json\n",
      "{\n",
      "  \"contradiction_score\": \"HIGH\",\n",
      "  \"justification\": \"The modified contract significantly weakens the original obligation for members to make extra payments if the Society becomes insolvent, introducing substantial ambiguity and subjectivity. The original text creates a clear obligation, while the modified text uses terms like 'might be asked to consider,' 'perceived fair share,' and 'reasonable time.' The Law Explanation states that the original text aligns with Wisconsin Statutes Section 611.26(2)(a) requiring a definite and enforceable assessment process. While Scraped Law Snippet 1 does not directly mention section 611.26(2)(a), the explanation uses that section as a basis for the contradiction. The ambiguity introduced by the changes would make the obligation unenforceable under Wisconsin law as the assessment process becomes subjective. Because the changes create ambiguity in a way that would undermine enforcement under the law, this is a high contradiction.\"\n",
      "}\n",
      "```\n",
      "This is the response from LLM: ```json\n",
      "{\n",
      "  \"contradiction_score\": \"LOW\",\n",
      "  \"justification\": \"The modified clause introduces ambiguity but doesn't explicitly contradict Wisconsin Statutes Section 611.31 as described in the Law Explanation. While the Law Explanation claims the ambiguity undermines the requirement for a defined and transparent process, the scraped snippet provided is insufficient to verify this claim. The snippet discusses subsidiaries of insurance corporations (611.26(3)(a) and (b)), which is not directly relevant to the handling of divisible surplus or dividend payments as described in the original and changed text. Therefore, without a relevant legal snippet, it is difficult to argue that the modification directly contradicts a clearly defined legal requirement. The weakening of language through words like 'may', 'conceivably', and 'possibly not anticipated' introduces uncertainty, but doesn't explicitly violate any legal mandate based on the provided information. The contradiction remains context-dependent and requires further legal interpretation to establish a high level of contradiction.\"\n",
      "}\n",
      "```\n",
      "This is the response from LLM: ```json\n",
      "{\n",
      "  \"contradiction_score\": \"LOW\",\n",
      "  \"justification\": \"The original text uses definitive language ('may transfer,' 'cannot be transferred'). The changed text introduces ambiguity using phrases like 'might consider transferring,' 'potentially in alignment,' and 'may not be easily transferred.' The Law Explanation suggests this ambiguity could weaken the clarity regarding policy transfer and membership rights, potentially contradicting Wisconsin Statutes Section 614.41. However, without the actual text of the statute from a scraped law snippet, it's difficult to assess the magnitude of the contradiction. The changes soften the obligations but don't explicitly contradict any specific legal requirement detailed in the (absent) snippets. Therefore, the contradiction is categorized as LOW because the change introduces ambiguity and weakens the original obligation, but without supporting law snippets it cannot be determined if an actual law has been contradicted.\"\n",
      "}\n",
      "```\n"
     ]
    },
    {
     "name": "stderr",
     "output_type": "stream",
     "text": [
      "Verifying contradictions:  80%|\u2588\u2588\u2588\u2588\u2588\u2588\u2588\u2588  | 16/20 [04:51<01:12, 18.09s/it]"
     ]
    },
    {
     "name": "stdout",
     "output_type": "stream",
     "text": [
      "this is file_name: perturbed_KIROMICBIOPHARMA,INC_05_11_2020-EX-10.23-CONSULTINGAGREEMENT.txt.snippet.json\n",
      "This is the response from LLM: ```json\n",
      "{\n",
      "  \"contradiction_score\": \"HIGH\",\n",
      "  \"justification\": \"The modified text weakens the obligation to protect trade secrets by introducing ambiguity with terms like \\\"reasonable judgment\\\" and \\\"try to avoid.\\\" This directly undermines the intent of the Texas Uniform Trade Secrets Act (TUTSA). Scraped Law Snippet 1 defines \\\"Misappropriation\\\" which includes the \\\"disclosure or use of a trade secret of another without express or implied consent\\\" and also defines \\\"Improper means\\\" which includes \\\"breach or inducement of a breach of a duty to maintain secrecy\\\". By weakening the consultant's obligation, the modified text increases the risk of misappropriation through improper means. The original text provided a stronger safeguard against such actions, making the modified version a HIGH contradiction.\"\n",
      "}\n",
      "```\n",
      "This is the response from LLM: ```json\n",
      "{\n",
      "  \"contradiction_score\": \"HIGH\",\n",
      "  \"justification\": \"The original text imposes an obligation on the Consultant to keep the Company advised, while the changed text makes this discretionary. The Law Explanation states that under Texas law, a breach of contract occurs when a party fails to perform a contractual duty. The change from 'agrees...to keep Company advised' to 'may...keep Company generally informed' makes the contract too vague for a court to enforce a specific level of communication. The Perturbation Explanation also emphasizes that the change weakens the reporting requirements. The scraped law snippets are unhelpful.\"\n",
      "}\n",
      "```\n",
      "This is the response from LLM: ```json\n",
      "{\n",
      "  \"contradiction_score\": \"HIGH\",\n",
      "  \"justification\": \"The original contract provides a firm certification regarding conflicting obligations, whereas the changed version introduces subjective and weakening language (e.g., 'believes,' 'known,' 'substantially'). The law explanation asserts that this undermines the company's ability to challenge potentially fraudulent transfers if the consultant is prioritizing conflicting obligations. Scraped Law Snippet 1 discusses fraudulent transfers, specifically mentioning actions intended to 'hinder, delay, or defraud any creditor of the debtor' under section 24.005(a)(1). By making the certification less definitive, the modified text creates a loophole that could allow a consultant to claim they did not 'know' or believe an obligation was 'substantially' in conflict, hindering the company's ability to prove intent to defraud. This direct weakening of a crucial protection against potential fraudulent transfers constitutes a high contradiction.\"\n",
      "}\n",
      "```\n"
     ]
    },
    {
     "name": "stderr",
     "output_type": "stream",
     "text": [
      "Verifying contradictions:  85%|\u2588\u2588\u2588\u2588\u2588\u2588\u2588\u2588\u258c | 17/20 [05:08<00:53, 17.95s/it]"
     ]
    },
    {
     "name": "stdout",
     "output_type": "stream",
     "text": [
      "this is file_name: perturbed_NELNETINC_04_08_2020-EX-1-JOINTFILINGAGREEMENT.txt.snippet.json\n",
      "This is the response from LLM: ```json\n",
      "{\n",
      "  \"contradiction_score\": \"HIGH\",\n",
      "  \"justification\": \"The change from \\\"shall be responsible\\\" to \\\"shall endeavor to be responsible\\\" significantly weakens the obligation to file accurate and timely amendments, creating a high contradiction. Additionally, changing the standard from 'knows or has reason to believe' to 'definitive proof' introduces a higher, and potentially unattainable, evidentiary burden. Scraped Law Snippet 1, referencing 17 CFR \u00a7 240.13d-1, requires the filing of a statement containing specific information within five business days after acquisition of beneficial ownership. The original contract language aligns with this requirement by mandating responsibility for timely and accurate filings. The modified language introduces ambiguity and allows for potential negligence, undermining the intent of the law to ensure transparency and accountability. By using 'endeavor' and requiring 'definitive proof,' the modified text creates loopholes that could excuse non-compliance, directly contradicting the clear obligation imposed by the law.\"\n",
      "}\n",
      "```\n"
     ]
    },
    {
     "name": "stderr",
     "output_type": "stream",
     "text": [
      "Verifying contradictions:  90%|\u2588\u2588\u2588\u2588\u2588\u2588\u2588\u2588\u2588 | 18/20 [05:14<00:28, 14.40s/it]"
     ]
    },
    {
     "name": "stdout",
     "output_type": "stream",
     "text": [
      "this is file_name: perturbed_CENTRACKINTERNATIONALINC_10_29_1999-EX-10.3-WEBSITEHOSTINGAGREEMENT.txt.snippet.json\n",
      "This is the response from LLM: ```json\n",
      "{\n",
      "  \"contradiction_score\": \"HIGH\",\n",
      "  \"justification\": \"The changed text significantly weakens the original commitment to continuous operation, creating a high contradiction with Florida Statute 501.204, which prohibits unfair or deceptive acts in trade or commerce. The original text guaranteed continuous operation, only allowing for 'reasonable' maintenance within specific timeframes. The modified text replaces 'will maintain' with 'will endeavor to maintain,' changing a guarantee to a mere attempt, and replaces 'best efforts' with 'attempt to schedule,' further reducing the obligation. This directly undermines the consumer's expectation of service uptime. According to Scraped Law Snippet 1, F.S. 501.204(1) declares 'Unfair methods of competition, unconscionable acts or practices, and unfair or deceptive acts or practices in the conduct of any trade or commerce are hereby declared unlawful.' By weakening the guarantee of continuous operation, the modification creates a significant risk of deceptive practices if the actual uptime falls substantially below what a reasonable consumer would expect, thus creating a high contradiction.\"\n",
      "}\n",
      "```\n",
      "This is the response from LLM: ```json\n",
      "{\n",
      "  \"contradiction_score\": \"HIGH\",\n",
      "  \"justification\": \"The modification from \\\"shall comply\\\" to \\\"should generally be aware of\\\" significantly weakens the Customer's obligation regarding applicable laws. Florida Statute 815.06 addresses offenses against users of computer systems, and the original contract language ensures compliance, thereby mitigating the risk of violating this statute. The revised language, however, allows for a scenario where the Customer is merely 'aware' but not necessarily compliant, potentially opening the door to unauthorized access or other violations as described in F.S. 815.06(2)(a). The original language placed a clear responsibility on the customer; the modified language does not. Because the changed text undermines a core aspect of compliance with laws designed to prevent unauthorized computer access, a high contradiction score is appropriate.\"\n",
      "}\n",
      "```\n",
      "This is the response from LLM: ```json\n",
      "{\n",
      "  \"contradiction_score\": \"HIGH\",\n",
      "  \"justification\": \"The changed text significantly weakens the original contract's provisions regarding software installation and management, potentially leading to unfair or deceptive practices as described in Florida Statute 501.204. The original text requires customer software to be approved by i-on and grants i-on the right to deny installation or remove software. The changed text weakens this to a suggestion of discussing software with i-on, and i-on merely retaining the option to address concerns. This change creates ambiguity, making it less clear what constitutes acceptable software and reducing i-on's ability to protect its servers and other customers. As Snippet 1, referencing Florida Statute 501.204, declares unlawful 'Unfair methods of competition, unconscionable acts or practices, and unfair or deceptive acts or practices in the conduct of any trade or commerce,' the ambiguity introduced by the modified text regarding software management could be argued as creating a scenario where i-on is no longer adequately protecting its customers, leading to service disruptions and thus potentially violating the statute. The change transforms mandatory obligations into discretionary actions, creating a high risk of non-compliance. Therefore, the contradiction is HIGH.\"\n",
      "}\n",
      "```\n"
     ]
    },
    {
     "name": "stderr",
     "output_type": "stream",
     "text": [
      "Verifying contradictions:  95%|\u2588\u2588\u2588\u2588\u2588\u2588\u2588\u2588\u2588\u258c| 19/20 [05:33<00:15, 15.66s/it]"
     ]
    },
    {
     "name": "stdout",
     "output_type": "stream",
     "text": [
      "this is file_name: perturbed_ReynoldsConsumerProductsInc_20191115_S-1_EX-10.18_11896469_EX-10.18_SupplyAgreement.txt.snippet.json\n",
      "This is the response from LLM: ```json\n",
      "{\n",
      "  \"contradiction_score\": \"HIGH\",\n",
      "  \"justification\": \"The original text mandates strict compliance with applicable laws. The changed text weakens this obligation by using terms like \\\"generally formed\\\" and \\\"alignment with the spirit of the laws,\\\" which introduces ambiguity and potential for non-compliance. The Law Explanation supports this, stating that ILCS (Illinois Compiled Statutes) requires specific adherence to registration, licensing, and operational requirements, and that the modified text undermines the legal obligation to fully comply with all applicable laws. While Scraped Law Snippet 1, listing Illinois Aeronautics Act and other acts, does not directly demonstrate a specific legal requirement being violated, it provides context on the breadth and importance of statutory compliance within Illinois. The change from \\\"compliance with the laws\\\" to \\\"alignment with the spirit of the laws\\\" creates a high likelihood that the modified clause would fail legal scrutiny as full compliance is required, not just alignment.\"\n",
      "}\n",
      "```\n",
      "This is the response from LLM: ```json\n",
      "{\n",
      "  \"contradiction_score\": \"HIGH\",\n",
      "  \"justification\": \"The original text uses \\\"will defend and indemnify,\\\" establishing a clear legal obligation for the seller. The changed text uses \\\"will consider defending and indemnifying,\\\" which weakens this obligation by making it discretionary. The original text also uses 'caused by any actual or alleged violation' whereas the changed text uses 'plausibly caused by any potential violation' which weakens the required degree of certainty of the violation. The Law Explanation states that indemnification creates a clear legal obligation, and the modified text introduces uncertainty, making it difficult to enforce the indemnification clause. Since there are no law snippets, this determination is based on the explanations and comparison of the original and changed text, which indicates a significant shift from a definite to a discretionary obligation, thereby creating a high contradiction.\"\n",
      "}\n",
      "```\n",
      "This is the response from LLM: ```json\n",
      "{\n",
      "  \"contradiction_score\": \"HIGH\",\n",
      "  \"justification\": \"The modified text significantly weakens the obligation to safeguard confidential information, potentially violating the Illinois Trade Secrets Act. While Scraped Law Snippet 1 doesn't directly address trade secrets, the Law Explanation states the Act requires \\\"reasonable efforts\\\" to maintain secrecy. The original contract mandates \\\"all commercially reasonable actions required,\\\" whereas the changed text only requires the Receiving Party to \\\"endeavor to take actions it believes are commercially reasonable.\\\" This introduces a subjective standard, allowing the Receiving Party to take minimal action and still technically comply with the contract, undermining the 'reasonable efforts' standard. The added discretion and weakening of the obligation creates a significant risk of non-compliance, making the contradiction HIGH.\"\n",
      "}\n",
      "```\n"
     ]
    },
    {
     "name": "stderr",
     "output_type": "stream",
     "text": [
      "Verifying contradictions: 100%|\u2588\u2588\u2588\u2588\u2588\u2588\u2588\u2588\u2588\u2588| 20/20 [05:51<00:00, 17.56s/it]\n"
     ]
    }
   ],
   "source": [
    "os.makedirs(OUTPUT_FOLDER, exist_ok=True)\n",
    "input_files = [f for f in os.listdir(INPUT_FOLDER) if f.endswith(\".json\")]\n",
    "\n",
    "for file_name in tqdm(input_files, desc=\"Verifying contradictions\"):\n",
    "    print('this is file_name:', file_name)\n",
    "    input_path = os.path.join(INPUT_FOLDER, file_name)\n",
    "    output_path = os.path.join(OUTPUT_FOLDER, file_name)\n",
    "    process_file(input_path, output_path)"
   ]
  },
  {
   "cell_type": "markdown",
   "id": "541b30a2-d899-4c62-87d3-32d63f39fb50",
   "metadata": {},
   "source": [
    "## Filter after Verification"
   ]
  },
  {
   "cell_type": "code",
   "execution_count": 124,
   "id": "6ba9ba1a-02a2-432f-8fdf-d3feb1a1b339",
   "metadata": {
    "tags": []
   },
   "outputs": [],
   "source": [
    "def filter_high_perturbations(input_folder, output_folder):\n",
    "    os.makedirs(output_folder, exist_ok=True)\n",
    "\n",
    "    for file_name in os.listdir(input_folder):\n",
    "        if not file_name.endswith(\".json\"):\n",
    "            continue\n",
    "\n",
    "        input_path = os.path.join(input_folder, file_name)\n",
    "        with open(input_path, \"r\") as f:\n",
    "            data = json.load(f)\n",
    "            root = data[0] if isinstance(data, list) else data\n",
    "\n",
    "        # Filter out only HIGH contradiction_score perturbations\n",
    "        high_perturbations = [\n",
    "            pert for pert in root.get(\"perturbation\", [])\n",
    "            if pert.get(\"contradiction_score\", \"\").strip().upper() == \"HIGH\"\n",
    "        ]\n",
    "\n",
    "        # Skip files that have no HIGH perturbations\n",
    "        if not high_perturbations:\n",
    "            print(f\"Skipping file (no HIGH found): {file_name}\")\n",
    "            continue\n",
    "\n",
    "        # Build new filtered JSON\n",
    "        filtered_json = [{\n",
    "            \"file_name\": root.get(\"file_name\"),\n",
    "            \"perturbation\": high_perturbations\n",
    "        }]\n",
    "\n",
    "        # Write to output folder\n",
    "        output_path = os.path.join(output_folder, file_name)\n",
    "        with open(output_path, \"w\") as f_out:\n",
    "            json.dump(filtered_json, f_out, indent=2)\n",
    "\n",
    "        print(f\"Saved filtered file: {file_name} with {len(high_perturbations)} HIGH perturbation(s)\")"
   ]
  },
  {
   "cell_type": "code",
   "execution_count": 125,
   "id": "3a9e03c3-8498-491c-8e47-7c4abe906a84",
   "metadata": {
    "tags": []
   },
   "outputs": [
    {
     "name": "stdout",
     "output_type": "stream",
     "text": [
      "Saved filtered file: perturbed_WHITESMOKE,INC_11_08_2011-EX-10.26-PROMOTIONANDDISTRIBUTIONAGREEMENT.txt.snippet.json with 3 HIGH perturbation(s)\n",
      "Saved filtered file: perturbed_DovaPharmaceuticalsInc_20181108_10-Q_EX-10.2_11414857_EX-10.2_PromotionAgreement.txt.snippet.json with 3 HIGH perturbation(s)\n",
      "Saved filtered file: perturbed_PACIRAPHARMACEUTICALS,INC.-A_RSTRATEGICLICENSING,DISTRIBUTIONANDMARKETINGAGREEMENT.txt.snippet.json with 2 HIGH perturbation(s)\n",
      "Saved filtered file: perturbed_PfHospitalityGroupInc_20150923_10-12G_EX-10.1_9266710_EX-10.1_FranchiseAgreement3.txt.snippet.json with 2 HIGH perturbation(s)\n",
      "Saved filtered file: perturbed_LohaCompanyltd_20191209_F-1_EX-10.16_11917878_EX-10.16_SupplyAgreement.txt.snippet.json with 3 HIGH perturbation(s)\n",
      "Saved filtered file: perturbed_CerenceInc_20191002_8-K_EX-10.4_11827494_EX-10.4_IntellectualPropertyAgreement.txt.snippet.json with 2 HIGH perturbation(s)\n",
      "Saved filtered file: perturbed_IntegrityFunds_20200121_485BPOS_EX-99.EUNDRCONTR_11948727_EX-99.EUNDRCONTR_ServiceAgreement.txt.snippet.json with 2 HIGH perturbation(s)\n",
      "Saved filtered file: perturbed_ADAMSGOLFINC_03_21_2005-EX-10.17-ENDORSEMENTAGREEMENT.txt.snippet.json with 3 HIGH perturbation(s)\n",
      "Saved filtered file: perturbed_FTENETWORKS,INC_02_18_2016-EX-99.4-STRATEGICALLIANCEAGREEMENT.txt.snippet.json with 3 HIGH perturbation(s)\n",
      "Saved filtered file: perturbed_LIMEENERGYCO_09_09_1999-EX-10-DISTRIBUTORAGREEMENT.txt.snippet.json with 1 HIGH perturbation(s)\n",
      "Saved filtered file: perturbed_DOMINIADVISORTRUST_02_18_2005-EX-99.(H)(2)-SPONSORSHIPAGREEMENT.txt.snippet.json with 3 HIGH perturbation(s)\n",
      "Saved filtered file: perturbed_MetLife,Inc.-RemarketingAgreement.txt.snippet.json with 3 HIGH perturbation(s)\n",
      "Saved filtered file: perturbed_VEONEER,INC_02_21_2020-EX-10.11-JOINTVENTUREAGREEMENT.txt.snippet.json with 3 HIGH perturbation(s)\n",
      "Saved filtered file: perturbed_SIBANNAC,INC_12_04_2017-EX-2.1-StrategicAllianceAgreement.txt.snippet.json with 3 HIGH perturbation(s)\n",
      "Saved filtered file: perturbed_PREMIERBIOMEDICALINC_05_14_2020-EX-10.2-INTELLECTUALPROPERTYAGREEMENT.txt.snippet.json with 3 HIGH perturbation(s)\n",
      "Saved filtered file: perturbed_ThriventVariableInsuranceAccountB_20190701_N-6_EX-99.D(IV)_11720968_EX-99.D(IV)_EndorsementAgreement.txt.snippet.json with 1 HIGH perturbation(s)\n",
      "Saved filtered file: perturbed_KIROMICBIOPHARMA,INC_05_11_2020-EX-10.23-CONSULTINGAGREEMENT.txt.snippet.json with 3 HIGH perturbation(s)\n",
      "Saved filtered file: perturbed_NELNETINC_04_08_2020-EX-1-JOINTFILINGAGREEMENT.txt.snippet.json with 1 HIGH perturbation(s)\n",
      "Saved filtered file: perturbed_CENTRACKINTERNATIONALINC_10_29_1999-EX-10.3-WEBSITEHOSTINGAGREEMENT.txt.snippet.json with 3 HIGH perturbation(s)\n",
      "Saved filtered file: perturbed_ReynoldsConsumerProductsInc_20191115_S-1_EX-10.18_11896469_EX-10.18_SupplyAgreement.txt.snippet.json with 3 HIGH perturbation(s)\n"
     ]
    }
   ],
   "source": [
    "filter_high_perturbations(\n",
    "    input_folder=\"scraped_laws_v7/ambiguity_legal/law_validation3/\",\n",
    "    output_folder=\"scraped_laws_v7/ambiguity_legal_cleaned/\"\n",
    ")"
   ]
  },
  {
   "cell_type": "code",
   "execution_count": null,
   "id": "97ef6f04-3215-4dd6-9c76-79af319f0b76",
   "metadata": {},
   "outputs": [],
   "source": []
  }
 ],
 "metadata": {
  "kernelspec": {
   "display_name": "Python 3 (ipykernel)",
   "language": "python",
   "name": "python3"
  },
  "language_info": {
   "codemirror_mode": {
    "name": "ipython",
    "version": 3
   },
   "file_extension": ".py",
   "mimetype": "text/x-python",
   "name": "python",
   "nbconvert_exporter": "python",
   "pygments_lexer": "ipython3",
   "version": "3.11.5"
  }
 },
 "nbformat": 4,
 "nbformat_minor": 5
}