{
 "cells": [
  {
   "cell_type": "markdown",
   "id": "99b4132c",
   "metadata": {},
   "source": [
    "# A Jupyter Notebook to Generate Few-Shot Examples for Legal Document Discrepancy Detection\n",
    "This notebook is designed to create few-shot examples for detecting discrepancies or contradictions in legal documents. It includes instructions, categories, and a prompt template to guide the AI model in generating responses."
   ]
  },
  {
   "cell_type": "markdown",
   "id": "379890c1",
   "metadata": {},
   "source": [
    "## Import Required Libraries\n",
    "Import necessary libraries such as `os`, `json`, and any required AI model libraries."
   ]
  },
  {
   "cell_type": "code",
   "execution_count": null,
   "id": "c0237af2",
   "metadata": {},
   "outputs": [],
   "source": [
    "# Import Required Libraries\n",
    "import os\n",
    "import json\n",
    "import shutil\n",
    "from abc import ABC, abstractmethod\n",
    "import google.generativeai as genai"
   ]
  },
  {
   "cell_type": "markdown",
   "id": "d16a76b3",
   "metadata": {},
   "source": [
    "## Define Instructions and Categories\n",
    "Define the instructions and the 10 categories of discrepancies or contradictions as constants in the notebook."
   ]
  },
  {
   "cell_type": "code",
   "execution_count": null,
   "id": "de519101",
   "metadata": {},
   "outputs": [],
   "source": [
    "# Define Instructions and Categories\n",
    "INSTRUCTIONS = \"\"\"\n",
    "You are a legal contract expert and know how to check legal documents properly and find any discrepancies or contradictions within a file. You are also aware of all state and national laws when it comes to legal documents.\n",
    "\n",
    "The file is a legal document and you are to check for any discrepancies or contradictions within the file. There are 10 categories when it comes to discrepancies or contradictions:\n",
    "1. Ambiguity in text\n",
    "2. Ambiguity in legal terms\n",
    "3. Inconsistencies in text\n",
    "4. Inconsistencies in legal terms\n",
    "5. Misaligned in text\n",
    "6. Misaligned in legal terms\n",
    "7. Omission in text\n",
    "8. Omission in legal terms\n",
    "9. Structural Flaws in text\n",
    "10. Structural Flaws in legal terms\n",
    "\n",
    "Instructions:\n",
    "1. Read the file and check for any discrepancies or contradictions within the file.\n",
    "2. Provide a detailed explanation of why this is a discrepancy or contradiction.\n",
    "3. Provide the section where the discrepancy or contradiction exists.\n",
    "4. Provide the section location. Like Section 5.4.\n",
    "5. Categorize the discrepancy or contradiction into one of the 10 categories above (return the number of the category).\n",
    "\n",
    "Return the results in JSON format. Example:\n",
    "[\n",
    "    {\n",
    "        \"section\": \"Example section text\",\n",
    "        \"explanation\": \"Detailed explanation of the discrepancy.\",\n",
    "        \"location\": \"Section 5.2\",\n",
    "        \"category\": 3\n",
    "    }\n",
    "]\n",
    "\"\"\""
   ]
  },
  {
   "cell_type": "markdown",
   "id": "edfce946",
   "metadata": {},
   "source": [
    "## Create Few-Shot Prompt Examples\n",
    "Manually create a few-shot prompt with 2-3 examples of discrepancies or contradictions in legal documents, formatted as JSON."
   ]
  },
  {
   "cell_type": "code",
   "execution_count": null,
   "id": "2c897b69",
   "metadata": {},
   "outputs": [],
   "source": [
    "# Create Few-Shot Prompt Examples\n",
    "FEW_SHOT_EXAMPLES = \"\"\"\n",
    "Question:\n",
    "Section 3.1 Payment Terms: The Client agrees to pay the Consultant a flat fee of $5,000 for services rendered, payable in full within 30 days of the invoice date. Late payments will incur a penalty of 1.5% per month, starting 15 days after the due date.\n",
    "Section 5.2 Termination: Either party may terminate this Agreement upon 30 days’ written notice. If the Agreement is terminated, the Consultant is entitled to payment for all services performed up to the termination date, provided that payment is made within 15 days of termination.\n",
    "\n",
    "Answer:\n",
    "[\n",
    "    {\n",
    "        \"section\": \"The Client agrees to pay the Consultant a flat fee of $5,000 for services rendered, payable in full within 30 days of the invoice date. Late payments will incur a penalty of 1.5% per month, starting 15 days after the due date.\",\n",
    "        \"explanation\": \"There is a contradiction in payment terms. The text says payment is due in 30 days, but the penalty begins only after 15 days beyond the due date. This creates ambiguity about when the penalty period starts and could confuse enforcement.\",\n",
    "        \"location\": \"Section 3.1\",\n",
    "        \"category\": 3\n",
    "    },\n",
    "    {\n",
    "        \"section\": \"If the Agreement is terminated, the Consultant is entitled to payment for all services performed up to the termination date, provided that payment is made within 15 days of termination.\",\n",
    "        \"explanation\": \"This clause contradicts Section 3.1, which states payment is due within 30 days of the invoice. It's unclear whether termination changes the timeline from 30 to 15 days, leading to inconsistency in payment obligations.\",\n",
    "        \"location\": \"Section 5.2\",\n",
    "        \"category\": 3\n",
    "    }\n",
    "]\n",
    "\"\"\""
   ]
  },
  {
   "cell_type": "markdown",
   "id": "7a46a93d",
   "metadata": {},
   "source": [
    "## Define Few-Shot Prompt Template\n",
    "Create a template for the few-shot prompt that includes the instructions, examples, and a placeholder for the document to be analyzed."
   ]
  },
  {
   "cell_type": "code",
   "execution_count": null,
   "id": "7093805a",
   "metadata": {},
   "outputs": [],
   "source": [
    "# Define Few-Shot Prompt Template\n",
    "FEW_SHOT_PROMPT_TEMPLATE = f\"\"\"\n",
    "{INSTRUCTIONS}\n",
    "\n",
    "{FEW_SHOT_EXAMPLES}\n",
    "\n",
    "Question: [DOCUMENT]\n",
    "Answer:\n",
    "\"\"\""
   ]
  },
  {
   "cell_type": "markdown",
   "id": "eeaf3c13",
   "metadata": {},
   "source": [
    "## Generate Few-Shot Responses\n",
    "Use the defined prompt template and an AI model to generate responses for a given legal document, and save the results in JSON format."
   ]
  },
  {
   "cell_type": "code",
   "execution_count": null,
   "id": "70570fc8",
   "metadata": {},
   "outputs": [],
   "source": [
    "# Generate Few-Shot Responses\n",
    "class Model(ABC):\n",
    "    @abstractmethod\n",
    "    def generate(self, prompt):\n",
    "        pass\n",
    "\n",
    "class GeminiModel(Model):\n",
    "    def __init__(self):\n",
    "        self.model = genai.GenerativeModel(\"gemini-2.0-flash\")\n",
    "\n",
    "    def generate(self, prompt):\n",
    "        response = self.model.generate_content(prompt)\n",
    "        return response.to_dict()[\"candidates\"][0][\"content\"][\"parts\"][0][\"text\"]\n",
    "\n",
    "def generate_responses(model, document, output_path):\n",
    "    prompt = FEW_SHOT_PROMPT_TEMPLATE.replace(\"[DOCUMENT]\", document)\n",
    "    response = model.generate(prompt)\n",
    "    with open(output_path, \"w\", encoding=\"utf-8\") as f:\n",
    "        f.write(response)\n",
    "\n",
    "# Example usage\n",
    "document_text = \"Section 2.1 Services Provided: The Contractor shall provide web development services including front-end and back-end development. All services shall be completed no later than September 30, 2024.\"\n",
    "output_file = \"c:\\\\Users\\\\Noel\\\\Documents\\\\Projects\\\\School\\\\CSE 576\\\\Legal-Document-Discrepancy-Benchmark-Dataset\\\\few_shot_response.json\"\n",
    "\n",
    "model = GeminiModel()\n",
    "generate_responses(model, document_text, output_file)"
   ]
  }
 ],
 "metadata": {
  "language_info": {
   "name": "python"
  }
 },
 "nbformat": 4,
 "nbformat_minor": 5
}
