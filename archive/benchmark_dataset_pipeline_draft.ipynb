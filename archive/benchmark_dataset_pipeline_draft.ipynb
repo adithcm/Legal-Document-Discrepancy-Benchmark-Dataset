{
 "cells": [
  {
   "cell_type": "code",
   "execution_count": 6,
   "id": "b45c6acc-8851-4b17-ba0c-2ae651c039f8",
   "metadata": {
    "collapsed": true,
    "jupyter": {
     "outputs_hidden": true
    },
    "tags": []
   },
   "outputs": [
    {
     "name": "stdout",
     "output_type": "stream",
     "text": [
      "Requirement already satisfied: google-generativeai in /Users/adithmouli/anaconda3/lib/python3.11/site-packages (0.8.4)\n",
      "Requirement already satisfied: google-ai-generativelanguage==0.6.15 in /Users/adithmouli/anaconda3/lib/python3.11/site-packages (from google-generativeai) (0.6.15)\n",
      "Requirement already satisfied: google-api-core in /Users/adithmouli/anaconda3/lib/python3.11/site-packages (from google-generativeai) (2.24.2)\n",
      "Requirement already satisfied: google-api-python-client in /Users/adithmouli/anaconda3/lib/python3.11/site-packages (from google-generativeai) (2.164.0)\n",
      "Requirement already satisfied: google-auth>=2.15.0 in /Users/adithmouli/anaconda3/lib/python3.11/site-packages (from google-generativeai) (2.38.0)\n",
      "Requirement already satisfied: protobuf in /Users/adithmouli/anaconda3/lib/python3.11/site-packages (from google-generativeai) (5.29.3)\n",
      "Requirement already satisfied: pydantic in /Users/adithmouli/anaconda3/lib/python3.11/site-packages (from google-generativeai) (1.10.8)\n",
      "Requirement already satisfied: tqdm in /Users/adithmouli/anaconda3/lib/python3.11/site-packages (from google-generativeai) (4.65.0)\n",
      "Requirement already satisfied: typing-extensions in /Users/adithmouli/anaconda3/lib/python3.11/site-packages (from google-generativeai) (4.12.2)\n",
      "Requirement already satisfied: proto-plus<2.0.0dev,>=1.22.3 in /Users/adithmouli/anaconda3/lib/python3.11/site-packages (from google-ai-generativelanguage==0.6.15->google-generativeai) (1.26.1)\n",
      "Requirement already satisfied: cachetools<6.0,>=2.0.0 in /Users/adithmouli/anaconda3/lib/python3.11/site-packages (from google-auth>=2.15.0->google-generativeai) (5.5.2)\n",
      "Requirement already satisfied: pyasn1-modules>=0.2.1 in /Users/adithmouli/anaconda3/lib/python3.11/site-packages (from google-auth>=2.15.0->google-generativeai) (0.2.8)\n",
      "Requirement already satisfied: rsa<5,>=3.1.4 in /Users/adithmouli/anaconda3/lib/python3.11/site-packages (from google-auth>=2.15.0->google-generativeai) (4.9)\n",
      "Requirement already satisfied: googleapis-common-protos<2.0.0,>=1.56.2 in /Users/adithmouli/anaconda3/lib/python3.11/site-packages (from google-api-core->google-generativeai) (1.69.1)\n",
      "Requirement already satisfied: requests<3.0.0,>=2.18.0 in /Users/adithmouli/anaconda3/lib/python3.11/site-packages (from google-api-core->google-generativeai) (2.31.0)\n",
      "Requirement already satisfied: httplib2<1.dev0,>=0.19.0 in /Users/adithmouli/anaconda3/lib/python3.11/site-packages (from google-api-python-client->google-generativeai) (0.22.0)\n",
      "Requirement already satisfied: google-auth-httplib2<1.0.0,>=0.2.0 in /Users/adithmouli/anaconda3/lib/python3.11/site-packages (from google-api-python-client->google-generativeai) (0.2.0)\n",
      "Requirement already satisfied: uritemplate<5,>=3.0.1 in /Users/adithmouli/anaconda3/lib/python3.11/site-packages (from google-api-python-client->google-generativeai) (4.1.1)\n",
      "Requirement already satisfied: grpcio<2.0dev,>=1.33.2 in /Users/adithmouli/anaconda3/lib/python3.11/site-packages (from google-api-core->google-generativeai) (1.71.0)\n",
      "Requirement already satisfied: grpcio-status<2.0.dev0,>=1.33.2 in /Users/adithmouli/anaconda3/lib/python3.11/site-packages (from google-api-core->google-generativeai) (1.71.0)\n",
      "Requirement already satisfied: pyparsing!=3.0.0,!=3.0.1,!=3.0.2,!=3.0.3,<4,>=2.4.2 in /Users/adithmouli/anaconda3/lib/python3.11/site-packages (from httplib2<1.dev0,>=0.19.0->google-api-python-client->google-generativeai) (3.0.9)\n",
      "Requirement already satisfied: pyasn1<0.5.0,>=0.4.6 in /Users/adithmouli/anaconda3/lib/python3.11/site-packages (from pyasn1-modules>=0.2.1->google-auth>=2.15.0->google-generativeai) (0.4.8)\n",
      "Requirement already satisfied: charset-normalizer<4,>=2 in /Users/adithmouli/anaconda3/lib/python3.11/site-packages (from requests<3.0.0,>=2.18.0->google-api-core->google-generativeai) (2.0.4)\n",
      "Requirement already satisfied: idna<4,>=2.5 in /Users/adithmouli/anaconda3/lib/python3.11/site-packages (from requests<3.0.0,>=2.18.0->google-api-core->google-generativeai) (3.4)\n",
      "Requirement already satisfied: urllib3<3,>=1.21.1 in /Users/adithmouli/anaconda3/lib/python3.11/site-packages (from requests<3.0.0,>=2.18.0->google-api-core->google-generativeai) (1.26.16)\n",
      "Requirement already satisfied: certifi>=2017.4.17 in /Users/adithmouli/anaconda3/lib/python3.11/site-packages (from requests<3.0.0,>=2.18.0->google-api-core->google-generativeai) (2024.2.2)\n"
     ]
    }
   ],
   "source": [
    "!pip install google-generativeai\n"
   ]
  },
  {
   "cell_type": "code",
   "execution_count": 3,
   "id": "da6addb1-0542-4e04-8d91-bb23c2b27f7b",
   "metadata": {
    "tags": []
   },
   "outputs": [
    {
     "name": "stdout",
     "output_type": "stream",
     "text": [
      "Requirement already satisfied: pymupdf in /Users/adithmouli/anaconda3/lib/python3.11/site-packages (1.25.3)\n"
     ]
    }
   ],
   "source": [
    "!pip install pymupdf"
   ]
  },
  {
   "cell_type": "code",
   "execution_count": 7,
   "id": "cf2eed28-2c34-4c62-80e2-68db59684a9f",
   "metadata": {
    "tags": []
   },
   "outputs": [],
   "source": [
    "import google.generativeai as genai"
   ]
  },
  {
   "cell_type": "markdown",
   "id": "9d963d8a-0fac-4dd8-bb2a-a36e30d40397",
   "metadata": {},
   "source": [
    "## Test Gemini API Key\n",
    "- gemini-2.0-flash"
   ]
  },
  {
   "cell_type": "code",
   "execution_count": 8,
   "id": "566465eb-3e09-45f0-bda0-b4892fa05e75",
   "metadata": {
    "tags": []
   },
   "outputs": [],
   "source": [
    "import os\n",
    "GOOGLE_API_KEY = os.getenv(\"GOOGLE_API_KEY\")\n"
   ]
  },
  {
   "cell_type": "code",
   "execution_count": 9,
   "id": "d7eaec7b-a947-4309-b7be-ffc043275059",
   "metadata": {
    "tags": []
   },
   "outputs": [],
   "source": [
    "api_key = os.getenv(\"GOOGLE_API_KEY\")\n"
   ]
  },
  {
   "cell_type": "code",
   "execution_count": 10,
   "id": "58c3950b-60ba-4de2-b5f7-9f3ef344a7ad",
   "metadata": {
    "collapsed": true,
    "jupyter": {
     "outputs_hidden": true
    },
    "tags": []
   },
   "outputs": [
    {
     "name": "stdout",
     "output_type": "stream",
     "text": [
      "Okay, imagine regular computers like light switches: they can be either ON (representing 1) or OFF (representing 0).  That's how they store and process information - bits.\n",
      "\n",
      "Quantum computers are more like dimmer switches.  Instead of just being ON or OFF, they can be ON, OFF, or *somewhere in between*, or even both at the same time! This \"both at the same time\" thing is called **superposition**.\n",
      "\n",
      "Think of it like this:\n",
      "\n",
      "*   **Classical Bit (like a light switch):**  Either 0 or 1.\n",
      "*   **Qubit (quantum bit, like a dimmer switch):**  Can be 0, 1, OR a combination of both.  It's in a \"probability cloud\" of being 0 or 1.\n",
      "\n",
      "**Why is that useful?**\n",
      "\n",
      "Because they can explore many possibilities simultaneously.  Imagine trying to find your way out of a maze. A regular computer might try each path one at a time. A quantum computer, because of superposition, could try *all the paths at once* and figure out the solution much faster.\n",
      "\n",
      "**Another key concept: Entanglement**\n",
      "\n",
      "Imagine two of our dimmer switches, but these are *entangled*. When you adjust one, the other instantly adjusts in a predictable way, even if they are far apart.  It's like they're linked together in a spooky way.\n",
      "\n",
      "Quantum computers use entanglement to link qubits together, allowing them to perform even more complex calculations.\n",
      "\n",
      "**So, to summarize:**\n",
      "\n",
      "*   **Quantum computers use qubits:** These can be 0, 1, or a combination of both (superposition).\n",
      "*   **They use entanglement:** To link qubits together and perform complex calculations.\n",
      "*   **They can solve certain problems much faster:** Because they explore many possibilities simultaneously.\n",
      "\n",
      "**What can they be used for?**\n",
      "\n",
      "Quantum computers are still in early stages of development, but they have the potential to revolutionize many fields, including:\n",
      "\n",
      "*   **Drug discovery:** Simulating molecules to create new medicines.\n",
      "*   **Materials science:** Designing new materials with specific properties.\n",
      "*   **Financial modeling:** Improving risk management and fraud detection.\n",
      "*   **Cryptography:** Breaking existing codes and creating new, more secure ones.\n",
      "*   **Artificial intelligence:** Training more powerful AI models.\n",
      "\n",
      "**Important Note:** Quantum computers aren't going to replace regular computers anytime soon. They're designed for specific types of problems that are too complex for classical computers to handle efficiently. Think of it like this: you wouldn't use a super-powered bulldozer to plant a flower. They are specialized tools for very complex calculations.\n",
      "\n"
     ]
    }
   ],
   "source": [
    "genai.configure(api_key=api_key)\n",
    "\n",
    "# Initialize the Gemini model\n",
    "model = genai.GenerativeModel(\"gemini-2.0-flash\")\n",
    "\n",
    "# Ask a question\n",
    "response = model.generate_content(\"Explain quantum computing in simple terms.\")\n",
    "\n",
    "# Print the response\n",
    "print(response.text)"
   ]
  },
  {
   "cell_type": "code",
   "execution_count": 11,
   "id": "2b350490-c432-4f4e-a9df-930d2ac7d5d9",
   "metadata": {},
   "outputs": [],
   "source": [
    "import fitz\n",
    "import difflib\n",
    "import re\n",
    "import json"
   ]
  },
  {
   "cell_type": "markdown",
   "id": "645ee3d6-6cb9-4ad9-8c72-3955a50e6969",
   "metadata": {},
   "source": [
    "## Retrieve content for each legal document "
   ]
  },
  {
   "cell_type": "code",
   "execution_count": 12,
   "id": "08932ad4-a008-4fd6-b812-eb39ab3dbc86",
   "metadata": {
    "tags": []
   },
   "outputs": [],
   "source": [
    "def read_pdf(file_path):\n",
    "    \"\"\"Reads a PDF file\"\"\"\n",
    "    doc = fitz.open(file_path)\n",
    "    return \"\\n\".join([page.get_text() for page in doc])\n",
    "\n",
    "def read_legal_files(folder_path):\n",
    "    \"\"\"Reads all legal files in the folder and returns a dictionary with file names and content.\"\"\"\n",
    "    legal_documents = {}\n",
    "\n",
    "    for file_name in os.listdir(folder_path):\n",
    "        file_path = os.path.join(folder_path, file_name)\n",
    "        if file_name.endswith(\".pdf\"):\n",
    "            legal_documents[file_name] = read_pdf(file_path)\n",
    "        else:\n",
    "            print(f\"Skipping unsupported file: {file_name}\")\n",
    "\n",
    "    return legal_documents"
   ]
  },
  {
   "cell_type": "code",
   "execution_count": 13,
   "id": "ead8104f-9d9e-436d-a7fc-99412b4b8da5",
   "metadata": {
    "tags": []
   },
   "outputs": [
    {
     "name": "stdout",
     "output_type": "stream",
     "text": [
      "Skipping unsupported file: perturbed_UsioInc_20040428_SB-2_EX-10.11_1723988_EX-10.11_Affiliate Agreement 2.pdf.txt\n",
      "Skipping unsupported file: .ipynb_checkpoints\n",
      "--- UsioInc_20040428_SB-2_EX-10.11_1723988_EX-10.11_Affiliate Agreement 2.pdf ---\n",
      "                                                                   EXHIBIT 10.11\n",
      "                         NETWORK 1 FINANCIAL CORPORATION\n",
      "                           AFFILIATE OFFICE AGREEMENT\n",
      "THIS  AGREEMENT  is  entered  into  by  and  between  NETWORK  1 FINANCIAL, INC.\n",
      "(\"NETWORK  1\"),  a  Virginia Corporation with its principal place of business at\n",
      "1501  Farm  Credit  Drive,  Suite 1500, McLean, Virginia 22102-5004, and Payment\n",
      "Data  Systems,  Inc.,  the  Affiliate Office (\"AFFILIATE\"), a Nev...\n",
      "\n"
     ]
    }
   ],
   "source": [
    "folder_path = \"full_contract_pdf/Part_I/Affiliate_Agreements/\"\n",
    "legal_docs = read_legal_files(folder_path)\n",
    "\n",
    "# Display first document\n",
    "for file_name, content in legal_docs.items():\n",
    "    print(f\"--- {file_name} ---\\n{content[:500]}...\\n\")\n",
    "    break  # Only show the first one for preview"
   ]
  },
  {
   "cell_type": "code",
   "execution_count": 14,
   "id": "234a0642-e619-4b38-8722-c1c22bd8f75b",
   "metadata": {
    "tags": []
   },
   "outputs": [
    {
     "name": "stdout",
     "output_type": "stream",
     "text": [
      "--- UsioInc_20040428_SB-2_EX-10.11_1723988_EX-10.11_Affiliate Agreement 2.pdf ---...\n",
      "\n",
      "--- DigitalCinemaDestinationsCorp_20111220_S-1_EX-10.10_7346719_EX-10.10_Affiliate Agreement.pdf ---...\n",
      "\n",
      "--- LinkPlusCorp_20050802_8-K_EX-10_3240252_EX-10_Affiliate Agreement.pdf ---...\n",
      "\n",
      "--- CreditcardscomInc_20070810_S-1_EX-10.33_362297_EX-10.33_Affiliate Agreement.pdf ---...\n",
      "\n",
      "--- SouthernStarEnergyInc_20051202_SB-2A_EX-9_801890_EX-9_Affiliate Agreement.pdf ---...\n",
      "\n",
      "--- UnionDentalHoldingsInc_20050204_8-KA_EX-10_3345577_EX-10_Affiliate Agreement.pdf ---...\n",
      "\n",
      "--- SteelVaultCorp_20081224_10-K_EX-10.16_3074935_EX-10.16_Affiliate Agreement.pdf ---...\n",
      "\n",
      "--- TubeMediaCorp_20060310_8-K_EX-10.1_513921_EX-10.1_Affiliate Agreement.pdf ---...\n",
      "\n",
      "--- CybergyHoldingsInc_20140520_10-Q_EX-10.27_8605784_EX-10.27_Affiliate Agreement.pdf ---...\n",
      "\n"
     ]
    }
   ],
   "source": [
    "for file_name, content in legal_docs.items():\n",
    "    print(f\"--- {file_name} ---...\\n\")\n"
   ]
  },
  {
   "cell_type": "code",
   "execution_count": 15,
   "id": "a2535863-27b0-4861-9c65-61dd4c6e214b",
   "metadata": {
    "tags": []
   },
   "outputs": [],
   "source": [
    "def normalize_text(text):\n",
    "    \"\"\"\n",
    "    Normalizes text by removing extra spaces, line breaks, and ensuring consistent spacing.\n",
    "    \"\"\"\n",
    "    text = text.replace(\"\\n\", \" \")  # Replace newlines with space\n",
    "    text = re.sub(r\"\\s+\", \" \", text).strip()  # Replace multiple spaces with a single space\n",
    "    return text"
   ]
  },
  {
   "cell_type": "markdown",
   "id": "0fb8deea-a9f7-4c78-a6ee-8b2529762c30",
   "metadata": {},
   "source": [
    "## Create and store tagged modified file from its respective json lock file"
   ]
  },
  {
   "cell_type": "code",
   "execution_count": 16,
   "id": "83e7af73-b4d6-4f44-83ea-1c4ddd72f909",
   "metadata": {
    "tags": []
   },
   "outputs": [],
   "source": [
    "def apply_perturbation_from_json(original_text, json_file, output_folder=\"test_benchmark_dataset/ambiguity_inText_contradiction/modified_files_tags/\"):\n",
    "    \"\"\"\n",
    "    Reads the JSON metadata and applies the described perturbations to the original document,\n",
    "    adding unique <*$p$*> markers around the modified sections.\n",
    "\n",
    "    Parameters:\n",
    "    - original_text (str): The original contract text.\n",
    "    - json_file (str): Path to the JSON file containing the perturbation details.\n",
    "    - output_folder (str): Folder to save the modified contract.\n",
    "\n",
    "    Returns:\n",
    "    - modified_text (str): The full modified document.\n",
    "    \"\"\"\n",
    "\n",
    "    # Ensure the output directory exists\n",
    "    os.makedirs(output_folder, exist_ok=True)\n",
    "    \n",
    "    print(\"This is json file:\", json_file)\n",
    "    \n",
    "    # Load the JSON metadata\n",
    "    with open(json_file, \"r\", encoding=\"utf-8\") as file:\n",
    "        json_data = json.load(file)\n",
    "\n",
    "    print(\"file loaded\") \n",
    "    if isinstance(json_data, list) and len(json_data) > 0:\n",
    "        json_data = json_data[0]  # Extract the first item in the list\n",
    "    \n",
    "    # Normalize the original contract text\n",
    "    normalized_text = normalize_text(original_text)\n",
    "\n",
    "    # Apply modifications with unique markers\n",
    "    modified_text = normalized_text\n",
    "    \n",
    "    for perturbation in json_data[\"perturbation\"]:\n",
    "        original_section = normalize_text(perturbation[\"original_text\"])  \n",
    "        #print(\"this is original text:\", original_section)\n",
    "        changed_section = normalize_text(perturbation[\"changed_text\"])\n",
    "        #print(\"this is the changed text:\", changed_section)\n",
    "        \n",
    "        # Wrap changed section with unique <*$p$*> markers\n",
    "        marked_section = f\"<*$p$*>{changed_section}<*$p$*>\"\n",
    "\n",
    "        # Replace original section with marked modified section\n",
    "        if original_section in modified_text:\n",
    "            modified_text = modified_text.replace(original_section, marked_section)\n",
    "        else:\n",
    "            print(f\"Warning: Could not find section in text: {original_section}\")\n",
    "            error = \"COULD NOT MODIFY FILE\"\n",
    "            return error\n",
    "\n",
    "    # Save the modified contract as a new file\n",
    "    modified_file_name = f\"modified_{json_data['file_name']}.txt\"\n",
    "    modified_file_path = os.path.join(output_folder, modified_file_name)\n",
    "\n",
    "    with open(modified_file_path, \"w\", encoding=\"utf-8\") as file:\n",
    "        file.write(modified_text)\n",
    "\n",
    "    return modified_text"
   ]
  },
  {
   "cell_type": "markdown",
   "id": "01c71d2f-fc76-4152-bf25-4228d679322c",
   "metadata": {},
   "source": [
    "## Prompt to read through legal file and insert different types of perturbations\n",
    "- 10 different types of prompts to switch\n",
    "- returns output in json format, which would be considered as lock-file"
   ]
  },
  {
   "cell_type": "code",
   "execution_count": 22,
   "id": "914eea60-d941-4935-b48a-8debaddabfc8",
   "metadata": {
    "tags": []
   },
   "outputs": [],
   "source": [
    "def generate_perturbation_new(original_text, file_name):    \n",
    "    \"\"\"Generates a perturbed version of the legal document section in structured JSON format.\"\"\"\n",
    "    \n",
    "    prompt_ambiguity_inText = f\"\"\"You are a contract analyst ensuring consistency in legal agreements. Your task is to modify a document by introducing conflicting definitions of the same term within different sections.\n",
    "\n",
    "    ### **Definition:**\n",
    "    Ambiguities also occur when key terms are **inconsistently defined within the document itself**, creating internal contradictions. This type of **in-text contradiction** confuses contract enforcement by allowing multiple interpretations of the same term in different sections, leading to potential legal disputes over meaning.\n",
    "\n",
    "    ### **Step-by-Step Instructions:**\n",
    "    1. Identify a **key term** in the contract.\n",
    "    2. Modify its definition in different sections so that they **conflict**.\n",
    "    3. Ensure the contradiction creates **uncertainty in enforcement**.\n",
    "    4. Output the modified contract in structured JSON format.\n",
    "\n",
    "    ---\n",
    "\n",
    "    ### **Examples of Conflicting Definitions of a Term:**\n",
    "\n",
    "    **Example 1:**\n",
    "    - **Section 2:** \"The term \u2018Client\u2019 refers to any party who purchases our services.\"\n",
    "    - **Section 8:** \"Clients are defined as parties who hold an active contract for at least six months.\"\n",
    "    - **Explanation:** The first definition includes all buyers, while the second restricts \"Clients\" to long-term customers, leading to disputes over **contractual obligations**.\n",
    "\n",
    "    **Example 2:**\n",
    "    - **Section 1:** \"Employees are eligible for health benefits upon hiring.\"\n",
    "    - **Section 6:** \"Employees are eligible for health benefits after 90 days.\"\n",
    "    - **Explanation:** The contradiction makes it unclear when benefits apply.\n",
    "\n",
    "    **Example 3:**\n",
    "    - **Section 4:** \"The vendor is responsible for product warranties.\"\n",
    "    - **Section 9:** \"Warranty claims shall be processed by the manufacturer.\"\n",
    "    - **Explanation:** It\u2019s unclear **who holds warranty responsibility**.\n",
    "\n",
    "    **Example 4:**\n",
    "    - **Section 3:** \"Data shall be stored for five years.\"\n",
    "    - **Section 12:** \"Data must be deleted within two years.\"\n",
    "    - **Explanation:** A **conflicting data retention period** could violate regulations.\n",
    "\n",
    "    **Example 5:**\n",
    "    - **Section 2:** \"A shareholder is anyone holding 5% or more equity.\"\n",
    "    - **Section 7:** \"A shareholder is anyone with voting rights.\"\n",
    "    - **Explanation:** A shareholder under one section may **not qualify in another**.\n",
    "    \n",
    "    **Example 6:**\n",
    "    - **Original:** \"The Supplier shall deliver all goods in accordance with the specifications outlined in Schedule A. Any failure to meet these specifications will be considered a material breach of contract. In such cases, the Buyer reserves the right to request a full refund or demand replacement goods within 30 days. The Supplier guarantees that all goods will conform to the quality and performance standards described in the agreement.\"\n",
    "    - **Modified:** \"The Supplier shall make every effort to deliver goods in accordance with the specifications outlined in Schedule A. If specifications are not fully met, the Buyer and Supplier will engage in discussions to determine an appropriate resolution, which may include partial refunds or adjusted delivery timelines.\"\n",
    "    - **Explanation:** This change introduces ambiguity by replacing 'shall deliver' with 'shall make every effort,' making performance non-binding. The original contract clearly stated that failure to meet specifications was a material breach with predefined consequences, whereas the modified version introduces an uncertain resolution process. This creates an **internal contradiction** if another part of the contract enforces strict adherence to Schedule A\u2019s specifications.\n",
    "\n",
    "    ---\n",
    "\n",
    "    ### **Return JSON Format**\n",
    "\n",
    "    {{\n",
    "        \"file_name\": {file_name},\n",
    "        \"perturbation\": [\n",
    "            {{\n",
    "                \"type\": \"Ambiguities - In Text Contradiction\",\n",
    "                \"original_text\": \"EXCERPT BEFORE CHANGE\",\n",
    "                \"changed_text\": \"EXCERPT AFTER CHANGE\",\n",
    "                \"explanation\": \"WHY THIS CHANGE INTRODUCES A PERTURBATION\",\n",
    "                \"location\": \"SECTION OR PARAGRAPH NUMBER\"\n",
    "            }}\n",
    "        ]\n",
    "    }}\n",
    "    \n",
    "    Below is the original legal text:\n",
    "    -------------------\n",
    "    {original_text}\n",
    "    -------------------\n",
    "\n",
    "    Now, return ONLY the structured JSON object with the modified text and explanation.\n",
    "    \"\"\"\n",
    "    response = model.generate_content(prompt_ambiguity_inText)\n",
    "    \n",
    "    if not response:\n",
    "        return \"ERROR: No response from API\"\n",
    "\n",
    "    return response.text if response else \"ERROR: No response from API\""
   ]
  },
  {
   "cell_type": "markdown",
   "id": "fd41bcec-4232-4327-9ec2-5c78ee4859f6",
   "metadata": {},
   "source": [
    "## Functions to clean and apply highlighting to the perturbed legal documents "
   ]
  },
  {
   "cell_type": "code",
   "execution_count": 18,
   "id": "419800a2-f881-45f9-8327-b4c279f5bf7e",
   "metadata": {
    "tags": []
   },
   "outputs": [],
   "source": [
    "def highlight_changes(original, modified):\n",
    "    \"\"\"Compares original and modified text and marks changes.\"\"\"\n",
    "    original_lines = original.split(\"\\n\")\n",
    "    modified_lines = modified.split(\"\\n\")\n",
    "\n",
    "    diff = difflib.ndiff(original_lines, modified_lines)\n",
    "    highlighted = []\n",
    "    \n",
    "    for line in diff:\n",
    "        if line.startswith(\"+ \"):  # Added text\n",
    "            highlighted.append(f\"[MODIFIED] {line[2:]}\")\n",
    "        elif line.startswith(\"- \"):  # Removed text\n",
    "            highlighted.append(f\"[REMOVED] {line[2:]}\")\n",
    "        else:\n",
    "            highlighted.append(line[2:])  \n",
    "    \n",
    "    return \"\\n\".join(highlighted)"
   ]
  },
  {
   "cell_type": "code",
   "execution_count": 19,
   "id": "286c95fd-9e4f-44e8-9c54-9fa4de196c4b",
   "metadata": {
    "tags": []
   },
   "outputs": [],
   "source": [
    "def extract_clean_text(perturbed_text):\n",
    "    \"\"\"\n",
    "    Removes [MODIFIED], [REMOVED] tags and explanations, leaving only the modified version.\n",
    "    \"\"\"\n",
    "    # Remove any [MODIFIED] or [REMOVED] markers\n",
    "    clean_text = re.sub(r\"\\[MODIFIED\\]|\\[REMOVED\\]\", \"\", perturbed_text)\n",
    "    \n",
    "    # Remove explanations (assuming they are after a certain marker like \"Explanation:\")\n",
    "    clean_text = re.sub(r\"Explanation:.*\", \"\", clean_text, flags=re.DOTALL)\n",
    "    \n",
    "    # Clean up extra spaces that may remain after removal\n",
    "    clean_text = re.sub(r\"\\n\\s*\\n\", \"\\n\", clean_text).strip()\n",
    "    \n",
    "    \n",
    "    \n",
    "    return clean_text"
   ]
  },
  {
   "cell_type": "markdown",
   "id": "64078259-7144-4d1e-a56f-00f8f702274a",
   "metadata": {},
   "source": [
    "## Starting of pipeline \n",
    "1. reads legal documents\n",
    "2. calls LLM to add perturbations\n",
    "3. creates output in json format\n",
    "4. stores output files in benchmark dataset"
   ]
  },
  {
   "cell_type": "code",
   "execution_count": 25,
   "id": "d6714505-9b24-4257-9275-e3d8a844533d",
   "metadata": {
    "tags": []
   },
   "outputs": [],
   "source": [
    "def apply_perturbations(folder_path, perturbation_type=\"contradiction\"):\n",
    "    legal_docs = read_legal_files(folder_path)\n",
    "    \n",
    "\n",
    "    for i, (file_name, content) in enumerate(legal_docs.items()):\n",
    "        results = []\n",
    "        # if i >= 10:  # Stop after processing 5 documents\n",
    "        #      break\n",
    "        print(f\"Processing {file_name}...\")\n",
    "        #perturbed_json = generate_perturbation(content, file_name, perturbation_type)\n",
    "        perturbed_json = generate_perturbation_new(content, file_name)\n",
    "        #print(\"This is the perturbed json:\", perturbed_json)\n",
    "        clean_json_text = re.sub(r\"```json|```\", \"\", perturbed_json).strip()\n",
    "\n",
    "        # print('this is json:', clean_json_text)\n",
    "        try:\n",
    "            # Convert response into a Python dictionary\n",
    "            perturbed_data = json.loads(clean_json_text)\n",
    "            results.append(perturbed_data)\n",
    "        except json.JSONDecodeError:\n",
    "            print(f\"Error parsing JSON for {file_name}, skipping...\")\n",
    "            continue\n",
    "            \n",
    "            \n",
    "        # Save the modified text\n",
    "        folder_path = \"test_benchmark_dataset/ambiguity_inText_contradiction/\"\n",
    "\n",
    "        # Save the JSON output\n",
    "        json_output_path = os.path.join(folder_path, f\"perturbed_{file_name}.json\")\n",
    "        with open(json_output_path, \"w\", encoding=\"utf-8\") as f:\n",
    "            json.dump(results, f, indent=4, ensure_ascii=False)\n",
    "        \n",
    "        json_file_path = f\"test_benchmark_dataset/ambiguity_inText_contradiction/perturbed_{file_name}.json\"\n",
    "        modified_contract = apply_perturbation_from_json(content, json_file_path)\n",
    "        print(\"________________________________________________________________________\")\n",
    "\n",
    "    print(f\"All perturbations saved in {folder_path}\")\n",
    "\n",
    "    return perturbed_json"
   ]
  },
  {
   "cell_type": "code",
   "execution_count": 24,
   "id": "35460d2e-a980-4e0c-9807-1b046f757178",
   "metadata": {
    "tags": []
   },
   "outputs": [
    {
     "name": "stdout",
     "output_type": "stream",
     "text": [
      "Skipping unsupported file: .ipynb_checkpoints\n",
      "Processing NeoformaInc_19991202_S-1A_EX-10.26_5224521_EX-10.26_Co-Branding Agreement.pdf...\n",
      "This is json file: test_benchmark_dataset/ambiguity_inText_contradiction/perturbed_NeoformaInc_19991202_S-1A_EX-10.26_5224521_EX-10.26_Co-Branding Agreement.pdf.json\n",
      "file loaded\n",
      "________________________________________________________________________\n",
      "Processing LeadersonlineInc_20000427_S-1A_EX-10.8_4991089_EX-10.8_Co-Branding Agreement.pdf...\n",
      "This is json file: test_benchmark_dataset/ambiguity_inText_contradiction/perturbed_LeadersonlineInc_20000427_S-1A_EX-10.8_4991089_EX-10.8_Co-Branding Agreement.pdf.json\n",
      "file loaded\n",
      "________________________________________________________________________\n",
      "Processing RaeSystemsInc_20001114_10-Q_EX-10.57_2631790_EX-10.57_Co-Branding Agreement.pdf...\n",
      "This is json file: test_benchmark_dataset/ambiguity_inText_contradiction/perturbed_RaeSystemsInc_20001114_10-Q_EX-10.57_2631790_EX-10.57_Co-Branding Agreement.pdf.json\n",
      "file loaded\n",
      "Warning: Could not find section in text: 5. PAYMENT PERCENTAGE OF ADVERTISING REVENUE 5.1 \"SpinRecords.com's Advertising Revenue\" means the gross revenue from advertising invoiced by SpinRecords.com in a calendar quarter for advertising by third parties on the SpinRecords.com Pages, less any commissions not to exceed 35%. 5.2 \"SpinRecords.com's AR Share\" means the number of Impressions on the SpinRecords.com Pages by Users arriving through the Co-branded NETTAXI Pages in a calendar quarter divided by the total number of Impressions on the SpinRecords.com Pages by all Users in that calendar quarter. 5.3 \"NETTAXI Advertising Revenue\" means the gross revenue from advertising invoiced by NETTAXI in a calendar quarter for advertising by third parties on the NETTAXI Pages, less any commissions. 5.4 \"NETTAXI's AR Share\" means the number of Impressions on the NETTAXI Pages by Users arriving through the Co-branded SpinRecords.com Pages in a calendar quarter divided by the total number of Impressions on the NETTAXI Pages by all Users in that calendar quarter. 5.5 SpinRecords.com Rate. In full consideration for the rights granted --------------------- by NETTAXI, SpinRecords.com agrees to pay NETTAXI fifty (50%) percent of ad revenue at an average rate no lower then $6.50 per one thousand impressions (CPM) payable to NETTAXI which results when the SpinRecords.com Advertising Revenue is multiplied by SpinRecords.com's AR Share. SpinRecords.com shall be responsible for payment of all taxes based on the Advertising Revenue except taxes based on NETTAXI's income.\n",
      "________________________________________________________________________\n",
      "Processing EdietsComInc_20001030_10QSB_EX-10.4_2606646_EX-10.4_Co-Branding Agreement.pdf...\n",
      "This is json file: test_benchmark_dataset/ambiguity_inText_contradiction/perturbed_EdietsComInc_20001030_10QSB_EX-10.4_2606646_EX-10.4_Co-Branding Agreement.pdf.json\n",
      "file loaded\n",
      "________________________________________________________________________\n",
      "Processing TomOnlineInc_20060501_20-F_EX-4.46_749700_EX-4.46_Co-Branding Agreement.pdf...\n",
      "This is json file: test_benchmark_dataset/ambiguity_inText_contradiction/perturbed_TomOnlineInc_20060501_20-F_EX-4.46_749700_EX-4.46_Co-Branding Agreement.pdf.json\n",
      "file loaded\n",
      "________________________________________________________________________\n",
      "Processing MphaseTechnologiesInc_20030911_10-K_EX-10.15_1560667_EX-10.15_Co-Branding Agreement.pdf...\n",
      "This is json file: test_benchmark_dataset/ambiguity_inText_contradiction/perturbed_MphaseTechnologiesInc_20030911_10-K_EX-10.15_1560667_EX-10.15_Co-Branding Agreement.pdf.json\n",
      "file loaded\n",
      "________________________________________________________________________\n",
      "Processing ImpresseCorp_20000322_S-1A_EX-10.11_5199234_EX-10.11_Co-Branding Agreement.pdf...\n",
      "This is json file: test_benchmark_dataset/ambiguity_inText_contradiction/perturbed_ImpresseCorp_20000322_S-1A_EX-10.11_5199234_EX-10.11_Co-Branding Agreement.pdf.json\n",
      "file loaded\n",
      "Warning: Could not find section in text: 1. DEFINITIONS 1.22. USER shall mean a single person who accesses and views a Site whether directly from a web browser or through a Link.\n",
      "________________________________________________________________________\n",
      "Processing StampscomInc_20001114_10-Q_EX-10.47_2631630_EX-10.47_Co-Branding Agreement.pdf...\n",
      "This is json file: test_benchmark_dataset/ambiguity_inText_contradiction/perturbed_StampscomInc_20001114_10-Q_EX-10.47_2631630_EX-10.47_Co-Branding Agreement.pdf.json\n",
      "file loaded\n",
      "Warning: Could not find section in text: (a) Updates and Service Revisions. The Company will make Updates to the -----------------------------Service in accordance with the requirements set forth in the Specifications at no charge for the entire term of this Agreement. Without limiting the foregoing, the Service shall be updated from time to time during the term of this Agreement to include accurate and current (i) Listings and (ii) pricing and service descriptions for each carrier supported by the Manifest, in each case as soon as reasonably practicable following the receipt by the Company of such Listings, pricing and service descriptions.\n",
      "________________________________________________________________________\n",
      "Processing InvendaCorp_20000828_S-1A_EX-10.2_2588206_EX-10.2_Co-Branding Agreement.pdf...\n",
      "This is json file: test_benchmark_dataset/ambiguity_inText_contradiction/perturbed_InvendaCorp_20000828_S-1A_EX-10.2_2588206_EX-10.2_Co-Branding Agreement.pdf.json\n",
      "file loaded\n",
      "________________________________________________________________________\n",
      "Processing TheglobeComInc_19990503_S-1A_EX-10.20_5416126_EX-10.20_Co-Branding Agreement.pdf...\n",
      "This is json file: test_benchmark_dataset/ambiguity_inText_contradiction/perturbed_TheglobeComInc_19990503_S-1A_EX-10.20_5416126_EX-10.20_Co-Branding Agreement.pdf.json\n",
      "file loaded\n",
      "________________________________________________________________________\n",
      "All perturbations saved in test_benchmark_dataset/ambiguity_inText_contradiction/\n"
     ]
    }
   ],
   "source": [
    "folder_path = \"full_contract_pdf/Part_I/Co_Branding/\"\n",
    "perturbation_type = \"contradiction\"  # Change to \"ambiguity\", \"omission\", etc.\n",
    "perturbed_legal_docs = apply_perturbations(folder_path, perturbation_type)"
   ]
  },
  {
   "cell_type": "code",
   "execution_count": null,
   "id": "8a861dbc-fca6-4d06-b681-d5fff8defa58",
   "metadata": {},
   "outputs": [],
   "source": []
  }
 ],
 "metadata": {
  "kernelspec": {
   "display_name": "Python 3 (ipykernel)",
   "language": "python",
   "name": "python3"
  },
  "language_info": {
   "codemirror_mode": {
    "name": "ipython",
    "version": 3
   },
   "file_extension": ".py",
   "mimetype": "text/x-python",
   "name": "python",
   "nbconvert_exporter": "python",
   "pygments_lexer": "ipython3",
   "version": "3.12.4"
  }
 },
 "nbformat": 4,
 "nbformat_minor": 5
}